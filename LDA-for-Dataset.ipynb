{
  "nbformat": 4,
  "nbformat_minor": 0,
  "metadata": {
    "colab": {
      "name": "20210122_log_tf-idf.ipynb",
      "provenance": [],
      "collapsed_sections": [],
      "mount_file_id": "1p92OUlOTVMlvlyed_DrYUHGoZ7g1SVuH",
      "authorship_tag": "ABX9TyOvA6xTpeKdliC7THe5BMYL"
    },
    "kernelspec": {
      "name": "python3",
      "display_name": "Python 3"
    }
  },
  "cells": [
    {
      "cell_type": "code",
      "metadata": {
        "id": "JqQwHrVInS0e"
      },
      "source": [
        "import re\r\n",
        "import numpy as np\r\n",
        "import pandas as pd"
      ],
      "execution_count": 97,
      "outputs": []
    },
    {
      "cell_type": "code",
      "metadata": {
        "colab": {
          "base_uri": "https://localhost:8080/"
        },
        "id": "vs__vH14qzqu",
        "outputId": "d05f4b30-7900-4c34-b84c-45fed63ef1f9"
      },
      "source": [
        "%cd /content/drive/MyDrive/Yup"
      ],
      "execution_count": 98,
      "outputs": [
        {
          "output_type": "stream",
          "text": [
            "/content/drive/MyDrive/Yup\n"
          ],
          "name": "stdout"
        }
      ]
    },
    {
      "cell_type": "code",
      "metadata": {
        "colab": {
          "base_uri": "https://localhost:8080/",
          "height": 204
        },
        "id": "pjP956_RnSw9",
        "outputId": "532fd05f-b238-40dc-fc58-9b7fdcc6ba8c"
      },
      "source": [
        "df = pd.read_csv('./data/HDFS_100k.log_structured.csv')\r\n",
        "df.head()"
      ],
      "execution_count": 99,
      "outputs": [
        {
          "output_type": "execute_result",
          "data": {
            "text/html": [
              "<div>\n",
              "<style scoped>\n",
              "    .dataframe tbody tr th:only-of-type {\n",
              "        vertical-align: middle;\n",
              "    }\n",
              "\n",
              "    .dataframe tbody tr th {\n",
              "        vertical-align: top;\n",
              "    }\n",
              "\n",
              "    .dataframe thead th {\n",
              "        text-align: right;\n",
              "    }\n",
              "</style>\n",
              "<table border=\"1\" class=\"dataframe\">\n",
              "  <thead>\n",
              "    <tr style=\"text-align: right;\">\n",
              "      <th></th>\n",
              "      <th>LineId</th>\n",
              "      <th>Date</th>\n",
              "      <th>Time</th>\n",
              "      <th>Pid</th>\n",
              "      <th>Level</th>\n",
              "      <th>Component</th>\n",
              "      <th>Content</th>\n",
              "      <th>EventId</th>\n",
              "      <th>EventTemplate</th>\n",
              "    </tr>\n",
              "  </thead>\n",
              "  <tbody>\n",
              "    <tr>\n",
              "      <th>0</th>\n",
              "      <td>1</td>\n",
              "      <td>81109</td>\n",
              "      <td>203518</td>\n",
              "      <td>143</td>\n",
              "      <td>INFO</td>\n",
              "      <td>dfs.DataNode$DataXceiver</td>\n",
              "      <td>Receiving block blk_-1608999687919862906 src: ...</td>\n",
              "      <td>E5</td>\n",
              "      <td>Receiving block &lt;*&gt; src: /&lt;*&gt; dest: /&lt;*&gt;</td>\n",
              "    </tr>\n",
              "    <tr>\n",
              "      <th>1</th>\n",
              "      <td>2</td>\n",
              "      <td>81109</td>\n",
              "      <td>203518</td>\n",
              "      <td>35</td>\n",
              "      <td>INFO</td>\n",
              "      <td>dfs.FSNamesystem</td>\n",
              "      <td>BLOCK* NameSystem.allocateBlock: /mnt/hadoop/m...</td>\n",
              "      <td>E22</td>\n",
              "      <td>BLOCK* NameSystem.allocateBlock:&lt;*&gt;</td>\n",
              "    </tr>\n",
              "    <tr>\n",
              "      <th>2</th>\n",
              "      <td>3</td>\n",
              "      <td>81109</td>\n",
              "      <td>203519</td>\n",
              "      <td>143</td>\n",
              "      <td>INFO</td>\n",
              "      <td>dfs.DataNode$DataXceiver</td>\n",
              "      <td>Receiving block blk_-1608999687919862906 src: ...</td>\n",
              "      <td>E5</td>\n",
              "      <td>Receiving block &lt;*&gt; src: /&lt;*&gt; dest: /&lt;*&gt;</td>\n",
              "    </tr>\n",
              "    <tr>\n",
              "      <th>3</th>\n",
              "      <td>4</td>\n",
              "      <td>81109</td>\n",
              "      <td>203519</td>\n",
              "      <td>145</td>\n",
              "      <td>INFO</td>\n",
              "      <td>dfs.DataNode$DataXceiver</td>\n",
              "      <td>Receiving block blk_-1608999687919862906 src: ...</td>\n",
              "      <td>E5</td>\n",
              "      <td>Receiving block &lt;*&gt; src: /&lt;*&gt; dest: /&lt;*&gt;</td>\n",
              "    </tr>\n",
              "    <tr>\n",
              "      <th>4</th>\n",
              "      <td>5</td>\n",
              "      <td>81109</td>\n",
              "      <td>203519</td>\n",
              "      <td>145</td>\n",
              "      <td>INFO</td>\n",
              "      <td>dfs.DataNode$PacketResponder</td>\n",
              "      <td>PacketResponder 1 for block blk_-1608999687919...</td>\n",
              "      <td>E11</td>\n",
              "      <td>PacketResponder &lt;*&gt; for block &lt;*&gt; terminating</td>\n",
              "    </tr>\n",
              "  </tbody>\n",
              "</table>\n",
              "</div>"
            ],
            "text/plain": [
              "   LineId   Date  ...  EventId                                  EventTemplate\n",
              "0       1  81109  ...       E5       Receiving block <*> src: /<*> dest: /<*>\n",
              "1       2  81109  ...      E22            BLOCK* NameSystem.allocateBlock:<*>\n",
              "2       3  81109  ...       E5       Receiving block <*> src: /<*> dest: /<*>\n",
              "3       4  81109  ...       E5       Receiving block <*> src: /<*> dest: /<*>\n",
              "4       5  81109  ...      E11  PacketResponder <*> for block <*> terminating\n",
              "\n",
              "[5 rows x 9 columns]"
            ]
          },
          "metadata": {
            "tags": []
          },
          "execution_count": 99
        }
      ]
    },
    {
      "cell_type": "code",
      "metadata": {
        "colab": {
          "base_uri": "https://localhost:8080/",
          "height": 204
        },
        "id": "SZEBbrORj51v",
        "outputId": "84c9e9c0-61ad-42ba-ed1b-6329cdd51faf"
      },
      "source": [
        "text = df[['LineId','Content']]\r\n",
        "text.head()"
      ],
      "execution_count": 100,
      "outputs": [
        {
          "output_type": "execute_result",
          "data": {
            "text/html": [
              "<div>\n",
              "<style scoped>\n",
              "    .dataframe tbody tr th:only-of-type {\n",
              "        vertical-align: middle;\n",
              "    }\n",
              "\n",
              "    .dataframe tbody tr th {\n",
              "        vertical-align: top;\n",
              "    }\n",
              "\n",
              "    .dataframe thead th {\n",
              "        text-align: right;\n",
              "    }\n",
              "</style>\n",
              "<table border=\"1\" class=\"dataframe\">\n",
              "  <thead>\n",
              "    <tr style=\"text-align: right;\">\n",
              "      <th></th>\n",
              "      <th>LineId</th>\n",
              "      <th>Content</th>\n",
              "    </tr>\n",
              "  </thead>\n",
              "  <tbody>\n",
              "    <tr>\n",
              "      <th>0</th>\n",
              "      <td>1</td>\n",
              "      <td>Receiving block blk_-1608999687919862906 src: ...</td>\n",
              "    </tr>\n",
              "    <tr>\n",
              "      <th>1</th>\n",
              "      <td>2</td>\n",
              "      <td>BLOCK* NameSystem.allocateBlock: /mnt/hadoop/m...</td>\n",
              "    </tr>\n",
              "    <tr>\n",
              "      <th>2</th>\n",
              "      <td>3</td>\n",
              "      <td>Receiving block blk_-1608999687919862906 src: ...</td>\n",
              "    </tr>\n",
              "    <tr>\n",
              "      <th>3</th>\n",
              "      <td>4</td>\n",
              "      <td>Receiving block blk_-1608999687919862906 src: ...</td>\n",
              "    </tr>\n",
              "    <tr>\n",
              "      <th>4</th>\n",
              "      <td>5</td>\n",
              "      <td>PacketResponder 1 for block blk_-1608999687919...</td>\n",
              "    </tr>\n",
              "  </tbody>\n",
              "</table>\n",
              "</div>"
            ],
            "text/plain": [
              "   LineId                                            Content\n",
              "0       1  Receiving block blk_-1608999687919862906 src: ...\n",
              "1       2  BLOCK* NameSystem.allocateBlock: /mnt/hadoop/m...\n",
              "2       3  Receiving block blk_-1608999687919862906 src: ...\n",
              "3       4  Receiving block blk_-1608999687919862906 src: ...\n",
              "4       5  PacketResponder 1 for block blk_-1608999687919..."
            ]
          },
          "metadata": {
            "tags": []
          },
          "execution_count": 100
        }
      ]
    },
    {
      "cell_type": "code",
      "metadata": {
        "colab": {
          "base_uri": "https://localhost:8080/"
        },
        "id": "H0q-5RgtnOWF",
        "outputId": "b1644490-0f07-4390-e37b-56abd2f22919"
      },
      "source": [
        "import nltk\r\n",
        "nltk.download('punkt')"
      ],
      "execution_count": 101,
      "outputs": [
        {
          "output_type": "stream",
          "text": [
            "[nltk_data] Downloading package punkt to /root/nltk_data...\n",
            "[nltk_data]   Package punkt is already up-to-date!\n"
          ],
          "name": "stdout"
        },
        {
          "output_type": "execute_result",
          "data": {
            "text/plain": [
              "True"
            ]
          },
          "metadata": {
            "tags": []
          },
          "execution_count": 101
        }
      ]
    },
    {
      "cell_type": "code",
      "metadata": {
        "colab": {
          "base_uri": "https://localhost:8080/",
          "height": 312
        },
        "id": "_Y_X0WfAobMZ",
        "outputId": "2288b300-4a5f-4dd2-a4e5-04872ca5048a"
      },
      "source": [
        "# 토큰화\r\n",
        "text['Content'] = text.apply(lambda row: nltk.word_tokenize(row['Content']), axis=1)\r\n",
        "text.head()"
      ],
      "execution_count": 102,
      "outputs": [
        {
          "output_type": "stream",
          "text": [
            "/usr/local/lib/python3.6/dist-packages/ipykernel_launcher.py:2: SettingWithCopyWarning: \n",
            "A value is trying to be set on a copy of a slice from a DataFrame.\n",
            "Try using .loc[row_indexer,col_indexer] = value instead\n",
            "\n",
            "See the caveats in the documentation: https://pandas.pydata.org/pandas-docs/stable/user_guide/indexing.html#returning-a-view-versus-a-copy\n",
            "  \n"
          ],
          "name": "stderr"
        },
        {
          "output_type": "execute_result",
          "data": {
            "text/html": [
              "<div>\n",
              "<style scoped>\n",
              "    .dataframe tbody tr th:only-of-type {\n",
              "        vertical-align: middle;\n",
              "    }\n",
              "\n",
              "    .dataframe tbody tr th {\n",
              "        vertical-align: top;\n",
              "    }\n",
              "\n",
              "    .dataframe thead th {\n",
              "        text-align: right;\n",
              "    }\n",
              "</style>\n",
              "<table border=\"1\" class=\"dataframe\">\n",
              "  <thead>\n",
              "    <tr style=\"text-align: right;\">\n",
              "      <th></th>\n",
              "      <th>LineId</th>\n",
              "      <th>Content</th>\n",
              "    </tr>\n",
              "  </thead>\n",
              "  <tbody>\n",
              "    <tr>\n",
              "      <th>0</th>\n",
              "      <td>1</td>\n",
              "      <td>[Receiving, block, blk_-1608999687919862906, s...</td>\n",
              "    </tr>\n",
              "    <tr>\n",
              "      <th>1</th>\n",
              "      <td>2</td>\n",
              "      <td>[BLOCK*, NameSystem.allocateBlock, :, /mnt/had...</td>\n",
              "    </tr>\n",
              "    <tr>\n",
              "      <th>2</th>\n",
              "      <td>3</td>\n",
              "      <td>[Receiving, block, blk_-1608999687919862906, s...</td>\n",
              "    </tr>\n",
              "    <tr>\n",
              "      <th>3</th>\n",
              "      <td>4</td>\n",
              "      <td>[Receiving, block, blk_-1608999687919862906, s...</td>\n",
              "    </tr>\n",
              "    <tr>\n",
              "      <th>4</th>\n",
              "      <td>5</td>\n",
              "      <td>[PacketResponder, 1, for, block, blk_-16089996...</td>\n",
              "    </tr>\n",
              "  </tbody>\n",
              "</table>\n",
              "</div>"
            ],
            "text/plain": [
              "   LineId                                            Content\n",
              "0       1  [Receiving, block, blk_-1608999687919862906, s...\n",
              "1       2  [BLOCK*, NameSystem.allocateBlock, :, /mnt/had...\n",
              "2       3  [Receiving, block, blk_-1608999687919862906, s...\n",
              "3       4  [Receiving, block, blk_-1608999687919862906, s...\n",
              "4       5  [PacketResponder, 1, for, block, blk_-16089996..."
            ]
          },
          "metadata": {
            "tags": []
          },
          "execution_count": 102
        }
      ]
    },
    {
      "cell_type": "code",
      "metadata": {
        "colab": {
          "base_uri": "https://localhost:8080/"
        },
        "id": "7_9y9s0Cocgx",
        "outputId": "aa6979d6-b979-4c75-fe73-860e1bfb25a4"
      },
      "source": [
        "from nltk.corpus import stopwords\r\n",
        "nltk.download('stopwords')"
      ],
      "execution_count": 103,
      "outputs": [
        {
          "output_type": "stream",
          "text": [
            "[nltk_data] Downloading package stopwords to /root/nltk_data...\n",
            "[nltk_data]   Package stopwords is already up-to-date!\n"
          ],
          "name": "stdout"
        },
        {
          "output_type": "execute_result",
          "data": {
            "text/plain": [
              "True"
            ]
          },
          "metadata": {
            "tags": []
          },
          "execution_count": 103
        }
      ]
    },
    {
      "cell_type": "code",
      "metadata": {
        "colab": {
          "base_uri": "https://localhost:8080/",
          "height": 312
        },
        "id": "UKrvTjmiodjo",
        "outputId": "98d55d0a-6ae6-4096-b6cf-bd23dd2e90bb"
      },
      "source": [
        "# 불용어 처리\r\n",
        "stop = stopwords.words('english')\r\n",
        "text['Content'] = text['Content'].apply(lambda x: [word for word in x if word not in (stop)])\r\n",
        "text.head()"
      ],
      "execution_count": 104,
      "outputs": [
        {
          "output_type": "stream",
          "text": [
            "/usr/local/lib/python3.6/dist-packages/ipykernel_launcher.py:3: SettingWithCopyWarning: \n",
            "A value is trying to be set on a copy of a slice from a DataFrame.\n",
            "Try using .loc[row_indexer,col_indexer] = value instead\n",
            "\n",
            "See the caveats in the documentation: https://pandas.pydata.org/pandas-docs/stable/user_guide/indexing.html#returning-a-view-versus-a-copy\n",
            "  This is separate from the ipykernel package so we can avoid doing imports until\n"
          ],
          "name": "stderr"
        },
        {
          "output_type": "execute_result",
          "data": {
            "text/html": [
              "<div>\n",
              "<style scoped>\n",
              "    .dataframe tbody tr th:only-of-type {\n",
              "        vertical-align: middle;\n",
              "    }\n",
              "\n",
              "    .dataframe tbody tr th {\n",
              "        vertical-align: top;\n",
              "    }\n",
              "\n",
              "    .dataframe thead th {\n",
              "        text-align: right;\n",
              "    }\n",
              "</style>\n",
              "<table border=\"1\" class=\"dataframe\">\n",
              "  <thead>\n",
              "    <tr style=\"text-align: right;\">\n",
              "      <th></th>\n",
              "      <th>LineId</th>\n",
              "      <th>Content</th>\n",
              "    </tr>\n",
              "  </thead>\n",
              "  <tbody>\n",
              "    <tr>\n",
              "      <th>0</th>\n",
              "      <td>1</td>\n",
              "      <td>[Receiving, block, blk_-1608999687919862906, s...</td>\n",
              "    </tr>\n",
              "    <tr>\n",
              "      <th>1</th>\n",
              "      <td>2</td>\n",
              "      <td>[BLOCK*, NameSystem.allocateBlock, :, /mnt/had...</td>\n",
              "    </tr>\n",
              "    <tr>\n",
              "      <th>2</th>\n",
              "      <td>3</td>\n",
              "      <td>[Receiving, block, blk_-1608999687919862906, s...</td>\n",
              "    </tr>\n",
              "    <tr>\n",
              "      <th>3</th>\n",
              "      <td>4</td>\n",
              "      <td>[Receiving, block, blk_-1608999687919862906, s...</td>\n",
              "    </tr>\n",
              "    <tr>\n",
              "      <th>4</th>\n",
              "      <td>5</td>\n",
              "      <td>[PacketResponder, 1, block, blk_-1608999687919...</td>\n",
              "    </tr>\n",
              "  </tbody>\n",
              "</table>\n",
              "</div>"
            ],
            "text/plain": [
              "   LineId                                            Content\n",
              "0       1  [Receiving, block, blk_-1608999687919862906, s...\n",
              "1       2  [BLOCK*, NameSystem.allocateBlock, :, /mnt/had...\n",
              "2       3  [Receiving, block, blk_-1608999687919862906, s...\n",
              "3       4  [Receiving, block, blk_-1608999687919862906, s...\n",
              "4       5  [PacketResponder, 1, block, blk_-1608999687919..."
            ]
          },
          "metadata": {
            "tags": []
          },
          "execution_count": 104
        }
      ]
    },
    {
      "cell_type": "code",
      "metadata": {
        "colab": {
          "base_uri": "https://localhost:8080/"
        },
        "id": "pH8ypeTPoeZA",
        "outputId": "5ddf2960-a496-436c-87c1-d0e3e6c7e9e4"
      },
      "source": [
        "nltk.download('wordnet')"
      ],
      "execution_count": 105,
      "outputs": [
        {
          "output_type": "stream",
          "text": [
            "[nltk_data] Downloading package wordnet to /root/nltk_data...\n",
            "[nltk_data]   Package wordnet is already up-to-date!\n"
          ],
          "name": "stdout"
        },
        {
          "output_type": "execute_result",
          "data": {
            "text/plain": [
              "True"
            ]
          },
          "metadata": {
            "tags": []
          },
          "execution_count": 105
        }
      ]
    },
    {
      "cell_type": "code",
      "metadata": {
        "colab": {
          "base_uri": "https://localhost:8080/",
          "height": 312
        },
        "id": "1J-71oFZofZJ",
        "outputId": "08444059-953b-4a63-ea63-2d99c4ab32ef"
      },
      "source": [
        "# 표제어 추출\r\n",
        "from nltk.stem import WordNetLemmatizer\r\n",
        "text['Content'] = text['Content'].apply(lambda x : [WordNetLemmatizer().lemmatize(word, pos='v') for word in x])\r\n",
        "text.head()"
      ],
      "execution_count": 106,
      "outputs": [
        {
          "output_type": "stream",
          "text": [
            "/usr/local/lib/python3.6/dist-packages/ipykernel_launcher.py:3: SettingWithCopyWarning: \n",
            "A value is trying to be set on a copy of a slice from a DataFrame.\n",
            "Try using .loc[row_indexer,col_indexer] = value instead\n",
            "\n",
            "See the caveats in the documentation: https://pandas.pydata.org/pandas-docs/stable/user_guide/indexing.html#returning-a-view-versus-a-copy\n",
            "  This is separate from the ipykernel package so we can avoid doing imports until\n"
          ],
          "name": "stderr"
        },
        {
          "output_type": "execute_result",
          "data": {
            "text/html": [
              "<div>\n",
              "<style scoped>\n",
              "    .dataframe tbody tr th:only-of-type {\n",
              "        vertical-align: middle;\n",
              "    }\n",
              "\n",
              "    .dataframe tbody tr th {\n",
              "        vertical-align: top;\n",
              "    }\n",
              "\n",
              "    .dataframe thead th {\n",
              "        text-align: right;\n",
              "    }\n",
              "</style>\n",
              "<table border=\"1\" class=\"dataframe\">\n",
              "  <thead>\n",
              "    <tr style=\"text-align: right;\">\n",
              "      <th></th>\n",
              "      <th>LineId</th>\n",
              "      <th>Content</th>\n",
              "    </tr>\n",
              "  </thead>\n",
              "  <tbody>\n",
              "    <tr>\n",
              "      <th>0</th>\n",
              "      <td>1</td>\n",
              "      <td>[Receiving, block, blk_-1608999687919862906, s...</td>\n",
              "    </tr>\n",
              "    <tr>\n",
              "      <th>1</th>\n",
              "      <td>2</td>\n",
              "      <td>[BLOCK*, NameSystem.allocateBlock, :, /mnt/had...</td>\n",
              "    </tr>\n",
              "    <tr>\n",
              "      <th>2</th>\n",
              "      <td>3</td>\n",
              "      <td>[Receiving, block, blk_-1608999687919862906, s...</td>\n",
              "    </tr>\n",
              "    <tr>\n",
              "      <th>3</th>\n",
              "      <td>4</td>\n",
              "      <td>[Receiving, block, blk_-1608999687919862906, s...</td>\n",
              "    </tr>\n",
              "    <tr>\n",
              "      <th>4</th>\n",
              "      <td>5</td>\n",
              "      <td>[PacketResponder, 1, block, blk_-1608999687919...</td>\n",
              "    </tr>\n",
              "  </tbody>\n",
              "</table>\n",
              "</div>"
            ],
            "text/plain": [
              "   LineId                                            Content\n",
              "0       1  [Receiving, block, blk_-1608999687919862906, s...\n",
              "1       2  [BLOCK*, NameSystem.allocateBlock, :, /mnt/had...\n",
              "2       3  [Receiving, block, blk_-1608999687919862906, s...\n",
              "3       4  [Receiving, block, blk_-1608999687919862906, s...\n",
              "4       5  [PacketResponder, 1, block, blk_-1608999687919..."
            ]
          },
          "metadata": {
            "tags": []
          },
          "execution_count": 106
        }
      ]
    },
    {
      "cell_type": "code",
      "metadata": {
        "colab": {
          "base_uri": "https://localhost:8080/"
        },
        "id": "1n5DA756ogJI",
        "outputId": "b72f0711-ea63-417d-d136-96ce7a2cc569"
      },
      "source": [
        "# 일정 길이 이하 단어 삭제 \r\n",
        "tokenized_doc = text['Content'].apply(lambda x : [word for word in x if len(word) > 3])\r\n",
        "tokenized_doc[:5]"
      ],
      "execution_count": 107,
      "outputs": [
        {
          "output_type": "execute_result",
          "data": {
            "text/plain": [
              "0    [Receiving, block, blk_-1608999687919862906, /...\n",
              "1    [BLOCK*, NameSystem.allocateBlock, /mnt/hadoop...\n",
              "2    [Receiving, block, blk_-1608999687919862906, /...\n",
              "3    [Receiving, block, blk_-1608999687919862906, /...\n",
              "4    [PacketResponder, block, blk_-1608999687919862...\n",
              "Name: Content, dtype: object"
            ]
          },
          "metadata": {
            "tags": []
          },
          "execution_count": 107
        }
      ]
    },
    {
      "cell_type": "code",
      "metadata": {
        "colab": {
          "base_uri": "https://localhost:8080/",
          "height": 312
        },
        "id": "Uw17a0bKohMA",
        "outputId": "c109fbc4-4f8e-4579-e0dc-5e03ec45a807"
      },
      "source": [
        "# 역토큰화\r\n",
        "detokenized_doc = []\r\n",
        "for i in range(len(text)):\r\n",
        "    t = ' '.join(tokenized_doc[i])\r\n",
        "    detokenized_doc.append(t)\r\n",
        "text['Content'] = detokenized_doc\r\n",
        "# 다시 text['Content'] 에 저장\r\n",
        "text.head()"
      ],
      "execution_count": 108,
      "outputs": [
        {
          "output_type": "stream",
          "text": [
            "/usr/local/lib/python3.6/dist-packages/ipykernel_launcher.py:6: SettingWithCopyWarning: \n",
            "A value is trying to be set on a copy of a slice from a DataFrame.\n",
            "Try using .loc[row_indexer,col_indexer] = value instead\n",
            "\n",
            "See the caveats in the documentation: https://pandas.pydata.org/pandas-docs/stable/user_guide/indexing.html#returning-a-view-versus-a-copy\n",
            "  \n"
          ],
          "name": "stderr"
        },
        {
          "output_type": "execute_result",
          "data": {
            "text/html": [
              "<div>\n",
              "<style scoped>\n",
              "    .dataframe tbody tr th:only-of-type {\n",
              "        vertical-align: middle;\n",
              "    }\n",
              "\n",
              "    .dataframe tbody tr th {\n",
              "        vertical-align: top;\n",
              "    }\n",
              "\n",
              "    .dataframe thead th {\n",
              "        text-align: right;\n",
              "    }\n",
              "</style>\n",
              "<table border=\"1\" class=\"dataframe\">\n",
              "  <thead>\n",
              "    <tr style=\"text-align: right;\">\n",
              "      <th></th>\n",
              "      <th>LineId</th>\n",
              "      <th>Content</th>\n",
              "    </tr>\n",
              "  </thead>\n",
              "  <tbody>\n",
              "    <tr>\n",
              "      <th>0</th>\n",
              "      <td>1</td>\n",
              "      <td>Receiving block blk_-1608999687919862906 /10.2...</td>\n",
              "    </tr>\n",
              "    <tr>\n",
              "      <th>1</th>\n",
              "      <td>2</td>\n",
              "      <td>BLOCK* NameSystem.allocateBlock /mnt/hadoop/ma...</td>\n",
              "    </tr>\n",
              "    <tr>\n",
              "      <th>2</th>\n",
              "      <td>3</td>\n",
              "      <td>Receiving block blk_-1608999687919862906 /10.2...</td>\n",
              "    </tr>\n",
              "    <tr>\n",
              "      <th>3</th>\n",
              "      <td>4</td>\n",
              "      <td>Receiving block blk_-1608999687919862906 /10.2...</td>\n",
              "    </tr>\n",
              "    <tr>\n",
              "      <th>4</th>\n",
              "      <td>5</td>\n",
              "      <td>PacketResponder block blk_-1608999687919862906...</td>\n",
              "    </tr>\n",
              "  </tbody>\n",
              "</table>\n",
              "</div>"
            ],
            "text/plain": [
              "   LineId                                            Content\n",
              "0       1  Receiving block blk_-1608999687919862906 /10.2...\n",
              "1       2  BLOCK* NameSystem.allocateBlock /mnt/hadoop/ma...\n",
              "2       3  Receiving block blk_-1608999687919862906 /10.2...\n",
              "3       4  Receiving block blk_-1608999687919862906 /10.2...\n",
              "4       5  PacketResponder block blk_-1608999687919862906..."
            ]
          },
          "metadata": {
            "tags": []
          },
          "execution_count": 108
        }
      ]
    },
    {
      "cell_type": "code",
      "metadata": {
        "colab": {
          "base_uri": "https://localhost:8080/"
        },
        "id": "11-F1Lt2oibg",
        "outputId": "e7af957b-2992-4c6c-9d7f-6b0d7114c531"
      },
      "source": [
        "from sklearn.feature_extraction.text import TfidfVectorizer\r\n",
        "vectorizer = TfidfVectorizer(stop_words='english', max_features=1000)\r\n",
        "X = vectorizer.fit_transform(text['Content'])\r\n",
        "X.shape"
      ],
      "execution_count": 109,
      "outputs": [
        {
          "output_type": "execute_result",
          "data": {
            "text/plain": [
              "(104815, 1000)"
            ]
          },
          "metadata": {
            "tags": []
          },
          "execution_count": 109
        }
      ]
    },
    {
      "cell_type": "code",
      "metadata": {
        "colab": {
          "base_uri": "https://localhost:8080/"
        },
        "id": "74SwGeOBpVUo",
        "outputId": "c3781ea6-0d77-488f-fa79-0a6d39890bdf"
      },
      "source": [
        "len(vectorizer.get_feature_names())"
      ],
      "execution_count": 110,
      "outputs": [
        {
          "output_type": "execute_result",
          "data": {
            "text/plain": [
              "1000"
            ]
          },
          "metadata": {
            "tags": []
          },
          "execution_count": 110
        }
      ]
    },
    {
      "cell_type": "code",
      "metadata": {
        "colab": {
          "base_uri": "https://localhost:8080/"
        },
        "id": "OBLUQHX3ojs4",
        "outputId": "d4333793-c2a5-4305-d1d7-f3cebf54044b"
      },
      "source": [
        "X.toarray().shape"
      ],
      "execution_count": 111,
      "outputs": [
        {
          "output_type": "execute_result",
          "data": {
            "text/plain": [
              "(104815, 1000)"
            ]
          },
          "metadata": {
            "tags": []
          },
          "execution_count": 111
        }
      ]
    },
    {
      "cell_type": "code",
      "metadata": {
        "id": "9Mb_LYn2qNXd"
      },
      "source": [
        "tf_idf = pd.DataFrame(X.toarray(), columns = vectorizer.get_feature_names())"
      ],
      "execution_count": 112,
      "outputs": []
    },
    {
      "cell_type": "code",
      "metadata": {
        "id": "lA81s5_NrG8k"
      },
      "source": [
        "tf_idf_mean = tf_idf.mean()"
      ],
      "execution_count": 113,
      "outputs": []
    },
    {
      "cell_type": "code",
      "metadata": {
        "id": "npfgXqSxrufT"
      },
      "source": [
        "columns = tf_idf_mean.sort_values(ascending=False).index"
      ],
      "execution_count": 114,
      "outputs": []
    },
    {
      "cell_type": "code",
      "metadata": {
        "id": "y2crs8KGy7zV"
      },
      "source": [
        "tf_idf[columns].to_csv('/content/HDFS_tf_idf.csv')"
      ],
      "execution_count": null,
      "outputs": []
    },
    {
      "cell_type": "markdown",
      "metadata": {
        "id": "5DIoT_9Vv14V"
      },
      "source": [
        "# syslog "
      ]
    },
    {
      "cell_type": "code",
      "metadata": {
        "colab": {
          "base_uri": "https://localhost:8080/",
          "height": 204
        },
        "id": "4CB3r_ytv5QK",
        "outputId": "af7ee5be-cc8d-41a2-9d07-b8ebddafb799"
      },
      "source": [
        "df = pd.read_excel('./data/syslog 샘플.xls')\r\n",
        "df.head()"
      ],
      "execution_count": 20,
      "outputs": [
        {
          "output_type": "execute_result",
          "data": {
            "text/html": [
              "<div>\n",
              "<style scoped>\n",
              "    .dataframe tbody tr th:only-of-type {\n",
              "        vertical-align: middle;\n",
              "    }\n",
              "\n",
              "    .dataframe tbody tr th {\n",
              "        vertical-align: top;\n",
              "    }\n",
              "\n",
              "    .dataframe thead th {\n",
              "        text-align: right;\n",
              "    }\n",
              "</style>\n",
              "<table border=\"1\" class=\"dataframe\">\n",
              "  <thead>\n",
              "    <tr style=\"text-align: right;\">\n",
              "      <th></th>\n",
              "      <th>심각도</th>\n",
              "      <th>발생 일시</th>\n",
              "      <th>그룹경로</th>\n",
              "      <th>시스템명</th>\n",
              "      <th>호스트명</th>\n",
              "      <th>리소스 이름</th>\n",
              "      <th>대상</th>\n",
              "      <th>이벤트 타입</th>\n",
              "      <th>이벤트 소스</th>\n",
              "      <th>내용</th>\n",
              "    </tr>\n",
              "  </thead>\n",
              "  <tbody>\n",
              "    <tr>\n",
              "      <th>0</th>\n",
              "      <td>ERROR</td>\n",
              "      <td>2021-01-08 11:39:07</td>\n",
              "      <td>인프라그룹</td>\n",
              "      <td>Syslog Receiver</td>\n",
              "      <td>NaN</td>\n",
              "      <td>Syslog Receiver</td>\n",
              "      <td>인프라그룹&gt;Syslog Receiver</td>\n",
              "      <td>syslog</td>\n",
              "      <td>172.30.151.88</td>\n",
              "      <td>[syslog]&lt;43&gt;Jan  8 11:39:07 Kolon_L7_trust_02 ...</td>\n",
              "    </tr>\n",
              "    <tr>\n",
              "      <th>1</th>\n",
              "      <td>ERROR</td>\n",
              "      <td>2021-01-08 11:39:07</td>\n",
              "      <td>인프라그룹</td>\n",
              "      <td>Syslog Receiver</td>\n",
              "      <td>NaN</td>\n",
              "      <td>Syslog Receiver</td>\n",
              "      <td>인프라그룹&gt;Syslog Receiver</td>\n",
              "      <td>syslog</td>\n",
              "      <td>172.30.151.88</td>\n",
              "      <td>[syslog]&lt;43&gt;Jan  8 11:39:07 Kolon_L7_trust_02 ...</td>\n",
              "    </tr>\n",
              "    <tr>\n",
              "      <th>2</th>\n",
              "      <td>ERROR</td>\n",
              "      <td>2021-01-08 11:39:06</td>\n",
              "      <td>인프라그룹</td>\n",
              "      <td>Syslog Receiver</td>\n",
              "      <td>NaN</td>\n",
              "      <td>Syslog Receiver</td>\n",
              "      <td>인프라그룹&gt;Syslog Receiver</td>\n",
              "      <td>syslog</td>\n",
              "      <td>172.30.151.87</td>\n",
              "      <td>[syslog]&lt;43&gt;Jan  8 11:39:06 Kolon_L7_trust_01 ...</td>\n",
              "    </tr>\n",
              "    <tr>\n",
              "      <th>3</th>\n",
              "      <td>ERROR</td>\n",
              "      <td>2021-01-08 11:38:07</td>\n",
              "      <td>인프라그룹</td>\n",
              "      <td>Syslog Receiver</td>\n",
              "      <td>NaN</td>\n",
              "      <td>Syslog Receiver</td>\n",
              "      <td>인프라그룹&gt;Syslog Receiver</td>\n",
              "      <td>syslog</td>\n",
              "      <td>172.30.151.88</td>\n",
              "      <td>[syslog]&lt;43&gt;Jan  8 11:38:07 Kolon_L7_trust_02 ...</td>\n",
              "    </tr>\n",
              "    <tr>\n",
              "      <th>4</th>\n",
              "      <td>ERROR</td>\n",
              "      <td>2021-01-08 11:38:07</td>\n",
              "      <td>인프라그룹</td>\n",
              "      <td>Syslog Receiver</td>\n",
              "      <td>NaN</td>\n",
              "      <td>Syslog Receiver</td>\n",
              "      <td>인프라그룹&gt;Syslog Receiver</td>\n",
              "      <td>syslog</td>\n",
              "      <td>172.30.151.88</td>\n",
              "      <td>[syslog]&lt;43&gt;Jan  8 11:38:07 Kolon_L7_trust_02 ...</td>\n",
              "    </tr>\n",
              "  </tbody>\n",
              "</table>\n",
              "</div>"
            ],
            "text/plain": [
              "     심각도  ...                                                 내용\n",
              "0  ERROR  ...  [syslog]<43>Jan  8 11:39:07 Kolon_L7_trust_02 ...\n",
              "1  ERROR  ...  [syslog]<43>Jan  8 11:39:07 Kolon_L7_trust_02 ...\n",
              "2  ERROR  ...  [syslog]<43>Jan  8 11:39:06 Kolon_L7_trust_01 ...\n",
              "3  ERROR  ...  [syslog]<43>Jan  8 11:38:07 Kolon_L7_trust_02 ...\n",
              "4  ERROR  ...  [syslog]<43>Jan  8 11:38:07 Kolon_L7_trust_02 ...\n",
              "\n",
              "[5 rows x 10 columns]"
            ]
          },
          "metadata": {
            "tags": []
          },
          "execution_count": 20
        }
      ]
    },
    {
      "cell_type": "code",
      "metadata": {
        "colab": {
          "base_uri": "https://localhost:8080/",
          "height": 204
        },
        "id": "GIGvV6ZTv5QT",
        "outputId": "e60c2710-b556-4373-9ed3-08efab25dda9"
      },
      "source": [
        "text = df[['내용']]\r\n",
        "text.columns = ['Content']\r\n",
        "text.head()"
      ],
      "execution_count": 21,
      "outputs": [
        {
          "output_type": "execute_result",
          "data": {
            "text/html": [
              "<div>\n",
              "<style scoped>\n",
              "    .dataframe tbody tr th:only-of-type {\n",
              "        vertical-align: middle;\n",
              "    }\n",
              "\n",
              "    .dataframe tbody tr th {\n",
              "        vertical-align: top;\n",
              "    }\n",
              "\n",
              "    .dataframe thead th {\n",
              "        text-align: right;\n",
              "    }\n",
              "</style>\n",
              "<table border=\"1\" class=\"dataframe\">\n",
              "  <thead>\n",
              "    <tr style=\"text-align: right;\">\n",
              "      <th></th>\n",
              "      <th>Content</th>\n",
              "    </tr>\n",
              "  </thead>\n",
              "  <tbody>\n",
              "    <tr>\n",
              "      <th>0</th>\n",
              "      <td>[syslog]&lt;43&gt;Jan  8 11:39:07 Kolon_L7_trust_02 ...</td>\n",
              "    </tr>\n",
              "    <tr>\n",
              "      <th>1</th>\n",
              "      <td>[syslog]&lt;43&gt;Jan  8 11:39:07 Kolon_L7_trust_02 ...</td>\n",
              "    </tr>\n",
              "    <tr>\n",
              "      <th>2</th>\n",
              "      <td>[syslog]&lt;43&gt;Jan  8 11:39:06 Kolon_L7_trust_01 ...</td>\n",
              "    </tr>\n",
              "    <tr>\n",
              "      <th>3</th>\n",
              "      <td>[syslog]&lt;43&gt;Jan  8 11:38:07 Kolon_L7_trust_02 ...</td>\n",
              "    </tr>\n",
              "    <tr>\n",
              "      <th>4</th>\n",
              "      <td>[syslog]&lt;43&gt;Jan  8 11:38:07 Kolon_L7_trust_02 ...</td>\n",
              "    </tr>\n",
              "  </tbody>\n",
              "</table>\n",
              "</div>"
            ],
            "text/plain": [
              "                                             Content\n",
              "0  [syslog]<43>Jan  8 11:39:07 Kolon_L7_trust_02 ...\n",
              "1  [syslog]<43>Jan  8 11:39:07 Kolon_L7_trust_02 ...\n",
              "2  [syslog]<43>Jan  8 11:39:06 Kolon_L7_trust_01 ...\n",
              "3  [syslog]<43>Jan  8 11:38:07 Kolon_L7_trust_02 ...\n",
              "4  [syslog]<43>Jan  8 11:38:07 Kolon_L7_trust_02 ..."
            ]
          },
          "metadata": {
            "tags": []
          },
          "execution_count": 21
        }
      ]
    },
    {
      "cell_type": "code",
      "metadata": {
        "colab": {
          "base_uri": "https://localhost:8080/"
        },
        "id": "BpYyHOS1v5QT",
        "outputId": "d6e92ccb-e7ce-4eb3-f116-fa50e0c06fd5"
      },
      "source": [
        "import nltk\r\n",
        "nltk.download('punkt')"
      ],
      "execution_count": 22,
      "outputs": [
        {
          "output_type": "stream",
          "text": [
            "[nltk_data] Downloading package punkt to /root/nltk_data...\n",
            "[nltk_data]   Package punkt is already up-to-date!\n"
          ],
          "name": "stdout"
        },
        {
          "output_type": "execute_result",
          "data": {
            "text/plain": [
              "True"
            ]
          },
          "metadata": {
            "tags": []
          },
          "execution_count": 22
        }
      ]
    },
    {
      "cell_type": "code",
      "metadata": {
        "colab": {
          "base_uri": "https://localhost:8080/",
          "height": 312
        },
        "id": "nJsB0jmsv5QU",
        "outputId": "c4d9bf20-e1d6-4c6d-f771-409dc86f7315"
      },
      "source": [
        "# 토큰화\r\n",
        "text['Content'] = text.apply(lambda row: nltk.word_tokenize(row['Content']), axis=1)\r\n",
        "text.head()"
      ],
      "execution_count": 23,
      "outputs": [
        {
          "output_type": "stream",
          "text": [
            "/usr/local/lib/python3.6/dist-packages/ipykernel_launcher.py:2: SettingWithCopyWarning: \n",
            "A value is trying to be set on a copy of a slice from a DataFrame.\n",
            "Try using .loc[row_indexer,col_indexer] = value instead\n",
            "\n",
            "See the caveats in the documentation: https://pandas.pydata.org/pandas-docs/stable/user_guide/indexing.html#returning-a-view-versus-a-copy\n",
            "  \n"
          ],
          "name": "stderr"
        },
        {
          "output_type": "execute_result",
          "data": {
            "text/html": [
              "<div>\n",
              "<style scoped>\n",
              "    .dataframe tbody tr th:only-of-type {\n",
              "        vertical-align: middle;\n",
              "    }\n",
              "\n",
              "    .dataframe tbody tr th {\n",
              "        vertical-align: top;\n",
              "    }\n",
              "\n",
              "    .dataframe thead th {\n",
              "        text-align: right;\n",
              "    }\n",
              "</style>\n",
              "<table border=\"1\" class=\"dataframe\">\n",
              "  <thead>\n",
              "    <tr style=\"text-align: right;\">\n",
              "      <th></th>\n",
              "      <th>Content</th>\n",
              "    </tr>\n",
              "  </thead>\n",
              "  <tbody>\n",
              "    <tr>\n",
              "      <th>0</th>\n",
              "      <td>[[, syslog, ], &lt;, 43, &gt;, Jan, 8, 11:39:07, Kol...</td>\n",
              "    </tr>\n",
              "    <tr>\n",
              "      <th>1</th>\n",
              "      <td>[[, syslog, ], &lt;, 43, &gt;, Jan, 8, 11:39:07, Kol...</td>\n",
              "    </tr>\n",
              "    <tr>\n",
              "      <th>2</th>\n",
              "      <td>[[, syslog, ], &lt;, 43, &gt;, Jan, 8, 11:39:06, Kol...</td>\n",
              "    </tr>\n",
              "    <tr>\n",
              "      <th>3</th>\n",
              "      <td>[[, syslog, ], &lt;, 43, &gt;, Jan, 8, 11:38:07, Kol...</td>\n",
              "    </tr>\n",
              "    <tr>\n",
              "      <th>4</th>\n",
              "      <td>[[, syslog, ], &lt;, 43, &gt;, Jan, 8, 11:38:07, Kol...</td>\n",
              "    </tr>\n",
              "  </tbody>\n",
              "</table>\n",
              "</div>"
            ],
            "text/plain": [
              "                                             Content\n",
              "0  [[, syslog, ], <, 43, >, Jan, 8, 11:39:07, Kol...\n",
              "1  [[, syslog, ], <, 43, >, Jan, 8, 11:39:07, Kol...\n",
              "2  [[, syslog, ], <, 43, >, Jan, 8, 11:39:06, Kol...\n",
              "3  [[, syslog, ], <, 43, >, Jan, 8, 11:38:07, Kol...\n",
              "4  [[, syslog, ], <, 43, >, Jan, 8, 11:38:07, Kol..."
            ]
          },
          "metadata": {
            "tags": []
          },
          "execution_count": 23
        }
      ]
    },
    {
      "cell_type": "code",
      "metadata": {
        "colab": {
          "base_uri": "https://localhost:8080/"
        },
        "id": "EQMoUqc3v5QU",
        "outputId": "b3ed112a-e04f-4ef7-842b-ae9a66e050b6"
      },
      "source": [
        "from nltk.corpus import stopwords\r\n",
        "nltk.download('stopwords')"
      ],
      "execution_count": 24,
      "outputs": [
        {
          "output_type": "stream",
          "text": [
            "[nltk_data] Downloading package stopwords to /root/nltk_data...\n",
            "[nltk_data]   Package stopwords is already up-to-date!\n"
          ],
          "name": "stdout"
        },
        {
          "output_type": "execute_result",
          "data": {
            "text/plain": [
              "True"
            ]
          },
          "metadata": {
            "tags": []
          },
          "execution_count": 24
        }
      ]
    },
    {
      "cell_type": "code",
      "metadata": {
        "colab": {
          "base_uri": "https://localhost:8080/",
          "height": 312
        },
        "id": "W6weRKW0v5QU",
        "outputId": "1232fdbf-d812-456f-8517-1c58883d40b5"
      },
      "source": [
        "# 불용어 처리\r\n",
        "stop = stopwords.words('english')\r\n",
        "text['Content'] = text['Content'].apply(lambda x: [word for word in x if word not in (stop)])\r\n",
        "text.head()"
      ],
      "execution_count": 25,
      "outputs": [
        {
          "output_type": "stream",
          "text": [
            "/usr/local/lib/python3.6/dist-packages/ipykernel_launcher.py:3: SettingWithCopyWarning: \n",
            "A value is trying to be set on a copy of a slice from a DataFrame.\n",
            "Try using .loc[row_indexer,col_indexer] = value instead\n",
            "\n",
            "See the caveats in the documentation: https://pandas.pydata.org/pandas-docs/stable/user_guide/indexing.html#returning-a-view-versus-a-copy\n",
            "  This is separate from the ipykernel package so we can avoid doing imports until\n"
          ],
          "name": "stderr"
        },
        {
          "output_type": "execute_result",
          "data": {
            "text/html": [
              "<div>\n",
              "<style scoped>\n",
              "    .dataframe tbody tr th:only-of-type {\n",
              "        vertical-align: middle;\n",
              "    }\n",
              "\n",
              "    .dataframe tbody tr th {\n",
              "        vertical-align: top;\n",
              "    }\n",
              "\n",
              "    .dataframe thead th {\n",
              "        text-align: right;\n",
              "    }\n",
              "</style>\n",
              "<table border=\"1\" class=\"dataframe\">\n",
              "  <thead>\n",
              "    <tr style=\"text-align: right;\">\n",
              "      <th></th>\n",
              "      <th>Content</th>\n",
              "    </tr>\n",
              "  </thead>\n",
              "  <tbody>\n",
              "    <tr>\n",
              "      <th>0</th>\n",
              "      <td>[[, syslog, ], &lt;, 43, &gt;, Jan, 8, 11:39:07, Kol...</td>\n",
              "    </tr>\n",
              "    <tr>\n",
              "      <th>1</th>\n",
              "      <td>[[, syslog, ], &lt;, 43, &gt;, Jan, 8, 11:39:07, Kol...</td>\n",
              "    </tr>\n",
              "    <tr>\n",
              "      <th>2</th>\n",
              "      <td>[[, syslog, ], &lt;, 43, &gt;, Jan, 8, 11:39:06, Kol...</td>\n",
              "    </tr>\n",
              "    <tr>\n",
              "      <th>3</th>\n",
              "      <td>[[, syslog, ], &lt;, 43, &gt;, Jan, 8, 11:38:07, Kol...</td>\n",
              "    </tr>\n",
              "    <tr>\n",
              "      <th>4</th>\n",
              "      <td>[[, syslog, ], &lt;, 43, &gt;, Jan, 8, 11:38:07, Kol...</td>\n",
              "    </tr>\n",
              "  </tbody>\n",
              "</table>\n",
              "</div>"
            ],
            "text/plain": [
              "                                             Content\n",
              "0  [[, syslog, ], <, 43, >, Jan, 8, 11:39:07, Kol...\n",
              "1  [[, syslog, ], <, 43, >, Jan, 8, 11:39:07, Kol...\n",
              "2  [[, syslog, ], <, 43, >, Jan, 8, 11:39:06, Kol...\n",
              "3  [[, syslog, ], <, 43, >, Jan, 8, 11:38:07, Kol...\n",
              "4  [[, syslog, ], <, 43, >, Jan, 8, 11:38:07, Kol..."
            ]
          },
          "metadata": {
            "tags": []
          },
          "execution_count": 25
        }
      ]
    },
    {
      "cell_type": "code",
      "metadata": {
        "colab": {
          "base_uri": "https://localhost:8080/"
        },
        "id": "0doNUtJ_v5QV",
        "outputId": "343bc8f7-8039-41d9-d7d7-3ca9a93b63a1"
      },
      "source": [
        "nltk.download('wordnet')"
      ],
      "execution_count": 26,
      "outputs": [
        {
          "output_type": "stream",
          "text": [
            "[nltk_data] Downloading package wordnet to /root/nltk_data...\n",
            "[nltk_data]   Package wordnet is already up-to-date!\n"
          ],
          "name": "stdout"
        },
        {
          "output_type": "execute_result",
          "data": {
            "text/plain": [
              "True"
            ]
          },
          "metadata": {
            "tags": []
          },
          "execution_count": 26
        }
      ]
    },
    {
      "cell_type": "code",
      "metadata": {
        "colab": {
          "base_uri": "https://localhost:8080/",
          "height": 312
        },
        "id": "YVfYlcOVv5QV",
        "outputId": "86d7ea48-f3a4-4aec-c38e-2ec828a4fbfc"
      },
      "source": [
        "# 표제어 추출\r\n",
        "from nltk.stem import WordNetLemmatizer\r\n",
        "text['Content'] = text['Content'].apply(lambda x : [WordNetLemmatizer().lemmatize(word, pos='v') for word in x])\r\n",
        "text.head()"
      ],
      "execution_count": 27,
      "outputs": [
        {
          "output_type": "stream",
          "text": [
            "/usr/local/lib/python3.6/dist-packages/ipykernel_launcher.py:3: SettingWithCopyWarning: \n",
            "A value is trying to be set on a copy of a slice from a DataFrame.\n",
            "Try using .loc[row_indexer,col_indexer] = value instead\n",
            "\n",
            "See the caveats in the documentation: https://pandas.pydata.org/pandas-docs/stable/user_guide/indexing.html#returning-a-view-versus-a-copy\n",
            "  This is separate from the ipykernel package so we can avoid doing imports until\n"
          ],
          "name": "stderr"
        },
        {
          "output_type": "execute_result",
          "data": {
            "text/html": [
              "<div>\n",
              "<style scoped>\n",
              "    .dataframe tbody tr th:only-of-type {\n",
              "        vertical-align: middle;\n",
              "    }\n",
              "\n",
              "    .dataframe tbody tr th {\n",
              "        vertical-align: top;\n",
              "    }\n",
              "\n",
              "    .dataframe thead th {\n",
              "        text-align: right;\n",
              "    }\n",
              "</style>\n",
              "<table border=\"1\" class=\"dataframe\">\n",
              "  <thead>\n",
              "    <tr style=\"text-align: right;\">\n",
              "      <th></th>\n",
              "      <th>Content</th>\n",
              "    </tr>\n",
              "  </thead>\n",
              "  <tbody>\n",
              "    <tr>\n",
              "      <th>0</th>\n",
              "      <td>[[, syslog, ], &lt;, 43, &gt;, Jan, 8, 11:39:07, Kol...</td>\n",
              "    </tr>\n",
              "    <tr>\n",
              "      <th>1</th>\n",
              "      <td>[[, syslog, ], &lt;, 43, &gt;, Jan, 8, 11:39:07, Kol...</td>\n",
              "    </tr>\n",
              "    <tr>\n",
              "      <th>2</th>\n",
              "      <td>[[, syslog, ], &lt;, 43, &gt;, Jan, 8, 11:39:06, Kol...</td>\n",
              "    </tr>\n",
              "    <tr>\n",
              "      <th>3</th>\n",
              "      <td>[[, syslog, ], &lt;, 43, &gt;, Jan, 8, 11:38:07, Kol...</td>\n",
              "    </tr>\n",
              "    <tr>\n",
              "      <th>4</th>\n",
              "      <td>[[, syslog, ], &lt;, 43, &gt;, Jan, 8, 11:38:07, Kol...</td>\n",
              "    </tr>\n",
              "  </tbody>\n",
              "</table>\n",
              "</div>"
            ],
            "text/plain": [
              "                                             Content\n",
              "0  [[, syslog, ], <, 43, >, Jan, 8, 11:39:07, Kol...\n",
              "1  [[, syslog, ], <, 43, >, Jan, 8, 11:39:07, Kol...\n",
              "2  [[, syslog, ], <, 43, >, Jan, 8, 11:39:06, Kol...\n",
              "3  [[, syslog, ], <, 43, >, Jan, 8, 11:38:07, Kol...\n",
              "4  [[, syslog, ], <, 43, >, Jan, 8, 11:38:07, Kol..."
            ]
          },
          "metadata": {
            "tags": []
          },
          "execution_count": 27
        }
      ]
    },
    {
      "cell_type": "code",
      "metadata": {
        "colab": {
          "base_uri": "https://localhost:8080/"
        },
        "id": "22sGwb5mv5QV",
        "outputId": "845e6095-70a7-408f-fef1-1c31fc4bf29a"
      },
      "source": [
        "# 일정 길이 이하 단어 삭제 \r\n",
        "tokenized_doc = text['Content'].apply(lambda x : [word for word in x if len(word) > 3])\r\n",
        "tokenized_doc[:5]"
      ],
      "execution_count": 28,
      "outputs": [
        {
          "output_type": "execute_result",
          "data": {
            "text/plain": [
              "0    [syslog, 11:39:07, Kolon_L7_trust_02, syslog-n...\n",
              "1    [syslog, 11:39:07, Kolon_L7_trust_02, syslog-n...\n",
              "2    [syslog, 11:39:06, Kolon_L7_trust_01, syslog-n...\n",
              "3    [syslog, 11:38:07, Kolon_L7_trust_02, syslog-n...\n",
              "4    [syslog, 11:38:07, Kolon_L7_trust_02, syslog-n...\n",
              "Name: Content, dtype: object"
            ]
          },
          "metadata": {
            "tags": []
          },
          "execution_count": 28
        }
      ]
    },
    {
      "cell_type": "code",
      "metadata": {
        "colab": {
          "base_uri": "https://localhost:8080/",
          "height": 312
        },
        "id": "GPbyMUsov5QW",
        "outputId": "19af586c-92a6-4306-db2f-b9030ec5b99f"
      },
      "source": [
        "# 역토큰화\r\n",
        "detokenized_doc = []\r\n",
        "for i in range(len(text)):\r\n",
        "    t = ' '.join(tokenized_doc[i])\r\n",
        "    detokenized_doc.append(t)\r\n",
        "text['Content'] = detokenized_doc\r\n",
        "# 다시 text['Content'] 에 저장\r\n",
        "text.head()"
      ],
      "execution_count": 29,
      "outputs": [
        {
          "output_type": "stream",
          "text": [
            "/usr/local/lib/python3.6/dist-packages/ipykernel_launcher.py:6: SettingWithCopyWarning: \n",
            "A value is trying to be set on a copy of a slice from a DataFrame.\n",
            "Try using .loc[row_indexer,col_indexer] = value instead\n",
            "\n",
            "See the caveats in the documentation: https://pandas.pydata.org/pandas-docs/stable/user_guide/indexing.html#returning-a-view-versus-a-copy\n",
            "  \n"
          ],
          "name": "stderr"
        },
        {
          "output_type": "execute_result",
          "data": {
            "text/html": [
              "<div>\n",
              "<style scoped>\n",
              "    .dataframe tbody tr th:only-of-type {\n",
              "        vertical-align: middle;\n",
              "    }\n",
              "\n",
              "    .dataframe tbody tr th {\n",
              "        vertical-align: top;\n",
              "    }\n",
              "\n",
              "    .dataframe thead th {\n",
              "        text-align: right;\n",
              "    }\n",
              "</style>\n",
              "<table border=\"1\" class=\"dataframe\">\n",
              "  <thead>\n",
              "    <tr style=\"text-align: right;\">\n",
              "      <th></th>\n",
              "      <th>Content</th>\n",
              "    </tr>\n",
              "  </thead>\n",
              "  <tbody>\n",
              "    <tr>\n",
              "      <th>0</th>\n",
              "      <td>syslog 11:39:07 Kolon_L7_trust_02 syslog-ng 12...</td>\n",
              "    </tr>\n",
              "    <tr>\n",
              "      <th>1</th>\n",
              "      <td>syslog 11:39:07 Kolon_L7_trust_02 syslog-ng 12...</td>\n",
              "    </tr>\n",
              "    <tr>\n",
              "      <th>2</th>\n",
              "      <td>syslog 11:39:06 Kolon_L7_trust_01 syslog-ng 12...</td>\n",
              "    </tr>\n",
              "    <tr>\n",
              "      <th>3</th>\n",
              "      <td>syslog 11:38:07 Kolon_L7_trust_02 syslog-ng 12...</td>\n",
              "    </tr>\n",
              "    <tr>\n",
              "      <th>4</th>\n",
              "      <td>syslog 11:38:07 Kolon_L7_trust_02 syslog-ng 12...</td>\n",
              "    </tr>\n",
              "  </tbody>\n",
              "</table>\n",
              "</div>"
            ],
            "text/plain": [
              "                                             Content\n",
              "0  syslog 11:39:07 Kolon_L7_trust_02 syslog-ng 12...\n",
              "1  syslog 11:39:07 Kolon_L7_trust_02 syslog-ng 12...\n",
              "2  syslog 11:39:06 Kolon_L7_trust_01 syslog-ng 12...\n",
              "3  syslog 11:38:07 Kolon_L7_trust_02 syslog-ng 12...\n",
              "4  syslog 11:38:07 Kolon_L7_trust_02 syslog-ng 12..."
            ]
          },
          "metadata": {
            "tags": []
          },
          "execution_count": 29
        }
      ]
    },
    {
      "cell_type": "code",
      "metadata": {
        "colab": {
          "base_uri": "https://localhost:8080/"
        },
        "id": "-b6FblTBv5QW",
        "outputId": "cb1a109f-24db-4ee5-9622-c4b819b409d6"
      },
      "source": [
        "from sklearn.feature_extraction.text import TfidfVectorizer\r\n",
        "vectorizer = TfidfVectorizer(stop_words='english', max_features=1000)\r\n",
        "X = vectorizer.fit_transform(text['Content'])\r\n",
        "X.shape"
      ],
      "execution_count": 30,
      "outputs": [
        {
          "output_type": "execute_result",
          "data": {
            "text/plain": [
              "(10000, 347)"
            ]
          },
          "metadata": {
            "tags": []
          },
          "execution_count": 30
        }
      ]
    },
    {
      "cell_type": "code",
      "metadata": {
        "colab": {
          "base_uri": "https://localhost:8080/"
        },
        "id": "kEq7OWL_v5QW",
        "outputId": "000fd03d-bfe9-41ba-8ef9-e4450587ece9"
      },
      "source": [
        "len(vectorizer.get_feature_names())"
      ],
      "execution_count": 31,
      "outputs": [
        {
          "output_type": "execute_result",
          "data": {
            "text/plain": [
              "347"
            ]
          },
          "metadata": {
            "tags": []
          },
          "execution_count": 31
        }
      ]
    },
    {
      "cell_type": "code",
      "metadata": {
        "colab": {
          "base_uri": "https://localhost:8080/"
        },
        "id": "R3dXauAzv5QX",
        "outputId": "b049fb66-b356-4770-a075-a41289dac313"
      },
      "source": [
        "X.toarray().shape"
      ],
      "execution_count": 32,
      "outputs": [
        {
          "output_type": "execute_result",
          "data": {
            "text/plain": [
              "(10000, 347)"
            ]
          },
          "metadata": {
            "tags": []
          },
          "execution_count": 32
        }
      ]
    },
    {
      "cell_type": "code",
      "metadata": {
        "id": "unMuQI9jv5QX"
      },
      "source": [
        "tf_idf = pd.DataFrame(X.toarray(), columns = vectorizer.get_feature_names())"
      ],
      "execution_count": 33,
      "outputs": []
    },
    {
      "cell_type": "code",
      "metadata": {
        "id": "3xV8_TK_v5QX"
      },
      "source": [
        "tf_idf_mean = tf_idf.mean()"
      ],
      "execution_count": 34,
      "outputs": []
    },
    {
      "cell_type": "code",
      "metadata": {
        "id": "c0GyaqjNv5QY"
      },
      "source": [
        "columns = tf_idf_mean.sort_values(ascending=False).index"
      ],
      "execution_count": 35,
      "outputs": []
    },
    {
      "cell_type": "code",
      "metadata": {
        "id": "iXtKXhWJv5QY"
      },
      "source": [
        "tf_idf[columns].to_csv('/content/syslog_tf_idf.csv')"
      ],
      "execution_count": 36,
      "outputs": []
    },
    {
      "cell_type": "markdown",
      "metadata": {
        "id": "qCDK2-Wv0b4K"
      },
      "source": [
        ""
      ]
    },
    {
      "cell_type": "code",
      "metadata": {
        "colab": {
          "base_uri": "https://localhost:8080/",
          "height": 306
        },
        "id": "ktKd66TK0cU7",
        "outputId": "ebadceee-a04b-4476-d7d2-a0568fd00466"
      },
      "source": [
        "df = pd.read_excel('./data/이벤트 목록_log1.xls')\r\n",
        "add = pd.read_excel('./data/이벤트 목록_log2.xls')\r\n",
        "add2  = pd.read_excel('./data/이벤트 목록_log3.xls')\r\n",
        "df = pd.concat([df,add, add2])\r\n",
        "df = df.reset_index(drop = True)\r\n",
        "\r\n",
        "df.head()"
      ],
      "execution_count": 62,
      "outputs": [
        {
          "output_type": "execute_result",
          "data": {
            "text/html": [
              "<div>\n",
              "<style scoped>\n",
              "    .dataframe tbody tr th:only-of-type {\n",
              "        vertical-align: middle;\n",
              "    }\n",
              "\n",
              "    .dataframe tbody tr th {\n",
              "        vertical-align: top;\n",
              "    }\n",
              "\n",
              "    .dataframe thead th {\n",
              "        text-align: right;\n",
              "    }\n",
              "</style>\n",
              "<table border=\"1\" class=\"dataframe\">\n",
              "  <thead>\n",
              "    <tr style=\"text-align: right;\">\n",
              "      <th></th>\n",
              "      <th>심각도</th>\n",
              "      <th>발생 일시</th>\n",
              "      <th>그룹경로</th>\n",
              "      <th>시스템명</th>\n",
              "      <th>호스트명</th>\n",
              "      <th>리소스 이름</th>\n",
              "      <th>대상</th>\n",
              "      <th>이벤트 타입</th>\n",
              "      <th>이벤트 소스</th>\n",
              "      <th>상세내용</th>\n",
              "    </tr>\n",
              "  </thead>\n",
              "  <tbody>\n",
              "    <tr>\n",
              "      <th>0</th>\n",
              "      <td>INFO</td>\n",
              "      <td>2021-01-19 10:30:48</td>\n",
              "      <td>시스템그룹&gt;HR</td>\n",
              "      <td>INF-INFPRJOBWS02( 172.30.171.22)</td>\n",
              "      <td>infprjobws02</td>\n",
              "      <td>채용WAS21로그</td>\n",
              "      <td>시스템그룹&gt;HR&gt;INF-INFPRJOBWS02( 172.30.171.22)&gt;moni...</td>\n",
              "      <td>logMessage</td>\n",
              "      <td>NaN</td>\n",
              "      <td>BENIT_Client IP1 : 114.119.158.142, user_no : ...</td>\n",
              "    </tr>\n",
              "    <tr>\n",
              "      <th>1</th>\n",
              "      <td>INFO</td>\n",
              "      <td>2021-01-19 10:30:48</td>\n",
              "      <td>시스템그룹&gt;HR</td>\n",
              "      <td>INF-INFPRJOBWS02( 172.30.171.22)</td>\n",
              "      <td>infprjobws02</td>\n",
              "      <td>채용WAS21로그</td>\n",
              "      <td>시스템그룹&gt;HR&gt;INF-INFPRJOBWS02( 172.30.171.22)&gt;moni...</td>\n",
              "      <td>logMessage</td>\n",
              "      <td>NaN</td>\n",
              "      <td>BENIT_Client IP2 : 114.119.158.142, user_no : ...</td>\n",
              "    </tr>\n",
              "    <tr>\n",
              "      <th>2</th>\n",
              "      <td>INFO</td>\n",
              "      <td>2021-01-19 10:30:04</td>\n",
              "      <td>시스템그룹&gt;HR</td>\n",
              "      <td>INF-INFPRJOBWS01(121.135.187.201)</td>\n",
              "      <td>infprjobws01</td>\n",
              "      <td>채용WAS11로그</td>\n",
              "      <td>시스템그룹&gt;HR&gt;INF-INFPRJOBWS01(121.135.187.201)&gt;mon...</td>\n",
              "      <td>logMessage</td>\n",
              "      <td>NaN</td>\n",
              "      <td>BENIT_Client IP2 : 203.225.82.146, user_no : n...</td>\n",
              "    </tr>\n",
              "    <tr>\n",
              "      <th>3</th>\n",
              "      <td>INFO</td>\n",
              "      <td>2021-01-19 10:30:04</td>\n",
              "      <td>시스템그룹&gt;HR</td>\n",
              "      <td>INF-INFPRJOBWS01(121.135.187.201)</td>\n",
              "      <td>infprjobws01</td>\n",
              "      <td>채용WAS11로그</td>\n",
              "      <td>시스템그룹&gt;HR&gt;INF-INFPRJOBWS01(121.135.187.201)&gt;mon...</td>\n",
              "      <td>logMessage</td>\n",
              "      <td>NaN</td>\n",
              "      <td>BENIT_Client IP2 : 203.225.82.146, user_no : n...</td>\n",
              "    </tr>\n",
              "    <tr>\n",
              "      <th>4</th>\n",
              "      <td>INFO</td>\n",
              "      <td>2021-01-19 10:30:04</td>\n",
              "      <td>시스템그룹&gt;HR</td>\n",
              "      <td>INF-INFPRJOBWS01(121.135.187.201)</td>\n",
              "      <td>infprjobws01</td>\n",
              "      <td>채용WAS11로그</td>\n",
              "      <td>시스템그룹&gt;HR&gt;INF-INFPRJOBWS01(121.135.187.201)&gt;mon...</td>\n",
              "      <td>logMessage</td>\n",
              "      <td>NaN</td>\n",
              "      <td>BENIT_Client IP1 : 203.225.82.146, user_no : n...</td>\n",
              "    </tr>\n",
              "  </tbody>\n",
              "</table>\n",
              "</div>"
            ],
            "text/plain": [
              "    심각도  ...                                               상세내용\n",
              "0  INFO  ...  BENIT_Client IP1 : 114.119.158.142, user_no : ...\n",
              "1  INFO  ...  BENIT_Client IP2 : 114.119.158.142, user_no : ...\n",
              "2  INFO  ...  BENIT_Client IP2 : 203.225.82.146, user_no : n...\n",
              "3  INFO  ...  BENIT_Client IP2 : 203.225.82.146, user_no : n...\n",
              "4  INFO  ...  BENIT_Client IP1 : 203.225.82.146, user_no : n...\n",
              "\n",
              "[5 rows x 10 columns]"
            ]
          },
          "metadata": {
            "tags": []
          },
          "execution_count": 62
        }
      ]
    },
    {
      "cell_type": "code",
      "metadata": {
        "colab": {
          "base_uri": "https://localhost:8080/",
          "height": 204
        },
        "id": "vio2Y2nI0dnp",
        "outputId": "2af703d1-bcef-44c4-ad37-88110c2f918a"
      },
      "source": [
        "text = df[['상세내용']]\r\n",
        "text.columns = ['Content']\r\n",
        "text.head()"
      ],
      "execution_count": 63,
      "outputs": [
        {
          "output_type": "execute_result",
          "data": {
            "text/html": [
              "<div>\n",
              "<style scoped>\n",
              "    .dataframe tbody tr th:only-of-type {\n",
              "        vertical-align: middle;\n",
              "    }\n",
              "\n",
              "    .dataframe tbody tr th {\n",
              "        vertical-align: top;\n",
              "    }\n",
              "\n",
              "    .dataframe thead th {\n",
              "        text-align: right;\n",
              "    }\n",
              "</style>\n",
              "<table border=\"1\" class=\"dataframe\">\n",
              "  <thead>\n",
              "    <tr style=\"text-align: right;\">\n",
              "      <th></th>\n",
              "      <th>Content</th>\n",
              "    </tr>\n",
              "  </thead>\n",
              "  <tbody>\n",
              "    <tr>\n",
              "      <th>0</th>\n",
              "      <td>BENIT_Client IP1 : 114.119.158.142, user_no : ...</td>\n",
              "    </tr>\n",
              "    <tr>\n",
              "      <th>1</th>\n",
              "      <td>BENIT_Client IP2 : 114.119.158.142, user_no : ...</td>\n",
              "    </tr>\n",
              "    <tr>\n",
              "      <th>2</th>\n",
              "      <td>BENIT_Client IP2 : 203.225.82.146, user_no : n...</td>\n",
              "    </tr>\n",
              "    <tr>\n",
              "      <th>3</th>\n",
              "      <td>BENIT_Client IP2 : 203.225.82.146, user_no : n...</td>\n",
              "    </tr>\n",
              "    <tr>\n",
              "      <th>4</th>\n",
              "      <td>BENIT_Client IP1 : 203.225.82.146, user_no : n...</td>\n",
              "    </tr>\n",
              "  </tbody>\n",
              "</table>\n",
              "</div>"
            ],
            "text/plain": [
              "                                             Content\n",
              "0  BENIT_Client IP1 : 114.119.158.142, user_no : ...\n",
              "1  BENIT_Client IP2 : 114.119.158.142, user_no : ...\n",
              "2  BENIT_Client IP2 : 203.225.82.146, user_no : n...\n",
              "3  BENIT_Client IP2 : 203.225.82.146, user_no : n...\n",
              "4  BENIT_Client IP1 : 203.225.82.146, user_no : n..."
            ]
          },
          "metadata": {
            "tags": []
          },
          "execution_count": 63
        }
      ]
    },
    {
      "cell_type": "code",
      "metadata": {
        "colab": {
          "base_uri": "https://localhost:8080/"
        },
        "id": "c2JDey-00fIH",
        "outputId": "6ca8cb5f-a70f-40e0-c4d6-1269c83fcbad"
      },
      "source": [
        "import nltk\r\n",
        "nltk.download('punkt')"
      ],
      "execution_count": 64,
      "outputs": [
        {
          "output_type": "stream",
          "text": [
            "[nltk_data] Downloading package punkt to /root/nltk_data...\n",
            "[nltk_data]   Package punkt is already up-to-date!\n"
          ],
          "name": "stdout"
        },
        {
          "output_type": "execute_result",
          "data": {
            "text/plain": [
              "True"
            ]
          },
          "metadata": {
            "tags": []
          },
          "execution_count": 64
        }
      ]
    },
    {
      "cell_type": "code",
      "metadata": {
        "colab": {
          "base_uri": "https://localhost:8080/",
          "height": 312
        },
        "id": "1_LwxQsf0fII",
        "outputId": "717a1799-db0f-4434-9cf0-884d940c52b0"
      },
      "source": [
        "# 토큰화\r\n",
        "text['Content'] = text.apply(lambda row: nltk.word_tokenize(row['Content']), axis=1)\r\n",
        "text.head()"
      ],
      "execution_count": 65,
      "outputs": [
        {
          "output_type": "stream",
          "text": [
            "/usr/local/lib/python3.6/dist-packages/ipykernel_launcher.py:2: SettingWithCopyWarning: \n",
            "A value is trying to be set on a copy of a slice from a DataFrame.\n",
            "Try using .loc[row_indexer,col_indexer] = value instead\n",
            "\n",
            "See the caveats in the documentation: https://pandas.pydata.org/pandas-docs/stable/user_guide/indexing.html#returning-a-view-versus-a-copy\n",
            "  \n"
          ],
          "name": "stderr"
        },
        {
          "output_type": "execute_result",
          "data": {
            "text/html": [
              "<div>\n",
              "<style scoped>\n",
              "    .dataframe tbody tr th:only-of-type {\n",
              "        vertical-align: middle;\n",
              "    }\n",
              "\n",
              "    .dataframe tbody tr th {\n",
              "        vertical-align: top;\n",
              "    }\n",
              "\n",
              "    .dataframe thead th {\n",
              "        text-align: right;\n",
              "    }\n",
              "</style>\n",
              "<table border=\"1\" class=\"dataframe\">\n",
              "  <thead>\n",
              "    <tr style=\"text-align: right;\">\n",
              "      <th></th>\n",
              "      <th>Content</th>\n",
              "    </tr>\n",
              "  </thead>\n",
              "  <tbody>\n",
              "    <tr>\n",
              "      <th>0</th>\n",
              "      <td>[BENIT_Client, IP1, :, 114.119.158.142, ,, use...</td>\n",
              "    </tr>\n",
              "    <tr>\n",
              "      <th>1</th>\n",
              "      <td>[BENIT_Client, IP2, :, 114.119.158.142, ,, use...</td>\n",
              "    </tr>\n",
              "    <tr>\n",
              "      <th>2</th>\n",
              "      <td>[BENIT_Client, IP2, :, 203.225.82.146, ,, user...</td>\n",
              "    </tr>\n",
              "    <tr>\n",
              "      <th>3</th>\n",
              "      <td>[BENIT_Client, IP2, :, 203.225.82.146, ,, user...</td>\n",
              "    </tr>\n",
              "    <tr>\n",
              "      <th>4</th>\n",
              "      <td>[BENIT_Client, IP1, :, 203.225.82.146, ,, user...</td>\n",
              "    </tr>\n",
              "  </tbody>\n",
              "</table>\n",
              "</div>"
            ],
            "text/plain": [
              "                                             Content\n",
              "0  [BENIT_Client, IP1, :, 114.119.158.142, ,, use...\n",
              "1  [BENIT_Client, IP2, :, 114.119.158.142, ,, use...\n",
              "2  [BENIT_Client, IP2, :, 203.225.82.146, ,, user...\n",
              "3  [BENIT_Client, IP2, :, 203.225.82.146, ,, user...\n",
              "4  [BENIT_Client, IP1, :, 203.225.82.146, ,, user..."
            ]
          },
          "metadata": {
            "tags": []
          },
          "execution_count": 65
        }
      ]
    },
    {
      "cell_type": "code",
      "metadata": {
        "colab": {
          "base_uri": "https://localhost:8080/"
        },
        "id": "N8nYEA1I0fIJ",
        "outputId": "bf62cd5d-7c8e-4dc9-a149-a0a390efd6cd"
      },
      "source": [
        "from nltk.corpus import stopwords\r\n",
        "nltk.download('stopwords')"
      ],
      "execution_count": 66,
      "outputs": [
        {
          "output_type": "stream",
          "text": [
            "[nltk_data] Downloading package stopwords to /root/nltk_data...\n",
            "[nltk_data]   Package stopwords is already up-to-date!\n"
          ],
          "name": "stdout"
        },
        {
          "output_type": "execute_result",
          "data": {
            "text/plain": [
              "True"
            ]
          },
          "metadata": {
            "tags": []
          },
          "execution_count": 66
        }
      ]
    },
    {
      "cell_type": "code",
      "metadata": {
        "colab": {
          "base_uri": "https://localhost:8080/",
          "height": 312
        },
        "id": "fwDFCdz30fIJ",
        "outputId": "6c0e7f33-b259-4dea-b2dd-eb7cd6e09131"
      },
      "source": [
        "# 불용어 처리\r\n",
        "stop = stopwords.words('english')\r\n",
        "text['Content'] = text['Content'].apply(lambda x: [word for word in x if word not in (stop)])\r\n",
        "text.head()"
      ],
      "execution_count": 67,
      "outputs": [
        {
          "output_type": "stream",
          "text": [
            "/usr/local/lib/python3.6/dist-packages/ipykernel_launcher.py:3: SettingWithCopyWarning: \n",
            "A value is trying to be set on a copy of a slice from a DataFrame.\n",
            "Try using .loc[row_indexer,col_indexer] = value instead\n",
            "\n",
            "See the caveats in the documentation: https://pandas.pydata.org/pandas-docs/stable/user_guide/indexing.html#returning-a-view-versus-a-copy\n",
            "  This is separate from the ipykernel package so we can avoid doing imports until\n"
          ],
          "name": "stderr"
        },
        {
          "output_type": "execute_result",
          "data": {
            "text/html": [
              "<div>\n",
              "<style scoped>\n",
              "    .dataframe tbody tr th:only-of-type {\n",
              "        vertical-align: middle;\n",
              "    }\n",
              "\n",
              "    .dataframe tbody tr th {\n",
              "        vertical-align: top;\n",
              "    }\n",
              "\n",
              "    .dataframe thead th {\n",
              "        text-align: right;\n",
              "    }\n",
              "</style>\n",
              "<table border=\"1\" class=\"dataframe\">\n",
              "  <thead>\n",
              "    <tr style=\"text-align: right;\">\n",
              "      <th></th>\n",
              "      <th>Content</th>\n",
              "    </tr>\n",
              "  </thead>\n",
              "  <tbody>\n",
              "    <tr>\n",
              "      <th>0</th>\n",
              "      <td>[BENIT_Client, IP1, :, 114.119.158.142, ,, use...</td>\n",
              "    </tr>\n",
              "    <tr>\n",
              "      <th>1</th>\n",
              "      <td>[BENIT_Client, IP2, :, 114.119.158.142, ,, use...</td>\n",
              "    </tr>\n",
              "    <tr>\n",
              "      <th>2</th>\n",
              "      <td>[BENIT_Client, IP2, :, 203.225.82.146, ,, user...</td>\n",
              "    </tr>\n",
              "    <tr>\n",
              "      <th>3</th>\n",
              "      <td>[BENIT_Client, IP2, :, 203.225.82.146, ,, user...</td>\n",
              "    </tr>\n",
              "    <tr>\n",
              "      <th>4</th>\n",
              "      <td>[BENIT_Client, IP1, :, 203.225.82.146, ,, user...</td>\n",
              "    </tr>\n",
              "  </tbody>\n",
              "</table>\n",
              "</div>"
            ],
            "text/plain": [
              "                                             Content\n",
              "0  [BENIT_Client, IP1, :, 114.119.158.142, ,, use...\n",
              "1  [BENIT_Client, IP2, :, 114.119.158.142, ,, use...\n",
              "2  [BENIT_Client, IP2, :, 203.225.82.146, ,, user...\n",
              "3  [BENIT_Client, IP2, :, 203.225.82.146, ,, user...\n",
              "4  [BENIT_Client, IP1, :, 203.225.82.146, ,, user..."
            ]
          },
          "metadata": {
            "tags": []
          },
          "execution_count": 67
        }
      ]
    },
    {
      "cell_type": "code",
      "metadata": {
        "colab": {
          "base_uri": "https://localhost:8080/"
        },
        "id": "_DENBxOR0fIJ",
        "outputId": "ed18ed72-95a0-4567-bf35-a212439047f4"
      },
      "source": [
        "nltk.download('wordnet')"
      ],
      "execution_count": 68,
      "outputs": [
        {
          "output_type": "stream",
          "text": [
            "[nltk_data] Downloading package wordnet to /root/nltk_data...\n",
            "[nltk_data]   Package wordnet is already up-to-date!\n"
          ],
          "name": "stdout"
        },
        {
          "output_type": "execute_result",
          "data": {
            "text/plain": [
              "True"
            ]
          },
          "metadata": {
            "tags": []
          },
          "execution_count": 68
        }
      ]
    },
    {
      "cell_type": "code",
      "metadata": {
        "colab": {
          "base_uri": "https://localhost:8080/",
          "height": 312
        },
        "id": "Sa5EhQiu0fIJ",
        "outputId": "da1eedb1-cda6-42ec-d9cd-9ed9fa1fbfb3"
      },
      "source": [
        "# 표제어 추출\r\n",
        "from nltk.stem import WordNetLemmatizer\r\n",
        "text['Content'] = text['Content'].apply(lambda x : [WordNetLemmatizer().lemmatize(word, pos='v') for word in x])\r\n",
        "text.head()"
      ],
      "execution_count": 69,
      "outputs": [
        {
          "output_type": "stream",
          "text": [
            "/usr/local/lib/python3.6/dist-packages/ipykernel_launcher.py:3: SettingWithCopyWarning: \n",
            "A value is trying to be set on a copy of a slice from a DataFrame.\n",
            "Try using .loc[row_indexer,col_indexer] = value instead\n",
            "\n",
            "See the caveats in the documentation: https://pandas.pydata.org/pandas-docs/stable/user_guide/indexing.html#returning-a-view-versus-a-copy\n",
            "  This is separate from the ipykernel package so we can avoid doing imports until\n"
          ],
          "name": "stderr"
        },
        {
          "output_type": "execute_result",
          "data": {
            "text/html": [
              "<div>\n",
              "<style scoped>\n",
              "    .dataframe tbody tr th:only-of-type {\n",
              "        vertical-align: middle;\n",
              "    }\n",
              "\n",
              "    .dataframe tbody tr th {\n",
              "        vertical-align: top;\n",
              "    }\n",
              "\n",
              "    .dataframe thead th {\n",
              "        text-align: right;\n",
              "    }\n",
              "</style>\n",
              "<table border=\"1\" class=\"dataframe\">\n",
              "  <thead>\n",
              "    <tr style=\"text-align: right;\">\n",
              "      <th></th>\n",
              "      <th>Content</th>\n",
              "    </tr>\n",
              "  </thead>\n",
              "  <tbody>\n",
              "    <tr>\n",
              "      <th>0</th>\n",
              "      <td>[BENIT_Client, IP1, :, 114.119.158.142, ,, use...</td>\n",
              "    </tr>\n",
              "    <tr>\n",
              "      <th>1</th>\n",
              "      <td>[BENIT_Client, IP2, :, 114.119.158.142, ,, use...</td>\n",
              "    </tr>\n",
              "    <tr>\n",
              "      <th>2</th>\n",
              "      <td>[BENIT_Client, IP2, :, 203.225.82.146, ,, user...</td>\n",
              "    </tr>\n",
              "    <tr>\n",
              "      <th>3</th>\n",
              "      <td>[BENIT_Client, IP2, :, 203.225.82.146, ,, user...</td>\n",
              "    </tr>\n",
              "    <tr>\n",
              "      <th>4</th>\n",
              "      <td>[BENIT_Client, IP1, :, 203.225.82.146, ,, user...</td>\n",
              "    </tr>\n",
              "  </tbody>\n",
              "</table>\n",
              "</div>"
            ],
            "text/plain": [
              "                                             Content\n",
              "0  [BENIT_Client, IP1, :, 114.119.158.142, ,, use...\n",
              "1  [BENIT_Client, IP2, :, 114.119.158.142, ,, use...\n",
              "2  [BENIT_Client, IP2, :, 203.225.82.146, ,, user...\n",
              "3  [BENIT_Client, IP2, :, 203.225.82.146, ,, user...\n",
              "4  [BENIT_Client, IP1, :, 203.225.82.146, ,, user..."
            ]
          },
          "metadata": {
            "tags": []
          },
          "execution_count": 69
        }
      ]
    },
    {
      "cell_type": "code",
      "metadata": {
        "colab": {
          "base_uri": "https://localhost:8080/"
        },
        "id": "XV3UZrDb0fIK",
        "outputId": "f0cf97c9-fca4-47da-99ec-c189b5ce64e7"
      },
      "source": [
        "# 일정 길이 이하 단어 삭제 \r\n",
        "tokenized_doc = text['Content'].apply(lambda x : [word for word in x if len(word) > 3])\r\n",
        "tokenized_doc[:5]"
      ],
      "execution_count": 70,
      "outputs": [
        {
          "output_type": "execute_result",
          "data": {
            "text/plain": [
              "0    [BENIT_Client, 114.119.158.142, user_no, null,...\n",
              "1    [BENIT_Client, 114.119.158.142, user_no, null,...\n",
              "2    [BENIT_Client, 203.225.82.146, user_no, null, ...\n",
              "3    [BENIT_Client, 203.225.82.146, user_no, null, ...\n",
              "4    [BENIT_Client, 203.225.82.146, user_no, null, ...\n",
              "Name: Content, dtype: object"
            ]
          },
          "metadata": {
            "tags": []
          },
          "execution_count": 70
        }
      ]
    },
    {
      "cell_type": "code",
      "metadata": {
        "colab": {
          "base_uri": "https://localhost:8080/",
          "height": 312
        },
        "id": "pueJGx6r0fIK",
        "outputId": "c19d2345-f5e3-4bdf-f269-7b6816ed1639"
      },
      "source": [
        "# 역토큰화\r\n",
        "detokenized_doc = []\r\n",
        "for i in range(len(text)):\r\n",
        "    t = ' '.join(tokenized_doc[i])\r\n",
        "    detokenized_doc.append(t)\r\n",
        "text['Content'] = detokenized_doc\r\n",
        "# 다시 text['Content'] 에 저장\r\n",
        "text.head()"
      ],
      "execution_count": 72,
      "outputs": [
        {
          "output_type": "stream",
          "text": [
            "/usr/local/lib/python3.6/dist-packages/ipykernel_launcher.py:6: SettingWithCopyWarning: \n",
            "A value is trying to be set on a copy of a slice from a DataFrame.\n",
            "Try using .loc[row_indexer,col_indexer] = value instead\n",
            "\n",
            "See the caveats in the documentation: https://pandas.pydata.org/pandas-docs/stable/user_guide/indexing.html#returning-a-view-versus-a-copy\n",
            "  \n"
          ],
          "name": "stderr"
        },
        {
          "output_type": "execute_result",
          "data": {
            "text/html": [
              "<div>\n",
              "<style scoped>\n",
              "    .dataframe tbody tr th:only-of-type {\n",
              "        vertical-align: middle;\n",
              "    }\n",
              "\n",
              "    .dataframe tbody tr th {\n",
              "        vertical-align: top;\n",
              "    }\n",
              "\n",
              "    .dataframe thead th {\n",
              "        text-align: right;\n",
              "    }\n",
              "</style>\n",
              "<table border=\"1\" class=\"dataframe\">\n",
              "  <thead>\n",
              "    <tr style=\"text-align: right;\">\n",
              "      <th></th>\n",
              "      <th>Content</th>\n",
              "    </tr>\n",
              "  </thead>\n",
              "  <tbody>\n",
              "    <tr>\n",
              "      <th>0</th>\n",
              "      <td>BENIT_Client 114.119.158.142 user_no null sess...</td>\n",
              "    </tr>\n",
              "    <tr>\n",
              "      <th>1</th>\n",
              "      <td>BENIT_Client 114.119.158.142 user_no null Head...</td>\n",
              "    </tr>\n",
              "    <tr>\n",
              "      <th>2</th>\n",
              "      <td>BENIT_Client 203.225.82.146 user_no null Heade...</td>\n",
              "    </tr>\n",
              "    <tr>\n",
              "      <th>3</th>\n",
              "      <td>BENIT_Client 203.225.82.146 user_no null Heade...</td>\n",
              "    </tr>\n",
              "    <tr>\n",
              "      <th>4</th>\n",
              "      <td>BENIT_Client 203.225.82.146 user_no null sessi...</td>\n",
              "    </tr>\n",
              "  </tbody>\n",
              "</table>\n",
              "</div>"
            ],
            "text/plain": [
              "                                             Content\n",
              "0  BENIT_Client 114.119.158.142 user_no null sess...\n",
              "1  BENIT_Client 114.119.158.142 user_no null Head...\n",
              "2  BENIT_Client 203.225.82.146 user_no null Heade...\n",
              "3  BENIT_Client 203.225.82.146 user_no null Heade...\n",
              "4  BENIT_Client 203.225.82.146 user_no null sessi..."
            ]
          },
          "metadata": {
            "tags": []
          },
          "execution_count": 72
        }
      ]
    },
    {
      "cell_type": "code",
      "metadata": {
        "colab": {
          "base_uri": "https://localhost:8080/"
        },
        "id": "ryi4Sgv_0fIK",
        "outputId": "55573f1d-f3cc-4da2-87f9-f404646abe76"
      },
      "source": [
        "from sklearn.feature_extraction.text import TfidfVectorizer\r\n",
        "vectorizer = TfidfVectorizer(stop_words='english', max_features=1000)\r\n",
        "X = vectorizer.fit_transform(text['Content'])\r\n",
        "X.shape"
      ],
      "execution_count": 73,
      "outputs": [
        {
          "output_type": "execute_result",
          "data": {
            "text/plain": [
              "(30000, 1000)"
            ]
          },
          "metadata": {
            "tags": []
          },
          "execution_count": 73
        }
      ]
    },
    {
      "cell_type": "code",
      "metadata": {
        "colab": {
          "base_uri": "https://localhost:8080/"
        },
        "id": "i5Cv5qRR0fIK",
        "outputId": "f4b142ea-0a86-4d03-eea3-8e740124f973"
      },
      "source": [
        "len(vectorizer.get_feature_names())"
      ],
      "execution_count": 74,
      "outputs": [
        {
          "output_type": "execute_result",
          "data": {
            "text/plain": [
              "1000"
            ]
          },
          "metadata": {
            "tags": []
          },
          "execution_count": 74
        }
      ]
    },
    {
      "cell_type": "code",
      "metadata": {
        "colab": {
          "base_uri": "https://localhost:8080/"
        },
        "id": "0uLjE5JS0fIL",
        "outputId": "155f954a-92af-4ee6-e924-eadaff6fe2bb"
      },
      "source": [
        "X.toarray().shape"
      ],
      "execution_count": 75,
      "outputs": [
        {
          "output_type": "execute_result",
          "data": {
            "text/plain": [
              "(30000, 1000)"
            ]
          },
          "metadata": {
            "tags": []
          },
          "execution_count": 75
        }
      ]
    },
    {
      "cell_type": "code",
      "metadata": {
        "id": "q3ybr-sh0fIL"
      },
      "source": [
        "tf_idf = pd.DataFrame(X.toarray(), columns = vectorizer.get_feature_names())"
      ],
      "execution_count": 76,
      "outputs": []
    },
    {
      "cell_type": "code",
      "metadata": {
        "id": "ElilCqtj0fIL"
      },
      "source": [
        "tf_idf_mean = tf_idf.mean()"
      ],
      "execution_count": 77,
      "outputs": []
    },
    {
      "cell_type": "code",
      "metadata": {
        "id": "HB_C4f3P0fIL"
      },
      "source": [
        "columns = tf_idf_mean.sort_values(ascending=False).index"
      ],
      "execution_count": 78,
      "outputs": []
    },
    {
      "cell_type": "code",
      "metadata": {
        "id": "QQKjFAq30fIL"
      },
      "source": [
        "tf_idf[columns].to_csv('/content/이벤트로그_tf_idf.csv')"
      ],
      "execution_count": 79,
      "outputs": []
    },
    {
      "cell_type": "markdown",
      "metadata": {
        "id": "BElDqu4V0oL5"
      },
      "source": [
        ""
      ]
    },
    {
      "cell_type": "code",
      "metadata": {
        "colab": {
          "base_uri": "https://localhost:8080/",
          "height": 1000
        },
        "id": "zUHiri8s0nyq",
        "outputId": "44759bfd-75e9-42a7-b821-2624bc24ca3f"
      },
      "source": [
        "df = pd.read_excel('./data/이벤트 목록_waslog1.xls')\r\n",
        "add = pd.read_excel('./data/이벤트 목록_waslog2.xls')\r\n",
        "add2  = pd.read_excel('./data/이벤트 목록_waslog3.xls')\r\n",
        "df = pd.concat([df,add, add2])\r\n",
        "df = df.reset_index(drop = True)\r\n",
        "\r\n",
        "df.head()"
      ],
      "execution_count": 80,
      "outputs": [
        {
          "output_type": "execute_result",
          "data": {
            "text/html": [
              "<div>\n",
              "<style scoped>\n",
              "    .dataframe tbody tr th:only-of-type {\n",
              "        vertical-align: middle;\n",
              "    }\n",
              "\n",
              "    .dataframe tbody tr th {\n",
              "        vertical-align: top;\n",
              "    }\n",
              "\n",
              "    .dataframe thead th {\n",
              "        text-align: right;\n",
              "    }\n",
              "</style>\n",
              "<table border=\"1\" class=\"dataframe\">\n",
              "  <thead>\n",
              "    <tr style=\"text-align: right;\">\n",
              "      <th></th>\n",
              "      <th>심각도</th>\n",
              "      <th>발생 일시</th>\n",
              "      <th>그룹경로</th>\n",
              "      <th>시스템명</th>\n",
              "      <th>호스트명</th>\n",
              "      <th>리소스 이름</th>\n",
              "      <th>대상</th>\n",
              "      <th>이벤트 타입</th>\n",
              "      <th>이벤트 소스</th>\n",
              "      <th>상세내용</th>\n",
              "    </tr>\n",
              "  </thead>\n",
              "  <tbody>\n",
              "    <tr>\n",
              "      <th>0</th>\n",
              "      <td>ERROR</td>\n",
              "      <td>2020-12-31 10:30:45</td>\n",
              "      <td>시스템그룹&gt;유통/환경/서비스</td>\n",
              "      <td>kasswas01</td>\n",
              "      <td>kasswas01</td>\n",
              "      <td>[상] [수입차영업지원]-WAS-TomEE-KASS11(203.225.59.171)</td>\n",
              "      <td>시스템그룹&gt;유통/환경/서비스&gt;BNS-KASSWAS01(203.225.59.171)&gt;...</td>\n",
              "      <td>WASExceptionLog</td>\n",
              "      <td>/bsl/fi/bllmng/smrtbllsalesbllmng/controller/S...</td>\n",
              "      <td>warning slow sql, over 30000 ms</td>\n",
              "    </tr>\n",
              "    <tr>\n",
              "      <th>1</th>\n",
              "      <td>ERROR</td>\n",
              "      <td>2020-12-31 10:30:24</td>\n",
              "      <td>시스템그룹&gt;홈페이지</td>\n",
              "      <td>klnweb01</td>\n",
              "      <td>klnweb01</td>\n",
              "      <td>[하] [코오롱베니트  홈페이지]-WAS-Tomcat-KBN_WEB_USER11(2...</td>\n",
              "      <td>시스템그룹&gt;홈페이지&gt;INF-KLNWEB01(203.225.255.108)&gt;klnwe...</td>\n",
              "      <td>WASExceptionLog</td>\n",
              "      <td>/common/11727518.mp4</td>\n",
              "      <td>org.apache.catalina.connector.ClientAbortExcep...</td>\n",
              "    </tr>\n",
              "    <tr>\n",
              "      <th>2</th>\n",
              "      <td>ERROR</td>\n",
              "      <td>2020-12-31 10:29:56</td>\n",
              "      <td>인프라그룹&gt;보안&gt;서버</td>\n",
              "      <td>KII-DOCUWAS1(172.30.153.12)</td>\n",
              "      <td>KII-DOCUWAS1</td>\n",
              "      <td>[상] [문서집중화]-WAS-WebLogic-KIIDOC13(172.30.153.12)</td>\n",
              "      <td>인프라그룹&gt;보안&gt;서버&gt;KII-DOCUWAS1(172.30.153.12)&gt;KII-DO...</td>\n",
              "      <td>WASExceptionLog</td>\n",
              "      <td>/ecm/Servlet/ContentDownload</td>\n",
              "      <td>java.net.ConnectException: Connection refused:...</td>\n",
              "    </tr>\n",
              "    <tr>\n",
              "      <th>3</th>\n",
              "      <td>ERROR</td>\n",
              "      <td>2020-12-31 10:29:46</td>\n",
              "      <td>시스템그룹&gt;베니트</td>\n",
              "      <td>bpoap02</td>\n",
              "      <td>bpoap02</td>\n",
              "      <td>[중] [BPO]-WAS-Tomcat-BPO12(203.225.59.84)</td>\n",
              "      <td>시스템그룹&gt;베니트 &gt;BNT-BPOAP02(203.225.59.84)&gt;bpoap02&gt;...</td>\n",
              "      <td>WASExceptionLog</td>\n",
              "      <td>/bsl/tx/salesexcalcmng/salesexcalcmng/controll...</td>\n",
              "      <td>java.sql.SQLException: ORA-12899: \"BPOADM\".\"AC...</td>\n",
              "    </tr>\n",
              "    <tr>\n",
              "      <th>4</th>\n",
              "      <td>ERROR</td>\n",
              "      <td>2020-12-31 10:29:39</td>\n",
              "      <td>시스템그룹&gt;베니트</td>\n",
              "      <td>bpoap02</td>\n",
              "      <td>bpoap02</td>\n",
              "      <td>[중] [BPO]-WAS-Tomcat-BPO12(203.225.59.84)</td>\n",
              "      <td>시스템그룹&gt;베니트 &gt;BNT-BPOAP02(203.225.59.84)&gt;bpoap02&gt;...</td>\n",
              "      <td>WASExceptionLog</td>\n",
              "      <td>/bsl/tx/salesexcalcmng/salesexcalcmng/controll...</td>\n",
              "      <td>java.sql.SQLException: ORA-12899: \"BPOADM\".\"AC...</td>\n",
              "    </tr>\n",
              "  </tbody>\n",
              "</table>\n",
              "</div>"
            ],
            "text/plain": [
              "     심각도  ...                                               상세내용\n",
              "0  ERROR  ...                    warning slow sql, over 30000 ms\n",
              "1  ERROR  ...  org.apache.catalina.connector.ClientAbortExcep...\n",
              "2  ERROR  ...  java.net.ConnectException: Connection refused:...\n",
              "3  ERROR  ...  java.sql.SQLException: ORA-12899: \"BPOADM\".\"AC...\n",
              "4  ERROR  ...  java.sql.SQLException: ORA-12899: \"BPOADM\".\"AC...\n",
              "\n",
              "[5 rows x 10 columns]"
            ]
          },
          "metadata": {
            "tags": []
          },
          "execution_count": 80
        }
      ]
    },
    {
      "cell_type": "code",
      "metadata": {
        "colab": {
          "base_uri": "https://localhost:8080/",
          "height": 204
        },
        "id": "ZZk48qRC0pxY",
        "outputId": "49164bad-91de-4d2b-8392-d0b94fb0ce2e"
      },
      "source": [
        "text = df[['상세내용']]\r\n",
        "text.columns = ['Content']\r\n",
        "text.head()"
      ],
      "execution_count": 81,
      "outputs": [
        {
          "output_type": "execute_result",
          "data": {
            "text/html": [
              "<div>\n",
              "<style scoped>\n",
              "    .dataframe tbody tr th:only-of-type {\n",
              "        vertical-align: middle;\n",
              "    }\n",
              "\n",
              "    .dataframe tbody tr th {\n",
              "        vertical-align: top;\n",
              "    }\n",
              "\n",
              "    .dataframe thead th {\n",
              "        text-align: right;\n",
              "    }\n",
              "</style>\n",
              "<table border=\"1\" class=\"dataframe\">\n",
              "  <thead>\n",
              "    <tr style=\"text-align: right;\">\n",
              "      <th></th>\n",
              "      <th>Content</th>\n",
              "    </tr>\n",
              "  </thead>\n",
              "  <tbody>\n",
              "    <tr>\n",
              "      <th>0</th>\n",
              "      <td>warning slow sql, over 30000 ms</td>\n",
              "    </tr>\n",
              "    <tr>\n",
              "      <th>1</th>\n",
              "      <td>org.apache.catalina.connector.ClientAbortExcep...</td>\n",
              "    </tr>\n",
              "    <tr>\n",
              "      <th>2</th>\n",
              "      <td>java.net.ConnectException: Connection refused:...</td>\n",
              "    </tr>\n",
              "    <tr>\n",
              "      <th>3</th>\n",
              "      <td>java.sql.SQLException: ORA-12899: \"BPOADM\".\"AC...</td>\n",
              "    </tr>\n",
              "    <tr>\n",
              "      <th>4</th>\n",
              "      <td>java.sql.SQLException: ORA-12899: \"BPOADM\".\"AC...</td>\n",
              "    </tr>\n",
              "  </tbody>\n",
              "</table>\n",
              "</div>"
            ],
            "text/plain": [
              "                                             Content\n",
              "0                    warning slow sql, over 30000 ms\n",
              "1  org.apache.catalina.connector.ClientAbortExcep...\n",
              "2  java.net.ConnectException: Connection refused:...\n",
              "3  java.sql.SQLException: ORA-12899: \"BPOADM\".\"AC...\n",
              "4  java.sql.SQLException: ORA-12899: \"BPOADM\".\"AC..."
            ]
          },
          "metadata": {
            "tags": []
          },
          "execution_count": 81
        }
      ]
    },
    {
      "cell_type": "code",
      "metadata": {
        "colab": {
          "base_uri": "https://localhost:8080/"
        },
        "id": "vhXGaWCJ0rVw",
        "outputId": "ad41ef3e-7fdf-4c7b-88ea-5f914ab519da"
      },
      "source": [
        "import nltk\r\n",
        "nltk.download('punkt')"
      ],
      "execution_count": 82,
      "outputs": [
        {
          "output_type": "stream",
          "text": [
            "[nltk_data] Downloading package punkt to /root/nltk_data...\n",
            "[nltk_data]   Package punkt is already up-to-date!\n"
          ],
          "name": "stdout"
        },
        {
          "output_type": "execute_result",
          "data": {
            "text/plain": [
              "True"
            ]
          },
          "metadata": {
            "tags": []
          },
          "execution_count": 82
        }
      ]
    },
    {
      "cell_type": "code",
      "metadata": {
        "colab": {
          "base_uri": "https://localhost:8080/",
          "height": 312
        },
        "id": "r3zZvh_J0rVx",
        "outputId": "0e748d1e-b535-4778-b477-d8148d26e695"
      },
      "source": [
        "# 토큰화\r\n",
        "text['Content'] = text.apply(lambda row: nltk.word_tokenize(row['Content']), axis=1)\r\n",
        "text.head()"
      ],
      "execution_count": 83,
      "outputs": [
        {
          "output_type": "stream",
          "text": [
            "/usr/local/lib/python3.6/dist-packages/ipykernel_launcher.py:2: SettingWithCopyWarning: \n",
            "A value is trying to be set on a copy of a slice from a DataFrame.\n",
            "Try using .loc[row_indexer,col_indexer] = value instead\n",
            "\n",
            "See the caveats in the documentation: https://pandas.pydata.org/pandas-docs/stable/user_guide/indexing.html#returning-a-view-versus-a-copy\n",
            "  \n"
          ],
          "name": "stderr"
        },
        {
          "output_type": "execute_result",
          "data": {
            "text/html": [
              "<div>\n",
              "<style scoped>\n",
              "    .dataframe tbody tr th:only-of-type {\n",
              "        vertical-align: middle;\n",
              "    }\n",
              "\n",
              "    .dataframe tbody tr th {\n",
              "        vertical-align: top;\n",
              "    }\n",
              "\n",
              "    .dataframe thead th {\n",
              "        text-align: right;\n",
              "    }\n",
              "</style>\n",
              "<table border=\"1\" class=\"dataframe\">\n",
              "  <thead>\n",
              "    <tr style=\"text-align: right;\">\n",
              "      <th></th>\n",
              "      <th>Content</th>\n",
              "    </tr>\n",
              "  </thead>\n",
              "  <tbody>\n",
              "    <tr>\n",
              "      <th>0</th>\n",
              "      <td>[warning, slow, sql, ,, over, 30000, ms]</td>\n",
              "    </tr>\n",
              "    <tr>\n",
              "      <th>1</th>\n",
              "      <td>[org.apache.catalina.connector.ClientAbortExce...</td>\n",
              "    </tr>\n",
              "    <tr>\n",
              "      <th>2</th>\n",
              "      <td>[java.net.ConnectException, :, Connection, ref...</td>\n",
              "    </tr>\n",
              "    <tr>\n",
              "      <th>3</th>\n",
              "      <td>[java.sql.SQLException, :, ORA-12899, :, ``, B...</td>\n",
              "    </tr>\n",
              "    <tr>\n",
              "      <th>4</th>\n",
              "      <td>[java.sql.SQLException, :, ORA-12899, :, ``, B...</td>\n",
              "    </tr>\n",
              "  </tbody>\n",
              "</table>\n",
              "</div>"
            ],
            "text/plain": [
              "                                             Content\n",
              "0           [warning, slow, sql, ,, over, 30000, ms]\n",
              "1  [org.apache.catalina.connector.ClientAbortExce...\n",
              "2  [java.net.ConnectException, :, Connection, ref...\n",
              "3  [java.sql.SQLException, :, ORA-12899, :, ``, B...\n",
              "4  [java.sql.SQLException, :, ORA-12899, :, ``, B..."
            ]
          },
          "metadata": {
            "tags": []
          },
          "execution_count": 83
        }
      ]
    },
    {
      "cell_type": "code",
      "metadata": {
        "colab": {
          "base_uri": "https://localhost:8080/"
        },
        "id": "wfRuNIf50rVx",
        "outputId": "24b2a0ec-bdec-4678-b495-edcf2ee54fa0"
      },
      "source": [
        "from nltk.corpus import stopwords\r\n",
        "nltk.download('stopwords')"
      ],
      "execution_count": 84,
      "outputs": [
        {
          "output_type": "stream",
          "text": [
            "[nltk_data] Downloading package stopwords to /root/nltk_data...\n",
            "[nltk_data]   Package stopwords is already up-to-date!\n"
          ],
          "name": "stdout"
        },
        {
          "output_type": "execute_result",
          "data": {
            "text/plain": [
              "True"
            ]
          },
          "metadata": {
            "tags": []
          },
          "execution_count": 84
        }
      ]
    },
    {
      "cell_type": "code",
      "metadata": {
        "colab": {
          "base_uri": "https://localhost:8080/",
          "height": 312
        },
        "id": "R727qD440rVx",
        "outputId": "11caa2fb-05b4-480e-d6cf-12666eb1cfb9"
      },
      "source": [
        "# 불용어 처리\r\n",
        "stop = stopwords.words('english')\r\n",
        "text['Content'] = text['Content'].apply(lambda x: [word for word in x if word not in (stop)])\r\n",
        "text.head()"
      ],
      "execution_count": 85,
      "outputs": [
        {
          "output_type": "stream",
          "text": [
            "/usr/local/lib/python3.6/dist-packages/ipykernel_launcher.py:3: SettingWithCopyWarning: \n",
            "A value is trying to be set on a copy of a slice from a DataFrame.\n",
            "Try using .loc[row_indexer,col_indexer] = value instead\n",
            "\n",
            "See the caveats in the documentation: https://pandas.pydata.org/pandas-docs/stable/user_guide/indexing.html#returning-a-view-versus-a-copy\n",
            "  This is separate from the ipykernel package so we can avoid doing imports until\n"
          ],
          "name": "stderr"
        },
        {
          "output_type": "execute_result",
          "data": {
            "text/html": [
              "<div>\n",
              "<style scoped>\n",
              "    .dataframe tbody tr th:only-of-type {\n",
              "        vertical-align: middle;\n",
              "    }\n",
              "\n",
              "    .dataframe tbody tr th {\n",
              "        vertical-align: top;\n",
              "    }\n",
              "\n",
              "    .dataframe thead th {\n",
              "        text-align: right;\n",
              "    }\n",
              "</style>\n",
              "<table border=\"1\" class=\"dataframe\">\n",
              "  <thead>\n",
              "    <tr style=\"text-align: right;\">\n",
              "      <th></th>\n",
              "      <th>Content</th>\n",
              "    </tr>\n",
              "  </thead>\n",
              "  <tbody>\n",
              "    <tr>\n",
              "      <th>0</th>\n",
              "      <td>[warning, slow, sql, ,, 30000, ms]</td>\n",
              "    </tr>\n",
              "    <tr>\n",
              "      <th>1</th>\n",
              "      <td>[org.apache.catalina.connector.ClientAbortExce...</td>\n",
              "    </tr>\n",
              "    <tr>\n",
              "      <th>2</th>\n",
              "      <td>[java.net.ConnectException, :, Connection, ref...</td>\n",
              "    </tr>\n",
              "    <tr>\n",
              "      <th>3</th>\n",
              "      <td>[java.sql.SQLException, :, ORA-12899, :, ``, B...</td>\n",
              "    </tr>\n",
              "    <tr>\n",
              "      <th>4</th>\n",
              "      <td>[java.sql.SQLException, :, ORA-12899, :, ``, B...</td>\n",
              "    </tr>\n",
              "  </tbody>\n",
              "</table>\n",
              "</div>"
            ],
            "text/plain": [
              "                                             Content\n",
              "0                 [warning, slow, sql, ,, 30000, ms]\n",
              "1  [org.apache.catalina.connector.ClientAbortExce...\n",
              "2  [java.net.ConnectException, :, Connection, ref...\n",
              "3  [java.sql.SQLException, :, ORA-12899, :, ``, B...\n",
              "4  [java.sql.SQLException, :, ORA-12899, :, ``, B..."
            ]
          },
          "metadata": {
            "tags": []
          },
          "execution_count": 85
        }
      ]
    },
    {
      "cell_type": "code",
      "metadata": {
        "colab": {
          "base_uri": "https://localhost:8080/"
        },
        "id": "bRbDC0RP0rVx",
        "outputId": "ce36356f-5cbe-42e7-f961-03d3b156d2fb"
      },
      "source": [
        "nltk.download('wordnet')"
      ],
      "execution_count": 86,
      "outputs": [
        {
          "output_type": "stream",
          "text": [
            "[nltk_data] Downloading package wordnet to /root/nltk_data...\n",
            "[nltk_data]   Package wordnet is already up-to-date!\n"
          ],
          "name": "stdout"
        },
        {
          "output_type": "execute_result",
          "data": {
            "text/plain": [
              "True"
            ]
          },
          "metadata": {
            "tags": []
          },
          "execution_count": 86
        }
      ]
    },
    {
      "cell_type": "code",
      "metadata": {
        "colab": {
          "base_uri": "https://localhost:8080/",
          "height": 312
        },
        "id": "o2Z_0VRM0rVx",
        "outputId": "3bba3948-cba0-4b16-e1e8-a7fb22052e4a"
      },
      "source": [
        "# 표제어 추출\r\n",
        "from nltk.stem import WordNetLemmatizer\r\n",
        "text['Content'] = text['Content'].apply(lambda x : [WordNetLemmatizer().lemmatize(word, pos='v') for word in x])\r\n",
        "text.head()"
      ],
      "execution_count": 87,
      "outputs": [
        {
          "output_type": "stream",
          "text": [
            "/usr/local/lib/python3.6/dist-packages/ipykernel_launcher.py:3: SettingWithCopyWarning: \n",
            "A value is trying to be set on a copy of a slice from a DataFrame.\n",
            "Try using .loc[row_indexer,col_indexer] = value instead\n",
            "\n",
            "See the caveats in the documentation: https://pandas.pydata.org/pandas-docs/stable/user_guide/indexing.html#returning-a-view-versus-a-copy\n",
            "  This is separate from the ipykernel package so we can avoid doing imports until\n"
          ],
          "name": "stderr"
        },
        {
          "output_type": "execute_result",
          "data": {
            "text/html": [
              "<div>\n",
              "<style scoped>\n",
              "    .dataframe tbody tr th:only-of-type {\n",
              "        vertical-align: middle;\n",
              "    }\n",
              "\n",
              "    .dataframe tbody tr th {\n",
              "        vertical-align: top;\n",
              "    }\n",
              "\n",
              "    .dataframe thead th {\n",
              "        text-align: right;\n",
              "    }\n",
              "</style>\n",
              "<table border=\"1\" class=\"dataframe\">\n",
              "  <thead>\n",
              "    <tr style=\"text-align: right;\">\n",
              "      <th></th>\n",
              "      <th>Content</th>\n",
              "    </tr>\n",
              "  </thead>\n",
              "  <tbody>\n",
              "    <tr>\n",
              "      <th>0</th>\n",
              "      <td>[warn, slow, sql, ,, 30000, ms]</td>\n",
              "    </tr>\n",
              "    <tr>\n",
              "      <th>1</th>\n",
              "      <td>[org.apache.catalina.connector.ClientAbortExce...</td>\n",
              "    </tr>\n",
              "    <tr>\n",
              "      <th>2</th>\n",
              "      <td>[java.net.ConnectException, :, Connection, ref...</td>\n",
              "    </tr>\n",
              "    <tr>\n",
              "      <th>3</th>\n",
              "      <td>[java.sql.SQLException, :, ORA-12899, :, ``, B...</td>\n",
              "    </tr>\n",
              "    <tr>\n",
              "      <th>4</th>\n",
              "      <td>[java.sql.SQLException, :, ORA-12899, :, ``, B...</td>\n",
              "    </tr>\n",
              "  </tbody>\n",
              "</table>\n",
              "</div>"
            ],
            "text/plain": [
              "                                             Content\n",
              "0                    [warn, slow, sql, ,, 30000, ms]\n",
              "1  [org.apache.catalina.connector.ClientAbortExce...\n",
              "2  [java.net.ConnectException, :, Connection, ref...\n",
              "3  [java.sql.SQLException, :, ORA-12899, :, ``, B...\n",
              "4  [java.sql.SQLException, :, ORA-12899, :, ``, B..."
            ]
          },
          "metadata": {
            "tags": []
          },
          "execution_count": 87
        }
      ]
    },
    {
      "cell_type": "code",
      "metadata": {
        "colab": {
          "base_uri": "https://localhost:8080/"
        },
        "id": "69SvccIc0rVy",
        "outputId": "fe29848c-71db-47ea-93dc-b8976da22e5a"
      },
      "source": [
        "# 일정 길이 이하 단어 삭제 \r\n",
        "tokenized_doc = text['Content'].apply(lambda x : [word for word in x if len(word) > 3])\r\n",
        "tokenized_doc[:5]"
      ],
      "execution_count": 88,
      "outputs": [
        {
          "output_type": "execute_result",
          "data": {
            "text/plain": [
              "0                                  [warn, slow, 30000]\n",
              "1    [org.apache.catalina.connector.ClientAbortExce...\n",
              "2    [java.net.ConnectException, Connection, refuse...\n",
              "3    [java.sql.SQLException, ORA-12899, BPOADM, AC_...\n",
              "4    [java.sql.SQLException, ORA-12899, BPOADM, AC_...\n",
              "Name: Content, dtype: object"
            ]
          },
          "metadata": {
            "tags": []
          },
          "execution_count": 88
        }
      ]
    },
    {
      "cell_type": "code",
      "metadata": {
        "colab": {
          "base_uri": "https://localhost:8080/",
          "height": 312
        },
        "id": "w8yOKuZM0rVy",
        "outputId": "9ef1c026-5362-47c0-9227-daea649568cd"
      },
      "source": [
        "# 역토큰화\r\n",
        "detokenized_doc = []\r\n",
        "for i in range(len(text)):\r\n",
        "    t = ' '.join(tokenized_doc[i])\r\n",
        "    detokenized_doc.append(t)\r\n",
        "text['Content'] = detokenized_doc\r\n",
        "# 다시 text['Content'] 에 저장\r\n",
        "text.head()"
      ],
      "execution_count": 89,
      "outputs": [
        {
          "output_type": "stream",
          "text": [
            "/usr/local/lib/python3.6/dist-packages/ipykernel_launcher.py:6: SettingWithCopyWarning: \n",
            "A value is trying to be set on a copy of a slice from a DataFrame.\n",
            "Try using .loc[row_indexer,col_indexer] = value instead\n",
            "\n",
            "See the caveats in the documentation: https://pandas.pydata.org/pandas-docs/stable/user_guide/indexing.html#returning-a-view-versus-a-copy\n",
            "  \n"
          ],
          "name": "stderr"
        },
        {
          "output_type": "execute_result",
          "data": {
            "text/html": [
              "<div>\n",
              "<style scoped>\n",
              "    .dataframe tbody tr th:only-of-type {\n",
              "        vertical-align: middle;\n",
              "    }\n",
              "\n",
              "    .dataframe tbody tr th {\n",
              "        vertical-align: top;\n",
              "    }\n",
              "\n",
              "    .dataframe thead th {\n",
              "        text-align: right;\n",
              "    }\n",
              "</style>\n",
              "<table border=\"1\" class=\"dataframe\">\n",
              "  <thead>\n",
              "    <tr style=\"text-align: right;\">\n",
              "      <th></th>\n",
              "      <th>Content</th>\n",
              "    </tr>\n",
              "  </thead>\n",
              "  <tbody>\n",
              "    <tr>\n",
              "      <th>0</th>\n",
              "      <td>warn slow 30000</td>\n",
              "    </tr>\n",
              "    <tr>\n",
              "      <th>1</th>\n",
              "      <td>org.apache.catalina.connector.ClientAbortExcep...</td>\n",
              "    </tr>\n",
              "    <tr>\n",
              "      <th>2</th>\n",
              "      <td>java.net.ConnectException Connection refuse co...</td>\n",
              "    </tr>\n",
              "    <tr>\n",
              "      <th>3</th>\n",
              "      <td>java.sql.SQLException ORA-12899 BPOADM AC_BOND...</td>\n",
              "    </tr>\n",
              "    <tr>\n",
              "      <th>4</th>\n",
              "      <td>java.sql.SQLException ORA-12899 BPOADM AC_BOND...</td>\n",
              "    </tr>\n",
              "  </tbody>\n",
              "</table>\n",
              "</div>"
            ],
            "text/plain": [
              "                                             Content\n",
              "0                                    warn slow 30000\n",
              "1  org.apache.catalina.connector.ClientAbortExcep...\n",
              "2  java.net.ConnectException Connection refuse co...\n",
              "3  java.sql.SQLException ORA-12899 BPOADM AC_BOND...\n",
              "4  java.sql.SQLException ORA-12899 BPOADM AC_BOND..."
            ]
          },
          "metadata": {
            "tags": []
          },
          "execution_count": 89
        }
      ]
    },
    {
      "cell_type": "code",
      "metadata": {
        "colab": {
          "base_uri": "https://localhost:8080/"
        },
        "id": "O1LOad380rVy",
        "outputId": "99757088-cadb-4f52-ec4a-e10ffcb80b15"
      },
      "source": [
        "from sklearn.feature_extraction.text import TfidfVectorizer\r\n",
        "vectorizer = TfidfVectorizer(stop_words='english', max_features=1000)\r\n",
        "X = vectorizer.fit_transform(text['Content'])\r\n",
        "X.shape"
      ],
      "execution_count": 90,
      "outputs": [
        {
          "output_type": "execute_result",
          "data": {
            "text/plain": [
              "(30000, 1000)"
            ]
          },
          "metadata": {
            "tags": []
          },
          "execution_count": 90
        }
      ]
    },
    {
      "cell_type": "code",
      "metadata": {
        "colab": {
          "base_uri": "https://localhost:8080/"
        },
        "id": "2eR6NyZQ0rVy",
        "outputId": "a97219e6-1b69-4552-b6a2-e9a1008de7f7"
      },
      "source": [
        "len(vectorizer.get_feature_names())"
      ],
      "execution_count": 91,
      "outputs": [
        {
          "output_type": "execute_result",
          "data": {
            "text/plain": [
              "1000"
            ]
          },
          "metadata": {
            "tags": []
          },
          "execution_count": 91
        }
      ]
    },
    {
      "cell_type": "code",
      "metadata": {
        "colab": {
          "base_uri": "https://localhost:8080/"
        },
        "id": "gJWd9IgD0rVy",
        "outputId": "92bc2bca-d84c-46b8-ba19-16089f9bbfb8"
      },
      "source": [
        "X.toarray().shape"
      ],
      "execution_count": 92,
      "outputs": [
        {
          "output_type": "execute_result",
          "data": {
            "text/plain": [
              "(30000, 1000)"
            ]
          },
          "metadata": {
            "tags": []
          },
          "execution_count": 92
        }
      ]
    },
    {
      "cell_type": "code",
      "metadata": {
        "id": "AaNpRxeh0rVz"
      },
      "source": [
        "tf_idf = pd.DataFrame(X.toarray(), columns = vectorizer.get_feature_names())"
      ],
      "execution_count": 93,
      "outputs": []
    },
    {
      "cell_type": "code",
      "metadata": {
        "id": "ayecc2D70rVz"
      },
      "source": [
        "tf_idf_mean = tf_idf.mean()"
      ],
      "execution_count": 94,
      "outputs": []
    },
    {
      "cell_type": "code",
      "metadata": {
        "id": "cCRZC9lC0rVz"
      },
      "source": [
        "columns = tf_idf_mean.sort_values(ascending=False).index"
      ],
      "execution_count": 95,
      "outputs": []
    },
    {
      "cell_type": "code",
      "metadata": {
        "id": "1UlNNDZQ0rVz"
      },
      "source": [
        "tf_idf[columns].to_csv('/content/이벤트로그_WAS_tf_idf.csv')"
      ],
      "execution_count": 96,
      "outputs": []
    },
    {
      "cell_type": "code",
      "metadata": {
        "id": "SFtyTSyB2ruE"
      },
      "source": [
        ""
      ],
      "execution_count": null,
      "outputs": []
    }
  ]
}