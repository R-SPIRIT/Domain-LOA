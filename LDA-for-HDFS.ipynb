{
  "nbformat": 4,
  "nbformat_minor": 0,
  "metadata": {
    "colab": {
      "name": "20210121_Log_LDA.ipynb",
      "provenance": [],
      "collapsed_sections": [],
      "mount_file_id": "1CmNSrWicC22MGMfY4FGXJguT5eARnzbM",
      "authorship_tag": "ABX9TyOzGsbprYUM8nxKMSwxkk8o",
      "include_colab_link": true
    },
    "kernelspec": {
      "display_name": "Python 3",
      "name": "python3"
    }
  },
  "cells": [
    {
      "cell_type": "markdown",
      "metadata": {
        "id": "view-in-github",
        "colab_type": "text"
      },
      "source": [
        "<a href=\"https://colab.research.google.com/github/forallx94/log_anomaly_detection/blob/main/LDA-for-HDFS.ipynb\" target=\"_parent\"><img src=\"https://colab.research.google.com/assets/colab-badge.svg\" alt=\"Open In Colab\"/></a>"
      ]
    },
    {
      "cell_type": "markdown",
      "metadata": {
        "id": "P9LmFEtNqKqW"
      },
      "source": [
        "## 1차"
      ]
    },
    {
      "cell_type": "code",
      "metadata": {
        "colab": {
          "base_uri": "https://localhost:8080/"
        },
        "id": "uLTR5TbyHYDT",
        "outputId": "f4a625de-dc09-4378-c20d-3c4f5f82e9e5"
      },
      "source": [
        "!pip install pyldavis"
      ],
      "execution_count": 1,
      "outputs": [
        {
          "output_type": "stream",
          "text": [
            "Collecting pyldavis\n",
            "\u001b[?25l  Downloading https://files.pythonhosted.org/packages/a5/3a/af82e070a8a96e13217c8f362f9a73e82d61ac8fff3a2561946a97f96266/pyLDAvis-2.1.2.tar.gz (1.6MB)\n",
            "\r\u001b[K     |▏                               | 10kB 15.3MB/s eta 0:00:01\r\u001b[K     |▍                               | 20kB 21.4MB/s eta 0:00:01\r\u001b[K     |▋                               | 30kB 11.2MB/s eta 0:00:01\r\u001b[K     |▉                               | 40kB 9.3MB/s eta 0:00:01\r\u001b[K     |█                               | 51kB 4.4MB/s eta 0:00:01\r\u001b[K     |█▏                              | 61kB 5.0MB/s eta 0:00:01\r\u001b[K     |█▍                              | 71kB 5.0MB/s eta 0:00:01\r\u001b[K     |█▋                              | 81kB 5.4MB/s eta 0:00:01\r\u001b[K     |█▉                              | 92kB 5.7MB/s eta 0:00:01\r\u001b[K     |██                              | 102kB 6.0MB/s eta 0:00:01\r\u001b[K     |██▎                             | 112kB 6.0MB/s eta 0:00:01\r\u001b[K     |██▍                             | 122kB 6.0MB/s eta 0:00:01\r\u001b[K     |██▋                             | 133kB 6.0MB/s eta 0:00:01\r\u001b[K     |██▉                             | 143kB 6.0MB/s eta 0:00:01\r\u001b[K     |███                             | 153kB 6.0MB/s eta 0:00:01\r\u001b[K     |███▎                            | 163kB 6.0MB/s eta 0:00:01\r\u001b[K     |███▌                            | 174kB 6.0MB/s eta 0:00:01\r\u001b[K     |███▋                            | 184kB 6.0MB/s eta 0:00:01\r\u001b[K     |███▉                            | 194kB 6.0MB/s eta 0:00:01\r\u001b[K     |████                            | 204kB 6.0MB/s eta 0:00:01\r\u001b[K     |████▎                           | 215kB 6.0MB/s eta 0:00:01\r\u001b[K     |████▌                           | 225kB 6.0MB/s eta 0:00:01\r\u001b[K     |████▊                           | 235kB 6.0MB/s eta 0:00:01\r\u001b[K     |████▉                           | 245kB 6.0MB/s eta 0:00:01\r\u001b[K     |█████                           | 256kB 6.0MB/s eta 0:00:01\r\u001b[K     |█████▎                          | 266kB 6.0MB/s eta 0:00:01\r\u001b[K     |█████▌                          | 276kB 6.0MB/s eta 0:00:01\r\u001b[K     |█████▊                          | 286kB 6.0MB/s eta 0:00:01\r\u001b[K     |█████▉                          | 296kB 6.0MB/s eta 0:00:01\r\u001b[K     |██████                          | 307kB 6.0MB/s eta 0:00:01\r\u001b[K     |██████▎                         | 317kB 6.0MB/s eta 0:00:01\r\u001b[K     |██████▌                         | 327kB 6.0MB/s eta 0:00:01\r\u001b[K     |██████▊                         | 337kB 6.0MB/s eta 0:00:01\r\u001b[K     |███████                         | 348kB 6.0MB/s eta 0:00:01\r\u001b[K     |███████                         | 358kB 6.0MB/s eta 0:00:01\r\u001b[K     |███████▎                        | 368kB 6.0MB/s eta 0:00:01\r\u001b[K     |███████▌                        | 378kB 6.0MB/s eta 0:00:01\r\u001b[K     |███████▊                        | 389kB 6.0MB/s eta 0:00:01\r\u001b[K     |████████                        | 399kB 6.0MB/s eta 0:00:01\r\u001b[K     |████████▏                       | 409kB 6.0MB/s eta 0:00:01\r\u001b[K     |████████▎                       | 419kB 6.0MB/s eta 0:00:01\r\u001b[K     |████████▌                       | 430kB 6.0MB/s eta 0:00:01\r\u001b[K     |████████▊                       | 440kB 6.0MB/s eta 0:00:01\r\u001b[K     |█████████                       | 450kB 6.0MB/s eta 0:00:01\r\u001b[K     |█████████▏                      | 460kB 6.0MB/s eta 0:00:01\r\u001b[K     |█████████▍                      | 471kB 6.0MB/s eta 0:00:01\r\u001b[K     |█████████▌                      | 481kB 6.0MB/s eta 0:00:01\r\u001b[K     |█████████▊                      | 491kB 6.0MB/s eta 0:00:01\r\u001b[K     |██████████                      | 501kB 6.0MB/s eta 0:00:01\r\u001b[K     |██████████▏                     | 512kB 6.0MB/s eta 0:00:01\r\u001b[K     |██████████▍                     | 522kB 6.0MB/s eta 0:00:01\r\u001b[K     |██████████▋                     | 532kB 6.0MB/s eta 0:00:01\r\u001b[K     |██████████▊                     | 542kB 6.0MB/s eta 0:00:01\r\u001b[K     |███████████                     | 552kB 6.0MB/s eta 0:00:01\r\u001b[K     |███████████▏                    | 563kB 6.0MB/s eta 0:00:01\r\u001b[K     |███████████▍                    | 573kB 6.0MB/s eta 0:00:01\r\u001b[K     |███████████▋                    | 583kB 6.0MB/s eta 0:00:01\r\u001b[K     |███████████▊                    | 593kB 6.0MB/s eta 0:00:01\r\u001b[K     |████████████                    | 604kB 6.0MB/s eta 0:00:01\r\u001b[K     |████████████▏                   | 614kB 6.0MB/s eta 0:00:01\r\u001b[K     |████████████▍                   | 624kB 6.0MB/s eta 0:00:01\r\u001b[K     |████████████▋                   | 634kB 6.0MB/s eta 0:00:01\r\u001b[K     |████████████▉                   | 645kB 6.0MB/s eta 0:00:01\r\u001b[K     |█████████████                   | 655kB 6.0MB/s eta 0:00:01\r\u001b[K     |█████████████▏                  | 665kB 6.0MB/s eta 0:00:01\r\u001b[K     |█████████████▍                  | 675kB 6.0MB/s eta 0:00:01\r\u001b[K     |█████████████▋                  | 686kB 6.0MB/s eta 0:00:01\r\u001b[K     |█████████████▉                  | 696kB 6.0MB/s eta 0:00:01\r\u001b[K     |██████████████                  | 706kB 6.0MB/s eta 0:00:01\r\u001b[K     |██████████████▏                 | 716kB 6.0MB/s eta 0:00:01\r\u001b[K     |██████████████▍                 | 727kB 6.0MB/s eta 0:00:01\r\u001b[K     |██████████████▋                 | 737kB 6.0MB/s eta 0:00:01\r\u001b[K     |██████████████▉                 | 747kB 6.0MB/s eta 0:00:01\r\u001b[K     |███████████████                 | 757kB 6.0MB/s eta 0:00:01\r\u001b[K     |███████████████▎                | 768kB 6.0MB/s eta 0:00:01\r\u001b[K     |███████████████▍                | 778kB 6.0MB/s eta 0:00:01\r\u001b[K     |███████████████▋                | 788kB 6.0MB/s eta 0:00:01\r\u001b[K     |███████████████▉                | 798kB 6.0MB/s eta 0:00:01\r\u001b[K     |████████████████                | 808kB 6.0MB/s eta 0:00:01\r\u001b[K     |████████████████▎               | 819kB 6.0MB/s eta 0:00:01\r\u001b[K     |████████████████▌               | 829kB 6.0MB/s eta 0:00:01\r\u001b[K     |████████████████▋               | 839kB 6.0MB/s eta 0:00:01\r\u001b[K     |████████████████▉               | 849kB 6.0MB/s eta 0:00:01\r\u001b[K     |█████████████████               | 860kB 6.0MB/s eta 0:00:01\r\u001b[K     |█████████████████▎              | 870kB 6.0MB/s eta 0:00:01\r\u001b[K     |█████████████████▌              | 880kB 6.0MB/s eta 0:00:01\r\u001b[K     |█████████████████▋              | 890kB 6.0MB/s eta 0:00:01\r\u001b[K     |█████████████████▉              | 901kB 6.0MB/s eta 0:00:01\r\u001b[K     |██████████████████              | 911kB 6.0MB/s eta 0:00:01\r\u001b[K     |██████████████████▎             | 921kB 6.0MB/s eta 0:00:01\r\u001b[K     |██████████████████▌             | 931kB 6.0MB/s eta 0:00:01\r\u001b[K     |██████████████████▊             | 942kB 6.0MB/s eta 0:00:01\r\u001b[K     |██████████████████▉             | 952kB 6.0MB/s eta 0:00:01\r\u001b[K     |███████████████████             | 962kB 6.0MB/s eta 0:00:01\r\u001b[K     |███████████████████▎            | 972kB 6.0MB/s eta 0:00:01\r\u001b[K     |███████████████████▌            | 983kB 6.0MB/s eta 0:00:01\r\u001b[K     |███████████████████▊            | 993kB 6.0MB/s eta 0:00:01\r\u001b[K     |████████████████████            | 1.0MB 6.0MB/s eta 0:00:01\r\u001b[K     |████████████████████            | 1.0MB 6.0MB/s eta 0:00:01\r\u001b[K     |████████████████████▎           | 1.0MB 6.0MB/s eta 0:00:01\r\u001b[K     |████████████████████▌           | 1.0MB 6.0MB/s eta 0:00:01\r\u001b[K     |████████████████████▊           | 1.0MB 6.0MB/s eta 0:00:01\r\u001b[K     |█████████████████████           | 1.1MB 6.0MB/s eta 0:00:01\r\u001b[K     |█████████████████████▏          | 1.1MB 6.0MB/s eta 0:00:01\r\u001b[K     |█████████████████████▎          | 1.1MB 6.0MB/s eta 0:00:01\r\u001b[K     |█████████████████████▌          | 1.1MB 6.0MB/s eta 0:00:01\r\u001b[K     |█████████████████████▊          | 1.1MB 6.0MB/s eta 0:00:01\r\u001b[K     |██████████████████████          | 1.1MB 6.0MB/s eta 0:00:01\r\u001b[K     |██████████████████████▏         | 1.1MB 6.0MB/s eta 0:00:01\r\u001b[K     |██████████████████████▍         | 1.1MB 6.0MB/s eta 0:00:01\r\u001b[K     |██████████████████████▌         | 1.1MB 6.0MB/s eta 0:00:01\r\u001b[K     |██████████████████████▊         | 1.1MB 6.0MB/s eta 0:00:01\r\u001b[K     |███████████████████████         | 1.2MB 6.0MB/s eta 0:00:01\r\u001b[K     |███████████████████████▏        | 1.2MB 6.0MB/s eta 0:00:01\r\u001b[K     |███████████████████████▍        | 1.2MB 6.0MB/s eta 0:00:01\r\u001b[K     |███████████████████████▌        | 1.2MB 6.0MB/s eta 0:00:01\r\u001b[K     |███████████████████████▊        | 1.2MB 6.0MB/s eta 0:00:01\r\u001b[K     |████████████████████████        | 1.2MB 6.0MB/s eta 0:00:01\r\u001b[K     |████████████████████████▏       | 1.2MB 6.0MB/s eta 0:00:01\r\u001b[K     |████████████████████████▍       | 1.2MB 6.0MB/s eta 0:00:01\r\u001b[K     |████████████████████████▋       | 1.2MB 6.0MB/s eta 0:00:01\r\u001b[K     |████████████████████████▊       | 1.2MB 6.0MB/s eta 0:00:01\r\u001b[K     |█████████████████████████       | 1.3MB 6.0MB/s eta 0:00:01\r\u001b[K     |█████████████████████████▏      | 1.3MB 6.0MB/s eta 0:00:01\r\u001b[K     |█████████████████████████▍      | 1.3MB 6.0MB/s eta 0:00:01\r\u001b[K     |█████████████████████████▋      | 1.3MB 6.0MB/s eta 0:00:01\r\u001b[K     |█████████████████████████▉      | 1.3MB 6.0MB/s eta 0:00:01\r\u001b[K     |██████████████████████████      | 1.3MB 6.0MB/s eta 0:00:01\r\u001b[K     |██████████████████████████▏     | 1.3MB 6.0MB/s eta 0:00:01\r\u001b[K     |██████████████████████████▍     | 1.3MB 6.0MB/s eta 0:00:01\r\u001b[K     |██████████████████████████▋     | 1.3MB 6.0MB/s eta 0:00:01\r\u001b[K     |██████████████████████████▉     | 1.4MB 6.0MB/s eta 0:00:01\r\u001b[K     |███████████████████████████     | 1.4MB 6.0MB/s eta 0:00:01\r\u001b[K     |███████████████████████████▏    | 1.4MB 6.0MB/s eta 0:00:01\r\u001b[K     |███████████████████████████▍    | 1.4MB 6.0MB/s eta 0:00:01\r\u001b[K     |███████████████████████████▋    | 1.4MB 6.0MB/s eta 0:00:01\r\u001b[K     |███████████████████████████▉    | 1.4MB 6.0MB/s eta 0:00:01\r\u001b[K     |████████████████████████████    | 1.4MB 6.0MB/s eta 0:00:01\r\u001b[K     |████████████████████████████▏   | 1.4MB 6.0MB/s eta 0:00:01\r\u001b[K     |████████████████████████████▍   | 1.4MB 6.0MB/s eta 0:00:01\r\u001b[K     |████████████████████████████▋   | 1.4MB 6.0MB/s eta 0:00:01\r\u001b[K     |████████████████████████████▉   | 1.5MB 6.0MB/s eta 0:00:01\r\u001b[K     |█████████████████████████████   | 1.5MB 6.0MB/s eta 0:00:01\r\u001b[K     |█████████████████████████████▎  | 1.5MB 6.0MB/s eta 0:00:01\r\u001b[K     |█████████████████████████████▍  | 1.5MB 6.0MB/s eta 0:00:01\r\u001b[K     |█████████████████████████████▋  | 1.5MB 6.0MB/s eta 0:00:01\r\u001b[K     |█████████████████████████████▉  | 1.5MB 6.0MB/s eta 0:00:01\r\u001b[K     |██████████████████████████████  | 1.5MB 6.0MB/s eta 0:00:01\r\u001b[K     |██████████████████████████████▎ | 1.5MB 6.0MB/s eta 0:00:01\r\u001b[K     |██████████████████████████████▌ | 1.5MB 6.0MB/s eta 0:00:01\r\u001b[K     |██████████████████████████████▋ | 1.5MB 6.0MB/s eta 0:00:01\r\u001b[K     |██████████████████████████████▉ | 1.6MB 6.0MB/s eta 0:00:01\r\u001b[K     |███████████████████████████████ | 1.6MB 6.0MB/s eta 0:00:01\r\u001b[K     |███████████████████████████████▎| 1.6MB 6.0MB/s eta 0:00:01\r\u001b[K     |███████████████████████████████▌| 1.6MB 6.0MB/s eta 0:00:01\r\u001b[K     |███████████████████████████████▊| 1.6MB 6.0MB/s eta 0:00:01\r\u001b[K     |███████████████████████████████▉| 1.6MB 6.0MB/s eta 0:00:01\r\u001b[K     |████████████████████████████████| 1.6MB 6.0MB/s \n",
            "\u001b[?25hRequirement already satisfied: wheel>=0.23.0 in /usr/local/lib/python3.6/dist-packages (from pyldavis) (0.36.2)\n",
            "Requirement already satisfied: numpy>=1.9.2 in /usr/local/lib/python3.6/dist-packages (from pyldavis) (1.19.5)\n",
            "Requirement already satisfied: scipy>=0.18.0 in /usr/local/lib/python3.6/dist-packages (from pyldavis) (1.4.1)\n",
            "Requirement already satisfied: pandas>=0.17.0 in /usr/local/lib/python3.6/dist-packages (from pyldavis) (1.1.5)\n",
            "Requirement already satisfied: joblib>=0.8.4 in /usr/local/lib/python3.6/dist-packages (from pyldavis) (1.0.0)\n",
            "Requirement already satisfied: jinja2>=2.7.2 in /usr/local/lib/python3.6/dist-packages (from pyldavis) (2.11.2)\n",
            "Requirement already satisfied: numexpr in /usr/local/lib/python3.6/dist-packages (from pyldavis) (2.7.2)\n",
            "Requirement already satisfied: pytest in /usr/local/lib/python3.6/dist-packages (from pyldavis) (3.6.4)\n",
            "Requirement already satisfied: future in /usr/local/lib/python3.6/dist-packages (from pyldavis) (0.16.0)\n",
            "Collecting funcy\n",
            "  Downloading https://files.pythonhosted.org/packages/66/89/479de0afbbfb98d1c4b887936808764627300208bb771fcd823403645a36/funcy-1.15-py2.py3-none-any.whl\n",
            "Requirement already satisfied: python-dateutil>=2.7.3 in /usr/local/lib/python3.6/dist-packages (from pandas>=0.17.0->pyldavis) (2.8.1)\n",
            "Requirement already satisfied: pytz>=2017.2 in /usr/local/lib/python3.6/dist-packages (from pandas>=0.17.0->pyldavis) (2018.9)\n",
            "Requirement already satisfied: MarkupSafe>=0.23 in /usr/local/lib/python3.6/dist-packages (from jinja2>=2.7.2->pyldavis) (1.1.1)\n",
            "Requirement already satisfied: six>=1.10.0 in /usr/local/lib/python3.6/dist-packages (from pytest->pyldavis) (1.15.0)\n",
            "Requirement already satisfied: atomicwrites>=1.0 in /usr/local/lib/python3.6/dist-packages (from pytest->pyldavis) (1.4.0)\n",
            "Requirement already satisfied: setuptools in /usr/local/lib/python3.6/dist-packages (from pytest->pyldavis) (51.1.2)\n",
            "Requirement already satisfied: more-itertools>=4.0.0 in /usr/local/lib/python3.6/dist-packages (from pytest->pyldavis) (8.6.0)\n",
            "Requirement already satisfied: attrs>=17.4.0 in /usr/local/lib/python3.6/dist-packages (from pytest->pyldavis) (20.3.0)\n",
            "Requirement already satisfied: pluggy<0.8,>=0.5 in /usr/local/lib/python3.6/dist-packages (from pytest->pyldavis) (0.7.1)\n",
            "Requirement already satisfied: py>=1.5.0 in /usr/local/lib/python3.6/dist-packages (from pytest->pyldavis) (1.10.0)\n",
            "Building wheels for collected packages: pyldavis\n",
            "  Building wheel for pyldavis (setup.py) ... \u001b[?25l\u001b[?25hdone\n",
            "  Created wheel for pyldavis: filename=pyLDAvis-2.1.2-py2.py3-none-any.whl size=97712 sha256=73743294d8ad59f588b84c07d8985b5a8da847a58224e1b77daa127896a7b6e8\n",
            "  Stored in directory: /root/.cache/pip/wheels/98/71/24/513a99e58bb6b8465bae4d2d5e9dba8f0bef8179e3051ac414\n",
            "Successfully built pyldavis\n",
            "Installing collected packages: funcy, pyldavis\n",
            "Successfully installed funcy-1.15 pyldavis-2.1.2\n"
          ],
          "name": "stdout"
        }
      ]
    },
    {
      "cell_type": "code",
      "metadata": {
        "id": "hqqFPXiR3k3o"
      },
      "source": [
        "import re\r\n",
        "import numpy as np\r\n",
        "import pandas as pd\r\n",
        "\r\n",
        "import gensim\r\n",
        "import gensim.corpora as corpora\r\n",
        "from gensim.utils import simple_preprocess\r\n",
        "from gensim.models import CoherenceModel\r\n",
        "\r\n",
        "from pprint import pprint"
      ],
      "execution_count": 2,
      "outputs": []
    },
    {
      "cell_type": "code",
      "metadata": {
        "id": "qUIC8bHH-nxs"
      },
      "source": [
        "df = pd.read_csv('./data/HDFS_100k.log_structured.csv')"
      ],
      "execution_count": 92,
      "outputs": []
    },
    {
      "cell_type": "code",
      "metadata": {
        "colab": {
          "base_uri": "https://localhost:8080/",
          "height": 419
        },
        "id": "HMyXRbZIFPEZ",
        "outputId": "b28f9b55-328e-408a-e475-e665a7d24d18"
      },
      "source": [
        "df"
      ],
      "execution_count": 4,
      "outputs": [
        {
          "output_type": "execute_result",
          "data": {
            "text/html": [
              "<div>\n",
              "<style scoped>\n",
              "    .dataframe tbody tr th:only-of-type {\n",
              "        vertical-align: middle;\n",
              "    }\n",
              "\n",
              "    .dataframe tbody tr th {\n",
              "        vertical-align: top;\n",
              "    }\n",
              "\n",
              "    .dataframe thead th {\n",
              "        text-align: right;\n",
              "    }\n",
              "</style>\n",
              "<table border=\"1\" class=\"dataframe\">\n",
              "  <thead>\n",
              "    <tr style=\"text-align: right;\">\n",
              "      <th></th>\n",
              "      <th>LineId</th>\n",
              "      <th>Date</th>\n",
              "      <th>Time</th>\n",
              "      <th>Pid</th>\n",
              "      <th>Level</th>\n",
              "      <th>Component</th>\n",
              "      <th>Content</th>\n",
              "      <th>EventId</th>\n",
              "      <th>EventTemplate</th>\n",
              "    </tr>\n",
              "  </thead>\n",
              "  <tbody>\n",
              "    <tr>\n",
              "      <th>0</th>\n",
              "      <td>1</td>\n",
              "      <td>81109</td>\n",
              "      <td>203518</td>\n",
              "      <td>143</td>\n",
              "      <td>INFO</td>\n",
              "      <td>dfs.DataNode$DataXceiver</td>\n",
              "      <td>Receiving block blk_-1608999687919862906 src: ...</td>\n",
              "      <td>E5</td>\n",
              "      <td>Receiving block &lt;*&gt; src: /&lt;*&gt; dest: /&lt;*&gt;</td>\n",
              "    </tr>\n",
              "    <tr>\n",
              "      <th>1</th>\n",
              "      <td>2</td>\n",
              "      <td>81109</td>\n",
              "      <td>203518</td>\n",
              "      <td>35</td>\n",
              "      <td>INFO</td>\n",
              "      <td>dfs.FSNamesystem</td>\n",
              "      <td>BLOCK* NameSystem.allocateBlock: /mnt/hadoop/m...</td>\n",
              "      <td>E22</td>\n",
              "      <td>BLOCK* NameSystem.allocateBlock:&lt;*&gt;</td>\n",
              "    </tr>\n",
              "    <tr>\n",
              "      <th>2</th>\n",
              "      <td>3</td>\n",
              "      <td>81109</td>\n",
              "      <td>203519</td>\n",
              "      <td>143</td>\n",
              "      <td>INFO</td>\n",
              "      <td>dfs.DataNode$DataXceiver</td>\n",
              "      <td>Receiving block blk_-1608999687919862906 src: ...</td>\n",
              "      <td>E5</td>\n",
              "      <td>Receiving block &lt;*&gt; src: /&lt;*&gt; dest: /&lt;*&gt;</td>\n",
              "    </tr>\n",
              "    <tr>\n",
              "      <th>3</th>\n",
              "      <td>4</td>\n",
              "      <td>81109</td>\n",
              "      <td>203519</td>\n",
              "      <td>145</td>\n",
              "      <td>INFO</td>\n",
              "      <td>dfs.DataNode$DataXceiver</td>\n",
              "      <td>Receiving block blk_-1608999687919862906 src: ...</td>\n",
              "      <td>E5</td>\n",
              "      <td>Receiving block &lt;*&gt; src: /&lt;*&gt; dest: /&lt;*&gt;</td>\n",
              "    </tr>\n",
              "    <tr>\n",
              "      <th>4</th>\n",
              "      <td>5</td>\n",
              "      <td>81109</td>\n",
              "      <td>203519</td>\n",
              "      <td>145</td>\n",
              "      <td>INFO</td>\n",
              "      <td>dfs.DataNode$PacketResponder</td>\n",
              "      <td>PacketResponder 1 for block blk_-1608999687919...</td>\n",
              "      <td>E11</td>\n",
              "      <td>PacketResponder &lt;*&gt; for block &lt;*&gt; terminating</td>\n",
              "    </tr>\n",
              "    <tr>\n",
              "      <th>...</th>\n",
              "      <td>...</td>\n",
              "      <td>...</td>\n",
              "      <td>...</td>\n",
              "      <td>...</td>\n",
              "      <td>...</td>\n",
              "      <td>...</td>\n",
              "      <td>...</td>\n",
              "      <td>...</td>\n",
              "      <td>...</td>\n",
              "    </tr>\n",
              "    <tr>\n",
              "      <th>104810</th>\n",
              "      <td>104811</td>\n",
              "      <td>81109</td>\n",
              "      <td>210122</td>\n",
              "      <td>13</td>\n",
              "      <td>INFO</td>\n",
              "      <td>dfs.DataBlockScanner</td>\n",
              "      <td>Verification succeeded for blk_-87387097785867...</td>\n",
              "      <td>E2</td>\n",
              "      <td>Verification succeeded for &lt;*&gt;</td>\n",
              "    </tr>\n",
              "    <tr>\n",
              "      <th>104811</th>\n",
              "      <td>104812</td>\n",
              "      <td>81109</td>\n",
              "      <td>210124</td>\n",
              "      <td>13</td>\n",
              "      <td>INFO</td>\n",
              "      <td>dfs.DataBlockScanner</td>\n",
              "      <td>Verification succeeded for blk_642047611142564...</td>\n",
              "      <td>E2</td>\n",
              "      <td>Verification succeeded for &lt;*&gt;</td>\n",
              "    </tr>\n",
              "    <tr>\n",
              "      <th>104812</th>\n",
              "      <td>104813</td>\n",
              "      <td>81109</td>\n",
              "      <td>210126</td>\n",
              "      <td>13</td>\n",
              "      <td>INFO</td>\n",
              "      <td>dfs.DataBlockScanner</td>\n",
              "      <td>Verification succeeded for blk_-23823897510323...</td>\n",
              "      <td>E2</td>\n",
              "      <td>Verification succeeded for &lt;*&gt;</td>\n",
              "    </tr>\n",
              "    <tr>\n",
              "      <th>104813</th>\n",
              "      <td>104814</td>\n",
              "      <td>81109</td>\n",
              "      <td>210126</td>\n",
              "      <td>13</td>\n",
              "      <td>INFO</td>\n",
              "      <td>dfs.DataBlockScanner</td>\n",
              "      <td>Verification succeeded for blk_485603173001003...</td>\n",
              "      <td>E2</td>\n",
              "      <td>Verification succeeded for &lt;*&gt;</td>\n",
              "    </tr>\n",
              "    <tr>\n",
              "      <th>104814</th>\n",
              "      <td>104815</td>\n",
              "      <td>81109</td>\n",
              "      <td>210126</td>\n",
              "      <td>13</td>\n",
              "      <td>INFO</td>\n",
              "      <td>dfs.DataBlockScanner</td>\n",
              "      <td>Verification succeeded for blk_-49047501208105...</td>\n",
              "      <td>E2</td>\n",
              "      <td>Verification succeeded for &lt;*&gt;</td>\n",
              "    </tr>\n",
              "  </tbody>\n",
              "</table>\n",
              "<p>104815 rows × 9 columns</p>\n",
              "</div>"
            ],
            "text/plain": [
              "        LineId   Date  ...  EventId                                  EventTemplate\n",
              "0            1  81109  ...       E5       Receiving block <*> src: /<*> dest: /<*>\n",
              "1            2  81109  ...      E22            BLOCK* NameSystem.allocateBlock:<*>\n",
              "2            3  81109  ...       E5       Receiving block <*> src: /<*> dest: /<*>\n",
              "3            4  81109  ...       E5       Receiving block <*> src: /<*> dest: /<*>\n",
              "4            5  81109  ...      E11  PacketResponder <*> for block <*> terminating\n",
              "...        ...    ...  ...      ...                                            ...\n",
              "104810  104811  81109  ...       E2                 Verification succeeded for <*>\n",
              "104811  104812  81109  ...       E2                 Verification succeeded for <*>\n",
              "104812  104813  81109  ...       E2                 Verification succeeded for <*>\n",
              "104813  104814  81109  ...       E2                 Verification succeeded for <*>\n",
              "104814  104815  81109  ...       E2                 Verification succeeded for <*>\n",
              "\n",
              "[104815 rows x 9 columns]"
            ]
          },
          "metadata": {
            "tags": []
          },
          "execution_count": 4
        }
      ]
    },
    {
      "cell_type": "code",
      "metadata": {
        "id": "zKbqJGUYja43"
      },
      "source": [
        "import nltk\r\n",
        "text['headline_text'] = text.apply(lambda row: nltk.word_tokenize(row['headline_text']), axis=1)\r\n",
        "text.head()"
      ],
      "execution_count": null,
      "outputs": []
    },
    {
      "cell_type": "code",
      "metadata": {
        "id": "Fdl1mJXa-_sK"
      },
      "source": [
        "data = [i.strip().split(' ') for i in df.Content]"
      ],
      "execution_count": 5,
      "outputs": []
    },
    {
      "cell_type": "code",
      "metadata": {
        "id": "B4p23P99_ECp"
      },
      "source": [
        "id2word = corpora.Dictionary(data)"
      ],
      "execution_count": 6,
      "outputs": []
    },
    {
      "cell_type": "code",
      "metadata": {
        "id": "7b37soHU_1pX"
      },
      "source": [
        "texts = data"
      ],
      "execution_count": 7,
      "outputs": []
    },
    {
      "cell_type": "code",
      "metadata": {
        "id": "u2Pbw144_3NY"
      },
      "source": [
        "corpus = [id2word.doc2bow(text) for text in texts]"
      ],
      "execution_count": 8,
      "outputs": []
    },
    {
      "cell_type": "code",
      "metadata": {
        "colab": {
          "base_uri": "https://localhost:8080/"
        },
        "id": "p5iQG3xT_6Jv",
        "outputId": "f64adfa1-e9ec-422d-b1e1-aa03e00137d2"
      },
      "source": [
        "print(corpus[:1])"
      ],
      "execution_count": 9,
      "outputs": [
        {
          "output_type": "stream",
          "text": [
            "[[(0, 1), (1, 1), (2, 1), (3, 1), (4, 1), (5, 1), (6, 1)]]\n"
          ],
          "name": "stdout"
        }
      ]
    },
    {
      "cell_type": "code",
      "metadata": {
        "id": "RDB5NwtQ_7Yv"
      },
      "source": [
        "lda_model = gensim.models.ldamodel.LdaModel(corpus = corpus,\r\n",
        "                                            id2word = id2word,\r\n",
        "                                            num_topics = 10,\r\n",
        "                                            random_state = 100,\r\n",
        "                                            update_every =1,\r\n",
        "                                            chunksize = 100,\r\n",
        "                                            passes = 10,\r\n",
        "                                            alpha= 'auto',\r\n",
        "                                            per_word_topics = True\r\n",
        "                                            )"
      ],
      "execution_count": 10,
      "outputs": []
    },
    {
      "cell_type": "code",
      "metadata": {
        "colab": {
          "base_uri": "https://localhost:8080/"
        },
        "id": "o5hJdXdT_8j2",
        "outputId": "6bab79aa-392e-4596-c9ab-80def8c3ddd9"
      },
      "source": [
        "pprint(lda_model.print_topics())\r\n",
        "doc_lda = lda_model[corpus]"
      ],
      "execution_count": 11,
      "outputs": [
        {
          "output_type": "stream",
          "text": [
            "[(0,\n",
            "  '0.046*\"BLOCK*\" + 0.031*\"NameSystem.allocateBlock:\" + '\n",
            "  '0.012*\"blk_4241467193520768333\" + 0.004*\"blk_8909107483987085802\" + '\n",
            "  '0.004*\"blk_9047244576407600764\" + 0.004*\"blk_524408193881860019\" + '\n",
            "  '0.004*\"blk_4222802578485615752\" + 0.004*\"blk_-2951262078924395064\" + '\n",
            "  '0.004*\"blk_-9081208173975932165\" + 0.004*\"blk_8652779608730262978\"'),\n",
            " (1,\n",
            "  '0.101*\"to\" + 0.099*\"NameSystem.addStoredBlock:\" + 0.099*\"size\" + 0.099*\"is\" '\n",
            "  '+ 0.099*\"blockMap\" + 0.099*\"added\" + 0.099*\"updated:\" + 0.097*\"67108864\" + '\n",
            "  '0.095*\"BLOCK*\" + 0.001*\"10.251.39.160:50010\"'),\n",
            " (2,\n",
            "  '0.018*\"blk_-2607603250149292767\" + 0.017*\"blk_4286887770593516283\" + '\n",
            "  '0.017*\"blk_1037066694877136451\" + 0.016*\"10.251.74.79:50010\" + '\n",
            "  '0.016*\"blk_-7390710706320943439\" + 0.016*\"blk_-7385019746290967026\" + '\n",
            "  '0.016*\"blk_-1160765867676592212\" + 0.015*\"10.251.31.5:50010\" + '\n",
            "  '0.015*\"blk_-4130422002907235753\" + 0.015*\"blk_-372632911736985200\"'),\n",
            " (3,\n",
            "  '0.157*\"block\" + 0.151*\"of\" + 0.150*\"from\" + 0.150*\"size\" + 0.150*\"Received\" '\n",
            "  '+ 0.146*\"67108864\" + 0.050*\"1\" + 0.001*\"/10.251.31.5\" + '\n",
            "  '0.001*\"/10.250.7.32\" + 0.001*\"/10.251.203.129\"'),\n",
            " (4,\n",
            "  '0.159*\"block\" + 0.145*\"src:\" + 0.145*\"dest:\" + 0.144*\"Receiving\" + '\n",
            "  '0.005*\"blk_4108032757710290196\" + 0.005*\"blk_-7326879742777330616\" + '\n",
            "  '0.005*\"blk_4966276028193818154\" + 0.005*\"blk_-955678844525403431\" + '\n",
            "  '0.005*\"blk_-4566764090560972175\" + 0.005*\"blk_7359588822015996941\"'),\n",
            " (5,\n",
            "  '0.014*\"blk_-7199733435216834133\" + 0.013*\"blk_-3140754468249228022\" + '\n",
            "  '0.012*\"blk_-8608758988186237206\" + 0.012*\"blk_-7374177486939901806\" + '\n",
            "  '0.012*\"blk_7007568649123695530\" + 0.011*\"blk_252816358434654494\" + '\n",
            "  '0.011*\"/10.251.126.5\" + 0.011*\"blk_4301761665496587132\" + '\n",
            "  '0.011*\"/10.251.31.160\" + 0.011*\"/10.251.194.245\"'),\n",
            " (6,\n",
            "  '0.013*\"/10.251.39.209\" + 0.012*\"/10.251.107.227\" + '\n",
            "  '0.011*\"blk_-365681253977708548\" + 0.011*\"/10.251.203.179\" + '\n",
            "  '0.010*\"/10.251.26.131\" + 0.010*\"/10.251.111.209\" + 0.010*\"/10.251.105.189\" '\n",
            "  '+ 0.009*\"10.251.111.209:50010\" + 0.009*\"/10.251.43.21\" + '\n",
            "  '0.009*\"/10.250.17.225\"'),\n",
            " (7,\n",
            "  '0.386*\"for\" + 0.157*\"PacketResponder\" + 0.156*\"terminating\" + 0.147*\"block\" '\n",
            "  '+ 0.052*\"0\" + 0.052*\"2\" + 0.001*\"/10.251.71.16\" + 0.001*\"/10.250.11.100\" + '\n",
            "  '0.001*\"/10.251.197.226\" + 0.001*\"/10.250.14.196\"'),\n",
            " (8,\n",
            "  '0.320*\"succeeded\" + 0.320*\"Verification\" + 0.002*\"blk_6420476111425645508\" '\n",
            "  '+ 0.002*\"blk_4747238186020862016\" + 0.002*\"blk_-2382389751032389929\" + '\n",
            "  '0.002*\"blk_7455154075126513420\" + 0.002*\"blk_4856031730010032819\" + '\n",
            "  '0.002*\"blk_-3155415637543545820\" + 0.002*\"blk_638939784120214749\" + '\n",
            "  '0.002*\"blk_-2947515393396507971\"'),\n",
            " (9,\n",
            "  '0.018*\"blk_-9039789976760025618\" + 0.018*\"blk_8232653167951816215\" + '\n",
            "  '0.018*\"blk_-3059453549958878582\" + 0.017*\"blk_9010689441969286891\" + '\n",
            "  '0.016*\"blk_-1214394198778192417\" + 0.015*\"blk_-4358861442329520889\" + '\n",
            "  '0.015*\"blk_-271233912558262172\" + 0.014*\"blk_5251082346485479848\" + '\n",
            "  '0.014*\"blk_4472097162321285264\" + 0.014*\"blk_-4917509153767079107\"')]\n"
          ],
          "name": "stdout"
        }
      ]
    },
    {
      "cell_type": "code",
      "metadata": {
        "id": "ppfCZXtXADEv"
      },
      "source": [
        "import pyLDAvis\r\n",
        "import pyLDAvis.gensim as gensimvis"
      ],
      "execution_count": 12,
      "outputs": []
    },
    {
      "cell_type": "code",
      "metadata": {
        "id": "p3VO5W0_AEFm",
        "colab": {
          "base_uri": "https://localhost:8080/",
          "height": 358
        },
        "outputId": "cbe30345-efba-4a4e-c9d2-2dd3ea5193b1"
      },
      "source": [
        "# # 시각화에 1시간 이상 소모\r\n",
        "# pyLDAvis.enable_notebook()\r\n",
        "# vis = gensimvis.prepare(lda_model, corpus, id2word)\r\n",
        "# pyLDAvis.display(vis)"
      ],
      "execution_count": 13,
      "outputs": [
        {
          "output_type": "error",
          "ename": "KeyboardInterrupt",
          "evalue": "ignored",
          "traceback": [
            "\u001b[0;31m---------------------------------------------------------------------------\u001b[0m",
            "\u001b[0;31mKeyboardInterrupt\u001b[0m                         Traceback (most recent call last)",
            "\u001b[0;32m<ipython-input-13-f9266b1a779f>\u001b[0m in \u001b[0;36m<module>\u001b[0;34m()\u001b[0m\n\u001b[1;32m      1\u001b[0m \u001b[0mpyLDAvis\u001b[0m\u001b[0;34m.\u001b[0m\u001b[0menable_notebook\u001b[0m\u001b[0;34m(\u001b[0m\u001b[0;34m)\u001b[0m\u001b[0;34m\u001b[0m\u001b[0;34m\u001b[0m\u001b[0m\n\u001b[0;32m----> 2\u001b[0;31m \u001b[0mvis\u001b[0m \u001b[0;34m=\u001b[0m \u001b[0mgensimvis\u001b[0m\u001b[0;34m.\u001b[0m\u001b[0mprepare\u001b[0m\u001b[0;34m(\u001b[0m\u001b[0mlda_model\u001b[0m\u001b[0;34m,\u001b[0m \u001b[0mcorpus\u001b[0m\u001b[0;34m,\u001b[0m \u001b[0mid2word\u001b[0m\u001b[0;34m)\u001b[0m\u001b[0;34m\u001b[0m\u001b[0;34m\u001b[0m\u001b[0m\n\u001b[0m\u001b[1;32m      3\u001b[0m \u001b[0mpyLDAvis\u001b[0m\u001b[0;34m.\u001b[0m\u001b[0mdisplay\u001b[0m\u001b[0;34m(\u001b[0m\u001b[0mvis\u001b[0m\u001b[0;34m)\u001b[0m\u001b[0;34m\u001b[0m\u001b[0;34m\u001b[0m\u001b[0m\n",
            "\u001b[0;32m/usr/local/lib/python3.6/dist-packages/pyLDAvis/gensim.py\u001b[0m in \u001b[0;36mprepare\u001b[0;34m(topic_model, corpus, dictionary, doc_topic_dist, **kwargs)\u001b[0m\n\u001b[1;32m    117\u001b[0m     \"\"\"\n\u001b[1;32m    118\u001b[0m     \u001b[0mopts\u001b[0m \u001b[0;34m=\u001b[0m \u001b[0mfp\u001b[0m\u001b[0;34m.\u001b[0m\u001b[0mmerge\u001b[0m\u001b[0;34m(\u001b[0m\u001b[0m_extract_data\u001b[0m\u001b[0;34m(\u001b[0m\u001b[0mtopic_model\u001b[0m\u001b[0;34m,\u001b[0m \u001b[0mcorpus\u001b[0m\u001b[0;34m,\u001b[0m \u001b[0mdictionary\u001b[0m\u001b[0;34m,\u001b[0m \u001b[0mdoc_topic_dist\u001b[0m\u001b[0;34m)\u001b[0m\u001b[0;34m,\u001b[0m \u001b[0mkwargs\u001b[0m\u001b[0;34m)\u001b[0m\u001b[0;34m\u001b[0m\u001b[0;34m\u001b[0m\u001b[0m\n\u001b[0;32m--> 119\u001b[0;31m     \u001b[0;32mreturn\u001b[0m \u001b[0mvis_prepare\u001b[0m\u001b[0;34m(\u001b[0m\u001b[0;34m**\u001b[0m\u001b[0mopts\u001b[0m\u001b[0;34m)\u001b[0m\u001b[0;34m\u001b[0m\u001b[0;34m\u001b[0m\u001b[0m\n\u001b[0m",
            "\u001b[0;32m/usr/local/lib/python3.6/dist-packages/pyLDAvis/_prepare.py\u001b[0m in \u001b[0;36mprepare\u001b[0;34m(topic_term_dists, doc_topic_dists, doc_lengths, vocab, term_frequency, R, lambda_step, mds, n_jobs, plot_opts, sort_topics)\u001b[0m\n\u001b[1;32m    396\u001b[0m    \u001b[0mterm_frequency\u001b[0m \u001b[0;34m=\u001b[0m \u001b[0mnp\u001b[0m\u001b[0;34m.\u001b[0m\u001b[0msum\u001b[0m\u001b[0;34m(\u001b[0m\u001b[0mterm_topic_freq\u001b[0m\u001b[0;34m,\u001b[0m \u001b[0maxis\u001b[0m\u001b[0;34m=\u001b[0m\u001b[0;36m0\u001b[0m\u001b[0;34m)\u001b[0m\u001b[0;34m\u001b[0m\u001b[0;34m\u001b[0m\u001b[0m\n\u001b[1;32m    397\u001b[0m \u001b[0;34m\u001b[0m\u001b[0m\n\u001b[0;32m--> 398\u001b[0;31m    \u001b[0mtopic_info\u001b[0m         \u001b[0;34m=\u001b[0m \u001b[0m_topic_info\u001b[0m\u001b[0;34m(\u001b[0m\u001b[0mtopic_term_dists\u001b[0m\u001b[0;34m,\u001b[0m \u001b[0mtopic_proportion\u001b[0m\u001b[0;34m,\u001b[0m \u001b[0mterm_frequency\u001b[0m\u001b[0;34m,\u001b[0m \u001b[0mterm_topic_freq\u001b[0m\u001b[0;34m,\u001b[0m \u001b[0mvocab\u001b[0m\u001b[0;34m,\u001b[0m \u001b[0mlambda_step\u001b[0m\u001b[0;34m,\u001b[0m \u001b[0mR\u001b[0m\u001b[0;34m,\u001b[0m \u001b[0mn_jobs\u001b[0m\u001b[0;34m)\u001b[0m\u001b[0;34m\u001b[0m\u001b[0;34m\u001b[0m\u001b[0m\n\u001b[0m\u001b[1;32m    399\u001b[0m    \u001b[0mtoken_table\u001b[0m        \u001b[0;34m=\u001b[0m \u001b[0m_token_table\u001b[0m\u001b[0;34m(\u001b[0m\u001b[0mtopic_info\u001b[0m\u001b[0;34m,\u001b[0m \u001b[0mterm_topic_freq\u001b[0m\u001b[0;34m,\u001b[0m \u001b[0mvocab\u001b[0m\u001b[0;34m,\u001b[0m \u001b[0mterm_frequency\u001b[0m\u001b[0;34m)\u001b[0m\u001b[0;34m\u001b[0m\u001b[0;34m\u001b[0m\u001b[0m\n\u001b[1;32m    400\u001b[0m    \u001b[0mtopic_coordinates\u001b[0m \u001b[0;34m=\u001b[0m \u001b[0m_topic_coordinates\u001b[0m\u001b[0;34m(\u001b[0m\u001b[0mmds\u001b[0m\u001b[0;34m,\u001b[0m \u001b[0mtopic_term_dists\u001b[0m\u001b[0;34m,\u001b[0m \u001b[0mtopic_proportion\u001b[0m\u001b[0;34m)\u001b[0m\u001b[0;34m\u001b[0m\u001b[0;34m\u001b[0m\u001b[0m\n",
            "\u001b[0;32m/usr/local/lib/python3.6/dist-packages/pyLDAvis/_prepare.py\u001b[0m in \u001b[0;36m_topic_info\u001b[0;34m(topic_term_dists, topic_proportion, term_frequency, term_topic_freq, vocab, lambda_step, R, n_jobs)\u001b[0m\n\u001b[1;32m    253\u001b[0m \u001b[0;34m\u001b[0m\u001b[0m\n\u001b[1;32m    254\u001b[0m    top_terms = pd.concat(Parallel(n_jobs=n_jobs)(delayed(_find_relevance_chunks)(log_ttd, log_lift, R, ls) \\\n\u001b[0;32m--> 255\u001b[0;31m                                                  for ls in _job_chunks(lambda_seq, n_jobs)))\n\u001b[0m\u001b[1;32m    256\u001b[0m    \u001b[0mtopic_dfs\u001b[0m \u001b[0;34m=\u001b[0m \u001b[0mmap\u001b[0m\u001b[0;34m(\u001b[0m\u001b[0mtopic_top_term_df\u001b[0m\u001b[0;34m,\u001b[0m \u001b[0menumerate\u001b[0m\u001b[0;34m(\u001b[0m\u001b[0mtop_terms\u001b[0m\u001b[0;34m.\u001b[0m\u001b[0mT\u001b[0m\u001b[0;34m.\u001b[0m\u001b[0miterrows\u001b[0m\u001b[0;34m(\u001b[0m\u001b[0;34m)\u001b[0m\u001b[0;34m,\u001b[0m \u001b[0;36m1\u001b[0m\u001b[0;34m)\u001b[0m\u001b[0;34m)\u001b[0m\u001b[0;34m\u001b[0m\u001b[0;34m\u001b[0m\u001b[0m\n\u001b[1;32m    257\u001b[0m    \u001b[0;32mreturn\u001b[0m \u001b[0mpd\u001b[0m\u001b[0;34m.\u001b[0m\u001b[0mconcat\u001b[0m\u001b[0;34m(\u001b[0m\u001b[0;34m[\u001b[0m\u001b[0mdefault_term_info\u001b[0m\u001b[0;34m]\u001b[0m \u001b[0;34m+\u001b[0m \u001b[0mlist\u001b[0m\u001b[0;34m(\u001b[0m\u001b[0mtopic_dfs\u001b[0m\u001b[0;34m)\u001b[0m\u001b[0;34m)\u001b[0m\u001b[0;34m\u001b[0m\u001b[0;34m\u001b[0m\u001b[0m\n",
            "\u001b[0;32m/usr/local/lib/python3.6/dist-packages/joblib/parallel.py\u001b[0m in \u001b[0;36m__call__\u001b[0;34m(self, iterable)\u001b[0m\n\u001b[1;32m   1052\u001b[0m \u001b[0;34m\u001b[0m\u001b[0m\n\u001b[1;32m   1053\u001b[0m             \u001b[0;32mwith\u001b[0m \u001b[0mself\u001b[0m\u001b[0;34m.\u001b[0m\u001b[0m_backend\u001b[0m\u001b[0;34m.\u001b[0m\u001b[0mretrieval_context\u001b[0m\u001b[0;34m(\u001b[0m\u001b[0;34m)\u001b[0m\u001b[0;34m:\u001b[0m\u001b[0;34m\u001b[0m\u001b[0;34m\u001b[0m\u001b[0m\n\u001b[0;32m-> 1054\u001b[0;31m                 \u001b[0mself\u001b[0m\u001b[0;34m.\u001b[0m\u001b[0mretrieve\u001b[0m\u001b[0;34m(\u001b[0m\u001b[0;34m)\u001b[0m\u001b[0;34m\u001b[0m\u001b[0;34m\u001b[0m\u001b[0m\n\u001b[0m\u001b[1;32m   1055\u001b[0m             \u001b[0;31m# Make sure that we get a last message telling us we are done\u001b[0m\u001b[0;34m\u001b[0m\u001b[0;34m\u001b[0m\u001b[0;34m\u001b[0m\u001b[0m\n\u001b[1;32m   1056\u001b[0m             \u001b[0melapsed_time\u001b[0m \u001b[0;34m=\u001b[0m \u001b[0mtime\u001b[0m\u001b[0;34m.\u001b[0m\u001b[0mtime\u001b[0m\u001b[0;34m(\u001b[0m\u001b[0;34m)\u001b[0m \u001b[0;34m-\u001b[0m \u001b[0mself\u001b[0m\u001b[0;34m.\u001b[0m\u001b[0m_start_time\u001b[0m\u001b[0;34m\u001b[0m\u001b[0;34m\u001b[0m\u001b[0m\n",
            "\u001b[0;32m/usr/local/lib/python3.6/dist-packages/joblib/parallel.py\u001b[0m in \u001b[0;36mretrieve\u001b[0;34m(self)\u001b[0m\n\u001b[1;32m    931\u001b[0m             \u001b[0;32mtry\u001b[0m\u001b[0;34m:\u001b[0m\u001b[0;34m\u001b[0m\u001b[0;34m\u001b[0m\u001b[0m\n\u001b[1;32m    932\u001b[0m                 \u001b[0;32mif\u001b[0m \u001b[0mgetattr\u001b[0m\u001b[0;34m(\u001b[0m\u001b[0mself\u001b[0m\u001b[0;34m.\u001b[0m\u001b[0m_backend\u001b[0m\u001b[0;34m,\u001b[0m \u001b[0;34m'supports_timeout'\u001b[0m\u001b[0;34m,\u001b[0m \u001b[0;32mFalse\u001b[0m\u001b[0;34m)\u001b[0m\u001b[0;34m:\u001b[0m\u001b[0;34m\u001b[0m\u001b[0;34m\u001b[0m\u001b[0m\n\u001b[0;32m--> 933\u001b[0;31m                     \u001b[0mself\u001b[0m\u001b[0;34m.\u001b[0m\u001b[0m_output\u001b[0m\u001b[0;34m.\u001b[0m\u001b[0mextend\u001b[0m\u001b[0;34m(\u001b[0m\u001b[0mjob\u001b[0m\u001b[0;34m.\u001b[0m\u001b[0mget\u001b[0m\u001b[0;34m(\u001b[0m\u001b[0mtimeout\u001b[0m\u001b[0;34m=\u001b[0m\u001b[0mself\u001b[0m\u001b[0;34m.\u001b[0m\u001b[0mtimeout\u001b[0m\u001b[0;34m)\u001b[0m\u001b[0;34m)\u001b[0m\u001b[0;34m\u001b[0m\u001b[0;34m\u001b[0m\u001b[0m\n\u001b[0m\u001b[1;32m    934\u001b[0m                 \u001b[0;32melse\u001b[0m\u001b[0;34m:\u001b[0m\u001b[0;34m\u001b[0m\u001b[0;34m\u001b[0m\u001b[0m\n\u001b[1;32m    935\u001b[0m                     \u001b[0mself\u001b[0m\u001b[0;34m.\u001b[0m\u001b[0m_output\u001b[0m\u001b[0;34m.\u001b[0m\u001b[0mextend\u001b[0m\u001b[0;34m(\u001b[0m\u001b[0mjob\u001b[0m\u001b[0;34m.\u001b[0m\u001b[0mget\u001b[0m\u001b[0;34m(\u001b[0m\u001b[0;34m)\u001b[0m\u001b[0;34m)\u001b[0m\u001b[0;34m\u001b[0m\u001b[0;34m\u001b[0m\u001b[0m\n",
            "\u001b[0;32m/usr/local/lib/python3.6/dist-packages/joblib/_parallel_backends.py\u001b[0m in \u001b[0;36mwrap_future_result\u001b[0;34m(future, timeout)\u001b[0m\n\u001b[1;32m    540\u001b[0m         AsyncResults.get from multiprocessing.\"\"\"\n\u001b[1;32m    541\u001b[0m         \u001b[0;32mtry\u001b[0m\u001b[0;34m:\u001b[0m\u001b[0;34m\u001b[0m\u001b[0;34m\u001b[0m\u001b[0m\n\u001b[0;32m--> 542\u001b[0;31m             \u001b[0;32mreturn\u001b[0m \u001b[0mfuture\u001b[0m\u001b[0;34m.\u001b[0m\u001b[0mresult\u001b[0m\u001b[0;34m(\u001b[0m\u001b[0mtimeout\u001b[0m\u001b[0;34m=\u001b[0m\u001b[0mtimeout\u001b[0m\u001b[0;34m)\u001b[0m\u001b[0;34m\u001b[0m\u001b[0;34m\u001b[0m\u001b[0m\n\u001b[0m\u001b[1;32m    543\u001b[0m         \u001b[0;32mexcept\u001b[0m \u001b[0mCfTimeoutError\u001b[0m \u001b[0;32mas\u001b[0m \u001b[0me\u001b[0m\u001b[0;34m:\u001b[0m\u001b[0;34m\u001b[0m\u001b[0;34m\u001b[0m\u001b[0m\n\u001b[1;32m    544\u001b[0m             \u001b[0;32mraise\u001b[0m \u001b[0mTimeoutError\u001b[0m \u001b[0;32mfrom\u001b[0m \u001b[0me\u001b[0m\u001b[0;34m\u001b[0m\u001b[0;34m\u001b[0m\u001b[0m\n",
            "\u001b[0;32m/usr/lib/python3.6/concurrent/futures/_base.py\u001b[0m in \u001b[0;36mresult\u001b[0;34m(self, timeout)\u001b[0m\n\u001b[1;32m    425\u001b[0m                 \u001b[0;32mreturn\u001b[0m \u001b[0mself\u001b[0m\u001b[0;34m.\u001b[0m\u001b[0m__get_result\u001b[0m\u001b[0;34m(\u001b[0m\u001b[0;34m)\u001b[0m\u001b[0;34m\u001b[0m\u001b[0;34m\u001b[0m\u001b[0m\n\u001b[1;32m    426\u001b[0m \u001b[0;34m\u001b[0m\u001b[0m\n\u001b[0;32m--> 427\u001b[0;31m             \u001b[0mself\u001b[0m\u001b[0;34m.\u001b[0m\u001b[0m_condition\u001b[0m\u001b[0;34m.\u001b[0m\u001b[0mwait\u001b[0m\u001b[0;34m(\u001b[0m\u001b[0mtimeout\u001b[0m\u001b[0;34m)\u001b[0m\u001b[0;34m\u001b[0m\u001b[0;34m\u001b[0m\u001b[0m\n\u001b[0m\u001b[1;32m    428\u001b[0m \u001b[0;34m\u001b[0m\u001b[0m\n\u001b[1;32m    429\u001b[0m             \u001b[0;32mif\u001b[0m \u001b[0mself\u001b[0m\u001b[0;34m.\u001b[0m\u001b[0m_state\u001b[0m \u001b[0;32min\u001b[0m \u001b[0;34m[\u001b[0m\u001b[0mCANCELLED\u001b[0m\u001b[0;34m,\u001b[0m \u001b[0mCANCELLED_AND_NOTIFIED\u001b[0m\u001b[0;34m]\u001b[0m\u001b[0;34m:\u001b[0m\u001b[0;34m\u001b[0m\u001b[0;34m\u001b[0m\u001b[0m\n",
            "\u001b[0;32m/usr/lib/python3.6/threading.py\u001b[0m in \u001b[0;36mwait\u001b[0;34m(self, timeout)\u001b[0m\n\u001b[1;32m    293\u001b[0m         \u001b[0;32mtry\u001b[0m\u001b[0;34m:\u001b[0m    \u001b[0;31m# restore state no matter what (e.g., KeyboardInterrupt)\u001b[0m\u001b[0;34m\u001b[0m\u001b[0;34m\u001b[0m\u001b[0m\n\u001b[1;32m    294\u001b[0m             \u001b[0;32mif\u001b[0m \u001b[0mtimeout\u001b[0m \u001b[0;32mis\u001b[0m \u001b[0;32mNone\u001b[0m\u001b[0;34m:\u001b[0m\u001b[0;34m\u001b[0m\u001b[0;34m\u001b[0m\u001b[0m\n\u001b[0;32m--> 295\u001b[0;31m                 \u001b[0mwaiter\u001b[0m\u001b[0;34m.\u001b[0m\u001b[0macquire\u001b[0m\u001b[0;34m(\u001b[0m\u001b[0;34m)\u001b[0m\u001b[0;34m\u001b[0m\u001b[0;34m\u001b[0m\u001b[0m\n\u001b[0m\u001b[1;32m    296\u001b[0m                 \u001b[0mgotit\u001b[0m \u001b[0;34m=\u001b[0m \u001b[0;32mTrue\u001b[0m\u001b[0;34m\u001b[0m\u001b[0;34m\u001b[0m\u001b[0m\n\u001b[1;32m    297\u001b[0m             \u001b[0;32melse\u001b[0m\u001b[0;34m:\u001b[0m\u001b[0;34m\u001b[0m\u001b[0;34m\u001b[0m\u001b[0m\n",
            "\u001b[0;31mKeyboardInterrupt\u001b[0m: "
          ]
        }
      ]
    },
    {
      "cell_type": "markdown",
      "metadata": {
        "id": "08iEHf2cjOvy"
      },
      "source": [
        "## 2차\r\n",
        "\r\n",
        "* https://omicro03.medium.com/%EC%9E%90%EC%97%B0%EC%96%B4%EC%B2%98%EB%A6%AC-nlp-8%EC%9D%BC%EC%B0%A8-lda-f571b4da9d04"
      ]
    },
    {
      "cell_type": "code",
      "metadata": {
        "id": "kOJoaidTAFSe",
        "colab": {
          "base_uri": "https://localhost:8080/",
          "height": 204
        },
        "outputId": "69759c62-59ba-410c-fcb2-dc376a5d6765"
      },
      "source": [
        "text = df[['LineId','Content']]\r\n",
        "text.head()"
      ],
      "execution_count": 40,
      "outputs": [
        {
          "output_type": "execute_result",
          "data": {
            "text/html": [
              "<div>\n",
              "<style scoped>\n",
              "    .dataframe tbody tr th:only-of-type {\n",
              "        vertical-align: middle;\n",
              "    }\n",
              "\n",
              "    .dataframe tbody tr th {\n",
              "        vertical-align: top;\n",
              "    }\n",
              "\n",
              "    .dataframe thead th {\n",
              "        text-align: right;\n",
              "    }\n",
              "</style>\n",
              "<table border=\"1\" class=\"dataframe\">\n",
              "  <thead>\n",
              "    <tr style=\"text-align: right;\">\n",
              "      <th></th>\n",
              "      <th>LineId</th>\n",
              "      <th>Content</th>\n",
              "    </tr>\n",
              "  </thead>\n",
              "  <tbody>\n",
              "    <tr>\n",
              "      <th>0</th>\n",
              "      <td>1</td>\n",
              "      <td>Receiving block blk_-1608999687919862906 src: ...</td>\n",
              "    </tr>\n",
              "    <tr>\n",
              "      <th>1</th>\n",
              "      <td>2</td>\n",
              "      <td>BLOCK* NameSystem.allocateBlock: /mnt/hadoop/m...</td>\n",
              "    </tr>\n",
              "    <tr>\n",
              "      <th>2</th>\n",
              "      <td>3</td>\n",
              "      <td>Receiving block blk_-1608999687919862906 src: ...</td>\n",
              "    </tr>\n",
              "    <tr>\n",
              "      <th>3</th>\n",
              "      <td>4</td>\n",
              "      <td>Receiving block blk_-1608999687919862906 src: ...</td>\n",
              "    </tr>\n",
              "    <tr>\n",
              "      <th>4</th>\n",
              "      <td>5</td>\n",
              "      <td>PacketResponder 1 for block blk_-1608999687919...</td>\n",
              "    </tr>\n",
              "  </tbody>\n",
              "</table>\n",
              "</div>"
            ],
            "text/plain": [
              "   LineId                                            Content\n",
              "0       1  Receiving block blk_-1608999687919862906 src: ...\n",
              "1       2  BLOCK* NameSystem.allocateBlock: /mnt/hadoop/m...\n",
              "2       3  Receiving block blk_-1608999687919862906 src: ...\n",
              "3       4  Receiving block blk_-1608999687919862906 src: ...\n",
              "4       5  PacketResponder 1 for block blk_-1608999687919..."
            ]
          },
          "metadata": {
            "tags": []
          },
          "execution_count": 40
        }
      ]
    },
    {
      "cell_type": "code",
      "metadata": {
        "colab": {
          "base_uri": "https://localhost:8080/"
        },
        "id": "MbWlXnsMtng2",
        "outputId": "2046c025-cf80-4403-9e3f-baa6809c0268"
      },
      "source": [
        "import nltk\r\n",
        "nltk.download('punkt')"
      ],
      "execution_count": 41,
      "outputs": [
        {
          "output_type": "stream",
          "text": [
            "[nltk_data] Downloading package punkt to /root/nltk_data...\n",
            "[nltk_data]   Package punkt is already up-to-date!\n"
          ],
          "name": "stdout"
        },
        {
          "output_type": "execute_result",
          "data": {
            "text/plain": [
              "True"
            ]
          },
          "metadata": {
            "tags": []
          },
          "execution_count": 41
        }
      ]
    },
    {
      "cell_type": "code",
      "metadata": {
        "colab": {
          "base_uri": "https://localhost:8080/",
          "height": 312
        },
        "id": "8237ZeNuj4rB",
        "outputId": "02d2c105-9c19-4ee0-aec0-4395e0f02eb1"
      },
      "source": [
        "# 토큰화\r\n",
        "text['Content'] = text.apply(lambda row: nltk.word_tokenize(row['Content']), axis=1)\r\n",
        "text.head()"
      ],
      "execution_count": 42,
      "outputs": [
        {
          "output_type": "stream",
          "text": [
            "/usr/local/lib/python3.6/dist-packages/ipykernel_launcher.py:2: SettingWithCopyWarning: \n",
            "A value is trying to be set on a copy of a slice from a DataFrame.\n",
            "Try using .loc[row_indexer,col_indexer] = value instead\n",
            "\n",
            "See the caveats in the documentation: https://pandas.pydata.org/pandas-docs/stable/user_guide/indexing.html#returning-a-view-versus-a-copy\n",
            "  \n"
          ],
          "name": "stderr"
        },
        {
          "output_type": "execute_result",
          "data": {
            "text/html": [
              "<div>\n",
              "<style scoped>\n",
              "    .dataframe tbody tr th:only-of-type {\n",
              "        vertical-align: middle;\n",
              "    }\n",
              "\n",
              "    .dataframe tbody tr th {\n",
              "        vertical-align: top;\n",
              "    }\n",
              "\n",
              "    .dataframe thead th {\n",
              "        text-align: right;\n",
              "    }\n",
              "</style>\n",
              "<table border=\"1\" class=\"dataframe\">\n",
              "  <thead>\n",
              "    <tr style=\"text-align: right;\">\n",
              "      <th></th>\n",
              "      <th>LineId</th>\n",
              "      <th>Content</th>\n",
              "    </tr>\n",
              "  </thead>\n",
              "  <tbody>\n",
              "    <tr>\n",
              "      <th>0</th>\n",
              "      <td>1</td>\n",
              "      <td>[Receiving, block, blk_-1608999687919862906, s...</td>\n",
              "    </tr>\n",
              "    <tr>\n",
              "      <th>1</th>\n",
              "      <td>2</td>\n",
              "      <td>[BLOCK*, NameSystem.allocateBlock, :, /mnt/had...</td>\n",
              "    </tr>\n",
              "    <tr>\n",
              "      <th>2</th>\n",
              "      <td>3</td>\n",
              "      <td>[Receiving, block, blk_-1608999687919862906, s...</td>\n",
              "    </tr>\n",
              "    <tr>\n",
              "      <th>3</th>\n",
              "      <td>4</td>\n",
              "      <td>[Receiving, block, blk_-1608999687919862906, s...</td>\n",
              "    </tr>\n",
              "    <tr>\n",
              "      <th>4</th>\n",
              "      <td>5</td>\n",
              "      <td>[PacketResponder, 1, for, block, blk_-16089996...</td>\n",
              "    </tr>\n",
              "  </tbody>\n",
              "</table>\n",
              "</div>"
            ],
            "text/plain": [
              "   LineId                                            Content\n",
              "0       1  [Receiving, block, blk_-1608999687919862906, s...\n",
              "1       2  [BLOCK*, NameSystem.allocateBlock, :, /mnt/had...\n",
              "2       3  [Receiving, block, blk_-1608999687919862906, s...\n",
              "3       4  [Receiving, block, blk_-1608999687919862906, s...\n",
              "4       5  [PacketResponder, 1, for, block, blk_-16089996..."
            ]
          },
          "metadata": {
            "tags": []
          },
          "execution_count": 42
        }
      ]
    },
    {
      "cell_type": "code",
      "metadata": {
        "colab": {
          "base_uri": "https://localhost:8080/"
        },
        "id": "Hwz6v6LntwEk",
        "outputId": "4608e7a1-4013-4088-c36c-e5aaec26df38"
      },
      "source": [
        "from nltk.corpus import stopwords\r\n",
        "nltk.download('stopwords')"
      ],
      "execution_count": 43,
      "outputs": [
        {
          "output_type": "stream",
          "text": [
            "[nltk_data] Downloading package stopwords to /root/nltk_data...\n",
            "[nltk_data]   Package stopwords is already up-to-date!\n"
          ],
          "name": "stdout"
        },
        {
          "output_type": "execute_result",
          "data": {
            "text/plain": [
              "True"
            ]
          },
          "metadata": {
            "tags": []
          },
          "execution_count": 43
        }
      ]
    },
    {
      "cell_type": "code",
      "metadata": {
        "colab": {
          "base_uri": "https://localhost:8080/",
          "height": 312
        },
        "id": "MEigGbnoj4n7",
        "outputId": "75ce0d47-df11-45e8-c80f-b1a1130f3297"
      },
      "source": [
        "# 불용어 처리\r\n",
        "stop = stopwords.words('english')\r\n",
        "text['Content'] = text['Content'].apply(lambda x: [word for word in x if word not in (stop)])\r\n",
        "text.head()"
      ],
      "execution_count": 44,
      "outputs": [
        {
          "output_type": "stream",
          "text": [
            "/usr/local/lib/python3.6/dist-packages/ipykernel_launcher.py:3: SettingWithCopyWarning: \n",
            "A value is trying to be set on a copy of a slice from a DataFrame.\n",
            "Try using .loc[row_indexer,col_indexer] = value instead\n",
            "\n",
            "See the caveats in the documentation: https://pandas.pydata.org/pandas-docs/stable/user_guide/indexing.html#returning-a-view-versus-a-copy\n",
            "  This is separate from the ipykernel package so we can avoid doing imports until\n"
          ],
          "name": "stderr"
        },
        {
          "output_type": "execute_result",
          "data": {
            "text/html": [
              "<div>\n",
              "<style scoped>\n",
              "    .dataframe tbody tr th:only-of-type {\n",
              "        vertical-align: middle;\n",
              "    }\n",
              "\n",
              "    .dataframe tbody tr th {\n",
              "        vertical-align: top;\n",
              "    }\n",
              "\n",
              "    .dataframe thead th {\n",
              "        text-align: right;\n",
              "    }\n",
              "</style>\n",
              "<table border=\"1\" class=\"dataframe\">\n",
              "  <thead>\n",
              "    <tr style=\"text-align: right;\">\n",
              "      <th></th>\n",
              "      <th>LineId</th>\n",
              "      <th>Content</th>\n",
              "    </tr>\n",
              "  </thead>\n",
              "  <tbody>\n",
              "    <tr>\n",
              "      <th>0</th>\n",
              "      <td>1</td>\n",
              "      <td>[Receiving, block, blk_-1608999687919862906, s...</td>\n",
              "    </tr>\n",
              "    <tr>\n",
              "      <th>1</th>\n",
              "      <td>2</td>\n",
              "      <td>[BLOCK*, NameSystem.allocateBlock, :, /mnt/had...</td>\n",
              "    </tr>\n",
              "    <tr>\n",
              "      <th>2</th>\n",
              "      <td>3</td>\n",
              "      <td>[Receiving, block, blk_-1608999687919862906, s...</td>\n",
              "    </tr>\n",
              "    <tr>\n",
              "      <th>3</th>\n",
              "      <td>4</td>\n",
              "      <td>[Receiving, block, blk_-1608999687919862906, s...</td>\n",
              "    </tr>\n",
              "    <tr>\n",
              "      <th>4</th>\n",
              "      <td>5</td>\n",
              "      <td>[PacketResponder, 1, block, blk_-1608999687919...</td>\n",
              "    </tr>\n",
              "  </tbody>\n",
              "</table>\n",
              "</div>"
            ],
            "text/plain": [
              "   LineId                                            Content\n",
              "0       1  [Receiving, block, blk_-1608999687919862906, s...\n",
              "1       2  [BLOCK*, NameSystem.allocateBlock, :, /mnt/had...\n",
              "2       3  [Receiving, block, blk_-1608999687919862906, s...\n",
              "3       4  [Receiving, block, blk_-1608999687919862906, s...\n",
              "4       5  [PacketResponder, 1, block, blk_-1608999687919..."
            ]
          },
          "metadata": {
            "tags": []
          },
          "execution_count": 44
        }
      ]
    },
    {
      "cell_type": "code",
      "metadata": {
        "colab": {
          "base_uri": "https://localhost:8080/"
        },
        "id": "vrGakC6tt2eF",
        "outputId": "9908c6ee-13b3-4152-e4c1-fb6a17465b83"
      },
      "source": [
        "nltk.download('wordnet')"
      ],
      "execution_count": 45,
      "outputs": [
        {
          "output_type": "stream",
          "text": [
            "[nltk_data] Downloading package wordnet to /root/nltk_data...\n",
            "[nltk_data]   Package wordnet is already up-to-date!\n"
          ],
          "name": "stdout"
        },
        {
          "output_type": "execute_result",
          "data": {
            "text/plain": [
              "True"
            ]
          },
          "metadata": {
            "tags": []
          },
          "execution_count": 45
        }
      ]
    },
    {
      "cell_type": "code",
      "metadata": {
        "colab": {
          "base_uri": "https://localhost:8080/",
          "height": 312
        },
        "id": "EspSP4ADj4kn",
        "outputId": "fcedf715-976a-4b62-e50e-3abf25123477"
      },
      "source": [
        "# 표제어 추출\r\n",
        "from nltk.stem import WordNetLemmatizer\r\n",
        "text['Content'] = text['Content'].apply(lambda x : [WordNetLemmatizer().lemmatize(word, pos='v') for word in x])\r\n",
        "text.head()"
      ],
      "execution_count": 46,
      "outputs": [
        {
          "output_type": "stream",
          "text": [
            "/usr/local/lib/python3.6/dist-packages/ipykernel_launcher.py:3: SettingWithCopyWarning: \n",
            "A value is trying to be set on a copy of a slice from a DataFrame.\n",
            "Try using .loc[row_indexer,col_indexer] = value instead\n",
            "\n",
            "See the caveats in the documentation: https://pandas.pydata.org/pandas-docs/stable/user_guide/indexing.html#returning-a-view-versus-a-copy\n",
            "  This is separate from the ipykernel package so we can avoid doing imports until\n"
          ],
          "name": "stderr"
        },
        {
          "output_type": "execute_result",
          "data": {
            "text/html": [
              "<div>\n",
              "<style scoped>\n",
              "    .dataframe tbody tr th:only-of-type {\n",
              "        vertical-align: middle;\n",
              "    }\n",
              "\n",
              "    .dataframe tbody tr th {\n",
              "        vertical-align: top;\n",
              "    }\n",
              "\n",
              "    .dataframe thead th {\n",
              "        text-align: right;\n",
              "    }\n",
              "</style>\n",
              "<table border=\"1\" class=\"dataframe\">\n",
              "  <thead>\n",
              "    <tr style=\"text-align: right;\">\n",
              "      <th></th>\n",
              "      <th>LineId</th>\n",
              "      <th>Content</th>\n",
              "    </tr>\n",
              "  </thead>\n",
              "  <tbody>\n",
              "    <tr>\n",
              "      <th>0</th>\n",
              "      <td>1</td>\n",
              "      <td>[Receiving, block, blk_-1608999687919862906, s...</td>\n",
              "    </tr>\n",
              "    <tr>\n",
              "      <th>1</th>\n",
              "      <td>2</td>\n",
              "      <td>[BLOCK*, NameSystem.allocateBlock, :, /mnt/had...</td>\n",
              "    </tr>\n",
              "    <tr>\n",
              "      <th>2</th>\n",
              "      <td>3</td>\n",
              "      <td>[Receiving, block, blk_-1608999687919862906, s...</td>\n",
              "    </tr>\n",
              "    <tr>\n",
              "      <th>3</th>\n",
              "      <td>4</td>\n",
              "      <td>[Receiving, block, blk_-1608999687919862906, s...</td>\n",
              "    </tr>\n",
              "    <tr>\n",
              "      <th>4</th>\n",
              "      <td>5</td>\n",
              "      <td>[PacketResponder, 1, block, blk_-1608999687919...</td>\n",
              "    </tr>\n",
              "  </tbody>\n",
              "</table>\n",
              "</div>"
            ],
            "text/plain": [
              "   LineId                                            Content\n",
              "0       1  [Receiving, block, blk_-1608999687919862906, s...\n",
              "1       2  [BLOCK*, NameSystem.allocateBlock, :, /mnt/had...\n",
              "2       3  [Receiving, block, blk_-1608999687919862906, s...\n",
              "3       4  [Receiving, block, blk_-1608999687919862906, s...\n",
              "4       5  [PacketResponder, 1, block, blk_-1608999687919..."
            ]
          },
          "metadata": {
            "tags": []
          },
          "execution_count": 46
        }
      ]
    },
    {
      "cell_type": "code",
      "metadata": {
        "colab": {
          "base_uri": "https://localhost:8080/"
        },
        "id": "4SROh1i3j4hd",
        "outputId": "7cad4737-0174-4cc6-93e1-50971babb6f3"
      },
      "source": [
        "# 일정 길이 이하 단어 삭제 \r\n",
        "tokenized_doc = text['Content'].apply(lambda x : [word for word in x if len(word) > 3])\r\n",
        "tokenized_doc[:5]"
      ],
      "execution_count": 47,
      "outputs": [
        {
          "output_type": "execute_result",
          "data": {
            "text/plain": [
              "0    [Receiving, block, blk_-1608999687919862906, /...\n",
              "1    [BLOCK*, NameSystem.allocateBlock, /mnt/hadoop...\n",
              "2    [Receiving, block, blk_-1608999687919862906, /...\n",
              "3    [Receiving, block, blk_-1608999687919862906, /...\n",
              "4    [PacketResponder, block, blk_-1608999687919862...\n",
              "Name: Content, dtype: object"
            ]
          },
          "metadata": {
            "tags": []
          },
          "execution_count": 47
        }
      ]
    },
    {
      "cell_type": "code",
      "metadata": {
        "colab": {
          "base_uri": "https://localhost:8080/",
          "height": 312
        },
        "id": "Uj26UIp9kgG8",
        "outputId": "4017fe31-7a3f-4020-e566-cfb21135ca3f"
      },
      "source": [
        "# 역토큰화\r\n",
        "detokenized_doc = []\r\n",
        "for i in range(len(text)):\r\n",
        "    t = ' '.join(tokenized_doc[i])\r\n",
        "    detokenized_doc.append(t)\r\n",
        "text['Content'] = detokenized_doc\r\n",
        "# 다시 text['Content'] 에 저장\r\n",
        "text.head()"
      ],
      "execution_count": 32,
      "outputs": [
        {
          "output_type": "stream",
          "text": [
            "/usr/local/lib/python3.6/dist-packages/ipykernel_launcher.py:6: SettingWithCopyWarning: \n",
            "A value is trying to be set on a copy of a slice from a DataFrame.\n",
            "Try using .loc[row_indexer,col_indexer] = value instead\n",
            "\n",
            "See the caveats in the documentation: https://pandas.pydata.org/pandas-docs/stable/user_guide/indexing.html#returning-a-view-versus-a-copy\n",
            "  \n"
          ],
          "name": "stderr"
        },
        {
          "output_type": "execute_result",
          "data": {
            "text/html": [
              "<div>\n",
              "<style scoped>\n",
              "    .dataframe tbody tr th:only-of-type {\n",
              "        vertical-align: middle;\n",
              "    }\n",
              "\n",
              "    .dataframe tbody tr th {\n",
              "        vertical-align: top;\n",
              "    }\n",
              "\n",
              "    .dataframe thead th {\n",
              "        text-align: right;\n",
              "    }\n",
              "</style>\n",
              "<table border=\"1\" class=\"dataframe\">\n",
              "  <thead>\n",
              "    <tr style=\"text-align: right;\">\n",
              "      <th></th>\n",
              "      <th>LineId</th>\n",
              "      <th>Content</th>\n",
              "    </tr>\n",
              "  </thead>\n",
              "  <tbody>\n",
              "    <tr>\n",
              "      <th>0</th>\n",
              "      <td>1</td>\n",
              "      <td>Receiving block blk_-1608999687919862906 /10.2...</td>\n",
              "    </tr>\n",
              "    <tr>\n",
              "      <th>1</th>\n",
              "      <td>2</td>\n",
              "      <td>BLOCK* NameSystem.allocateBlock /mnt/hadoop/ma...</td>\n",
              "    </tr>\n",
              "    <tr>\n",
              "      <th>2</th>\n",
              "      <td>3</td>\n",
              "      <td>Receiving block blk_-1608999687919862906 /10.2...</td>\n",
              "    </tr>\n",
              "    <tr>\n",
              "      <th>3</th>\n",
              "      <td>4</td>\n",
              "      <td>Receiving block blk_-1608999687919862906 /10.2...</td>\n",
              "    </tr>\n",
              "    <tr>\n",
              "      <th>4</th>\n",
              "      <td>5</td>\n",
              "      <td>PacketResponder block blk_-1608999687919862906...</td>\n",
              "    </tr>\n",
              "  </tbody>\n",
              "</table>\n",
              "</div>"
            ],
            "text/plain": [
              "   LineId                                            Content\n",
              "0       1  Receiving block blk_-1608999687919862906 /10.2...\n",
              "1       2  BLOCK* NameSystem.allocateBlock /mnt/hadoop/ma...\n",
              "2       3  Receiving block blk_-1608999687919862906 /10.2...\n",
              "3       4  Receiving block blk_-1608999687919862906 /10.2...\n",
              "4       5  PacketResponder block blk_-1608999687919862906..."
            ]
          },
          "metadata": {
            "tags": []
          },
          "execution_count": 32
        }
      ]
    },
    {
      "cell_type": "code",
      "metadata": {
        "colab": {
          "base_uri": "https://localhost:8080/"
        },
        "id": "5z_GR-pDkgED",
        "outputId": "a4869514-965b-4426-8d97-fb73362d5188"
      },
      "source": [
        "from sklearn.feature_extraction.text import TfidfVectorizer\r\n",
        "vectorizer = TfidfVectorizer(stop_words='english', max_features=1000)\r\n",
        "X = vectorizer.fit_transform(text['Content'])\r\n",
        "X.shape"
      ],
      "execution_count": 33,
      "outputs": [
        {
          "output_type": "execute_result",
          "data": {
            "text/plain": [
              "(104815, 1000)"
            ]
          },
          "metadata": {
            "tags": []
          },
          "execution_count": 33
        }
      ]
    },
    {
      "cell_type": "code",
      "metadata": {
        "colab": {
          "base_uri": "https://localhost:8080/"
        },
        "id": "1badxmLKkgA8",
        "outputId": "28979bea-2f50-4912-f0cb-9ac5687428cd"
      },
      "source": [
        "from sklearn.decomposition import LatentDirichletAllocation\r\n",
        "lda_model = LatentDirichletAllocation(n_components=10, learning_method='online', random_state=777, max_iter=1)\r\n",
        "lda_top = lda_model.fit_transform(X)\r\n",
        "print(lda_model.components_)\r\n",
        "print(lda_model.components_.shape)"
      ],
      "execution_count": 34,
      "outputs": [
        {
          "output_type": "stream",
          "text": [
            "[[1.00000006e-01 1.00000006e-01 1.00000008e-01 ... 1.00000042e-01\n",
            "  1.00000818e-01 1.00000007e-01]\n",
            " [1.89001672e+00 4.28374804e+00 2.82443277e+00 ... 2.00300039e+03\n",
            "  1.00000107e-01 1.00000008e-01]\n",
            " [1.00000006e-01 1.00000009e-01 1.00000007e-01 ... 1.00000007e-01\n",
            "  1.00000014e-01 1.00000007e-01]\n",
            " ...\n",
            " [1.00000008e-01 1.00000007e-01 1.00000007e-01 ... 1.00000008e-01\n",
            "  1.00000403e-01 1.00000007e-01]\n",
            " [1.00017155e-01 1.00000006e-01 1.00000008e-01 ... 1.00000032e-01\n",
            "  6.04580620e+03 1.00000007e-01]\n",
            " [1.00000006e-01 1.00000008e-01 1.00000007e-01 ... 1.00000122e-01\n",
            "  1.00000184e-01 1.00000007e-01]]\n",
            "(10, 1000)\n"
          ],
          "name": "stdout"
        }
      ]
    },
    {
      "cell_type": "code",
      "metadata": {
        "colab": {
          "base_uri": "https://localhost:8080/"
        },
        "id": "6QKAalS0m7rg",
        "outputId": "1eeb9a7d-2513-40f8-8e4e-85a5bb613f86"
      },
      "source": [
        "terms = vectorizer.get_feature_names() \r\n",
        "# 단어 집합. 1,000개의 단어가 저장되어있음.\r\n",
        "def get_topics(components, feature_names, n=5):\r\n",
        "    for idx, topic in enumerate(components):\r\n",
        "        print(\"Topic %d :\" % (idx+1), [(feature_names[i], topic[i].round(2)) for i in topic.argsort()[:-n -1:-1]])\r\n",
        "get_topics(lda_model.components_, terms)"
      ],
      "execution_count": 38,
      "outputs": [
        {
          "output_type": "stream",
          "text": [
            "Topic 1 : [('107', 1102.18), ('251', 1081.04), ('30', 1007.07), ('10', 951.24), ('134', 779.46)]\n",
            "Topic 2 : [('root', 2003.0), ('user', 2003.0), ('rand', 2003.0), ('allocateblock', 2002.79), ('_temporary', 2002.77)]\n",
            "Topic 3 : [('addstoredblock', 6126.61), ('blockmap', 6124.14), ('update', 6124.14), ('namesystem', 5393.07), ('50010', 3903.47)]\n",
            "Topic 4 : [('10', 1478.77), ('250', 1312.99), ('received', 1171.09), ('size', 1045.39), ('67108864', 969.62)]\n",
            "Topic 5 : [('251', 1343.46), ('10', 1232.41), ('203', 1066.3), ('received', 1034.8), ('123', 994.32)]\n",
            "Topic 6 : [('70', 1141.97), ('194', 1058.49), ('251', 869.47), ('67', 792.84), ('10', 749.25)]\n",
            "Topic 7 : [('214', 1701.53), ('251', 1019.8), ('10', 978.46), ('received', 834.1), ('74', 778.95)]\n",
            "Topic 8 : [('251', 1207.42), ('10', 1055.27), ('31', 1029.24), ('111', 1027.74), ('192', 923.02)]\n",
            "Topic 9 : [('packetresponder', 15604.81), ('terminate', 15602.6), ('block', 6559.31), ('blk_', 6069.46), ('verification', 6045.81)]\n",
            "Topic 10 : [('10', 1248.69), ('250', 1215.9), ('42', 1096.18), ('received', 971.74), ('size', 844.3)]\n"
          ],
          "name": "stdout"
        }
      ]
    },
    {
      "cell_type": "markdown",
      "metadata": {
        "id": "omsURXYnuZRC"
      },
      "source": [
        "## 3차\r\n",
        "1차 + 2차"
      ]
    },
    {
      "cell_type": "code",
      "metadata": {
        "colab": {
          "base_uri": "https://localhost:8080/",
          "height": 204
        },
        "id": "QmkDlXnVuqtJ",
        "outputId": "6e3152ae-5272-44f9-be72-ffc3aa7aed46"
      },
      "source": [
        "text = df[['LineId','Content']]\r\n",
        "text.head()"
      ],
      "execution_count": 93,
      "outputs": [
        {
          "output_type": "execute_result",
          "data": {
            "text/html": [
              "<div>\n",
              "<style scoped>\n",
              "    .dataframe tbody tr th:only-of-type {\n",
              "        vertical-align: middle;\n",
              "    }\n",
              "\n",
              "    .dataframe tbody tr th {\n",
              "        vertical-align: top;\n",
              "    }\n",
              "\n",
              "    .dataframe thead th {\n",
              "        text-align: right;\n",
              "    }\n",
              "</style>\n",
              "<table border=\"1\" class=\"dataframe\">\n",
              "  <thead>\n",
              "    <tr style=\"text-align: right;\">\n",
              "      <th></th>\n",
              "      <th>LineId</th>\n",
              "      <th>Content</th>\n",
              "    </tr>\n",
              "  </thead>\n",
              "  <tbody>\n",
              "    <tr>\n",
              "      <th>0</th>\n",
              "      <td>1</td>\n",
              "      <td>Receiving block blk_-1608999687919862906 src: ...</td>\n",
              "    </tr>\n",
              "    <tr>\n",
              "      <th>1</th>\n",
              "      <td>2</td>\n",
              "      <td>BLOCK* NameSystem.allocateBlock: /mnt/hadoop/m...</td>\n",
              "    </tr>\n",
              "    <tr>\n",
              "      <th>2</th>\n",
              "      <td>3</td>\n",
              "      <td>Receiving block blk_-1608999687919862906 src: ...</td>\n",
              "    </tr>\n",
              "    <tr>\n",
              "      <th>3</th>\n",
              "      <td>4</td>\n",
              "      <td>Receiving block blk_-1608999687919862906 src: ...</td>\n",
              "    </tr>\n",
              "    <tr>\n",
              "      <th>4</th>\n",
              "      <td>5</td>\n",
              "      <td>PacketResponder 1 for block blk_-1608999687919...</td>\n",
              "    </tr>\n",
              "  </tbody>\n",
              "</table>\n",
              "</div>"
            ],
            "text/plain": [
              "   LineId                                            Content\n",
              "0       1  Receiving block blk_-1608999687919862906 src: ...\n",
              "1       2  BLOCK* NameSystem.allocateBlock: /mnt/hadoop/m...\n",
              "2       3  Receiving block blk_-1608999687919862906 src: ...\n",
              "3       4  Receiving block blk_-1608999687919862906 src: ...\n",
              "4       5  PacketResponder 1 for block blk_-1608999687919..."
            ]
          },
          "metadata": {
            "tags": []
          },
          "execution_count": 93
        }
      ]
    },
    {
      "cell_type": "code",
      "metadata": {
        "colab": {
          "base_uri": "https://localhost:8080/"
        },
        "id": "WfCKqPmZuqtK",
        "outputId": "a6cfda47-fe21-474e-ac02-423abd6261ce"
      },
      "source": [
        "import nltk\r\n",
        "nltk.download('punkt')"
      ],
      "execution_count": 94,
      "outputs": [
        {
          "output_type": "stream",
          "text": [
            "[nltk_data] Downloading package punkt to /root/nltk_data...\n",
            "[nltk_data]   Package punkt is already up-to-date!\n"
          ],
          "name": "stdout"
        },
        {
          "output_type": "execute_result",
          "data": {
            "text/plain": [
              "True"
            ]
          },
          "metadata": {
            "tags": []
          },
          "execution_count": 94
        }
      ]
    },
    {
      "cell_type": "code",
      "metadata": {
        "colab": {
          "base_uri": "https://localhost:8080/",
          "height": 204
        },
        "id": "6xDxaqCnuqtK",
        "outputId": "cf7adf97-9232-407b-bb8d-14ba7fde0b59"
      },
      "source": [
        "# 토큰화\r\n",
        "text['Content'] = text.apply(lambda row: nltk.word_tokenize(row['Content']), axis=1)\r\n",
        "text.head()"
      ],
      "execution_count": 95,
      "outputs": [
        {
          "output_type": "execute_result",
          "data": {
            "text/html": [
              "<div>\n",
              "<style scoped>\n",
              "    .dataframe tbody tr th:only-of-type {\n",
              "        vertical-align: middle;\n",
              "    }\n",
              "\n",
              "    .dataframe tbody tr th {\n",
              "        vertical-align: top;\n",
              "    }\n",
              "\n",
              "    .dataframe thead th {\n",
              "        text-align: right;\n",
              "    }\n",
              "</style>\n",
              "<table border=\"1\" class=\"dataframe\">\n",
              "  <thead>\n",
              "    <tr style=\"text-align: right;\">\n",
              "      <th></th>\n",
              "      <th>LineId</th>\n",
              "      <th>Content</th>\n",
              "    </tr>\n",
              "  </thead>\n",
              "  <tbody>\n",
              "    <tr>\n",
              "      <th>0</th>\n",
              "      <td>1</td>\n",
              "      <td>[Receiving, block, blk_-1608999687919862906, s...</td>\n",
              "    </tr>\n",
              "    <tr>\n",
              "      <th>1</th>\n",
              "      <td>2</td>\n",
              "      <td>[BLOCK*, NameSystem.allocateBlock, :, /mnt/had...</td>\n",
              "    </tr>\n",
              "    <tr>\n",
              "      <th>2</th>\n",
              "      <td>3</td>\n",
              "      <td>[Receiving, block, blk_-1608999687919862906, s...</td>\n",
              "    </tr>\n",
              "    <tr>\n",
              "      <th>3</th>\n",
              "      <td>4</td>\n",
              "      <td>[Receiving, block, blk_-1608999687919862906, s...</td>\n",
              "    </tr>\n",
              "    <tr>\n",
              "      <th>4</th>\n",
              "      <td>5</td>\n",
              "      <td>[PacketResponder, 1, for, block, blk_-16089996...</td>\n",
              "    </tr>\n",
              "  </tbody>\n",
              "</table>\n",
              "</div>"
            ],
            "text/plain": [
              "   LineId                                            Content\n",
              "0       1  [Receiving, block, blk_-1608999687919862906, s...\n",
              "1       2  [BLOCK*, NameSystem.allocateBlock, :, /mnt/had...\n",
              "2       3  [Receiving, block, blk_-1608999687919862906, s...\n",
              "3       4  [Receiving, block, blk_-1608999687919862906, s...\n",
              "4       5  [PacketResponder, 1, for, block, blk_-16089996..."
            ]
          },
          "metadata": {
            "tags": []
          },
          "execution_count": 95
        }
      ]
    },
    {
      "cell_type": "code",
      "metadata": {
        "colab": {
          "base_uri": "https://localhost:8080/"
        },
        "id": "0zFxmIkbuqtL",
        "outputId": "ddd12bba-ec58-4e2d-8486-ace5b1d0b61f"
      },
      "source": [
        "from nltk.corpus import stopwords\r\n",
        "nltk.download('stopwords')"
      ],
      "execution_count": 96,
      "outputs": [
        {
          "output_type": "stream",
          "text": [
            "[nltk_data] Downloading package stopwords to /root/nltk_data...\n",
            "[nltk_data]   Package stopwords is already up-to-date!\n"
          ],
          "name": "stdout"
        },
        {
          "output_type": "execute_result",
          "data": {
            "text/plain": [
              "True"
            ]
          },
          "metadata": {
            "tags": []
          },
          "execution_count": 96
        }
      ]
    },
    {
      "cell_type": "code",
      "metadata": {
        "colab": {
          "base_uri": "https://localhost:8080/",
          "height": 204
        },
        "id": "Ij5o1CSKuqtL",
        "outputId": "63efe553-dab0-414f-9a5b-8b9267cff97d"
      },
      "source": [
        "# 불용어 처리\r\n",
        "stop = stopwords.words('english')\r\n",
        "text['Content'] = text['Content'].apply(lambda x: [word for word in x if word not in (stop)])\r\n",
        "text.head()"
      ],
      "execution_count": 97,
      "outputs": [
        {
          "output_type": "execute_result",
          "data": {
            "text/html": [
              "<div>\n",
              "<style scoped>\n",
              "    .dataframe tbody tr th:only-of-type {\n",
              "        vertical-align: middle;\n",
              "    }\n",
              "\n",
              "    .dataframe tbody tr th {\n",
              "        vertical-align: top;\n",
              "    }\n",
              "\n",
              "    .dataframe thead th {\n",
              "        text-align: right;\n",
              "    }\n",
              "</style>\n",
              "<table border=\"1\" class=\"dataframe\">\n",
              "  <thead>\n",
              "    <tr style=\"text-align: right;\">\n",
              "      <th></th>\n",
              "      <th>LineId</th>\n",
              "      <th>Content</th>\n",
              "    </tr>\n",
              "  </thead>\n",
              "  <tbody>\n",
              "    <tr>\n",
              "      <th>0</th>\n",
              "      <td>1</td>\n",
              "      <td>[Receiving, block, blk_-1608999687919862906, s...</td>\n",
              "    </tr>\n",
              "    <tr>\n",
              "      <th>1</th>\n",
              "      <td>2</td>\n",
              "      <td>[BLOCK*, NameSystem.allocateBlock, :, /mnt/had...</td>\n",
              "    </tr>\n",
              "    <tr>\n",
              "      <th>2</th>\n",
              "      <td>3</td>\n",
              "      <td>[Receiving, block, blk_-1608999687919862906, s...</td>\n",
              "    </tr>\n",
              "    <tr>\n",
              "      <th>3</th>\n",
              "      <td>4</td>\n",
              "      <td>[Receiving, block, blk_-1608999687919862906, s...</td>\n",
              "    </tr>\n",
              "    <tr>\n",
              "      <th>4</th>\n",
              "      <td>5</td>\n",
              "      <td>[PacketResponder, 1, block, blk_-1608999687919...</td>\n",
              "    </tr>\n",
              "  </tbody>\n",
              "</table>\n",
              "</div>"
            ],
            "text/plain": [
              "   LineId                                            Content\n",
              "0       1  [Receiving, block, blk_-1608999687919862906, s...\n",
              "1       2  [BLOCK*, NameSystem.allocateBlock, :, /mnt/had...\n",
              "2       3  [Receiving, block, blk_-1608999687919862906, s...\n",
              "3       4  [Receiving, block, blk_-1608999687919862906, s...\n",
              "4       5  [PacketResponder, 1, block, blk_-1608999687919..."
            ]
          },
          "metadata": {
            "tags": []
          },
          "execution_count": 97
        }
      ]
    },
    {
      "cell_type": "code",
      "metadata": {
        "colab": {
          "base_uri": "https://localhost:8080/"
        },
        "id": "FnU2M-wuuqtL",
        "outputId": "25d931ed-04bc-4986-abf2-4861ed6c944c"
      },
      "source": [
        "nltk.download('wordnet')"
      ],
      "execution_count": 98,
      "outputs": [
        {
          "output_type": "stream",
          "text": [
            "[nltk_data] Downloading package wordnet to /root/nltk_data...\n",
            "[nltk_data]   Package wordnet is already up-to-date!\n"
          ],
          "name": "stdout"
        },
        {
          "output_type": "execute_result",
          "data": {
            "text/plain": [
              "True"
            ]
          },
          "metadata": {
            "tags": []
          },
          "execution_count": 98
        }
      ]
    },
    {
      "cell_type": "code",
      "metadata": {
        "colab": {
          "base_uri": "https://localhost:8080/",
          "height": 204
        },
        "id": "y0we1EdruqtL",
        "outputId": "65b855d9-1104-457d-8480-a26645c72ca9"
      },
      "source": [
        "# 표제어 추출\r\n",
        "from nltk.stem import WordNetLemmatizer\r\n",
        "text['Content'] = text['Content'].apply(lambda x : [WordNetLemmatizer().lemmatize(word, pos='v') for word in x])\r\n",
        "text.head()"
      ],
      "execution_count": 99,
      "outputs": [
        {
          "output_type": "execute_result",
          "data": {
            "text/html": [
              "<div>\n",
              "<style scoped>\n",
              "    .dataframe tbody tr th:only-of-type {\n",
              "        vertical-align: middle;\n",
              "    }\n",
              "\n",
              "    .dataframe tbody tr th {\n",
              "        vertical-align: top;\n",
              "    }\n",
              "\n",
              "    .dataframe thead th {\n",
              "        text-align: right;\n",
              "    }\n",
              "</style>\n",
              "<table border=\"1\" class=\"dataframe\">\n",
              "  <thead>\n",
              "    <tr style=\"text-align: right;\">\n",
              "      <th></th>\n",
              "      <th>LineId</th>\n",
              "      <th>Content</th>\n",
              "    </tr>\n",
              "  </thead>\n",
              "  <tbody>\n",
              "    <tr>\n",
              "      <th>0</th>\n",
              "      <td>1</td>\n",
              "      <td>[Receiving, block, blk_-1608999687919862906, s...</td>\n",
              "    </tr>\n",
              "    <tr>\n",
              "      <th>1</th>\n",
              "      <td>2</td>\n",
              "      <td>[BLOCK*, NameSystem.allocateBlock, :, /mnt/had...</td>\n",
              "    </tr>\n",
              "    <tr>\n",
              "      <th>2</th>\n",
              "      <td>3</td>\n",
              "      <td>[Receiving, block, blk_-1608999687919862906, s...</td>\n",
              "    </tr>\n",
              "    <tr>\n",
              "      <th>3</th>\n",
              "      <td>4</td>\n",
              "      <td>[Receiving, block, blk_-1608999687919862906, s...</td>\n",
              "    </tr>\n",
              "    <tr>\n",
              "      <th>4</th>\n",
              "      <td>5</td>\n",
              "      <td>[PacketResponder, 1, block, blk_-1608999687919...</td>\n",
              "    </tr>\n",
              "  </tbody>\n",
              "</table>\n",
              "</div>"
            ],
            "text/plain": [
              "   LineId                                            Content\n",
              "0       1  [Receiving, block, blk_-1608999687919862906, s...\n",
              "1       2  [BLOCK*, NameSystem.allocateBlock, :, /mnt/had...\n",
              "2       3  [Receiving, block, blk_-1608999687919862906, s...\n",
              "3       4  [Receiving, block, blk_-1608999687919862906, s...\n",
              "4       5  [PacketResponder, 1, block, blk_-1608999687919..."
            ]
          },
          "metadata": {
            "tags": []
          },
          "execution_count": 99
        }
      ]
    },
    {
      "cell_type": "code",
      "metadata": {
        "colab": {
          "base_uri": "https://localhost:8080/"
        },
        "id": "stkqxNASuqtL",
        "outputId": "6c1c9054-3679-45e0-ce67-f32173a2186c"
      },
      "source": [
        "# 일정 길이 이하 단어 삭제 \r\n",
        "tokenized_doc = text['Content'].apply(lambda x : [word for word in x if len(word) > 3])\r\n",
        "tokenized_doc[:5]"
      ],
      "execution_count": 100,
      "outputs": [
        {
          "output_type": "execute_result",
          "data": {
            "text/plain": [
              "0    [Receiving, block, blk_-1608999687919862906, /...\n",
              "1    [BLOCK*, NameSystem.allocateBlock, /mnt/hadoop...\n",
              "2    [Receiving, block, blk_-1608999687919862906, /...\n",
              "3    [Receiving, block, blk_-1608999687919862906, /...\n",
              "4    [PacketResponder, block, blk_-1608999687919862...\n",
              "Name: Content, dtype: object"
            ]
          },
          "metadata": {
            "tags": []
          },
          "execution_count": 100
        }
      ]
    },
    {
      "cell_type": "code",
      "metadata": {
        "id": "B6nVnoSvueN4"
      },
      "source": [
        "data = [i for i in tokenized_doc]"
      ],
      "execution_count": 104,
      "outputs": []
    },
    {
      "cell_type": "code",
      "metadata": {
        "id": "2eAL5qGLu41e"
      },
      "source": [
        "id2word = corpora.Dictionary(data)"
      ],
      "execution_count": 105,
      "outputs": []
    },
    {
      "cell_type": "code",
      "metadata": {
        "id": "u120Pa7hu41i"
      },
      "source": [
        "corpus = [id2word.doc2bow(text) for text in data]"
      ],
      "execution_count": 106,
      "outputs": []
    },
    {
      "cell_type": "code",
      "metadata": {
        "colab": {
          "base_uri": "https://localhost:8080/"
        },
        "id": "u-CD7KaWu41i",
        "outputId": "7f0e90de-a66a-4a84-c1a6-56067147a4b2"
      },
      "source": [
        "print(corpus[:1])"
      ],
      "execution_count": 107,
      "outputs": [
        {
          "output_type": "stream",
          "text": [
            "[[(0, 1), (1, 1), (2, 1), (3, 1), (4, 1), (5, 1)]]\n"
          ],
          "name": "stdout"
        }
      ]
    },
    {
      "cell_type": "code",
      "metadata": {
        "id": "n2rrfqI1vDul"
      },
      "source": [
        "import warnings \r\n",
        "warnings.filterwarnings('ignore')"
      ],
      "execution_count": 108,
      "outputs": []
    },
    {
      "cell_type": "code",
      "metadata": {
        "id": "VwYxMCQPu41j"
      },
      "source": [
        "lda_model = gensim.models.ldamodel.LdaModel(corpus = corpus,\r\n",
        "                                            id2word = id2word,\r\n",
        "                                            num_topics = 10,\r\n",
        "                                            random_state = 100,\r\n",
        "                                            update_every =1,\r\n",
        "                                            chunksize = 100,\r\n",
        "                                            passes = 10,\r\n",
        "                                            alpha= 'auto',\r\n",
        "                                            per_word_topics = True\r\n",
        "                                            )"
      ],
      "execution_count": 109,
      "outputs": []
    },
    {
      "cell_type": "code",
      "metadata": {
        "colab": {
          "base_uri": "https://localhost:8080/"
        },
        "id": "ZgBUgWaFu41k",
        "outputId": "0f4cb5b4-54a4-4609-bbbe-e31742c133dd"
      },
      "source": [
        "pprint(lda_model.print_topics())\r\n",
        "doc_lda = lda_model[corpus]"
      ],
      "execution_count": 110,
      "outputs": [
        {
          "output_type": "stream",
          "text": [
            "[(0,\n",
            "  '0.307*\"block\" + 0.015*\"blk_-3059453549958878582\" + 0.013*\"/10.251.31.5\" + '\n",
            "  '0.012*\"/10.251.126.5\" + 0.011*\"/10.250.7.32\" + 0.011*\"/10.251.203.129\" + '\n",
            "  '0.011*\"/10.250.11.85\" + 0.010*\"/10.251.71.97\" + '\n",
            "  '0.010*\"blk_-836233151529212612\" + 0.009*\"/10.251.39.192\"'),\n",
            " (1,\n",
            "  '0.234*\"block\" + 0.016*\"blk_-2607603250149292767\" + '\n",
            "  '0.014*\"blk_3126100339057783399\" + 0.014*\"10.251.74.79:50010\" + '\n",
            "  '0.014*\"blk_-598955920782630733\" + 0.013*\"blk_4718466536212741328\" + '\n",
            "  '0.012*\"/10.251.111.209\" + 0.012*\"10.251.111.209:50010\" + '\n",
            "  '0.011*\"/10.251.111.37\" + 0.011*\"blk_7907797724760003565\"'),\n",
            " (2,\n",
            "  '0.200*\"size\" + 0.195*\"67108864\" + 0.101*\"Received\" + '\n",
            "  '0.100*\"NameSystem.addStoredBlock\" + 0.100*\"update\" + 0.100*\"blockMap\" + '\n",
            "  '0.091*\"BLOCK*\" + 0.001*\"10.251.39.160:50010\" + 0.001*\"10.251.39.209:50010\" '\n",
            "  '+ 0.001*\"10.251.107.227:50010\"'),\n",
            " (3,\n",
            "  '0.060*\"BLOCK*\" + 0.028*\"NameSystem.allocateBlock\" + '\n",
            "  '0.004*\"blk_8909107483987085802\" + 0.004*\"blk_9047244576407600764\" + '\n",
            "  '0.004*\"blk_524408193881860019\" + 0.004*\"blk_4222802578485615752\" + '\n",
            "  '0.004*\"blk_-2951262078924395064\" + 0.004*\"blk_-9081208173975932165\" + '\n",
            "  '0.004*\"blk_8652779608730262978\" + 0.004*\"blk_-976339114197076853\"'),\n",
            " (4,\n",
            "  '0.318*\"block\" + 0.307*\"PacketResponder\" + 0.306*\"terminate\" + '\n",
            "  '0.002*\"/10.251.30.179\" + 0.002*\"10.251.90.64:50010\" + '\n",
            "  '0.001*\"/10.250.11.100\" + 0.001*\"blk_-7722134978135978544\" + '\n",
            "  '0.001*\"blk_5951221751432246380\" + 0.001*\"10.250.7.244:50010\" + '\n",
            "  '0.001*\"blk_-1196019860597610288\"'),\n",
            " (5,\n",
            "  '0.020*\"blk_-6742986629304373462\" + 0.019*\"blk_-5139777489517063680\" + '\n",
            "  '0.019*\"blk_2907885683673342872\" + 0.018*\"blk_-3260736406913425394\" + '\n",
            "  '0.017*\"10.251.106.10:50010\" + 0.017*\"blk_-861765373330722953\" + '\n",
            "  '0.016*\"blk_-1402764052044494020\" + 0.016*\"blk_-3350625939026579183\" + '\n",
            "  '0.016*\"blk_-7800853382581848688\" + 0.013*\"blk_4509878823587110787\"'),\n",
            " (6,\n",
            "  '0.265*\"succeed\" + 0.265*\"Verification\" + 0.097*\"block\" + '\n",
            "  '0.002*\"blk_-2382389751032389929\" + 0.002*\"blk_4747238186020862016\" + '\n",
            "  '0.002*\"blk_6420476111425645508\" + 0.002*\"/10.251.39.209\" + '\n",
            "  '0.002*\"blk_4856031730010032819\" + 0.002*\"blk_-3155415637543545820\" + '\n",
            "  '0.002*\"/10.251.107.227\"'),\n",
            " (7,\n",
            "  '0.057*\"blk_4241467193520768333\" + 0.016*\"blk_1037066694877136451\" + '\n",
            "  '0.016*\"blk_-7325968241997525720\" + 0.015*\"blk_-7390710706320943439\" + '\n",
            "  '0.015*\"blk_-1214394198778192417\" + 0.015*\"blk_-7374177486939901806\" + '\n",
            "  '0.014*\"blk_-4358861442329520889\" + 0.014*\"blk_-372632911736985200\" + '\n",
            "  '0.013*\"blk_-1322963786995945056\" + 0.013*\"blk_-7858897319223152664\"'),\n",
            " (8,\n",
            "  '0.192*\"block\" + 0.190*\"dest\" + 0.189*\"Receiving\" + '\n",
            "  '0.007*\"blk_4966276028193818154\" + 0.007*\"blk_4108032757710290196\" + '\n",
            "  '0.007*\"blk_-7326879742777330616\" + 0.006*\"blk_-955678844525403431\" + '\n",
            "  '0.006*\"blk_-4566764090560972175\" + 0.006*\"blk_8093107867996361765\" + '\n",
            "  '0.005*\"blk_6157997286876178234\"'),\n",
            " (9,\n",
            "  '0.169*\"block\" + 0.017*\"blk_4286887770593516283\" + '\n",
            "  '0.016*\"blk_1207568959074804298\" + 0.016*\"blk_-8608758988186237206\" + '\n",
            "  '0.015*\"10.251.31.5:50010\" + 0.015*\"blk_1200401807679484048\" + '\n",
            "  '0.014*\"/10.251.194.245\" + 0.013*\"/10.251.105.189\" + '\n",
            "  '0.013*\"blk_-6174155369373380263\" + 0.012*\"/10.251.126.227\"')]\n"
          ],
          "name": "stdout"
        }
      ]
    },
    {
      "cell_type": "markdown",
      "metadata": {
        "id": "D-VcAh3-w5hN"
      },
      "source": [
        "## 1차 3차 단어 정리"
      ]
    },
    {
      "cell_type": "markdown",
      "metadata": {
        "id": "-4pECxGY0-en"
      },
      "source": [
        "1차 topic"
      ]
    },
    {
      "cell_type": "code",
      "metadata": {
        "id": "gpaFoj8_w81E"
      },
      "source": [
        "_1st = [(0,\r\n",
        "  '0.046*\"BLOCK*\" + 0.031*\"NameSystem.allocateBlock:\" + '\r\n",
        "  '0.012*\"blk_4241467193520768333\" + 0.004*\"blk_8909107483987085802\" + '\r\n",
        "  '0.004*\"blk_9047244576407600764\" + 0.004*\"blk_524408193881860019\" + '\r\n",
        "  '0.004*\"blk_4222802578485615752\" + 0.004*\"blk_-2951262078924395064\" + '\r\n",
        "  '0.004*\"blk_-9081208173975932165\" + 0.004*\"blk_8652779608730262978\"'),\r\n",
        " (1,\r\n",
        "  '0.101*\"to\" + 0.099*\"NameSystem.addStoredBlock:\" + 0.099*\"size\" + 0.099*\"is\" '\r\n",
        "  '+ 0.099*\"blockMap\" + 0.099*\"added\" + 0.099*\"updated:\" + 0.097*\"67108864\" + '\r\n",
        "  '0.095*\"BLOCK*\" + 0.001*\"10.251.39.160:50010\"'),\r\n",
        " (2,\r\n",
        "  '0.018*\"blk_-2607603250149292767\" + 0.017*\"blk_4286887770593516283\" + '\r\n",
        "  '0.017*\"blk_1037066694877136451\" + 0.016*\"10.251.74.79:50010\" + '\r\n",
        "  '0.016*\"blk_-7390710706320943439\" + 0.016*\"blk_-7385019746290967026\" + '\r\n",
        "  '0.016*\"blk_-1160765867676592212\" + 0.015*\"10.251.31.5:50010\" + '\r\n",
        "  '0.015*\"blk_-4130422002907235753\" + 0.015*\"blk_-372632911736985200\"'),\r\n",
        " (3,\r\n",
        "  '0.157*\"block\" + 0.151*\"of\" + 0.150*\"from\" + 0.150*\"size\" + 0.150*\"Received\" '\r\n",
        "  '+ 0.146*\"67108864\" + 0.050*\"1\" + 0.001*\"/10.251.31.5\" + '\r\n",
        "  '0.001*\"/10.250.7.32\" + 0.001*\"/10.251.203.129\"'),\r\n",
        " (4,\r\n",
        "  '0.159*\"block\" + 0.145*\"src:\" + 0.145*\"dest:\" + 0.144*\"Receiving\" + '\r\n",
        "  '0.005*\"blk_4108032757710290196\" + 0.005*\"blk_-7326879742777330616\" + '\r\n",
        "  '0.005*\"blk_4966276028193818154\" + 0.005*\"blk_-955678844525403431\" + '\r\n",
        "  '0.005*\"blk_-4566764090560972175\" + 0.005*\"blk_7359588822015996941\"'),\r\n",
        " (5,\r\n",
        "  '0.014*\"blk_-7199733435216834133\" + 0.013*\"blk_-3140754468249228022\" + '\r\n",
        "  '0.012*\"blk_-8608758988186237206\" + 0.012*\"blk_-7374177486939901806\" + '\r\n",
        "  '0.012*\"blk_7007568649123695530\" + 0.011*\"blk_252816358434654494\" + '\r\n",
        "  '0.011*\"/10.251.126.5\" + 0.011*\"blk_4301761665496587132\" + '\r\n",
        "  '0.011*\"/10.251.31.160\" + 0.011*\"/10.251.194.245\"'),\r\n",
        " (6,\r\n",
        "  '0.013*\"/10.251.39.209\" + 0.012*\"/10.251.107.227\" + '\r\n",
        "  '0.011*\"blk_-365681253977708548\" + 0.011*\"/10.251.203.179\" + '\r\n",
        "  '0.010*\"/10.251.26.131\" + 0.010*\"/10.251.111.209\" + 0.010*\"/10.251.105.189\" '\r\n",
        "  '+ 0.009*\"10.251.111.209:50010\" + 0.009*\"/10.251.43.21\" + '\r\n",
        "  '0.009*\"/10.250.17.225\"'),\r\n",
        " (7,\r\n",
        "  '0.386*\"for\" + 0.157*\"PacketResponder\" + 0.156*\"terminating\" + 0.147*\"block\" '\r\n",
        "  '+ 0.052*\"0\" + 0.052*\"2\" + 0.001*\"/10.251.71.16\" + 0.001*\"/10.250.11.100\" + '\r\n",
        "  '0.001*\"/10.251.197.226\" + 0.001*\"/10.250.14.196\"'),\r\n",
        " (8,\r\n",
        "  '0.320*\"succeeded\" + 0.320*\"Verification\" + 0.002*\"blk_6420476111425645508\" '\r\n",
        "  '+ 0.002*\"blk_4747238186020862016\" + 0.002*\"blk_-2382389751032389929\" + '\r\n",
        "  '0.002*\"blk_7455154075126513420\" + 0.002*\"blk_4856031730010032819\" + '\r\n",
        "  '0.002*\"blk_-3155415637543545820\" + 0.002*\"blk_638939784120214749\" + '\r\n",
        "  '0.002*\"blk_-2947515393396507971\"'),\r\n",
        " (9,\r\n",
        "  '0.018*\"blk_-9039789976760025618\" + 0.018*\"blk_8232653167951816215\" + '\r\n",
        "  '0.018*\"blk_-3059453549958878582\" + 0.017*\"blk_9010689441969286891\" + '\r\n",
        "  '0.016*\"blk_-1214394198778192417\" + 0.015*\"blk_-4358861442329520889\" + '\r\n",
        "  '0.015*\"blk_-271233912558262172\" + 0.014*\"blk_5251082346485479848\" + '\r\n",
        "  '0.014*\"blk_4472097162321285264\" + 0.014*\"blk_-4917509153767079107\"')]"
      ],
      "execution_count": 81,
      "outputs": []
    },
    {
      "cell_type": "code",
      "metadata": {
        "id": "Q7lSssOIy2tX"
      },
      "source": [
        "result_df_1 = pd.DataFrame([i[1].split(' + ') for i in _1st])"
      ],
      "execution_count": 58,
      "outputs": []
    },
    {
      "cell_type": "code",
      "metadata": {
        "id": "4QXfFgqGy5G8"
      },
      "source": [
        "for i in result_df_1:\r\n",
        "  result_df_1['{}_rate'.format(i)]=result_df_1[i].str[:5]\r\n",
        "  result_df_1[i]= result_df_1[i].str[6:]"
      ],
      "execution_count": 59,
      "outputs": []
    },
    {
      "cell_type": "code",
      "metadata": {
        "id": "svOONpOPy7Pc"
      },
      "source": [
        "temp = []\r\n",
        "for i in range(10):\r\n",
        "  temp += ['{}_rate'.format(i), i]"
      ],
      "execution_count": 73,
      "outputs": []
    },
    {
      "cell_type": "code",
      "metadata": {
        "id": "4r_aZ_7Ay-QU"
      },
      "source": [
        "result_df_1 = result_df_1[temp]"
      ],
      "execution_count": 75,
      "outputs": []
    },
    {
      "cell_type": "markdown",
      "metadata": {
        "id": "jAM1mIYr1A_v"
      },
      "source": [
        "3차 topic"
      ]
    },
    {
      "cell_type": "code",
      "metadata": {
        "id": "QXcd9cIyzokh"
      },
      "source": [
        "_3rd = [(0,\r\n",
        "  '0.307*\"block\" + 0.015*\"blk_-3059453549958878582\" + 0.013*\"/10.251.31.5\" + '\r\n",
        "  '0.012*\"/10.251.126.5\" + 0.011*\"/10.250.7.32\" + 0.011*\"/10.251.203.129\" + '\r\n",
        "  '0.011*\"/10.250.11.85\" + 0.010*\"/10.251.71.97\" + '\r\n",
        "  '0.010*\"blk_-836233151529212612\" + 0.009*\"/10.251.39.192\"'),\r\n",
        " (1,\r\n",
        "  '0.234*\"block\" + 0.016*\"blk_-2607603250149292767\" + '\r\n",
        "  '0.014*\"blk_3126100339057783399\" + 0.014*\"10.251.74.79:50010\" + '\r\n",
        "  '0.014*\"blk_-598955920782630733\" + 0.013*\"blk_4718466536212741328\" + '\r\n",
        "  '0.012*\"/10.251.111.209\" + 0.012*\"10.251.111.209:50010\" + '\r\n",
        "  '0.011*\"/10.251.111.37\" + 0.011*\"blk_7907797724760003565\"'),\r\n",
        " (2,\r\n",
        "  '0.200*\"size\" + 0.195*\"67108864\" + 0.101*\"Received\" + '\r\n",
        "  '0.100*\"NameSystem.addStoredBlock\" + 0.100*\"update\" + 0.100*\"blockMap\" + '\r\n",
        "  '0.091*\"BLOCK*\" + 0.001*\"10.251.39.160:50010\" + 0.001*\"10.251.39.209:50010\" '\r\n",
        "  '+ 0.001*\"10.251.107.227:50010\"'),\r\n",
        " (3,\r\n",
        "  '0.060*\"BLOCK*\" + 0.028*\"NameSystem.allocateBlock\" + '\r\n",
        "  '0.004*\"blk_8909107483987085802\" + 0.004*\"blk_9047244576407600764\" + '\r\n",
        "  '0.004*\"blk_524408193881860019\" + 0.004*\"blk_4222802578485615752\" + '\r\n",
        "  '0.004*\"blk_-2951262078924395064\" + 0.004*\"blk_-9081208173975932165\" + '\r\n",
        "  '0.004*\"blk_8652779608730262978\" + 0.004*\"blk_-976339114197076853\"'),\r\n",
        " (4,\r\n",
        "  '0.318*\"block\" + 0.307*\"PacketResponder\" + 0.306*\"terminate\" + '\r\n",
        "  '0.002*\"/10.251.30.179\" + 0.002*\"10.251.90.64:50010\" + '\r\n",
        "  '0.001*\"/10.250.11.100\" + 0.001*\"blk_-7722134978135978544\" + '\r\n",
        "  '0.001*\"blk_5951221751432246380\" + 0.001*\"10.250.7.244:50010\" + '\r\n",
        "  '0.001*\"blk_-1196019860597610288\"'),\r\n",
        " (5,\r\n",
        "  '0.020*\"blk_-6742986629304373462\" + 0.019*\"blk_-5139777489517063680\" + '\r\n",
        "  '0.019*\"blk_2907885683673342872\" + 0.018*\"blk_-3260736406913425394\" + '\r\n",
        "  '0.017*\"10.251.106.10:50010\" + 0.017*\"blk_-861765373330722953\" + '\r\n",
        "  '0.016*\"blk_-1402764052044494020\" + 0.016*\"blk_-3350625939026579183\" + '\r\n",
        "  '0.016*\"blk_-7800853382581848688\" + 0.013*\"blk_4509878823587110787\"'),\r\n",
        " (6,\r\n",
        "  '0.265*\"succeed\" + 0.265*\"Verification\" + 0.097*\"block\" + '\r\n",
        "  '0.002*\"blk_-2382389751032389929\" + 0.002*\"blk_4747238186020862016\" + '\r\n",
        "  '0.002*\"blk_6420476111425645508\" + 0.002*\"/10.251.39.209\" + '\r\n",
        "  '0.002*\"blk_4856031730010032819\" + 0.002*\"blk_-3155415637543545820\" + '\r\n",
        "  '0.002*\"/10.251.107.227\"'),\r\n",
        " (7,\r\n",
        "  '0.057*\"blk_4241467193520768333\" + 0.016*\"blk_1037066694877136451\" + '\r\n",
        "  '0.016*\"blk_-7325968241997525720\" + 0.015*\"blk_-7390710706320943439\" + '\r\n",
        "  '0.015*\"blk_-1214394198778192417\" + 0.015*\"blk_-7374177486939901806\" + '\r\n",
        "  '0.014*\"blk_-4358861442329520889\" + 0.014*\"blk_-372632911736985200\" + '\r\n",
        "  '0.013*\"blk_-1322963786995945056\" + 0.013*\"blk_-7858897319223152664\"'),\r\n",
        " (8,\r\n",
        "  '0.192*\"block\" + 0.190*\"dest\" + 0.189*\"Receiving\" + '\r\n",
        "  '0.007*\"blk_4966276028193818154\" + 0.007*\"blk_4108032757710290196\" + '\r\n",
        "  '0.007*\"blk_-7326879742777330616\" + 0.006*\"blk_-955678844525403431\" + '\r\n",
        "  '0.006*\"blk_-4566764090560972175\" + 0.006*\"blk_8093107867996361765\" + '\r\n",
        "  '0.005*\"blk_6157997286876178234\"'),\r\n",
        " (9,\r\n",
        "  '0.169*\"block\" + 0.017*\"blk_4286887770593516283\" + '\r\n",
        "  '0.016*\"blk_1207568959074804298\" + 0.016*\"blk_-8608758988186237206\" + '\r\n",
        "  '0.015*\"10.251.31.5:50010\" + 0.015*\"blk_1200401807679484048\" + '\r\n",
        "  '0.014*\"/10.251.194.245\" + 0.013*\"/10.251.105.189\" + '\r\n",
        "  '0.013*\"blk_-6174155369373380263\" + 0.012*\"/10.251.126.227\"')]"
      ],
      "execution_count": 116,
      "outputs": []
    },
    {
      "cell_type": "code",
      "metadata": {
        "id": "cUrXWAe8z3zZ"
      },
      "source": [
        "result_df_2 = pd.DataFrame([i[1].split(' + ') for i in _3rd])"
      ],
      "execution_count": 117,
      "outputs": []
    },
    {
      "cell_type": "code",
      "metadata": {
        "id": "h1Rgdg_Yz3zh"
      },
      "source": [
        "for i in result_df_2:\r\n",
        "  result_df_2['{}_rate'.format(i)]=result_df_2[i].str[:5]\r\n",
        "  result_df_2[i]= result_df_2[i].str[6:]"
      ],
      "execution_count": 118,
      "outputs": []
    },
    {
      "cell_type": "code",
      "metadata": {
        "id": "KQjQFVMIz3zi"
      },
      "source": [
        "temp = []\r\n",
        "for i in range(10):\r\n",
        "  temp += ['{}_rate'.format(i), i]"
      ],
      "execution_count": 119,
      "outputs": []
    },
    {
      "cell_type": "code",
      "metadata": {
        "id": "FTAatbcfz3zi"
      },
      "source": [
        "result_df_2 = result_df_2[temp]"
      ],
      "execution_count": 120,
      "outputs": []
    },
    {
      "cell_type": "markdown",
      "metadata": {
        "id": "F-tm7MbZ1DS0"
      },
      "source": [
        "결과 확인"
      ]
    },
    {
      "cell_type": "code",
      "metadata": {
        "colab": {
          "base_uri": "https://localhost:8080/",
          "height": 379
        },
        "id": "9rhLd771z8HS",
        "outputId": "1528759a-5843-499a-f75d-1176503fd30a"
      },
      "source": [
        "result_df_1"
      ],
      "execution_count": 90,
      "outputs": [
        {
          "output_type": "execute_result",
          "data": {
            "text/html": [
              "<div>\n",
              "<style scoped>\n",
              "    .dataframe tbody tr th:only-of-type {\n",
              "        vertical-align: middle;\n",
              "    }\n",
              "\n",
              "    .dataframe tbody tr th {\n",
              "        vertical-align: top;\n",
              "    }\n",
              "\n",
              "    .dataframe thead th {\n",
              "        text-align: right;\n",
              "    }\n",
              "</style>\n",
              "<table border=\"1\" class=\"dataframe\">\n",
              "  <thead>\n",
              "    <tr style=\"text-align: right;\">\n",
              "      <th></th>\n",
              "      <th>0_rate</th>\n",
              "      <th>0</th>\n",
              "      <th>1_rate</th>\n",
              "      <th>1</th>\n",
              "      <th>2_rate</th>\n",
              "      <th>2</th>\n",
              "      <th>3_rate</th>\n",
              "      <th>3</th>\n",
              "      <th>4_rate</th>\n",
              "      <th>4</th>\n",
              "      <th>5_rate</th>\n",
              "      <th>5</th>\n",
              "      <th>6_rate</th>\n",
              "      <th>6</th>\n",
              "      <th>7_rate</th>\n",
              "      <th>7</th>\n",
              "      <th>8_rate</th>\n",
              "      <th>8</th>\n",
              "      <th>9_rate</th>\n",
              "      <th>9</th>\n",
              "    </tr>\n",
              "  </thead>\n",
              "  <tbody>\n",
              "    <tr>\n",
              "      <th>0</th>\n",
              "      <td>0.046</td>\n",
              "      <td>\"BLOCK*\"</td>\n",
              "      <td>0.031</td>\n",
              "      <td>\"NameSystem.allocateBlock:\"</td>\n",
              "      <td>0.012</td>\n",
              "      <td>\"blk_4241467193520768333\"</td>\n",
              "      <td>0.004</td>\n",
              "      <td>\"blk_8909107483987085802\"</td>\n",
              "      <td>0.004</td>\n",
              "      <td>\"blk_9047244576407600764\"</td>\n",
              "      <td>0.004</td>\n",
              "      <td>\"blk_524408193881860019\"</td>\n",
              "      <td>0.004</td>\n",
              "      <td>\"blk_4222802578485615752\"</td>\n",
              "      <td>0.004</td>\n",
              "      <td>\"blk_-2951262078924395064\"</td>\n",
              "      <td>0.004</td>\n",
              "      <td>\"blk_-9081208173975932165\"</td>\n",
              "      <td>0.004</td>\n",
              "      <td>\"blk_8652779608730262978\"</td>\n",
              "    </tr>\n",
              "    <tr>\n",
              "      <th>1</th>\n",
              "      <td>0.101</td>\n",
              "      <td>\"to\"</td>\n",
              "      <td>0.099</td>\n",
              "      <td>\"NameSystem.addStoredBlock:\"</td>\n",
              "      <td>0.099</td>\n",
              "      <td>\"size\"</td>\n",
              "      <td>0.099</td>\n",
              "      <td>\"is\"</td>\n",
              "      <td>0.099</td>\n",
              "      <td>\"blockMap\"</td>\n",
              "      <td>0.099</td>\n",
              "      <td>\"added\"</td>\n",
              "      <td>0.099</td>\n",
              "      <td>\"updated:\"</td>\n",
              "      <td>0.097</td>\n",
              "      <td>\"67108864\"</td>\n",
              "      <td>0.095</td>\n",
              "      <td>\"BLOCK*\"</td>\n",
              "      <td>0.001</td>\n",
              "      <td>\"10.251.39.160:50010\"</td>\n",
              "    </tr>\n",
              "    <tr>\n",
              "      <th>2</th>\n",
              "      <td>0.018</td>\n",
              "      <td>\"blk_-2607603250149292767\"</td>\n",
              "      <td>0.017</td>\n",
              "      <td>\"blk_4286887770593516283\"</td>\n",
              "      <td>0.017</td>\n",
              "      <td>\"blk_1037066694877136451\"</td>\n",
              "      <td>0.016</td>\n",
              "      <td>\"10.251.74.79:50010\"</td>\n",
              "      <td>0.016</td>\n",
              "      <td>\"blk_-7390710706320943439\"</td>\n",
              "      <td>0.016</td>\n",
              "      <td>\"blk_-7385019746290967026\"</td>\n",
              "      <td>0.016</td>\n",
              "      <td>\"blk_-1160765867676592212\"</td>\n",
              "      <td>0.015</td>\n",
              "      <td>\"10.251.31.5:50010\"</td>\n",
              "      <td>0.015</td>\n",
              "      <td>\"blk_-4130422002907235753\"</td>\n",
              "      <td>0.015</td>\n",
              "      <td>\"blk_-372632911736985200\"</td>\n",
              "    </tr>\n",
              "    <tr>\n",
              "      <th>3</th>\n",
              "      <td>0.157</td>\n",
              "      <td>\"block\"</td>\n",
              "      <td>0.151</td>\n",
              "      <td>\"of\"</td>\n",
              "      <td>0.150</td>\n",
              "      <td>\"from\"</td>\n",
              "      <td>0.150</td>\n",
              "      <td>\"size\"</td>\n",
              "      <td>0.150</td>\n",
              "      <td>\"Received\"</td>\n",
              "      <td>0.146</td>\n",
              "      <td>\"67108864\"</td>\n",
              "      <td>0.050</td>\n",
              "      <td>\"1\"</td>\n",
              "      <td>0.001</td>\n",
              "      <td>\"/10.251.31.5\"</td>\n",
              "      <td>0.001</td>\n",
              "      <td>\"/10.250.7.32\"</td>\n",
              "      <td>0.001</td>\n",
              "      <td>\"/10.251.203.129\"</td>\n",
              "    </tr>\n",
              "    <tr>\n",
              "      <th>4</th>\n",
              "      <td>0.159</td>\n",
              "      <td>\"block\"</td>\n",
              "      <td>0.145</td>\n",
              "      <td>\"src:\"</td>\n",
              "      <td>0.145</td>\n",
              "      <td>\"dest:\"</td>\n",
              "      <td>0.144</td>\n",
              "      <td>\"Receiving\"</td>\n",
              "      <td>0.005</td>\n",
              "      <td>\"blk_4108032757710290196\"</td>\n",
              "      <td>0.005</td>\n",
              "      <td>\"blk_-7326879742777330616\"</td>\n",
              "      <td>0.005</td>\n",
              "      <td>\"blk_4966276028193818154\"</td>\n",
              "      <td>0.005</td>\n",
              "      <td>\"blk_-955678844525403431\"</td>\n",
              "      <td>0.005</td>\n",
              "      <td>\"blk_-4566764090560972175\"</td>\n",
              "      <td>0.005</td>\n",
              "      <td>\"blk_7359588822015996941\"</td>\n",
              "    </tr>\n",
              "    <tr>\n",
              "      <th>5</th>\n",
              "      <td>0.014</td>\n",
              "      <td>\"blk_-7199733435216834133\"</td>\n",
              "      <td>0.013</td>\n",
              "      <td>\"blk_-3140754468249228022\"</td>\n",
              "      <td>0.012</td>\n",
              "      <td>\"blk_-8608758988186237206\"</td>\n",
              "      <td>0.012</td>\n",
              "      <td>\"blk_-7374177486939901806\"</td>\n",
              "      <td>0.012</td>\n",
              "      <td>\"blk_7007568649123695530\"</td>\n",
              "      <td>0.011</td>\n",
              "      <td>\"blk_252816358434654494\"</td>\n",
              "      <td>0.011</td>\n",
              "      <td>\"/10.251.126.5\"</td>\n",
              "      <td>0.011</td>\n",
              "      <td>\"blk_4301761665496587132\"</td>\n",
              "      <td>0.011</td>\n",
              "      <td>\"/10.251.31.160\"</td>\n",
              "      <td>0.011</td>\n",
              "      <td>\"/10.251.194.245\"</td>\n",
              "    </tr>\n",
              "    <tr>\n",
              "      <th>6</th>\n",
              "      <td>0.013</td>\n",
              "      <td>\"/10.251.39.209\"</td>\n",
              "      <td>0.012</td>\n",
              "      <td>\"/10.251.107.227\"</td>\n",
              "      <td>0.011</td>\n",
              "      <td>\"blk_-365681253977708548\"</td>\n",
              "      <td>0.011</td>\n",
              "      <td>\"/10.251.203.179\"</td>\n",
              "      <td>0.010</td>\n",
              "      <td>\"/10.251.26.131\"</td>\n",
              "      <td>0.010</td>\n",
              "      <td>\"/10.251.111.209\"</td>\n",
              "      <td>0.010</td>\n",
              "      <td>\"/10.251.105.189\"</td>\n",
              "      <td>0.009</td>\n",
              "      <td>\"10.251.111.209:50010\"</td>\n",
              "      <td>0.009</td>\n",
              "      <td>\"/10.251.43.21\"</td>\n",
              "      <td>0.009</td>\n",
              "      <td>\"/10.250.17.225\"</td>\n",
              "    </tr>\n",
              "    <tr>\n",
              "      <th>7</th>\n",
              "      <td>0.386</td>\n",
              "      <td>\"for\"</td>\n",
              "      <td>0.157</td>\n",
              "      <td>\"PacketResponder\"</td>\n",
              "      <td>0.156</td>\n",
              "      <td>\"terminating\"</td>\n",
              "      <td>0.147</td>\n",
              "      <td>\"block\"</td>\n",
              "      <td>0.052</td>\n",
              "      <td>\"0\"</td>\n",
              "      <td>0.052</td>\n",
              "      <td>\"2\"</td>\n",
              "      <td>0.001</td>\n",
              "      <td>\"/10.251.71.16\"</td>\n",
              "      <td>0.001</td>\n",
              "      <td>\"/10.250.11.100\"</td>\n",
              "      <td>0.001</td>\n",
              "      <td>\"/10.251.197.226\"</td>\n",
              "      <td>0.001</td>\n",
              "      <td>\"/10.250.14.196\"</td>\n",
              "    </tr>\n",
              "    <tr>\n",
              "      <th>8</th>\n",
              "      <td>0.320</td>\n",
              "      <td>\"succeeded\"</td>\n",
              "      <td>0.320</td>\n",
              "      <td>\"Verification\"</td>\n",
              "      <td>0.002</td>\n",
              "      <td>\"blk_6420476111425645508\"</td>\n",
              "      <td>0.002</td>\n",
              "      <td>\"blk_4747238186020862016\"</td>\n",
              "      <td>0.002</td>\n",
              "      <td>\"blk_-2382389751032389929\"</td>\n",
              "      <td>0.002</td>\n",
              "      <td>\"blk_7455154075126513420\"</td>\n",
              "      <td>0.002</td>\n",
              "      <td>\"blk_4856031730010032819\"</td>\n",
              "      <td>0.002</td>\n",
              "      <td>\"blk_-3155415637543545820\"</td>\n",
              "      <td>0.002</td>\n",
              "      <td>\"blk_638939784120214749\"</td>\n",
              "      <td>0.002</td>\n",
              "      <td>\"blk_-2947515393396507971\"</td>\n",
              "    </tr>\n",
              "    <tr>\n",
              "      <th>9</th>\n",
              "      <td>0.018</td>\n",
              "      <td>\"blk_-9039789976760025618\"</td>\n",
              "      <td>0.018</td>\n",
              "      <td>\"blk_8232653167951816215\"</td>\n",
              "      <td>0.018</td>\n",
              "      <td>\"blk_-3059453549958878582\"</td>\n",
              "      <td>0.017</td>\n",
              "      <td>\"blk_9010689441969286891\"</td>\n",
              "      <td>0.016</td>\n",
              "      <td>\"blk_-1214394198778192417\"</td>\n",
              "      <td>0.015</td>\n",
              "      <td>\"blk_-4358861442329520889\"</td>\n",
              "      <td>0.015</td>\n",
              "      <td>\"blk_-271233912558262172\"</td>\n",
              "      <td>0.014</td>\n",
              "      <td>\"blk_5251082346485479848\"</td>\n",
              "      <td>0.014</td>\n",
              "      <td>\"blk_4472097162321285264\"</td>\n",
              "      <td>0.014</td>\n",
              "      <td>\"blk_-4917509153767079107\"</td>\n",
              "    </tr>\n",
              "  </tbody>\n",
              "</table>\n",
              "</div>"
            ],
            "text/plain": [
              "  0_rate                           0  ... 9_rate                           9\n",
              "0  0.046                    \"BLOCK*\"  ...  0.004   \"blk_8652779608730262978\"\n",
              "1  0.101                        \"to\"  ...  0.001       \"10.251.39.160:50010\"\n",
              "2  0.018  \"blk_-2607603250149292767\"  ...  0.015   \"blk_-372632911736985200\"\n",
              "3  0.157                     \"block\"  ...  0.001           \"/10.251.203.129\"\n",
              "4  0.159                     \"block\"  ...  0.005   \"blk_7359588822015996941\"\n",
              "5  0.014  \"blk_-7199733435216834133\"  ...  0.011           \"/10.251.194.245\"\n",
              "6  0.013            \"/10.251.39.209\"  ...  0.009            \"/10.250.17.225\"\n",
              "7  0.386                       \"for\"  ...  0.001            \"/10.250.14.196\"\n",
              "8  0.320                 \"succeeded\"  ...  0.002  \"blk_-2947515393396507971\"\n",
              "9  0.018  \"blk_-9039789976760025618\"  ...  0.014  \"blk_-4917509153767079107\"\n",
              "\n",
              "[10 rows x 20 columns]"
            ]
          },
          "metadata": {
            "tags": []
          },
          "execution_count": 90
        }
      ]
    },
    {
      "cell_type": "code",
      "metadata": {
        "colab": {
          "base_uri": "https://localhost:8080/",
          "height": 379
        },
        "id": "5CuIgJHSz7Hy",
        "outputId": "840a6bc3-5d7c-45b0-8210-d58575d35c49"
      },
      "source": [
        "result_df_2"
      ],
      "execution_count": 121,
      "outputs": [
        {
          "output_type": "execute_result",
          "data": {
            "text/html": [
              "<div>\n",
              "<style scoped>\n",
              "    .dataframe tbody tr th:only-of-type {\n",
              "        vertical-align: middle;\n",
              "    }\n",
              "\n",
              "    .dataframe tbody tr th {\n",
              "        vertical-align: top;\n",
              "    }\n",
              "\n",
              "    .dataframe thead th {\n",
              "        text-align: right;\n",
              "    }\n",
              "</style>\n",
              "<table border=\"1\" class=\"dataframe\">\n",
              "  <thead>\n",
              "    <tr style=\"text-align: right;\">\n",
              "      <th></th>\n",
              "      <th>0_rate</th>\n",
              "      <th>0</th>\n",
              "      <th>1_rate</th>\n",
              "      <th>1</th>\n",
              "      <th>2_rate</th>\n",
              "      <th>2</th>\n",
              "      <th>3_rate</th>\n",
              "      <th>3</th>\n",
              "      <th>4_rate</th>\n",
              "      <th>4</th>\n",
              "      <th>5_rate</th>\n",
              "      <th>5</th>\n",
              "      <th>6_rate</th>\n",
              "      <th>6</th>\n",
              "      <th>7_rate</th>\n",
              "      <th>7</th>\n",
              "      <th>8_rate</th>\n",
              "      <th>8</th>\n",
              "      <th>9_rate</th>\n",
              "      <th>9</th>\n",
              "    </tr>\n",
              "  </thead>\n",
              "  <tbody>\n",
              "    <tr>\n",
              "      <th>0</th>\n",
              "      <td>0.307</td>\n",
              "      <td>\"block\"</td>\n",
              "      <td>0.015</td>\n",
              "      <td>\"blk_-3059453549958878582\"</td>\n",
              "      <td>0.013</td>\n",
              "      <td>\"/10.251.31.5\"</td>\n",
              "      <td>0.012</td>\n",
              "      <td>\"/10.251.126.5\"</td>\n",
              "      <td>0.011</td>\n",
              "      <td>\"/10.250.7.32\"</td>\n",
              "      <td>0.011</td>\n",
              "      <td>\"/10.251.203.129\"</td>\n",
              "      <td>0.011</td>\n",
              "      <td>\"/10.250.11.85\"</td>\n",
              "      <td>0.010</td>\n",
              "      <td>\"/10.251.71.97\"</td>\n",
              "      <td>0.010</td>\n",
              "      <td>\"blk_-836233151529212612\"</td>\n",
              "      <td>0.009</td>\n",
              "      <td>\"/10.251.39.192\"</td>\n",
              "    </tr>\n",
              "    <tr>\n",
              "      <th>1</th>\n",
              "      <td>0.234</td>\n",
              "      <td>\"block\"</td>\n",
              "      <td>0.016</td>\n",
              "      <td>\"blk_-2607603250149292767\"</td>\n",
              "      <td>0.014</td>\n",
              "      <td>\"blk_3126100339057783399\"</td>\n",
              "      <td>0.014</td>\n",
              "      <td>\"10.251.74.79:50010\"</td>\n",
              "      <td>0.014</td>\n",
              "      <td>\"blk_-598955920782630733\"</td>\n",
              "      <td>0.013</td>\n",
              "      <td>\"blk_4718466536212741328\"</td>\n",
              "      <td>0.012</td>\n",
              "      <td>\"/10.251.111.209\"</td>\n",
              "      <td>0.012</td>\n",
              "      <td>\"10.251.111.209:50010\"</td>\n",
              "      <td>0.011</td>\n",
              "      <td>\"/10.251.111.37\"</td>\n",
              "      <td>0.011</td>\n",
              "      <td>\"blk_7907797724760003565\"</td>\n",
              "    </tr>\n",
              "    <tr>\n",
              "      <th>2</th>\n",
              "      <td>0.200</td>\n",
              "      <td>\"size\"</td>\n",
              "      <td>0.195</td>\n",
              "      <td>\"67108864\"</td>\n",
              "      <td>0.101</td>\n",
              "      <td>\"Received\"</td>\n",
              "      <td>0.100</td>\n",
              "      <td>\"NameSystem.addStoredBlock\"</td>\n",
              "      <td>0.100</td>\n",
              "      <td>\"update\"</td>\n",
              "      <td>0.100</td>\n",
              "      <td>\"blockMap\"</td>\n",
              "      <td>0.091</td>\n",
              "      <td>\"BLOCK*\"</td>\n",
              "      <td>0.001</td>\n",
              "      <td>\"10.251.39.160:50010\"</td>\n",
              "      <td>0.001</td>\n",
              "      <td>\"10.251.39.209:50010\"</td>\n",
              "      <td>0.001</td>\n",
              "      <td>\"10.251.107.227:50010\"</td>\n",
              "    </tr>\n",
              "    <tr>\n",
              "      <th>3</th>\n",
              "      <td>0.060</td>\n",
              "      <td>\"BLOCK*\"</td>\n",
              "      <td>0.028</td>\n",
              "      <td>\"NameSystem.allocateBlock\"</td>\n",
              "      <td>0.004</td>\n",
              "      <td>\"blk_8909107483987085802\"</td>\n",
              "      <td>0.004</td>\n",
              "      <td>\"blk_9047244576407600764\"</td>\n",
              "      <td>0.004</td>\n",
              "      <td>\"blk_524408193881860019\"</td>\n",
              "      <td>0.004</td>\n",
              "      <td>\"blk_4222802578485615752\"</td>\n",
              "      <td>0.004</td>\n",
              "      <td>\"blk_-2951262078924395064\"</td>\n",
              "      <td>0.004</td>\n",
              "      <td>\"blk_-9081208173975932165\"</td>\n",
              "      <td>0.004</td>\n",
              "      <td>\"blk_8652779608730262978\"</td>\n",
              "      <td>0.004</td>\n",
              "      <td>\"blk_-976339114197076853\"</td>\n",
              "    </tr>\n",
              "    <tr>\n",
              "      <th>4</th>\n",
              "      <td>0.318</td>\n",
              "      <td>\"block\"</td>\n",
              "      <td>0.307</td>\n",
              "      <td>\"PacketResponder\"</td>\n",
              "      <td>0.306</td>\n",
              "      <td>\"terminate\"</td>\n",
              "      <td>0.002</td>\n",
              "      <td>\"/10.251.30.179\"</td>\n",
              "      <td>0.002</td>\n",
              "      <td>\"10.251.90.64:50010\"</td>\n",
              "      <td>0.001</td>\n",
              "      <td>\"/10.250.11.100\"</td>\n",
              "      <td>0.001</td>\n",
              "      <td>\"blk_-7722134978135978544\"</td>\n",
              "      <td>0.001</td>\n",
              "      <td>\"blk_5951221751432246380\"</td>\n",
              "      <td>0.001</td>\n",
              "      <td>\"10.250.7.244:50010\"</td>\n",
              "      <td>0.001</td>\n",
              "      <td>\"blk_-1196019860597610288\"</td>\n",
              "    </tr>\n",
              "    <tr>\n",
              "      <th>5</th>\n",
              "      <td>0.020</td>\n",
              "      <td>\"blk_-6742986629304373462\"</td>\n",
              "      <td>0.019</td>\n",
              "      <td>\"blk_-5139777489517063680\"</td>\n",
              "      <td>0.019</td>\n",
              "      <td>\"blk_2907885683673342872\"</td>\n",
              "      <td>0.018</td>\n",
              "      <td>\"blk_-3260736406913425394\"</td>\n",
              "      <td>0.017</td>\n",
              "      <td>\"10.251.106.10:50010\"</td>\n",
              "      <td>0.017</td>\n",
              "      <td>\"blk_-861765373330722953\"</td>\n",
              "      <td>0.016</td>\n",
              "      <td>\"blk_-1402764052044494020\"</td>\n",
              "      <td>0.016</td>\n",
              "      <td>\"blk_-3350625939026579183\"</td>\n",
              "      <td>0.016</td>\n",
              "      <td>\"blk_-7800853382581848688\"</td>\n",
              "      <td>0.013</td>\n",
              "      <td>\"blk_4509878823587110787\"</td>\n",
              "    </tr>\n",
              "    <tr>\n",
              "      <th>6</th>\n",
              "      <td>0.265</td>\n",
              "      <td>\"succeed\"</td>\n",
              "      <td>0.265</td>\n",
              "      <td>\"Verification\"</td>\n",
              "      <td>0.097</td>\n",
              "      <td>\"block\"</td>\n",
              "      <td>0.002</td>\n",
              "      <td>\"blk_-2382389751032389929\"</td>\n",
              "      <td>0.002</td>\n",
              "      <td>\"blk_4747238186020862016\"</td>\n",
              "      <td>0.002</td>\n",
              "      <td>\"blk_6420476111425645508\"</td>\n",
              "      <td>0.002</td>\n",
              "      <td>\"/10.251.39.209\"</td>\n",
              "      <td>0.002</td>\n",
              "      <td>\"blk_4856031730010032819\"</td>\n",
              "      <td>0.002</td>\n",
              "      <td>\"blk_-3155415637543545820\"</td>\n",
              "      <td>0.002</td>\n",
              "      <td>\"/10.251.107.227\"</td>\n",
              "    </tr>\n",
              "    <tr>\n",
              "      <th>7</th>\n",
              "      <td>0.057</td>\n",
              "      <td>\"blk_4241467193520768333\"</td>\n",
              "      <td>0.016</td>\n",
              "      <td>\"blk_1037066694877136451\"</td>\n",
              "      <td>0.016</td>\n",
              "      <td>\"blk_-7325968241997525720\"</td>\n",
              "      <td>0.015</td>\n",
              "      <td>\"blk_-7390710706320943439\"</td>\n",
              "      <td>0.015</td>\n",
              "      <td>\"blk_-1214394198778192417\"</td>\n",
              "      <td>0.015</td>\n",
              "      <td>\"blk_-7374177486939901806\"</td>\n",
              "      <td>0.014</td>\n",
              "      <td>\"blk_-4358861442329520889\"</td>\n",
              "      <td>0.014</td>\n",
              "      <td>\"blk_-372632911736985200\"</td>\n",
              "      <td>0.013</td>\n",
              "      <td>\"blk_-1322963786995945056\"</td>\n",
              "      <td>0.013</td>\n",
              "      <td>\"blk_-7858897319223152664\"</td>\n",
              "    </tr>\n",
              "    <tr>\n",
              "      <th>8</th>\n",
              "      <td>0.192</td>\n",
              "      <td>\"block\"</td>\n",
              "      <td>0.190</td>\n",
              "      <td>\"dest\"</td>\n",
              "      <td>0.189</td>\n",
              "      <td>\"Receiving\"</td>\n",
              "      <td>0.007</td>\n",
              "      <td>\"blk_4966276028193818154\"</td>\n",
              "      <td>0.007</td>\n",
              "      <td>\"blk_4108032757710290196\"</td>\n",
              "      <td>0.007</td>\n",
              "      <td>\"blk_-7326879742777330616\"</td>\n",
              "      <td>0.006</td>\n",
              "      <td>\"blk_-955678844525403431\"</td>\n",
              "      <td>0.006</td>\n",
              "      <td>\"blk_-4566764090560972175\"</td>\n",
              "      <td>0.006</td>\n",
              "      <td>\"blk_8093107867996361765\"</td>\n",
              "      <td>0.005</td>\n",
              "      <td>\"blk_6157997286876178234\"</td>\n",
              "    </tr>\n",
              "    <tr>\n",
              "      <th>9</th>\n",
              "      <td>0.169</td>\n",
              "      <td>\"block\"</td>\n",
              "      <td>0.017</td>\n",
              "      <td>\"blk_4286887770593516283\"</td>\n",
              "      <td>0.016</td>\n",
              "      <td>\"blk_1207568959074804298\"</td>\n",
              "      <td>0.016</td>\n",
              "      <td>\"blk_-8608758988186237206\"</td>\n",
              "      <td>0.015</td>\n",
              "      <td>\"10.251.31.5:50010\"</td>\n",
              "      <td>0.015</td>\n",
              "      <td>\"blk_1200401807679484048\"</td>\n",
              "      <td>0.014</td>\n",
              "      <td>\"/10.251.194.245\"</td>\n",
              "      <td>0.013</td>\n",
              "      <td>\"/10.251.105.189\"</td>\n",
              "      <td>0.013</td>\n",
              "      <td>\"blk_-6174155369373380263\"</td>\n",
              "      <td>0.012</td>\n",
              "      <td>\"/10.251.126.227\"</td>\n",
              "    </tr>\n",
              "  </tbody>\n",
              "</table>\n",
              "</div>"
            ],
            "text/plain": [
              "  0_rate                           0  ... 9_rate                           9\n",
              "0  0.307                     \"block\"  ...  0.009            \"/10.251.39.192\"\n",
              "1  0.234                     \"block\"  ...  0.011   \"blk_7907797724760003565\"\n",
              "2  0.200                      \"size\"  ...  0.001      \"10.251.107.227:50010\"\n",
              "3  0.060                    \"BLOCK*\"  ...  0.004   \"blk_-976339114197076853\"\n",
              "4  0.318                     \"block\"  ...  0.001  \"blk_-1196019860597610288\"\n",
              "5  0.020  \"blk_-6742986629304373462\"  ...  0.013   \"blk_4509878823587110787\"\n",
              "6  0.265                   \"succeed\"  ...  0.002           \"/10.251.107.227\"\n",
              "7  0.057   \"blk_4241467193520768333\"  ...  0.013  \"blk_-7858897319223152664\"\n",
              "8  0.192                     \"block\"  ...  0.005   \"blk_6157997286876178234\"\n",
              "9  0.169                     \"block\"  ...  0.012           \"/10.251.126.227\"\n",
              "\n",
              "[10 rows x 20 columns]"
            ]
          },
          "metadata": {
            "tags": []
          },
          "execution_count": 121
        }
      ]
    },
    {
      "cell_type": "code",
      "metadata": {
        "id": "J5eB1u3f34T9"
      },
      "source": [
        ""
      ],
      "execution_count": null,
      "outputs": []
    }
  ]
}