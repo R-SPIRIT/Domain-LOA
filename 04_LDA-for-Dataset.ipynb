{
  "nbformat": 4,
  "nbformat_minor": 0,
  "metadata": {
    "colab": {
      "name": "20210121_Log_LDA.ipynb",
      "provenance": [],
      "collapsed_sections": [],
      "toc_visible": true,
      "mount_file_id": "1CmNSrWicC22MGMfY4FGXJguT5eARnzbM",
      "authorship_tag": "ABX9TyPjHrpyS2gwjjxV544S1ZPD",
      "include_colab_link": true
    },
    "kernelspec": {
      "display_name": "Python 3",
      "name": "python3"
    }
  },
  "cells": [
    {
      "cell_type": "markdown",
      "metadata": {
        "id": "view-in-github",
        "colab_type": "text"
      },
      "source": [
        "<a href=\"https://colab.research.google.com/github/forallx94/log_anomaly_detection/blob/main/LDA-for-HDFS.ipynb\" target=\"_parent\"><img src=\"https://colab.research.google.com/assets/colab-badge.svg\" alt=\"Open In Colab\"/></a>"
      ]
    },
    {
      "cell_type": "markdown",
      "metadata": {
        "id": "P9LmFEtNqKqW"
      },
      "source": [
        "## HDFS 1차"
      ]
    },
    {
      "cell_type": "code",
      "metadata": {
        "colab": {
          "base_uri": "https://localhost:8080/"
        },
        "id": "uLTR5TbyHYDT",
        "outputId": "d7ea11f7-0b40-42e0-a7c4-ecffb3995ad2"
      },
      "source": [
        "!pip install pyldavis"
      ],
      "execution_count": 152,
      "outputs": [
        {
          "output_type": "stream",
          "text": [
            "Requirement already satisfied: pyldavis in /usr/local/lib/python3.6/dist-packages (2.1.2)\n",
            "Requirement already satisfied: pandas>=0.17.0 in /usr/local/lib/python3.6/dist-packages (from pyldavis) (1.1.5)\n",
            "Requirement already satisfied: future in /usr/local/lib/python3.6/dist-packages (from pyldavis) (0.16.0)\n",
            "Requirement already satisfied: wheel>=0.23.0 in /usr/local/lib/python3.6/dist-packages (from pyldavis) (0.36.2)\n",
            "Requirement already satisfied: numpy>=1.9.2 in /usr/local/lib/python3.6/dist-packages (from pyldavis) (1.19.5)\n",
            "Requirement already satisfied: joblib>=0.8.4 in /usr/local/lib/python3.6/dist-packages (from pyldavis) (1.0.0)\n",
            "Requirement already satisfied: funcy in /usr/local/lib/python3.6/dist-packages (from pyldavis) (1.15)\n",
            "Requirement already satisfied: scipy>=0.18.0 in /usr/local/lib/python3.6/dist-packages (from pyldavis) (1.4.1)\n",
            "Requirement already satisfied: pytest in /usr/local/lib/python3.6/dist-packages (from pyldavis) (3.6.4)\n",
            "Requirement already satisfied: jinja2>=2.7.2 in /usr/local/lib/python3.6/dist-packages (from pyldavis) (2.11.2)\n",
            "Requirement already satisfied: numexpr in /usr/local/lib/python3.6/dist-packages (from pyldavis) (2.7.2)\n",
            "Requirement already satisfied: python-dateutil>=2.7.3 in /usr/local/lib/python3.6/dist-packages (from pandas>=0.17.0->pyldavis) (2.8.1)\n",
            "Requirement already satisfied: pytz>=2017.2 in /usr/local/lib/python3.6/dist-packages (from pandas>=0.17.0->pyldavis) (2018.9)\n",
            "Requirement already satisfied: setuptools in /usr/local/lib/python3.6/dist-packages (from pytest->pyldavis) (51.1.2)\n",
            "Requirement already satisfied: more-itertools>=4.0.0 in /usr/local/lib/python3.6/dist-packages (from pytest->pyldavis) (8.6.0)\n",
            "Requirement already satisfied: py>=1.5.0 in /usr/local/lib/python3.6/dist-packages (from pytest->pyldavis) (1.10.0)\n",
            "Requirement already satisfied: attrs>=17.4.0 in /usr/local/lib/python3.6/dist-packages (from pytest->pyldavis) (20.3.0)\n",
            "Requirement already satisfied: pluggy<0.8,>=0.5 in /usr/local/lib/python3.6/dist-packages (from pytest->pyldavis) (0.7.1)\n",
            "Requirement already satisfied: atomicwrites>=1.0 in /usr/local/lib/python3.6/dist-packages (from pytest->pyldavis) (1.4.0)\n",
            "Requirement already satisfied: six>=1.10.0 in /usr/local/lib/python3.6/dist-packages (from pytest->pyldavis) (1.15.0)\n",
            "Requirement already satisfied: MarkupSafe>=0.23 in /usr/local/lib/python3.6/dist-packages (from jinja2>=2.7.2->pyldavis) (1.1.1)\n"
          ],
          "name": "stdout"
        }
      ]
    },
    {
      "cell_type": "code",
      "metadata": {
        "id": "hqqFPXiR3k3o"
      },
      "source": [
        "import re\r\n",
        "import numpy as np\r\n",
        "import pandas as pd\r\n",
        "\r\n",
        "import gensim\r\n",
        "import gensim.corpora as corpora\r\n",
        "from gensim.utils import simple_preprocess\r\n",
        "from gensim.models import CoherenceModel\r\n",
        "\r\n",
        "from pprint import pprint"
      ],
      "execution_count": 153,
      "outputs": []
    },
    {
      "cell_type": "code",
      "metadata": {
        "id": "qUIC8bHH-nxs"
      },
      "source": [
        "df = pd.read_csv('./data/HDFS_100k.log_structured.csv')"
      ],
      "execution_count": null,
      "outputs": []
    },
    {
      "cell_type": "code",
      "metadata": {
        "colab": {
          "base_uri": "https://localhost:8080/",
          "height": 419
        },
        "id": "HMyXRbZIFPEZ",
        "outputId": "b28f9b55-328e-408a-e475-e665a7d24d18"
      },
      "source": [
        "df"
      ],
      "execution_count": null,
      "outputs": [
        {
          "output_type": "execute_result",
          "data": {
            "text/html": [
              "<div>\n",
              "<style scoped>\n",
              "    .dataframe tbody tr th:only-of-type {\n",
              "        vertical-align: middle;\n",
              "    }\n",
              "\n",
              "    .dataframe tbody tr th {\n",
              "        vertical-align: top;\n",
              "    }\n",
              "\n",
              "    .dataframe thead th {\n",
              "        text-align: right;\n",
              "    }\n",
              "</style>\n",
              "<table border=\"1\" class=\"dataframe\">\n",
              "  <thead>\n",
              "    <tr style=\"text-align: right;\">\n",
              "      <th></th>\n",
              "      <th>LineId</th>\n",
              "      <th>Date</th>\n",
              "      <th>Time</th>\n",
              "      <th>Pid</th>\n",
              "      <th>Level</th>\n",
              "      <th>Component</th>\n",
              "      <th>Content</th>\n",
              "      <th>EventId</th>\n",
              "      <th>EventTemplate</th>\n",
              "    </tr>\n",
              "  </thead>\n",
              "  <tbody>\n",
              "    <tr>\n",
              "      <th>0</th>\n",
              "      <td>1</td>\n",
              "      <td>81109</td>\n",
              "      <td>203518</td>\n",
              "      <td>143</td>\n",
              "      <td>INFO</td>\n",
              "      <td>dfs.DataNode$DataXceiver</td>\n",
              "      <td>Receiving block blk_-1608999687919862906 src: ...</td>\n",
              "      <td>E5</td>\n",
              "      <td>Receiving block &lt;*&gt; src: /&lt;*&gt; dest: /&lt;*&gt;</td>\n",
              "    </tr>\n",
              "    <tr>\n",
              "      <th>1</th>\n",
              "      <td>2</td>\n",
              "      <td>81109</td>\n",
              "      <td>203518</td>\n",
              "      <td>35</td>\n",
              "      <td>INFO</td>\n",
              "      <td>dfs.FSNamesystem</td>\n",
              "      <td>BLOCK* NameSystem.allocateBlock: /mnt/hadoop/m...</td>\n",
              "      <td>E22</td>\n",
              "      <td>BLOCK* NameSystem.allocateBlock:&lt;*&gt;</td>\n",
              "    </tr>\n",
              "    <tr>\n",
              "      <th>2</th>\n",
              "      <td>3</td>\n",
              "      <td>81109</td>\n",
              "      <td>203519</td>\n",
              "      <td>143</td>\n",
              "      <td>INFO</td>\n",
              "      <td>dfs.DataNode$DataXceiver</td>\n",
              "      <td>Receiving block blk_-1608999687919862906 src: ...</td>\n",
              "      <td>E5</td>\n",
              "      <td>Receiving block &lt;*&gt; src: /&lt;*&gt; dest: /&lt;*&gt;</td>\n",
              "    </tr>\n",
              "    <tr>\n",
              "      <th>3</th>\n",
              "      <td>4</td>\n",
              "      <td>81109</td>\n",
              "      <td>203519</td>\n",
              "      <td>145</td>\n",
              "      <td>INFO</td>\n",
              "      <td>dfs.DataNode$DataXceiver</td>\n",
              "      <td>Receiving block blk_-1608999687919862906 src: ...</td>\n",
              "      <td>E5</td>\n",
              "      <td>Receiving block &lt;*&gt; src: /&lt;*&gt; dest: /&lt;*&gt;</td>\n",
              "    </tr>\n",
              "    <tr>\n",
              "      <th>4</th>\n",
              "      <td>5</td>\n",
              "      <td>81109</td>\n",
              "      <td>203519</td>\n",
              "      <td>145</td>\n",
              "      <td>INFO</td>\n",
              "      <td>dfs.DataNode$PacketResponder</td>\n",
              "      <td>PacketResponder 1 for block blk_-1608999687919...</td>\n",
              "      <td>E11</td>\n",
              "      <td>PacketResponder &lt;*&gt; for block &lt;*&gt; terminating</td>\n",
              "    </tr>\n",
              "    <tr>\n",
              "      <th>...</th>\n",
              "      <td>...</td>\n",
              "      <td>...</td>\n",
              "      <td>...</td>\n",
              "      <td>...</td>\n",
              "      <td>...</td>\n",
              "      <td>...</td>\n",
              "      <td>...</td>\n",
              "      <td>...</td>\n",
              "      <td>...</td>\n",
              "    </tr>\n",
              "    <tr>\n",
              "      <th>104810</th>\n",
              "      <td>104811</td>\n",
              "      <td>81109</td>\n",
              "      <td>210122</td>\n",
              "      <td>13</td>\n",
              "      <td>INFO</td>\n",
              "      <td>dfs.DataBlockScanner</td>\n",
              "      <td>Verification succeeded for blk_-87387097785867...</td>\n",
              "      <td>E2</td>\n",
              "      <td>Verification succeeded for &lt;*&gt;</td>\n",
              "    </tr>\n",
              "    <tr>\n",
              "      <th>104811</th>\n",
              "      <td>104812</td>\n",
              "      <td>81109</td>\n",
              "      <td>210124</td>\n",
              "      <td>13</td>\n",
              "      <td>INFO</td>\n",
              "      <td>dfs.DataBlockScanner</td>\n",
              "      <td>Verification succeeded for blk_642047611142564...</td>\n",
              "      <td>E2</td>\n",
              "      <td>Verification succeeded for &lt;*&gt;</td>\n",
              "    </tr>\n",
              "    <tr>\n",
              "      <th>104812</th>\n",
              "      <td>104813</td>\n",
              "      <td>81109</td>\n",
              "      <td>210126</td>\n",
              "      <td>13</td>\n",
              "      <td>INFO</td>\n",
              "      <td>dfs.DataBlockScanner</td>\n",
              "      <td>Verification succeeded for blk_-23823897510323...</td>\n",
              "      <td>E2</td>\n",
              "      <td>Verification succeeded for &lt;*&gt;</td>\n",
              "    </tr>\n",
              "    <tr>\n",
              "      <th>104813</th>\n",
              "      <td>104814</td>\n",
              "      <td>81109</td>\n",
              "      <td>210126</td>\n",
              "      <td>13</td>\n",
              "      <td>INFO</td>\n",
              "      <td>dfs.DataBlockScanner</td>\n",
              "      <td>Verification succeeded for blk_485603173001003...</td>\n",
              "      <td>E2</td>\n",
              "      <td>Verification succeeded for &lt;*&gt;</td>\n",
              "    </tr>\n",
              "    <tr>\n",
              "      <th>104814</th>\n",
              "      <td>104815</td>\n",
              "      <td>81109</td>\n",
              "      <td>210126</td>\n",
              "      <td>13</td>\n",
              "      <td>INFO</td>\n",
              "      <td>dfs.DataBlockScanner</td>\n",
              "      <td>Verification succeeded for blk_-49047501208105...</td>\n",
              "      <td>E2</td>\n",
              "      <td>Verification succeeded for &lt;*&gt;</td>\n",
              "    </tr>\n",
              "  </tbody>\n",
              "</table>\n",
              "<p>104815 rows × 9 columns</p>\n",
              "</div>"
            ],
            "text/plain": [
              "        LineId   Date  ...  EventId                                  EventTemplate\n",
              "0            1  81109  ...       E5       Receiving block <*> src: /<*> dest: /<*>\n",
              "1            2  81109  ...      E22            BLOCK* NameSystem.allocateBlock:<*>\n",
              "2            3  81109  ...       E5       Receiving block <*> src: /<*> dest: /<*>\n",
              "3            4  81109  ...       E5       Receiving block <*> src: /<*> dest: /<*>\n",
              "4            5  81109  ...      E11  PacketResponder <*> for block <*> terminating\n",
              "...        ...    ...  ...      ...                                            ...\n",
              "104810  104811  81109  ...       E2                 Verification succeeded for <*>\n",
              "104811  104812  81109  ...       E2                 Verification succeeded for <*>\n",
              "104812  104813  81109  ...       E2                 Verification succeeded for <*>\n",
              "104813  104814  81109  ...       E2                 Verification succeeded for <*>\n",
              "104814  104815  81109  ...       E2                 Verification succeeded for <*>\n",
              "\n",
              "[104815 rows x 9 columns]"
            ]
          },
          "metadata": {
            "tags": []
          },
          "execution_count": 4
        }
      ]
    },
    {
      "cell_type": "code",
      "metadata": {
        "id": "zKbqJGUYja43"
      },
      "source": [
        "import nltk\r\n",
        "text['headline_text'] = text.apply(lambda row: nltk.word_tokenize(row['headline_text']), axis=1)\r\n",
        "text.head()"
      ],
      "execution_count": null,
      "outputs": []
    },
    {
      "cell_type": "code",
      "metadata": {
        "id": "Fdl1mJXa-_sK"
      },
      "source": [
        "data = [i.strip().split(' ') for i in df.Content]"
      ],
      "execution_count": null,
      "outputs": []
    },
    {
      "cell_type": "code",
      "metadata": {
        "id": "B4p23P99_ECp"
      },
      "source": [
        "id2word = corpora.Dictionary(data)"
      ],
      "execution_count": null,
      "outputs": []
    },
    {
      "cell_type": "code",
      "metadata": {
        "id": "7b37soHU_1pX"
      },
      "source": [
        "texts = data"
      ],
      "execution_count": null,
      "outputs": []
    },
    {
      "cell_type": "code",
      "metadata": {
        "id": "u2Pbw144_3NY"
      },
      "source": [
        "corpus = [id2word.doc2bow(text) for text in texts]"
      ],
      "execution_count": null,
      "outputs": []
    },
    {
      "cell_type": "code",
      "metadata": {
        "colab": {
          "base_uri": "https://localhost:8080/"
        },
        "id": "p5iQG3xT_6Jv",
        "outputId": "f64adfa1-e9ec-422d-b1e1-aa03e00137d2"
      },
      "source": [
        "print(corpus[:1])"
      ],
      "execution_count": null,
      "outputs": [
        {
          "output_type": "stream",
          "text": [
            "[[(0, 1), (1, 1), (2, 1), (3, 1), (4, 1), (5, 1), (6, 1)]]\n"
          ],
          "name": "stdout"
        }
      ]
    },
    {
      "cell_type": "code",
      "metadata": {
        "id": "RDB5NwtQ_7Yv"
      },
      "source": [
        "lda_model = gensim.models.ldamodel.LdaModel(corpus = corpus,\r\n",
        "                                            id2word = id2word,\r\n",
        "                                            num_topics = 10,\r\n",
        "                                            random_state = 100,\r\n",
        "                                            update_every =1,\r\n",
        "                                            chunksize = 100,\r\n",
        "                                            passes = 10,\r\n",
        "                                            alpha= 'auto',\r\n",
        "                                            per_word_topics = True\r\n",
        "                                            )"
      ],
      "execution_count": null,
      "outputs": []
    },
    {
      "cell_type": "code",
      "metadata": {
        "colab": {
          "base_uri": "https://localhost:8080/"
        },
        "id": "o5hJdXdT_8j2",
        "outputId": "6bab79aa-392e-4596-c9ab-80def8c3ddd9"
      },
      "source": [
        "pprint(lda_model.print_topics())\r\n",
        "doc_lda = lda_model[corpus]"
      ],
      "execution_count": null,
      "outputs": [
        {
          "output_type": "stream",
          "text": [
            "[(0,\n",
            "  '0.046*\"BLOCK*\" + 0.031*\"NameSystem.allocateBlock:\" + '\n",
            "  '0.012*\"blk_4241467193520768333\" + 0.004*\"blk_8909107483987085802\" + '\n",
            "  '0.004*\"blk_9047244576407600764\" + 0.004*\"blk_524408193881860019\" + '\n",
            "  '0.004*\"blk_4222802578485615752\" + 0.004*\"blk_-2951262078924395064\" + '\n",
            "  '0.004*\"blk_-9081208173975932165\" + 0.004*\"blk_8652779608730262978\"'),\n",
            " (1,\n",
            "  '0.101*\"to\" + 0.099*\"NameSystem.addStoredBlock:\" + 0.099*\"size\" + 0.099*\"is\" '\n",
            "  '+ 0.099*\"blockMap\" + 0.099*\"added\" + 0.099*\"updated:\" + 0.097*\"67108864\" + '\n",
            "  '0.095*\"BLOCK*\" + 0.001*\"10.251.39.160:50010\"'),\n",
            " (2,\n",
            "  '0.018*\"blk_-2607603250149292767\" + 0.017*\"blk_4286887770593516283\" + '\n",
            "  '0.017*\"blk_1037066694877136451\" + 0.016*\"10.251.74.79:50010\" + '\n",
            "  '0.016*\"blk_-7390710706320943439\" + 0.016*\"blk_-7385019746290967026\" + '\n",
            "  '0.016*\"blk_-1160765867676592212\" + 0.015*\"10.251.31.5:50010\" + '\n",
            "  '0.015*\"blk_-4130422002907235753\" + 0.015*\"blk_-372632911736985200\"'),\n",
            " (3,\n",
            "  '0.157*\"block\" + 0.151*\"of\" + 0.150*\"from\" + 0.150*\"size\" + 0.150*\"Received\" '\n",
            "  '+ 0.146*\"67108864\" + 0.050*\"1\" + 0.001*\"/10.251.31.5\" + '\n",
            "  '0.001*\"/10.250.7.32\" + 0.001*\"/10.251.203.129\"'),\n",
            " (4,\n",
            "  '0.159*\"block\" + 0.145*\"src:\" + 0.145*\"dest:\" + 0.144*\"Receiving\" + '\n",
            "  '0.005*\"blk_4108032757710290196\" + 0.005*\"blk_-7326879742777330616\" + '\n",
            "  '0.005*\"blk_4966276028193818154\" + 0.005*\"blk_-955678844525403431\" + '\n",
            "  '0.005*\"blk_-4566764090560972175\" + 0.005*\"blk_7359588822015996941\"'),\n",
            " (5,\n",
            "  '0.014*\"blk_-7199733435216834133\" + 0.013*\"blk_-3140754468249228022\" + '\n",
            "  '0.012*\"blk_-8608758988186237206\" + 0.012*\"blk_-7374177486939901806\" + '\n",
            "  '0.012*\"blk_7007568649123695530\" + 0.011*\"blk_252816358434654494\" + '\n",
            "  '0.011*\"/10.251.126.5\" + 0.011*\"blk_4301761665496587132\" + '\n",
            "  '0.011*\"/10.251.31.160\" + 0.011*\"/10.251.194.245\"'),\n",
            " (6,\n",
            "  '0.013*\"/10.251.39.209\" + 0.012*\"/10.251.107.227\" + '\n",
            "  '0.011*\"blk_-365681253977708548\" + 0.011*\"/10.251.203.179\" + '\n",
            "  '0.010*\"/10.251.26.131\" + 0.010*\"/10.251.111.209\" + 0.010*\"/10.251.105.189\" '\n",
            "  '+ 0.009*\"10.251.111.209:50010\" + 0.009*\"/10.251.43.21\" + '\n",
            "  '0.009*\"/10.250.17.225\"'),\n",
            " (7,\n",
            "  '0.386*\"for\" + 0.157*\"PacketResponder\" + 0.156*\"terminating\" + 0.147*\"block\" '\n",
            "  '+ 0.052*\"0\" + 0.052*\"2\" + 0.001*\"/10.251.71.16\" + 0.001*\"/10.250.11.100\" + '\n",
            "  '0.001*\"/10.251.197.226\" + 0.001*\"/10.250.14.196\"'),\n",
            " (8,\n",
            "  '0.320*\"succeeded\" + 0.320*\"Verification\" + 0.002*\"blk_6420476111425645508\" '\n",
            "  '+ 0.002*\"blk_4747238186020862016\" + 0.002*\"blk_-2382389751032389929\" + '\n",
            "  '0.002*\"blk_7455154075126513420\" + 0.002*\"blk_4856031730010032819\" + '\n",
            "  '0.002*\"blk_-3155415637543545820\" + 0.002*\"blk_638939784120214749\" + '\n",
            "  '0.002*\"blk_-2947515393396507971\"'),\n",
            " (9,\n",
            "  '0.018*\"blk_-9039789976760025618\" + 0.018*\"blk_8232653167951816215\" + '\n",
            "  '0.018*\"blk_-3059453549958878582\" + 0.017*\"blk_9010689441969286891\" + '\n",
            "  '0.016*\"blk_-1214394198778192417\" + 0.015*\"blk_-4358861442329520889\" + '\n",
            "  '0.015*\"blk_-271233912558262172\" + 0.014*\"blk_5251082346485479848\" + '\n",
            "  '0.014*\"blk_4472097162321285264\" + 0.014*\"blk_-4917509153767079107\"')]\n"
          ],
          "name": "stdout"
        }
      ]
    },
    {
      "cell_type": "code",
      "metadata": {
        "id": "ppfCZXtXADEv"
      },
      "source": [
        "import pyLDAvis\r\n",
        "import pyLDAvis.gensim as gensimvis"
      ],
      "execution_count": null,
      "outputs": []
    },
    {
      "cell_type": "code",
      "metadata": {
        "id": "p3VO5W0_AEFm",
        "colab": {
          "base_uri": "https://localhost:8080/",
          "height": 358
        },
        "outputId": "cbe30345-efba-4a4e-c9d2-2dd3ea5193b1"
      },
      "source": [
        "# # 시각화에 1시간 이상 소모\r\n",
        "# pyLDAvis.enable_notebook()\r\n",
        "# vis = gensimvis.prepare(lda_model, corpus, id2word)\r\n",
        "# pyLDAvis.display(vis)"
      ],
      "execution_count": null,
      "outputs": [
        {
          "output_type": "error",
          "ename": "KeyboardInterrupt",
          "evalue": "ignored",
          "traceback": [
            "\u001b[0;31m---------------------------------------------------------------------------\u001b[0m",
            "\u001b[0;31mKeyboardInterrupt\u001b[0m                         Traceback (most recent call last)",
            "\u001b[0;32m<ipython-input-13-f9266b1a779f>\u001b[0m in \u001b[0;36m<module>\u001b[0;34m()\u001b[0m\n\u001b[1;32m      1\u001b[0m \u001b[0mpyLDAvis\u001b[0m\u001b[0;34m.\u001b[0m\u001b[0menable_notebook\u001b[0m\u001b[0;34m(\u001b[0m\u001b[0;34m)\u001b[0m\u001b[0;34m\u001b[0m\u001b[0;34m\u001b[0m\u001b[0m\n\u001b[0;32m----> 2\u001b[0;31m \u001b[0mvis\u001b[0m \u001b[0;34m=\u001b[0m \u001b[0mgensimvis\u001b[0m\u001b[0;34m.\u001b[0m\u001b[0mprepare\u001b[0m\u001b[0;34m(\u001b[0m\u001b[0mlda_model\u001b[0m\u001b[0;34m,\u001b[0m \u001b[0mcorpus\u001b[0m\u001b[0;34m,\u001b[0m \u001b[0mid2word\u001b[0m\u001b[0;34m)\u001b[0m\u001b[0;34m\u001b[0m\u001b[0;34m\u001b[0m\u001b[0m\n\u001b[0m\u001b[1;32m      3\u001b[0m \u001b[0mpyLDAvis\u001b[0m\u001b[0;34m.\u001b[0m\u001b[0mdisplay\u001b[0m\u001b[0;34m(\u001b[0m\u001b[0mvis\u001b[0m\u001b[0;34m)\u001b[0m\u001b[0;34m\u001b[0m\u001b[0;34m\u001b[0m\u001b[0m\n",
            "\u001b[0;32m/usr/local/lib/python3.6/dist-packages/pyLDAvis/gensim.py\u001b[0m in \u001b[0;36mprepare\u001b[0;34m(topic_model, corpus, dictionary, doc_topic_dist, **kwargs)\u001b[0m\n\u001b[1;32m    117\u001b[0m     \"\"\"\n\u001b[1;32m    118\u001b[0m     \u001b[0mopts\u001b[0m \u001b[0;34m=\u001b[0m \u001b[0mfp\u001b[0m\u001b[0;34m.\u001b[0m\u001b[0mmerge\u001b[0m\u001b[0;34m(\u001b[0m\u001b[0m_extract_data\u001b[0m\u001b[0;34m(\u001b[0m\u001b[0mtopic_model\u001b[0m\u001b[0;34m,\u001b[0m \u001b[0mcorpus\u001b[0m\u001b[0;34m,\u001b[0m \u001b[0mdictionary\u001b[0m\u001b[0;34m,\u001b[0m \u001b[0mdoc_topic_dist\u001b[0m\u001b[0;34m)\u001b[0m\u001b[0;34m,\u001b[0m \u001b[0mkwargs\u001b[0m\u001b[0;34m)\u001b[0m\u001b[0;34m\u001b[0m\u001b[0;34m\u001b[0m\u001b[0m\n\u001b[0;32m--> 119\u001b[0;31m     \u001b[0;32mreturn\u001b[0m \u001b[0mvis_prepare\u001b[0m\u001b[0;34m(\u001b[0m\u001b[0;34m**\u001b[0m\u001b[0mopts\u001b[0m\u001b[0;34m)\u001b[0m\u001b[0;34m\u001b[0m\u001b[0;34m\u001b[0m\u001b[0m\n\u001b[0m",
            "\u001b[0;32m/usr/local/lib/python3.6/dist-packages/pyLDAvis/_prepare.py\u001b[0m in \u001b[0;36mprepare\u001b[0;34m(topic_term_dists, doc_topic_dists, doc_lengths, vocab, term_frequency, R, lambda_step, mds, n_jobs, plot_opts, sort_topics)\u001b[0m\n\u001b[1;32m    396\u001b[0m    \u001b[0mterm_frequency\u001b[0m \u001b[0;34m=\u001b[0m \u001b[0mnp\u001b[0m\u001b[0;34m.\u001b[0m\u001b[0msum\u001b[0m\u001b[0;34m(\u001b[0m\u001b[0mterm_topic_freq\u001b[0m\u001b[0;34m,\u001b[0m \u001b[0maxis\u001b[0m\u001b[0;34m=\u001b[0m\u001b[0;36m0\u001b[0m\u001b[0;34m)\u001b[0m\u001b[0;34m\u001b[0m\u001b[0;34m\u001b[0m\u001b[0m\n\u001b[1;32m    397\u001b[0m \u001b[0;34m\u001b[0m\u001b[0m\n\u001b[0;32m--> 398\u001b[0;31m    \u001b[0mtopic_info\u001b[0m         \u001b[0;34m=\u001b[0m \u001b[0m_topic_info\u001b[0m\u001b[0;34m(\u001b[0m\u001b[0mtopic_term_dists\u001b[0m\u001b[0;34m,\u001b[0m \u001b[0mtopic_proportion\u001b[0m\u001b[0;34m,\u001b[0m \u001b[0mterm_frequency\u001b[0m\u001b[0;34m,\u001b[0m \u001b[0mterm_topic_freq\u001b[0m\u001b[0;34m,\u001b[0m \u001b[0mvocab\u001b[0m\u001b[0;34m,\u001b[0m \u001b[0mlambda_step\u001b[0m\u001b[0;34m,\u001b[0m \u001b[0mR\u001b[0m\u001b[0;34m,\u001b[0m \u001b[0mn_jobs\u001b[0m\u001b[0;34m)\u001b[0m\u001b[0;34m\u001b[0m\u001b[0;34m\u001b[0m\u001b[0m\n\u001b[0m\u001b[1;32m    399\u001b[0m    \u001b[0mtoken_table\u001b[0m        \u001b[0;34m=\u001b[0m \u001b[0m_token_table\u001b[0m\u001b[0;34m(\u001b[0m\u001b[0mtopic_info\u001b[0m\u001b[0;34m,\u001b[0m \u001b[0mterm_topic_freq\u001b[0m\u001b[0;34m,\u001b[0m \u001b[0mvocab\u001b[0m\u001b[0;34m,\u001b[0m \u001b[0mterm_frequency\u001b[0m\u001b[0;34m)\u001b[0m\u001b[0;34m\u001b[0m\u001b[0;34m\u001b[0m\u001b[0m\n\u001b[1;32m    400\u001b[0m    \u001b[0mtopic_coordinates\u001b[0m \u001b[0;34m=\u001b[0m \u001b[0m_topic_coordinates\u001b[0m\u001b[0;34m(\u001b[0m\u001b[0mmds\u001b[0m\u001b[0;34m,\u001b[0m \u001b[0mtopic_term_dists\u001b[0m\u001b[0;34m,\u001b[0m \u001b[0mtopic_proportion\u001b[0m\u001b[0;34m)\u001b[0m\u001b[0;34m\u001b[0m\u001b[0;34m\u001b[0m\u001b[0m\n",
            "\u001b[0;32m/usr/local/lib/python3.6/dist-packages/pyLDAvis/_prepare.py\u001b[0m in \u001b[0;36m_topic_info\u001b[0;34m(topic_term_dists, topic_proportion, term_frequency, term_topic_freq, vocab, lambda_step, R, n_jobs)\u001b[0m\n\u001b[1;32m    253\u001b[0m \u001b[0;34m\u001b[0m\u001b[0m\n\u001b[1;32m    254\u001b[0m    top_terms = pd.concat(Parallel(n_jobs=n_jobs)(delayed(_find_relevance_chunks)(log_ttd, log_lift, R, ls) \\\n\u001b[0;32m--> 255\u001b[0;31m                                                  for ls in _job_chunks(lambda_seq, n_jobs)))\n\u001b[0m\u001b[1;32m    256\u001b[0m    \u001b[0mtopic_dfs\u001b[0m \u001b[0;34m=\u001b[0m \u001b[0mmap\u001b[0m\u001b[0;34m(\u001b[0m\u001b[0mtopic_top_term_df\u001b[0m\u001b[0;34m,\u001b[0m \u001b[0menumerate\u001b[0m\u001b[0;34m(\u001b[0m\u001b[0mtop_terms\u001b[0m\u001b[0;34m.\u001b[0m\u001b[0mT\u001b[0m\u001b[0;34m.\u001b[0m\u001b[0miterrows\u001b[0m\u001b[0;34m(\u001b[0m\u001b[0;34m)\u001b[0m\u001b[0;34m,\u001b[0m \u001b[0;36m1\u001b[0m\u001b[0;34m)\u001b[0m\u001b[0;34m)\u001b[0m\u001b[0;34m\u001b[0m\u001b[0;34m\u001b[0m\u001b[0m\n\u001b[1;32m    257\u001b[0m    \u001b[0;32mreturn\u001b[0m \u001b[0mpd\u001b[0m\u001b[0;34m.\u001b[0m\u001b[0mconcat\u001b[0m\u001b[0;34m(\u001b[0m\u001b[0;34m[\u001b[0m\u001b[0mdefault_term_info\u001b[0m\u001b[0;34m]\u001b[0m \u001b[0;34m+\u001b[0m \u001b[0mlist\u001b[0m\u001b[0;34m(\u001b[0m\u001b[0mtopic_dfs\u001b[0m\u001b[0;34m)\u001b[0m\u001b[0;34m)\u001b[0m\u001b[0;34m\u001b[0m\u001b[0;34m\u001b[0m\u001b[0m\n",
            "\u001b[0;32m/usr/local/lib/python3.6/dist-packages/joblib/parallel.py\u001b[0m in \u001b[0;36m__call__\u001b[0;34m(self, iterable)\u001b[0m\n\u001b[1;32m   1052\u001b[0m \u001b[0;34m\u001b[0m\u001b[0m\n\u001b[1;32m   1053\u001b[0m             \u001b[0;32mwith\u001b[0m \u001b[0mself\u001b[0m\u001b[0;34m.\u001b[0m\u001b[0m_backend\u001b[0m\u001b[0;34m.\u001b[0m\u001b[0mretrieval_context\u001b[0m\u001b[0;34m(\u001b[0m\u001b[0;34m)\u001b[0m\u001b[0;34m:\u001b[0m\u001b[0;34m\u001b[0m\u001b[0;34m\u001b[0m\u001b[0m\n\u001b[0;32m-> 1054\u001b[0;31m                 \u001b[0mself\u001b[0m\u001b[0;34m.\u001b[0m\u001b[0mretrieve\u001b[0m\u001b[0;34m(\u001b[0m\u001b[0;34m)\u001b[0m\u001b[0;34m\u001b[0m\u001b[0;34m\u001b[0m\u001b[0m\n\u001b[0m\u001b[1;32m   1055\u001b[0m             \u001b[0;31m# Make sure that we get a last message telling us we are done\u001b[0m\u001b[0;34m\u001b[0m\u001b[0;34m\u001b[0m\u001b[0;34m\u001b[0m\u001b[0m\n\u001b[1;32m   1056\u001b[0m             \u001b[0melapsed_time\u001b[0m \u001b[0;34m=\u001b[0m \u001b[0mtime\u001b[0m\u001b[0;34m.\u001b[0m\u001b[0mtime\u001b[0m\u001b[0;34m(\u001b[0m\u001b[0;34m)\u001b[0m \u001b[0;34m-\u001b[0m \u001b[0mself\u001b[0m\u001b[0;34m.\u001b[0m\u001b[0m_start_time\u001b[0m\u001b[0;34m\u001b[0m\u001b[0;34m\u001b[0m\u001b[0m\n",
            "\u001b[0;32m/usr/local/lib/python3.6/dist-packages/joblib/parallel.py\u001b[0m in \u001b[0;36mretrieve\u001b[0;34m(self)\u001b[0m\n\u001b[1;32m    931\u001b[0m             \u001b[0;32mtry\u001b[0m\u001b[0;34m:\u001b[0m\u001b[0;34m\u001b[0m\u001b[0;34m\u001b[0m\u001b[0m\n\u001b[1;32m    932\u001b[0m                 \u001b[0;32mif\u001b[0m \u001b[0mgetattr\u001b[0m\u001b[0;34m(\u001b[0m\u001b[0mself\u001b[0m\u001b[0;34m.\u001b[0m\u001b[0m_backend\u001b[0m\u001b[0;34m,\u001b[0m \u001b[0;34m'supports_timeout'\u001b[0m\u001b[0;34m,\u001b[0m \u001b[0;32mFalse\u001b[0m\u001b[0;34m)\u001b[0m\u001b[0;34m:\u001b[0m\u001b[0;34m\u001b[0m\u001b[0;34m\u001b[0m\u001b[0m\n\u001b[0;32m--> 933\u001b[0;31m                     \u001b[0mself\u001b[0m\u001b[0;34m.\u001b[0m\u001b[0m_output\u001b[0m\u001b[0;34m.\u001b[0m\u001b[0mextend\u001b[0m\u001b[0;34m(\u001b[0m\u001b[0mjob\u001b[0m\u001b[0;34m.\u001b[0m\u001b[0mget\u001b[0m\u001b[0;34m(\u001b[0m\u001b[0mtimeout\u001b[0m\u001b[0;34m=\u001b[0m\u001b[0mself\u001b[0m\u001b[0;34m.\u001b[0m\u001b[0mtimeout\u001b[0m\u001b[0;34m)\u001b[0m\u001b[0;34m)\u001b[0m\u001b[0;34m\u001b[0m\u001b[0;34m\u001b[0m\u001b[0m\n\u001b[0m\u001b[1;32m    934\u001b[0m                 \u001b[0;32melse\u001b[0m\u001b[0;34m:\u001b[0m\u001b[0;34m\u001b[0m\u001b[0;34m\u001b[0m\u001b[0m\n\u001b[1;32m    935\u001b[0m                     \u001b[0mself\u001b[0m\u001b[0;34m.\u001b[0m\u001b[0m_output\u001b[0m\u001b[0;34m.\u001b[0m\u001b[0mextend\u001b[0m\u001b[0;34m(\u001b[0m\u001b[0mjob\u001b[0m\u001b[0;34m.\u001b[0m\u001b[0mget\u001b[0m\u001b[0;34m(\u001b[0m\u001b[0;34m)\u001b[0m\u001b[0;34m)\u001b[0m\u001b[0;34m\u001b[0m\u001b[0;34m\u001b[0m\u001b[0m\n",
            "\u001b[0;32m/usr/local/lib/python3.6/dist-packages/joblib/_parallel_backends.py\u001b[0m in \u001b[0;36mwrap_future_result\u001b[0;34m(future, timeout)\u001b[0m\n\u001b[1;32m    540\u001b[0m         AsyncResults.get from multiprocessing.\"\"\"\n\u001b[1;32m    541\u001b[0m         \u001b[0;32mtry\u001b[0m\u001b[0;34m:\u001b[0m\u001b[0;34m\u001b[0m\u001b[0;34m\u001b[0m\u001b[0m\n\u001b[0;32m--> 542\u001b[0;31m             \u001b[0;32mreturn\u001b[0m \u001b[0mfuture\u001b[0m\u001b[0;34m.\u001b[0m\u001b[0mresult\u001b[0m\u001b[0;34m(\u001b[0m\u001b[0mtimeout\u001b[0m\u001b[0;34m=\u001b[0m\u001b[0mtimeout\u001b[0m\u001b[0;34m)\u001b[0m\u001b[0;34m\u001b[0m\u001b[0;34m\u001b[0m\u001b[0m\n\u001b[0m\u001b[1;32m    543\u001b[0m         \u001b[0;32mexcept\u001b[0m \u001b[0mCfTimeoutError\u001b[0m \u001b[0;32mas\u001b[0m \u001b[0me\u001b[0m\u001b[0;34m:\u001b[0m\u001b[0;34m\u001b[0m\u001b[0;34m\u001b[0m\u001b[0m\n\u001b[1;32m    544\u001b[0m             \u001b[0;32mraise\u001b[0m \u001b[0mTimeoutError\u001b[0m \u001b[0;32mfrom\u001b[0m \u001b[0me\u001b[0m\u001b[0;34m\u001b[0m\u001b[0;34m\u001b[0m\u001b[0m\n",
            "\u001b[0;32m/usr/lib/python3.6/concurrent/futures/_base.py\u001b[0m in \u001b[0;36mresult\u001b[0;34m(self, timeout)\u001b[0m\n\u001b[1;32m    425\u001b[0m                 \u001b[0;32mreturn\u001b[0m \u001b[0mself\u001b[0m\u001b[0;34m.\u001b[0m\u001b[0m__get_result\u001b[0m\u001b[0;34m(\u001b[0m\u001b[0;34m)\u001b[0m\u001b[0;34m\u001b[0m\u001b[0;34m\u001b[0m\u001b[0m\n\u001b[1;32m    426\u001b[0m \u001b[0;34m\u001b[0m\u001b[0m\n\u001b[0;32m--> 427\u001b[0;31m             \u001b[0mself\u001b[0m\u001b[0;34m.\u001b[0m\u001b[0m_condition\u001b[0m\u001b[0;34m.\u001b[0m\u001b[0mwait\u001b[0m\u001b[0;34m(\u001b[0m\u001b[0mtimeout\u001b[0m\u001b[0;34m)\u001b[0m\u001b[0;34m\u001b[0m\u001b[0;34m\u001b[0m\u001b[0m\n\u001b[0m\u001b[1;32m    428\u001b[0m \u001b[0;34m\u001b[0m\u001b[0m\n\u001b[1;32m    429\u001b[0m             \u001b[0;32mif\u001b[0m \u001b[0mself\u001b[0m\u001b[0;34m.\u001b[0m\u001b[0m_state\u001b[0m \u001b[0;32min\u001b[0m \u001b[0;34m[\u001b[0m\u001b[0mCANCELLED\u001b[0m\u001b[0;34m,\u001b[0m \u001b[0mCANCELLED_AND_NOTIFIED\u001b[0m\u001b[0;34m]\u001b[0m\u001b[0;34m:\u001b[0m\u001b[0;34m\u001b[0m\u001b[0;34m\u001b[0m\u001b[0m\n",
            "\u001b[0;32m/usr/lib/python3.6/threading.py\u001b[0m in \u001b[0;36mwait\u001b[0;34m(self, timeout)\u001b[0m\n\u001b[1;32m    293\u001b[0m         \u001b[0;32mtry\u001b[0m\u001b[0;34m:\u001b[0m    \u001b[0;31m# restore state no matter what (e.g., KeyboardInterrupt)\u001b[0m\u001b[0;34m\u001b[0m\u001b[0;34m\u001b[0m\u001b[0m\n\u001b[1;32m    294\u001b[0m             \u001b[0;32mif\u001b[0m \u001b[0mtimeout\u001b[0m \u001b[0;32mis\u001b[0m \u001b[0;32mNone\u001b[0m\u001b[0;34m:\u001b[0m\u001b[0;34m\u001b[0m\u001b[0;34m\u001b[0m\u001b[0m\n\u001b[0;32m--> 295\u001b[0;31m                 \u001b[0mwaiter\u001b[0m\u001b[0;34m.\u001b[0m\u001b[0macquire\u001b[0m\u001b[0;34m(\u001b[0m\u001b[0;34m)\u001b[0m\u001b[0;34m\u001b[0m\u001b[0;34m\u001b[0m\u001b[0m\n\u001b[0m\u001b[1;32m    296\u001b[0m                 \u001b[0mgotit\u001b[0m \u001b[0;34m=\u001b[0m \u001b[0;32mTrue\u001b[0m\u001b[0;34m\u001b[0m\u001b[0;34m\u001b[0m\u001b[0m\n\u001b[1;32m    297\u001b[0m             \u001b[0;32melse\u001b[0m\u001b[0;34m:\u001b[0m\u001b[0;34m\u001b[0m\u001b[0;34m\u001b[0m\u001b[0m\n",
            "\u001b[0;31mKeyboardInterrupt\u001b[0m: "
          ]
        }
      ]
    },
    {
      "cell_type": "markdown",
      "metadata": {
        "id": "08iEHf2cjOvy"
      },
      "source": [
        "## HDFS 2차\r\n",
        "\r\n",
        "* https://omicro03.medium.com/%EC%9E%90%EC%97%B0%EC%96%B4%EC%B2%98%EB%A6%AC-nlp-8%EC%9D%BC%EC%B0%A8-lda-f571b4da9d04"
      ]
    },
    {
      "cell_type": "code",
      "metadata": {
        "id": "kOJoaidTAFSe",
        "colab": {
          "base_uri": "https://localhost:8080/",
          "height": 204
        },
        "outputId": "69759c62-59ba-410c-fcb2-dc376a5d6765"
      },
      "source": [
        "text = df[['LineId','Content']]\r\n",
        "text.head()"
      ],
      "execution_count": null,
      "outputs": [
        {
          "output_type": "execute_result",
          "data": {
            "text/html": [
              "<div>\n",
              "<style scoped>\n",
              "    .dataframe tbody tr th:only-of-type {\n",
              "        vertical-align: middle;\n",
              "    }\n",
              "\n",
              "    .dataframe tbody tr th {\n",
              "        vertical-align: top;\n",
              "    }\n",
              "\n",
              "    .dataframe thead th {\n",
              "        text-align: right;\n",
              "    }\n",
              "</style>\n",
              "<table border=\"1\" class=\"dataframe\">\n",
              "  <thead>\n",
              "    <tr style=\"text-align: right;\">\n",
              "      <th></th>\n",
              "      <th>LineId</th>\n",
              "      <th>Content</th>\n",
              "    </tr>\n",
              "  </thead>\n",
              "  <tbody>\n",
              "    <tr>\n",
              "      <th>0</th>\n",
              "      <td>1</td>\n",
              "      <td>Receiving block blk_-1608999687919862906 src: ...</td>\n",
              "    </tr>\n",
              "    <tr>\n",
              "      <th>1</th>\n",
              "      <td>2</td>\n",
              "      <td>BLOCK* NameSystem.allocateBlock: /mnt/hadoop/m...</td>\n",
              "    </tr>\n",
              "    <tr>\n",
              "      <th>2</th>\n",
              "      <td>3</td>\n",
              "      <td>Receiving block blk_-1608999687919862906 src: ...</td>\n",
              "    </tr>\n",
              "    <tr>\n",
              "      <th>3</th>\n",
              "      <td>4</td>\n",
              "      <td>Receiving block blk_-1608999687919862906 src: ...</td>\n",
              "    </tr>\n",
              "    <tr>\n",
              "      <th>4</th>\n",
              "      <td>5</td>\n",
              "      <td>PacketResponder 1 for block blk_-1608999687919...</td>\n",
              "    </tr>\n",
              "  </tbody>\n",
              "</table>\n",
              "</div>"
            ],
            "text/plain": [
              "   LineId                                            Content\n",
              "0       1  Receiving block blk_-1608999687919862906 src: ...\n",
              "1       2  BLOCK* NameSystem.allocateBlock: /mnt/hadoop/m...\n",
              "2       3  Receiving block blk_-1608999687919862906 src: ...\n",
              "3       4  Receiving block blk_-1608999687919862906 src: ...\n",
              "4       5  PacketResponder 1 for block blk_-1608999687919..."
            ]
          },
          "metadata": {
            "tags": []
          },
          "execution_count": 40
        }
      ]
    },
    {
      "cell_type": "code",
      "metadata": {
        "colab": {
          "base_uri": "https://localhost:8080/"
        },
        "id": "MbWlXnsMtng2",
        "outputId": "2046c025-cf80-4403-9e3f-baa6809c0268"
      },
      "source": [
        "import nltk\r\n",
        "nltk.download('punkt')"
      ],
      "execution_count": null,
      "outputs": [
        {
          "output_type": "stream",
          "text": [
            "[nltk_data] Downloading package punkt to /root/nltk_data...\n",
            "[nltk_data]   Package punkt is already up-to-date!\n"
          ],
          "name": "stdout"
        },
        {
          "output_type": "execute_result",
          "data": {
            "text/plain": [
              "True"
            ]
          },
          "metadata": {
            "tags": []
          },
          "execution_count": 41
        }
      ]
    },
    {
      "cell_type": "code",
      "metadata": {
        "colab": {
          "base_uri": "https://localhost:8080/",
          "height": 312
        },
        "id": "8237ZeNuj4rB",
        "outputId": "02d2c105-9c19-4ee0-aec0-4395e0f02eb1"
      },
      "source": [
        "# 토큰화\r\n",
        "text['Content'] = text.apply(lambda row: nltk.word_tokenize(row['Content']), axis=1)\r\n",
        "text.head()"
      ],
      "execution_count": null,
      "outputs": [
        {
          "output_type": "stream",
          "text": [
            "/usr/local/lib/python3.6/dist-packages/ipykernel_launcher.py:2: SettingWithCopyWarning: \n",
            "A value is trying to be set on a copy of a slice from a DataFrame.\n",
            "Try using .loc[row_indexer,col_indexer] = value instead\n",
            "\n",
            "See the caveats in the documentation: https://pandas.pydata.org/pandas-docs/stable/user_guide/indexing.html#returning-a-view-versus-a-copy\n",
            "  \n"
          ],
          "name": "stderr"
        },
        {
          "output_type": "execute_result",
          "data": {
            "text/html": [
              "<div>\n",
              "<style scoped>\n",
              "    .dataframe tbody tr th:only-of-type {\n",
              "        vertical-align: middle;\n",
              "    }\n",
              "\n",
              "    .dataframe tbody tr th {\n",
              "        vertical-align: top;\n",
              "    }\n",
              "\n",
              "    .dataframe thead th {\n",
              "        text-align: right;\n",
              "    }\n",
              "</style>\n",
              "<table border=\"1\" class=\"dataframe\">\n",
              "  <thead>\n",
              "    <tr style=\"text-align: right;\">\n",
              "      <th></th>\n",
              "      <th>LineId</th>\n",
              "      <th>Content</th>\n",
              "    </tr>\n",
              "  </thead>\n",
              "  <tbody>\n",
              "    <tr>\n",
              "      <th>0</th>\n",
              "      <td>1</td>\n",
              "      <td>[Receiving, block, blk_-1608999687919862906, s...</td>\n",
              "    </tr>\n",
              "    <tr>\n",
              "      <th>1</th>\n",
              "      <td>2</td>\n",
              "      <td>[BLOCK*, NameSystem.allocateBlock, :, /mnt/had...</td>\n",
              "    </tr>\n",
              "    <tr>\n",
              "      <th>2</th>\n",
              "      <td>3</td>\n",
              "      <td>[Receiving, block, blk_-1608999687919862906, s...</td>\n",
              "    </tr>\n",
              "    <tr>\n",
              "      <th>3</th>\n",
              "      <td>4</td>\n",
              "      <td>[Receiving, block, blk_-1608999687919862906, s...</td>\n",
              "    </tr>\n",
              "    <tr>\n",
              "      <th>4</th>\n",
              "      <td>5</td>\n",
              "      <td>[PacketResponder, 1, for, block, blk_-16089996...</td>\n",
              "    </tr>\n",
              "  </tbody>\n",
              "</table>\n",
              "</div>"
            ],
            "text/plain": [
              "   LineId                                            Content\n",
              "0       1  [Receiving, block, blk_-1608999687919862906, s...\n",
              "1       2  [BLOCK*, NameSystem.allocateBlock, :, /mnt/had...\n",
              "2       3  [Receiving, block, blk_-1608999687919862906, s...\n",
              "3       4  [Receiving, block, blk_-1608999687919862906, s...\n",
              "4       5  [PacketResponder, 1, for, block, blk_-16089996..."
            ]
          },
          "metadata": {
            "tags": []
          },
          "execution_count": 42
        }
      ]
    },
    {
      "cell_type": "code",
      "metadata": {
        "colab": {
          "base_uri": "https://localhost:8080/"
        },
        "id": "Hwz6v6LntwEk",
        "outputId": "4608e7a1-4013-4088-c36c-e5aaec26df38"
      },
      "source": [
        "from nltk.corpus import stopwords\r\n",
        "nltk.download('stopwords')"
      ],
      "execution_count": null,
      "outputs": [
        {
          "output_type": "stream",
          "text": [
            "[nltk_data] Downloading package stopwords to /root/nltk_data...\n",
            "[nltk_data]   Package stopwords is already up-to-date!\n"
          ],
          "name": "stdout"
        },
        {
          "output_type": "execute_result",
          "data": {
            "text/plain": [
              "True"
            ]
          },
          "metadata": {
            "tags": []
          },
          "execution_count": 43
        }
      ]
    },
    {
      "cell_type": "code",
      "metadata": {
        "colab": {
          "base_uri": "https://localhost:8080/",
          "height": 312
        },
        "id": "MEigGbnoj4n7",
        "outputId": "75ce0d47-df11-45e8-c80f-b1a1130f3297"
      },
      "source": [
        "# 불용어 처리\r\n",
        "stop = stopwords.words('english')\r\n",
        "text['Content'] = text['Content'].apply(lambda x: [word for word in x if word not in (stop)])\r\n",
        "text.head()"
      ],
      "execution_count": null,
      "outputs": [
        {
          "output_type": "stream",
          "text": [
            "/usr/local/lib/python3.6/dist-packages/ipykernel_launcher.py:3: SettingWithCopyWarning: \n",
            "A value is trying to be set on a copy of a slice from a DataFrame.\n",
            "Try using .loc[row_indexer,col_indexer] = value instead\n",
            "\n",
            "See the caveats in the documentation: https://pandas.pydata.org/pandas-docs/stable/user_guide/indexing.html#returning-a-view-versus-a-copy\n",
            "  This is separate from the ipykernel package so we can avoid doing imports until\n"
          ],
          "name": "stderr"
        },
        {
          "output_type": "execute_result",
          "data": {
            "text/html": [
              "<div>\n",
              "<style scoped>\n",
              "    .dataframe tbody tr th:only-of-type {\n",
              "        vertical-align: middle;\n",
              "    }\n",
              "\n",
              "    .dataframe tbody tr th {\n",
              "        vertical-align: top;\n",
              "    }\n",
              "\n",
              "    .dataframe thead th {\n",
              "        text-align: right;\n",
              "    }\n",
              "</style>\n",
              "<table border=\"1\" class=\"dataframe\">\n",
              "  <thead>\n",
              "    <tr style=\"text-align: right;\">\n",
              "      <th></th>\n",
              "      <th>LineId</th>\n",
              "      <th>Content</th>\n",
              "    </tr>\n",
              "  </thead>\n",
              "  <tbody>\n",
              "    <tr>\n",
              "      <th>0</th>\n",
              "      <td>1</td>\n",
              "      <td>[Receiving, block, blk_-1608999687919862906, s...</td>\n",
              "    </tr>\n",
              "    <tr>\n",
              "      <th>1</th>\n",
              "      <td>2</td>\n",
              "      <td>[BLOCK*, NameSystem.allocateBlock, :, /mnt/had...</td>\n",
              "    </tr>\n",
              "    <tr>\n",
              "      <th>2</th>\n",
              "      <td>3</td>\n",
              "      <td>[Receiving, block, blk_-1608999687919862906, s...</td>\n",
              "    </tr>\n",
              "    <tr>\n",
              "      <th>3</th>\n",
              "      <td>4</td>\n",
              "      <td>[Receiving, block, blk_-1608999687919862906, s...</td>\n",
              "    </tr>\n",
              "    <tr>\n",
              "      <th>4</th>\n",
              "      <td>5</td>\n",
              "      <td>[PacketResponder, 1, block, blk_-1608999687919...</td>\n",
              "    </tr>\n",
              "  </tbody>\n",
              "</table>\n",
              "</div>"
            ],
            "text/plain": [
              "   LineId                                            Content\n",
              "0       1  [Receiving, block, blk_-1608999687919862906, s...\n",
              "1       2  [BLOCK*, NameSystem.allocateBlock, :, /mnt/had...\n",
              "2       3  [Receiving, block, blk_-1608999687919862906, s...\n",
              "3       4  [Receiving, block, blk_-1608999687919862906, s...\n",
              "4       5  [PacketResponder, 1, block, blk_-1608999687919..."
            ]
          },
          "metadata": {
            "tags": []
          },
          "execution_count": 44
        }
      ]
    },
    {
      "cell_type": "code",
      "metadata": {
        "colab": {
          "base_uri": "https://localhost:8080/"
        },
        "id": "vrGakC6tt2eF",
        "outputId": "9908c6ee-13b3-4152-e4c1-fb6a17465b83"
      },
      "source": [
        "nltk.download('wordnet')"
      ],
      "execution_count": null,
      "outputs": [
        {
          "output_type": "stream",
          "text": [
            "[nltk_data] Downloading package wordnet to /root/nltk_data...\n",
            "[nltk_data]   Package wordnet is already up-to-date!\n"
          ],
          "name": "stdout"
        },
        {
          "output_type": "execute_result",
          "data": {
            "text/plain": [
              "True"
            ]
          },
          "metadata": {
            "tags": []
          },
          "execution_count": 45
        }
      ]
    },
    {
      "cell_type": "code",
      "metadata": {
        "colab": {
          "base_uri": "https://localhost:8080/",
          "height": 312
        },
        "id": "EspSP4ADj4kn",
        "outputId": "fcedf715-976a-4b62-e50e-3abf25123477"
      },
      "source": [
        "# 표제어 추출\r\n",
        "from nltk.stem import WordNetLemmatizer\r\n",
        "text['Content'] = text['Content'].apply(lambda x : [WordNetLemmatizer().lemmatize(word, pos='v') for word in x])\r\n",
        "text.head()"
      ],
      "execution_count": null,
      "outputs": [
        {
          "output_type": "stream",
          "text": [
            "/usr/local/lib/python3.6/dist-packages/ipykernel_launcher.py:3: SettingWithCopyWarning: \n",
            "A value is trying to be set on a copy of a slice from a DataFrame.\n",
            "Try using .loc[row_indexer,col_indexer] = value instead\n",
            "\n",
            "See the caveats in the documentation: https://pandas.pydata.org/pandas-docs/stable/user_guide/indexing.html#returning-a-view-versus-a-copy\n",
            "  This is separate from the ipykernel package so we can avoid doing imports until\n"
          ],
          "name": "stderr"
        },
        {
          "output_type": "execute_result",
          "data": {
            "text/html": [
              "<div>\n",
              "<style scoped>\n",
              "    .dataframe tbody tr th:only-of-type {\n",
              "        vertical-align: middle;\n",
              "    }\n",
              "\n",
              "    .dataframe tbody tr th {\n",
              "        vertical-align: top;\n",
              "    }\n",
              "\n",
              "    .dataframe thead th {\n",
              "        text-align: right;\n",
              "    }\n",
              "</style>\n",
              "<table border=\"1\" class=\"dataframe\">\n",
              "  <thead>\n",
              "    <tr style=\"text-align: right;\">\n",
              "      <th></th>\n",
              "      <th>LineId</th>\n",
              "      <th>Content</th>\n",
              "    </tr>\n",
              "  </thead>\n",
              "  <tbody>\n",
              "    <tr>\n",
              "      <th>0</th>\n",
              "      <td>1</td>\n",
              "      <td>[Receiving, block, blk_-1608999687919862906, s...</td>\n",
              "    </tr>\n",
              "    <tr>\n",
              "      <th>1</th>\n",
              "      <td>2</td>\n",
              "      <td>[BLOCK*, NameSystem.allocateBlock, :, /mnt/had...</td>\n",
              "    </tr>\n",
              "    <tr>\n",
              "      <th>2</th>\n",
              "      <td>3</td>\n",
              "      <td>[Receiving, block, blk_-1608999687919862906, s...</td>\n",
              "    </tr>\n",
              "    <tr>\n",
              "      <th>3</th>\n",
              "      <td>4</td>\n",
              "      <td>[Receiving, block, blk_-1608999687919862906, s...</td>\n",
              "    </tr>\n",
              "    <tr>\n",
              "      <th>4</th>\n",
              "      <td>5</td>\n",
              "      <td>[PacketResponder, 1, block, blk_-1608999687919...</td>\n",
              "    </tr>\n",
              "  </tbody>\n",
              "</table>\n",
              "</div>"
            ],
            "text/plain": [
              "   LineId                                            Content\n",
              "0       1  [Receiving, block, blk_-1608999687919862906, s...\n",
              "1       2  [BLOCK*, NameSystem.allocateBlock, :, /mnt/had...\n",
              "2       3  [Receiving, block, blk_-1608999687919862906, s...\n",
              "3       4  [Receiving, block, blk_-1608999687919862906, s...\n",
              "4       5  [PacketResponder, 1, block, blk_-1608999687919..."
            ]
          },
          "metadata": {
            "tags": []
          },
          "execution_count": 46
        }
      ]
    },
    {
      "cell_type": "code",
      "metadata": {
        "colab": {
          "base_uri": "https://localhost:8080/"
        },
        "id": "4SROh1i3j4hd",
        "outputId": "7cad4737-0174-4cc6-93e1-50971babb6f3"
      },
      "source": [
        "# 일정 길이 이하 단어 삭제 \r\n",
        "tokenized_doc = text['Content'].apply(lambda x : [word for word in x if len(word) > 3])\r\n",
        "tokenized_doc[:5]"
      ],
      "execution_count": null,
      "outputs": [
        {
          "output_type": "execute_result",
          "data": {
            "text/plain": [
              "0    [Receiving, block, blk_-1608999687919862906, /...\n",
              "1    [BLOCK*, NameSystem.allocateBlock, /mnt/hadoop...\n",
              "2    [Receiving, block, blk_-1608999687919862906, /...\n",
              "3    [Receiving, block, blk_-1608999687919862906, /...\n",
              "4    [PacketResponder, block, blk_-1608999687919862...\n",
              "Name: Content, dtype: object"
            ]
          },
          "metadata": {
            "tags": []
          },
          "execution_count": 47
        }
      ]
    },
    {
      "cell_type": "code",
      "metadata": {
        "colab": {
          "base_uri": "https://localhost:8080/",
          "height": 312
        },
        "id": "Uj26UIp9kgG8",
        "outputId": "4017fe31-7a3f-4020-e566-cfb21135ca3f"
      },
      "source": [
        "# 역토큰화\r\n",
        "detokenized_doc = []\r\n",
        "for i in range(len(text)):\r\n",
        "    t = ' '.join(tokenized_doc[i])\r\n",
        "    detokenized_doc.append(t)\r\n",
        "text['Content'] = detokenized_doc\r\n",
        "# 다시 text['Content'] 에 저장\r\n",
        "text.head()"
      ],
      "execution_count": null,
      "outputs": [
        {
          "output_type": "stream",
          "text": [
            "/usr/local/lib/python3.6/dist-packages/ipykernel_launcher.py:6: SettingWithCopyWarning: \n",
            "A value is trying to be set on a copy of a slice from a DataFrame.\n",
            "Try using .loc[row_indexer,col_indexer] = value instead\n",
            "\n",
            "See the caveats in the documentation: https://pandas.pydata.org/pandas-docs/stable/user_guide/indexing.html#returning-a-view-versus-a-copy\n",
            "  \n"
          ],
          "name": "stderr"
        },
        {
          "output_type": "execute_result",
          "data": {
            "text/html": [
              "<div>\n",
              "<style scoped>\n",
              "    .dataframe tbody tr th:only-of-type {\n",
              "        vertical-align: middle;\n",
              "    }\n",
              "\n",
              "    .dataframe tbody tr th {\n",
              "        vertical-align: top;\n",
              "    }\n",
              "\n",
              "    .dataframe thead th {\n",
              "        text-align: right;\n",
              "    }\n",
              "</style>\n",
              "<table border=\"1\" class=\"dataframe\">\n",
              "  <thead>\n",
              "    <tr style=\"text-align: right;\">\n",
              "      <th></th>\n",
              "      <th>LineId</th>\n",
              "      <th>Content</th>\n",
              "    </tr>\n",
              "  </thead>\n",
              "  <tbody>\n",
              "    <tr>\n",
              "      <th>0</th>\n",
              "      <td>1</td>\n",
              "      <td>Receiving block blk_-1608999687919862906 /10.2...</td>\n",
              "    </tr>\n",
              "    <tr>\n",
              "      <th>1</th>\n",
              "      <td>2</td>\n",
              "      <td>BLOCK* NameSystem.allocateBlock /mnt/hadoop/ma...</td>\n",
              "    </tr>\n",
              "    <tr>\n",
              "      <th>2</th>\n",
              "      <td>3</td>\n",
              "      <td>Receiving block blk_-1608999687919862906 /10.2...</td>\n",
              "    </tr>\n",
              "    <tr>\n",
              "      <th>3</th>\n",
              "      <td>4</td>\n",
              "      <td>Receiving block blk_-1608999687919862906 /10.2...</td>\n",
              "    </tr>\n",
              "    <tr>\n",
              "      <th>4</th>\n",
              "      <td>5</td>\n",
              "      <td>PacketResponder block blk_-1608999687919862906...</td>\n",
              "    </tr>\n",
              "  </tbody>\n",
              "</table>\n",
              "</div>"
            ],
            "text/plain": [
              "   LineId                                            Content\n",
              "0       1  Receiving block blk_-1608999687919862906 /10.2...\n",
              "1       2  BLOCK* NameSystem.allocateBlock /mnt/hadoop/ma...\n",
              "2       3  Receiving block blk_-1608999687919862906 /10.2...\n",
              "3       4  Receiving block blk_-1608999687919862906 /10.2...\n",
              "4       5  PacketResponder block blk_-1608999687919862906..."
            ]
          },
          "metadata": {
            "tags": []
          },
          "execution_count": 32
        }
      ]
    },
    {
      "cell_type": "code",
      "metadata": {
        "colab": {
          "base_uri": "https://localhost:8080/"
        },
        "id": "5z_GR-pDkgED",
        "outputId": "a4869514-965b-4426-8d97-fb73362d5188"
      },
      "source": [
        "from sklearn.feature_extraction.text import TfidfVectorizer\r\n",
        "vectorizer = TfidfVectorizer(stop_words='english', max_features=1000)\r\n",
        "X = vectorizer.fit_transform(text['Content'])\r\n",
        "X.shape"
      ],
      "execution_count": null,
      "outputs": [
        {
          "output_type": "execute_result",
          "data": {
            "text/plain": [
              "(104815, 1000)"
            ]
          },
          "metadata": {
            "tags": []
          },
          "execution_count": 33
        }
      ]
    },
    {
      "cell_type": "code",
      "metadata": {
        "colab": {
          "base_uri": "https://localhost:8080/"
        },
        "id": "1badxmLKkgA8",
        "outputId": "28979bea-2f50-4912-f0cb-9ac5687428cd"
      },
      "source": [
        "from sklearn.decomposition import LatentDirichletAllocation\r\n",
        "lda_model = LatentDirichletAllocation(n_components=10, learning_method='online', random_state=777, max_iter=1)\r\n",
        "lda_top = lda_model.fit_transform(X)\r\n",
        "print(lda_model.components_)\r\n",
        "print(lda_model.components_.shape)"
      ],
      "execution_count": null,
      "outputs": [
        {
          "output_type": "stream",
          "text": [
            "[[1.00000006e-01 1.00000006e-01 1.00000008e-01 ... 1.00000042e-01\n",
            "  1.00000818e-01 1.00000007e-01]\n",
            " [1.89001672e+00 4.28374804e+00 2.82443277e+00 ... 2.00300039e+03\n",
            "  1.00000107e-01 1.00000008e-01]\n",
            " [1.00000006e-01 1.00000009e-01 1.00000007e-01 ... 1.00000007e-01\n",
            "  1.00000014e-01 1.00000007e-01]\n",
            " ...\n",
            " [1.00000008e-01 1.00000007e-01 1.00000007e-01 ... 1.00000008e-01\n",
            "  1.00000403e-01 1.00000007e-01]\n",
            " [1.00017155e-01 1.00000006e-01 1.00000008e-01 ... 1.00000032e-01\n",
            "  6.04580620e+03 1.00000007e-01]\n",
            " [1.00000006e-01 1.00000008e-01 1.00000007e-01 ... 1.00000122e-01\n",
            "  1.00000184e-01 1.00000007e-01]]\n",
            "(10, 1000)\n"
          ],
          "name": "stdout"
        }
      ]
    },
    {
      "cell_type": "code",
      "metadata": {
        "colab": {
          "base_uri": "https://localhost:8080/"
        },
        "id": "6QKAalS0m7rg",
        "outputId": "1eeb9a7d-2513-40f8-8e4e-85a5bb613f86"
      },
      "source": [
        "terms = vectorizer.get_feature_names() \r\n",
        "# 단어 집합. 1,000개의 단어가 저장되어있음.\r\n",
        "def get_topics(components, feature_names, n=5):\r\n",
        "    for idx, topic in enumerate(components):\r\n",
        "        print(\"Topic %d :\" % (idx+1), [(feature_names[i], topic[i].round(2)) for i in topic.argsort()[:-n -1:-1]])\r\n",
        "get_topics(lda_model.components_, terms)"
      ],
      "execution_count": null,
      "outputs": [
        {
          "output_type": "stream",
          "text": [
            "Topic 1 : [('107', 1102.18), ('251', 1081.04), ('30', 1007.07), ('10', 951.24), ('134', 779.46)]\n",
            "Topic 2 : [('root', 2003.0), ('user', 2003.0), ('rand', 2003.0), ('allocateblock', 2002.79), ('_temporary', 2002.77)]\n",
            "Topic 3 : [('addstoredblock', 6126.61), ('blockmap', 6124.14), ('update', 6124.14), ('namesystem', 5393.07), ('50010', 3903.47)]\n",
            "Topic 4 : [('10', 1478.77), ('250', 1312.99), ('received', 1171.09), ('size', 1045.39), ('67108864', 969.62)]\n",
            "Topic 5 : [('251', 1343.46), ('10', 1232.41), ('203', 1066.3), ('received', 1034.8), ('123', 994.32)]\n",
            "Topic 6 : [('70', 1141.97), ('194', 1058.49), ('251', 869.47), ('67', 792.84), ('10', 749.25)]\n",
            "Topic 7 : [('214', 1701.53), ('251', 1019.8), ('10', 978.46), ('received', 834.1), ('74', 778.95)]\n",
            "Topic 8 : [('251', 1207.42), ('10', 1055.27), ('31', 1029.24), ('111', 1027.74), ('192', 923.02)]\n",
            "Topic 9 : [('packetresponder', 15604.81), ('terminate', 15602.6), ('block', 6559.31), ('blk_', 6069.46), ('verification', 6045.81)]\n",
            "Topic 10 : [('10', 1248.69), ('250', 1215.9), ('42', 1096.18), ('received', 971.74), ('size', 844.3)]\n"
          ],
          "name": "stdout"
        }
      ]
    },
    {
      "cell_type": "markdown",
      "metadata": {
        "id": "omsURXYnuZRC"
      },
      "source": [
        "## HDFS 3차\r\n",
        "1차 + 2차"
      ]
    },
    {
      "cell_type": "code",
      "metadata": {
        "colab": {
          "base_uri": "https://localhost:8080/",
          "height": 204
        },
        "id": "QmkDlXnVuqtJ",
        "outputId": "6e3152ae-5272-44f9-be72-ffc3aa7aed46"
      },
      "source": [
        "text = df[['LineId','Content']]\r\n",
        "text.head()"
      ],
      "execution_count": null,
      "outputs": [
        {
          "output_type": "execute_result",
          "data": {
            "text/html": [
              "<div>\n",
              "<style scoped>\n",
              "    .dataframe tbody tr th:only-of-type {\n",
              "        vertical-align: middle;\n",
              "    }\n",
              "\n",
              "    .dataframe tbody tr th {\n",
              "        vertical-align: top;\n",
              "    }\n",
              "\n",
              "    .dataframe thead th {\n",
              "        text-align: right;\n",
              "    }\n",
              "</style>\n",
              "<table border=\"1\" class=\"dataframe\">\n",
              "  <thead>\n",
              "    <tr style=\"text-align: right;\">\n",
              "      <th></th>\n",
              "      <th>LineId</th>\n",
              "      <th>Content</th>\n",
              "    </tr>\n",
              "  </thead>\n",
              "  <tbody>\n",
              "    <tr>\n",
              "      <th>0</th>\n",
              "      <td>1</td>\n",
              "      <td>Receiving block blk_-1608999687919862906 src: ...</td>\n",
              "    </tr>\n",
              "    <tr>\n",
              "      <th>1</th>\n",
              "      <td>2</td>\n",
              "      <td>BLOCK* NameSystem.allocateBlock: /mnt/hadoop/m...</td>\n",
              "    </tr>\n",
              "    <tr>\n",
              "      <th>2</th>\n",
              "      <td>3</td>\n",
              "      <td>Receiving block blk_-1608999687919862906 src: ...</td>\n",
              "    </tr>\n",
              "    <tr>\n",
              "      <th>3</th>\n",
              "      <td>4</td>\n",
              "      <td>Receiving block blk_-1608999687919862906 src: ...</td>\n",
              "    </tr>\n",
              "    <tr>\n",
              "      <th>4</th>\n",
              "      <td>5</td>\n",
              "      <td>PacketResponder 1 for block blk_-1608999687919...</td>\n",
              "    </tr>\n",
              "  </tbody>\n",
              "</table>\n",
              "</div>"
            ],
            "text/plain": [
              "   LineId                                            Content\n",
              "0       1  Receiving block blk_-1608999687919862906 src: ...\n",
              "1       2  BLOCK* NameSystem.allocateBlock: /mnt/hadoop/m...\n",
              "2       3  Receiving block blk_-1608999687919862906 src: ...\n",
              "3       4  Receiving block blk_-1608999687919862906 src: ...\n",
              "4       5  PacketResponder 1 for block blk_-1608999687919..."
            ]
          },
          "metadata": {
            "tags": []
          },
          "execution_count": 93
        }
      ]
    },
    {
      "cell_type": "code",
      "metadata": {
        "colab": {
          "base_uri": "https://localhost:8080/"
        },
        "id": "WfCKqPmZuqtK",
        "outputId": "a6cfda47-fe21-474e-ac02-423abd6261ce"
      },
      "source": [
        "import nltk\r\n",
        "nltk.download('punkt')"
      ],
      "execution_count": null,
      "outputs": [
        {
          "output_type": "stream",
          "text": [
            "[nltk_data] Downloading package punkt to /root/nltk_data...\n",
            "[nltk_data]   Package punkt is already up-to-date!\n"
          ],
          "name": "stdout"
        },
        {
          "output_type": "execute_result",
          "data": {
            "text/plain": [
              "True"
            ]
          },
          "metadata": {
            "tags": []
          },
          "execution_count": 94
        }
      ]
    },
    {
      "cell_type": "code",
      "metadata": {
        "colab": {
          "base_uri": "https://localhost:8080/",
          "height": 204
        },
        "id": "6xDxaqCnuqtK",
        "outputId": "cf7adf97-9232-407b-bb8d-14ba7fde0b59"
      },
      "source": [
        "# 토큰화\r\n",
        "text['Content'] = text.apply(lambda row: nltk.word_tokenize(row['Content']), axis=1)\r\n",
        "text.head()"
      ],
      "execution_count": null,
      "outputs": [
        {
          "output_type": "execute_result",
          "data": {
            "text/html": [
              "<div>\n",
              "<style scoped>\n",
              "    .dataframe tbody tr th:only-of-type {\n",
              "        vertical-align: middle;\n",
              "    }\n",
              "\n",
              "    .dataframe tbody tr th {\n",
              "        vertical-align: top;\n",
              "    }\n",
              "\n",
              "    .dataframe thead th {\n",
              "        text-align: right;\n",
              "    }\n",
              "</style>\n",
              "<table border=\"1\" class=\"dataframe\">\n",
              "  <thead>\n",
              "    <tr style=\"text-align: right;\">\n",
              "      <th></th>\n",
              "      <th>LineId</th>\n",
              "      <th>Content</th>\n",
              "    </tr>\n",
              "  </thead>\n",
              "  <tbody>\n",
              "    <tr>\n",
              "      <th>0</th>\n",
              "      <td>1</td>\n",
              "      <td>[Receiving, block, blk_-1608999687919862906, s...</td>\n",
              "    </tr>\n",
              "    <tr>\n",
              "      <th>1</th>\n",
              "      <td>2</td>\n",
              "      <td>[BLOCK*, NameSystem.allocateBlock, :, /mnt/had...</td>\n",
              "    </tr>\n",
              "    <tr>\n",
              "      <th>2</th>\n",
              "      <td>3</td>\n",
              "      <td>[Receiving, block, blk_-1608999687919862906, s...</td>\n",
              "    </tr>\n",
              "    <tr>\n",
              "      <th>3</th>\n",
              "      <td>4</td>\n",
              "      <td>[Receiving, block, blk_-1608999687919862906, s...</td>\n",
              "    </tr>\n",
              "    <tr>\n",
              "      <th>4</th>\n",
              "      <td>5</td>\n",
              "      <td>[PacketResponder, 1, for, block, blk_-16089996...</td>\n",
              "    </tr>\n",
              "  </tbody>\n",
              "</table>\n",
              "</div>"
            ],
            "text/plain": [
              "   LineId                                            Content\n",
              "0       1  [Receiving, block, blk_-1608999687919862906, s...\n",
              "1       2  [BLOCK*, NameSystem.allocateBlock, :, /mnt/had...\n",
              "2       3  [Receiving, block, blk_-1608999687919862906, s...\n",
              "3       4  [Receiving, block, blk_-1608999687919862906, s...\n",
              "4       5  [PacketResponder, 1, for, block, blk_-16089996..."
            ]
          },
          "metadata": {
            "tags": []
          },
          "execution_count": 95
        }
      ]
    },
    {
      "cell_type": "code",
      "metadata": {
        "colab": {
          "base_uri": "https://localhost:8080/"
        },
        "id": "0zFxmIkbuqtL",
        "outputId": "ddd12bba-ec58-4e2d-8486-ace5b1d0b61f"
      },
      "source": [
        "from nltk.corpus import stopwords\r\n",
        "nltk.download('stopwords')"
      ],
      "execution_count": null,
      "outputs": [
        {
          "output_type": "stream",
          "text": [
            "[nltk_data] Downloading package stopwords to /root/nltk_data...\n",
            "[nltk_data]   Package stopwords is already up-to-date!\n"
          ],
          "name": "stdout"
        },
        {
          "output_type": "execute_result",
          "data": {
            "text/plain": [
              "True"
            ]
          },
          "metadata": {
            "tags": []
          },
          "execution_count": 96
        }
      ]
    },
    {
      "cell_type": "code",
      "metadata": {
        "colab": {
          "base_uri": "https://localhost:8080/",
          "height": 204
        },
        "id": "Ij5o1CSKuqtL",
        "outputId": "63efe553-dab0-414f-9a5b-8b9267cff97d"
      },
      "source": [
        "# 불용어 처리\r\n",
        "stop = stopwords.words('english')\r\n",
        "text['Content'] = text['Content'].apply(lambda x: [word for word in x if word not in (stop)])\r\n",
        "text.head()"
      ],
      "execution_count": null,
      "outputs": [
        {
          "output_type": "execute_result",
          "data": {
            "text/html": [
              "<div>\n",
              "<style scoped>\n",
              "    .dataframe tbody tr th:only-of-type {\n",
              "        vertical-align: middle;\n",
              "    }\n",
              "\n",
              "    .dataframe tbody tr th {\n",
              "        vertical-align: top;\n",
              "    }\n",
              "\n",
              "    .dataframe thead th {\n",
              "        text-align: right;\n",
              "    }\n",
              "</style>\n",
              "<table border=\"1\" class=\"dataframe\">\n",
              "  <thead>\n",
              "    <tr style=\"text-align: right;\">\n",
              "      <th></th>\n",
              "      <th>LineId</th>\n",
              "      <th>Content</th>\n",
              "    </tr>\n",
              "  </thead>\n",
              "  <tbody>\n",
              "    <tr>\n",
              "      <th>0</th>\n",
              "      <td>1</td>\n",
              "      <td>[Receiving, block, blk_-1608999687919862906, s...</td>\n",
              "    </tr>\n",
              "    <tr>\n",
              "      <th>1</th>\n",
              "      <td>2</td>\n",
              "      <td>[BLOCK*, NameSystem.allocateBlock, :, /mnt/had...</td>\n",
              "    </tr>\n",
              "    <tr>\n",
              "      <th>2</th>\n",
              "      <td>3</td>\n",
              "      <td>[Receiving, block, blk_-1608999687919862906, s...</td>\n",
              "    </tr>\n",
              "    <tr>\n",
              "      <th>3</th>\n",
              "      <td>4</td>\n",
              "      <td>[Receiving, block, blk_-1608999687919862906, s...</td>\n",
              "    </tr>\n",
              "    <tr>\n",
              "      <th>4</th>\n",
              "      <td>5</td>\n",
              "      <td>[PacketResponder, 1, block, blk_-1608999687919...</td>\n",
              "    </tr>\n",
              "  </tbody>\n",
              "</table>\n",
              "</div>"
            ],
            "text/plain": [
              "   LineId                                            Content\n",
              "0       1  [Receiving, block, blk_-1608999687919862906, s...\n",
              "1       2  [BLOCK*, NameSystem.allocateBlock, :, /mnt/had...\n",
              "2       3  [Receiving, block, blk_-1608999687919862906, s...\n",
              "3       4  [Receiving, block, blk_-1608999687919862906, s...\n",
              "4       5  [PacketResponder, 1, block, blk_-1608999687919..."
            ]
          },
          "metadata": {
            "tags": []
          },
          "execution_count": 97
        }
      ]
    },
    {
      "cell_type": "code",
      "metadata": {
        "colab": {
          "base_uri": "https://localhost:8080/"
        },
        "id": "FnU2M-wuuqtL",
        "outputId": "25d931ed-04bc-4986-abf2-4861ed6c944c"
      },
      "source": [
        "nltk.download('wordnet')"
      ],
      "execution_count": null,
      "outputs": [
        {
          "output_type": "stream",
          "text": [
            "[nltk_data] Downloading package wordnet to /root/nltk_data...\n",
            "[nltk_data]   Package wordnet is already up-to-date!\n"
          ],
          "name": "stdout"
        },
        {
          "output_type": "execute_result",
          "data": {
            "text/plain": [
              "True"
            ]
          },
          "metadata": {
            "tags": []
          },
          "execution_count": 98
        }
      ]
    },
    {
      "cell_type": "code",
      "metadata": {
        "colab": {
          "base_uri": "https://localhost:8080/",
          "height": 204
        },
        "id": "y0we1EdruqtL",
        "outputId": "65b855d9-1104-457d-8480-a26645c72ca9"
      },
      "source": [
        "# 표제어 추출\r\n",
        "from nltk.stem import WordNetLemmatizer\r\n",
        "text['Content'] = text['Content'].apply(lambda x : [WordNetLemmatizer().lemmatize(word, pos='v') for word in x])\r\n",
        "text.head()"
      ],
      "execution_count": null,
      "outputs": [
        {
          "output_type": "execute_result",
          "data": {
            "text/html": [
              "<div>\n",
              "<style scoped>\n",
              "    .dataframe tbody tr th:only-of-type {\n",
              "        vertical-align: middle;\n",
              "    }\n",
              "\n",
              "    .dataframe tbody tr th {\n",
              "        vertical-align: top;\n",
              "    }\n",
              "\n",
              "    .dataframe thead th {\n",
              "        text-align: right;\n",
              "    }\n",
              "</style>\n",
              "<table border=\"1\" class=\"dataframe\">\n",
              "  <thead>\n",
              "    <tr style=\"text-align: right;\">\n",
              "      <th></th>\n",
              "      <th>LineId</th>\n",
              "      <th>Content</th>\n",
              "    </tr>\n",
              "  </thead>\n",
              "  <tbody>\n",
              "    <tr>\n",
              "      <th>0</th>\n",
              "      <td>1</td>\n",
              "      <td>[Receiving, block, blk_-1608999687919862906, s...</td>\n",
              "    </tr>\n",
              "    <tr>\n",
              "      <th>1</th>\n",
              "      <td>2</td>\n",
              "      <td>[BLOCK*, NameSystem.allocateBlock, :, /mnt/had...</td>\n",
              "    </tr>\n",
              "    <tr>\n",
              "      <th>2</th>\n",
              "      <td>3</td>\n",
              "      <td>[Receiving, block, blk_-1608999687919862906, s...</td>\n",
              "    </tr>\n",
              "    <tr>\n",
              "      <th>3</th>\n",
              "      <td>4</td>\n",
              "      <td>[Receiving, block, blk_-1608999687919862906, s...</td>\n",
              "    </tr>\n",
              "    <tr>\n",
              "      <th>4</th>\n",
              "      <td>5</td>\n",
              "      <td>[PacketResponder, 1, block, blk_-1608999687919...</td>\n",
              "    </tr>\n",
              "  </tbody>\n",
              "</table>\n",
              "</div>"
            ],
            "text/plain": [
              "   LineId                                            Content\n",
              "0       1  [Receiving, block, blk_-1608999687919862906, s...\n",
              "1       2  [BLOCK*, NameSystem.allocateBlock, :, /mnt/had...\n",
              "2       3  [Receiving, block, blk_-1608999687919862906, s...\n",
              "3       4  [Receiving, block, blk_-1608999687919862906, s...\n",
              "4       5  [PacketResponder, 1, block, blk_-1608999687919..."
            ]
          },
          "metadata": {
            "tags": []
          },
          "execution_count": 99
        }
      ]
    },
    {
      "cell_type": "code",
      "metadata": {
        "colab": {
          "base_uri": "https://localhost:8080/"
        },
        "id": "stkqxNASuqtL",
        "outputId": "6c1c9054-3679-45e0-ce67-f32173a2186c"
      },
      "source": [
        "# 일정 길이 이하 단어 삭제 \r\n",
        "tokenized_doc = text['Content'].apply(lambda x : [word for word in x if len(word) > 3])\r\n",
        "tokenized_doc[:5]"
      ],
      "execution_count": null,
      "outputs": [
        {
          "output_type": "execute_result",
          "data": {
            "text/plain": [
              "0    [Receiving, block, blk_-1608999687919862906, /...\n",
              "1    [BLOCK*, NameSystem.allocateBlock, /mnt/hadoop...\n",
              "2    [Receiving, block, blk_-1608999687919862906, /...\n",
              "3    [Receiving, block, blk_-1608999687919862906, /...\n",
              "4    [PacketResponder, block, blk_-1608999687919862...\n",
              "Name: Content, dtype: object"
            ]
          },
          "metadata": {
            "tags": []
          },
          "execution_count": 100
        }
      ]
    },
    {
      "cell_type": "code",
      "metadata": {
        "id": "B6nVnoSvueN4"
      },
      "source": [
        "data = [i for i in tokenized_doc]"
      ],
      "execution_count": null,
      "outputs": []
    },
    {
      "cell_type": "code",
      "metadata": {
        "id": "2eAL5qGLu41e"
      },
      "source": [
        "id2word = corpora.Dictionary(data)"
      ],
      "execution_count": null,
      "outputs": []
    },
    {
      "cell_type": "code",
      "metadata": {
        "id": "u120Pa7hu41i"
      },
      "source": [
        "corpus = [id2word.doc2bow(text) for text in data]"
      ],
      "execution_count": null,
      "outputs": []
    },
    {
      "cell_type": "code",
      "metadata": {
        "colab": {
          "base_uri": "https://localhost:8080/"
        },
        "id": "u-CD7KaWu41i",
        "outputId": "7f0e90de-a66a-4a84-c1a6-56067147a4b2"
      },
      "source": [
        "print(corpus[:1])"
      ],
      "execution_count": null,
      "outputs": [
        {
          "output_type": "stream",
          "text": [
            "[[(0, 1), (1, 1), (2, 1), (3, 1), (4, 1), (5, 1)]]\n"
          ],
          "name": "stdout"
        }
      ]
    },
    {
      "cell_type": "code",
      "metadata": {
        "id": "n2rrfqI1vDul"
      },
      "source": [
        "import warnings \r\n",
        "warnings.filterwarnings('ignore')"
      ],
      "execution_count": null,
      "outputs": []
    },
    {
      "cell_type": "code",
      "metadata": {
        "id": "VwYxMCQPu41j"
      },
      "source": [
        "lda_model = gensim.models.ldamodel.LdaModel(corpus = corpus,\r\n",
        "                                            id2word = id2word,\r\n",
        "                                            num_topics = 10,\r\n",
        "                                            random_state = 100,\r\n",
        "                                            update_every =1,\r\n",
        "                                            chunksize = 100,\r\n",
        "                                            passes = 10,\r\n",
        "                                            alpha= 'auto',\r\n",
        "                                            per_word_topics = True\r\n",
        "                                            )"
      ],
      "execution_count": null,
      "outputs": []
    },
    {
      "cell_type": "code",
      "metadata": {
        "colab": {
          "base_uri": "https://localhost:8080/"
        },
        "id": "ZgBUgWaFu41k",
        "outputId": "0f4cb5b4-54a4-4609-bbbe-e31742c133dd"
      },
      "source": [
        "pprint(lda_model.print_topics())\r\n",
        "doc_lda = lda_model[corpus]"
      ],
      "execution_count": null,
      "outputs": [
        {
          "output_type": "stream",
          "text": [
            "[(0,\n",
            "  '0.307*\"block\" + 0.015*\"blk_-3059453549958878582\" + 0.013*\"/10.251.31.5\" + '\n",
            "  '0.012*\"/10.251.126.5\" + 0.011*\"/10.250.7.32\" + 0.011*\"/10.251.203.129\" + '\n",
            "  '0.011*\"/10.250.11.85\" + 0.010*\"/10.251.71.97\" + '\n",
            "  '0.010*\"blk_-836233151529212612\" + 0.009*\"/10.251.39.192\"'),\n",
            " (1,\n",
            "  '0.234*\"block\" + 0.016*\"blk_-2607603250149292767\" + '\n",
            "  '0.014*\"blk_3126100339057783399\" + 0.014*\"10.251.74.79:50010\" + '\n",
            "  '0.014*\"blk_-598955920782630733\" + 0.013*\"blk_4718466536212741328\" + '\n",
            "  '0.012*\"/10.251.111.209\" + 0.012*\"10.251.111.209:50010\" + '\n",
            "  '0.011*\"/10.251.111.37\" + 0.011*\"blk_7907797724760003565\"'),\n",
            " (2,\n",
            "  '0.200*\"size\" + 0.195*\"67108864\" + 0.101*\"Received\" + '\n",
            "  '0.100*\"NameSystem.addStoredBlock\" + 0.100*\"update\" + 0.100*\"blockMap\" + '\n",
            "  '0.091*\"BLOCK*\" + 0.001*\"10.251.39.160:50010\" + 0.001*\"10.251.39.209:50010\" '\n",
            "  '+ 0.001*\"10.251.107.227:50010\"'),\n",
            " (3,\n",
            "  '0.060*\"BLOCK*\" + 0.028*\"NameSystem.allocateBlock\" + '\n",
            "  '0.004*\"blk_8909107483987085802\" + 0.004*\"blk_9047244576407600764\" + '\n",
            "  '0.004*\"blk_524408193881860019\" + 0.004*\"blk_4222802578485615752\" + '\n",
            "  '0.004*\"blk_-2951262078924395064\" + 0.004*\"blk_-9081208173975932165\" + '\n",
            "  '0.004*\"blk_8652779608730262978\" + 0.004*\"blk_-976339114197076853\"'),\n",
            " (4,\n",
            "  '0.318*\"block\" + 0.307*\"PacketResponder\" + 0.306*\"terminate\" + '\n",
            "  '0.002*\"/10.251.30.179\" + 0.002*\"10.251.90.64:50010\" + '\n",
            "  '0.001*\"/10.250.11.100\" + 0.001*\"blk_-7722134978135978544\" + '\n",
            "  '0.001*\"blk_5951221751432246380\" + 0.001*\"10.250.7.244:50010\" + '\n",
            "  '0.001*\"blk_-1196019860597610288\"'),\n",
            " (5,\n",
            "  '0.020*\"blk_-6742986629304373462\" + 0.019*\"blk_-5139777489517063680\" + '\n",
            "  '0.019*\"blk_2907885683673342872\" + 0.018*\"blk_-3260736406913425394\" + '\n",
            "  '0.017*\"10.251.106.10:50010\" + 0.017*\"blk_-861765373330722953\" + '\n",
            "  '0.016*\"blk_-1402764052044494020\" + 0.016*\"blk_-3350625939026579183\" + '\n",
            "  '0.016*\"blk_-7800853382581848688\" + 0.013*\"blk_4509878823587110787\"'),\n",
            " (6,\n",
            "  '0.265*\"succeed\" + 0.265*\"Verification\" + 0.097*\"block\" + '\n",
            "  '0.002*\"blk_-2382389751032389929\" + 0.002*\"blk_4747238186020862016\" + '\n",
            "  '0.002*\"blk_6420476111425645508\" + 0.002*\"/10.251.39.209\" + '\n",
            "  '0.002*\"blk_4856031730010032819\" + 0.002*\"blk_-3155415637543545820\" + '\n",
            "  '0.002*\"/10.251.107.227\"'),\n",
            " (7,\n",
            "  '0.057*\"blk_4241467193520768333\" + 0.016*\"blk_1037066694877136451\" + '\n",
            "  '0.016*\"blk_-7325968241997525720\" + 0.015*\"blk_-7390710706320943439\" + '\n",
            "  '0.015*\"blk_-1214394198778192417\" + 0.015*\"blk_-7374177486939901806\" + '\n",
            "  '0.014*\"blk_-4358861442329520889\" + 0.014*\"blk_-372632911736985200\" + '\n",
            "  '0.013*\"blk_-1322963786995945056\" + 0.013*\"blk_-7858897319223152664\"'),\n",
            " (8,\n",
            "  '0.192*\"block\" + 0.190*\"dest\" + 0.189*\"Receiving\" + '\n",
            "  '0.007*\"blk_4966276028193818154\" + 0.007*\"blk_4108032757710290196\" + '\n",
            "  '0.007*\"blk_-7326879742777330616\" + 0.006*\"blk_-955678844525403431\" + '\n",
            "  '0.006*\"blk_-4566764090560972175\" + 0.006*\"blk_8093107867996361765\" + '\n",
            "  '0.005*\"blk_6157997286876178234\"'),\n",
            " (9,\n",
            "  '0.169*\"block\" + 0.017*\"blk_4286887770593516283\" + '\n",
            "  '0.016*\"blk_1207568959074804298\" + 0.016*\"blk_-8608758988186237206\" + '\n",
            "  '0.015*\"10.251.31.5:50010\" + 0.015*\"blk_1200401807679484048\" + '\n",
            "  '0.014*\"/10.251.194.245\" + 0.013*\"/10.251.105.189\" + '\n",
            "  '0.013*\"blk_-6174155369373380263\" + 0.012*\"/10.251.126.227\"')]\n"
          ],
          "name": "stdout"
        }
      ]
    },
    {
      "cell_type": "markdown",
      "metadata": {
        "id": "D-VcAh3-w5hN"
      },
      "source": [
        "## HDFS 1차 3차 단어 정리"
      ]
    },
    {
      "cell_type": "markdown",
      "metadata": {
        "id": "-4pECxGY0-en"
      },
      "source": [
        "1차 topic"
      ]
    },
    {
      "cell_type": "code",
      "metadata": {
        "id": "gpaFoj8_w81E"
      },
      "source": [
        "_1st = [(0,\r\n",
        "  '0.046*\"BLOCK*\" + 0.031*\"NameSystem.allocateBlock:\" + '\r\n",
        "  '0.012*\"blk_4241467193520768333\" + 0.004*\"blk_8909107483987085802\" + '\r\n",
        "  '0.004*\"blk_9047244576407600764\" + 0.004*\"blk_524408193881860019\" + '\r\n",
        "  '0.004*\"blk_4222802578485615752\" + 0.004*\"blk_-2951262078924395064\" + '\r\n",
        "  '0.004*\"blk_-9081208173975932165\" + 0.004*\"blk_8652779608730262978\"'),\r\n",
        " (1,\r\n",
        "  '0.101*\"to\" + 0.099*\"NameSystem.addStoredBlock:\" + 0.099*\"size\" + 0.099*\"is\" '\r\n",
        "  '+ 0.099*\"blockMap\" + 0.099*\"added\" + 0.099*\"updated:\" + 0.097*\"67108864\" + '\r\n",
        "  '0.095*\"BLOCK*\" + 0.001*\"10.251.39.160:50010\"'),\r\n",
        " (2,\r\n",
        "  '0.018*\"blk_-2607603250149292767\" + 0.017*\"blk_4286887770593516283\" + '\r\n",
        "  '0.017*\"blk_1037066694877136451\" + 0.016*\"10.251.74.79:50010\" + '\r\n",
        "  '0.016*\"blk_-7390710706320943439\" + 0.016*\"blk_-7385019746290967026\" + '\r\n",
        "  '0.016*\"blk_-1160765867676592212\" + 0.015*\"10.251.31.5:50010\" + '\r\n",
        "  '0.015*\"blk_-4130422002907235753\" + 0.015*\"blk_-372632911736985200\"'),\r\n",
        " (3,\r\n",
        "  '0.157*\"block\" + 0.151*\"of\" + 0.150*\"from\" + 0.150*\"size\" + 0.150*\"Received\" '\r\n",
        "  '+ 0.146*\"67108864\" + 0.050*\"1\" + 0.001*\"/10.251.31.5\" + '\r\n",
        "  '0.001*\"/10.250.7.32\" + 0.001*\"/10.251.203.129\"'),\r\n",
        " (4,\r\n",
        "  '0.159*\"block\" + 0.145*\"src:\" + 0.145*\"dest:\" + 0.144*\"Receiving\" + '\r\n",
        "  '0.005*\"blk_4108032757710290196\" + 0.005*\"blk_-7326879742777330616\" + '\r\n",
        "  '0.005*\"blk_4966276028193818154\" + 0.005*\"blk_-955678844525403431\" + '\r\n",
        "  '0.005*\"blk_-4566764090560972175\" + 0.005*\"blk_7359588822015996941\"'),\r\n",
        " (5,\r\n",
        "  '0.014*\"blk_-7199733435216834133\" + 0.013*\"blk_-3140754468249228022\" + '\r\n",
        "  '0.012*\"blk_-8608758988186237206\" + 0.012*\"blk_-7374177486939901806\" + '\r\n",
        "  '0.012*\"blk_7007568649123695530\" + 0.011*\"blk_252816358434654494\" + '\r\n",
        "  '0.011*\"/10.251.126.5\" + 0.011*\"blk_4301761665496587132\" + '\r\n",
        "  '0.011*\"/10.251.31.160\" + 0.011*\"/10.251.194.245\"'),\r\n",
        " (6,\r\n",
        "  '0.013*\"/10.251.39.209\" + 0.012*\"/10.251.107.227\" + '\r\n",
        "  '0.011*\"blk_-365681253977708548\" + 0.011*\"/10.251.203.179\" + '\r\n",
        "  '0.010*\"/10.251.26.131\" + 0.010*\"/10.251.111.209\" + 0.010*\"/10.251.105.189\" '\r\n",
        "  '+ 0.009*\"10.251.111.209:50010\" + 0.009*\"/10.251.43.21\" + '\r\n",
        "  '0.009*\"/10.250.17.225\"'),\r\n",
        " (7,\r\n",
        "  '0.386*\"for\" + 0.157*\"PacketResponder\" + 0.156*\"terminating\" + 0.147*\"block\" '\r\n",
        "  '+ 0.052*\"0\" + 0.052*\"2\" + 0.001*\"/10.251.71.16\" + 0.001*\"/10.250.11.100\" + '\r\n",
        "  '0.001*\"/10.251.197.226\" + 0.001*\"/10.250.14.196\"'),\r\n",
        " (8,\r\n",
        "  '0.320*\"succeeded\" + 0.320*\"Verification\" + 0.002*\"blk_6420476111425645508\" '\r\n",
        "  '+ 0.002*\"blk_4747238186020862016\" + 0.002*\"blk_-2382389751032389929\" + '\r\n",
        "  '0.002*\"blk_7455154075126513420\" + 0.002*\"blk_4856031730010032819\" + '\r\n",
        "  '0.002*\"blk_-3155415637543545820\" + 0.002*\"blk_638939784120214749\" + '\r\n",
        "  '0.002*\"blk_-2947515393396507971\"'),\r\n",
        " (9,\r\n",
        "  '0.018*\"blk_-9039789976760025618\" + 0.018*\"blk_8232653167951816215\" + '\r\n",
        "  '0.018*\"blk_-3059453549958878582\" + 0.017*\"blk_9010689441969286891\" + '\r\n",
        "  '0.016*\"blk_-1214394198778192417\" + 0.015*\"blk_-4358861442329520889\" + '\r\n",
        "  '0.015*\"blk_-271233912558262172\" + 0.014*\"blk_5251082346485479848\" + '\r\n",
        "  '0.014*\"blk_4472097162321285264\" + 0.014*\"blk_-4917509153767079107\"')]"
      ],
      "execution_count": null,
      "outputs": []
    },
    {
      "cell_type": "code",
      "metadata": {
        "id": "Q7lSssOIy2tX"
      },
      "source": [
        "result_df_1 = pd.DataFrame([i[1].split(' + ') for i in _1st])"
      ],
      "execution_count": null,
      "outputs": []
    },
    {
      "cell_type": "code",
      "metadata": {
        "id": "4QXfFgqGy5G8"
      },
      "source": [
        "for i in result_df_1:\r\n",
        "  result_df_1['{}_rate'.format(i)]=result_df_1[i].str[:5]\r\n",
        "  result_df_1[i]= result_df_1[i].str[6:]"
      ],
      "execution_count": null,
      "outputs": []
    },
    {
      "cell_type": "code",
      "metadata": {
        "id": "svOONpOPy7Pc"
      },
      "source": [
        "temp = []\r\n",
        "for i in range(10):\r\n",
        "  temp += ['{}_rate'.format(i), i]"
      ],
      "execution_count": null,
      "outputs": []
    },
    {
      "cell_type": "code",
      "metadata": {
        "id": "4r_aZ_7Ay-QU"
      },
      "source": [
        "result_df_1 = result_df_1[temp]"
      ],
      "execution_count": null,
      "outputs": []
    },
    {
      "cell_type": "markdown",
      "metadata": {
        "id": "jAM1mIYr1A_v"
      },
      "source": [
        "3차 topic"
      ]
    },
    {
      "cell_type": "code",
      "metadata": {
        "id": "QXcd9cIyzokh"
      },
      "source": [
        "_3rd = [(0,\r\n",
        "  '0.307*\"block\" + 0.015*\"blk_-3059453549958878582\" + 0.013*\"/10.251.31.5\" + '\r\n",
        "  '0.012*\"/10.251.126.5\" + 0.011*\"/10.250.7.32\" + 0.011*\"/10.251.203.129\" + '\r\n",
        "  '0.011*\"/10.250.11.85\" + 0.010*\"/10.251.71.97\" + '\r\n",
        "  '0.010*\"blk_-836233151529212612\" + 0.009*\"/10.251.39.192\"'),\r\n",
        " (1,\r\n",
        "  '0.234*\"block\" + 0.016*\"blk_-2607603250149292767\" + '\r\n",
        "  '0.014*\"blk_3126100339057783399\" + 0.014*\"10.251.74.79:50010\" + '\r\n",
        "  '0.014*\"blk_-598955920782630733\" + 0.013*\"blk_4718466536212741328\" + '\r\n",
        "  '0.012*\"/10.251.111.209\" + 0.012*\"10.251.111.209:50010\" + '\r\n",
        "  '0.011*\"/10.251.111.37\" + 0.011*\"blk_7907797724760003565\"'),\r\n",
        " (2,\r\n",
        "  '0.200*\"size\" + 0.195*\"67108864\" + 0.101*\"Received\" + '\r\n",
        "  '0.100*\"NameSystem.addStoredBlock\" + 0.100*\"update\" + 0.100*\"blockMap\" + '\r\n",
        "  '0.091*\"BLOCK*\" + 0.001*\"10.251.39.160:50010\" + 0.001*\"10.251.39.209:50010\" '\r\n",
        "  '+ 0.001*\"10.251.107.227:50010\"'),\r\n",
        " (3,\r\n",
        "  '0.060*\"BLOCK*\" + 0.028*\"NameSystem.allocateBlock\" + '\r\n",
        "  '0.004*\"blk_8909107483987085802\" + 0.004*\"blk_9047244576407600764\" + '\r\n",
        "  '0.004*\"blk_524408193881860019\" + 0.004*\"blk_4222802578485615752\" + '\r\n",
        "  '0.004*\"blk_-2951262078924395064\" + 0.004*\"blk_-9081208173975932165\" + '\r\n",
        "  '0.004*\"blk_8652779608730262978\" + 0.004*\"blk_-976339114197076853\"'),\r\n",
        " (4,\r\n",
        "  '0.318*\"block\" + 0.307*\"PacketResponder\" + 0.306*\"terminate\" + '\r\n",
        "  '0.002*\"/10.251.30.179\" + 0.002*\"10.251.90.64:50010\" + '\r\n",
        "  '0.001*\"/10.250.11.100\" + 0.001*\"blk_-7722134978135978544\" + '\r\n",
        "  '0.001*\"blk_5951221751432246380\" + 0.001*\"10.250.7.244:50010\" + '\r\n",
        "  '0.001*\"blk_-1196019860597610288\"'),\r\n",
        " (5,\r\n",
        "  '0.020*\"blk_-6742986629304373462\" + 0.019*\"blk_-5139777489517063680\" + '\r\n",
        "  '0.019*\"blk_2907885683673342872\" + 0.018*\"blk_-3260736406913425394\" + '\r\n",
        "  '0.017*\"10.251.106.10:50010\" + 0.017*\"blk_-861765373330722953\" + '\r\n",
        "  '0.016*\"blk_-1402764052044494020\" + 0.016*\"blk_-3350625939026579183\" + '\r\n",
        "  '0.016*\"blk_-7800853382581848688\" + 0.013*\"blk_4509878823587110787\"'),\r\n",
        " (6,\r\n",
        "  '0.265*\"succeed\" + 0.265*\"Verification\" + 0.097*\"block\" + '\r\n",
        "  '0.002*\"blk_-2382389751032389929\" + 0.002*\"blk_4747238186020862016\" + '\r\n",
        "  '0.002*\"blk_6420476111425645508\" + 0.002*\"/10.251.39.209\" + '\r\n",
        "  '0.002*\"blk_4856031730010032819\" + 0.002*\"blk_-3155415637543545820\" + '\r\n",
        "  '0.002*\"/10.251.107.227\"'),\r\n",
        " (7,\r\n",
        "  '0.057*\"blk_4241467193520768333\" + 0.016*\"blk_1037066694877136451\" + '\r\n",
        "  '0.016*\"blk_-7325968241997525720\" + 0.015*\"blk_-7390710706320943439\" + '\r\n",
        "  '0.015*\"blk_-1214394198778192417\" + 0.015*\"blk_-7374177486939901806\" + '\r\n",
        "  '0.014*\"blk_-4358861442329520889\" + 0.014*\"blk_-372632911736985200\" + '\r\n",
        "  '0.013*\"blk_-1322963786995945056\" + 0.013*\"blk_-7858897319223152664\"'),\r\n",
        " (8,\r\n",
        "  '0.192*\"block\" + 0.190*\"dest\" + 0.189*\"Receiving\" + '\r\n",
        "  '0.007*\"blk_4966276028193818154\" + 0.007*\"blk_4108032757710290196\" + '\r\n",
        "  '0.007*\"blk_-7326879742777330616\" + 0.006*\"blk_-955678844525403431\" + '\r\n",
        "  '0.006*\"blk_-4566764090560972175\" + 0.006*\"blk_8093107867996361765\" + '\r\n",
        "  '0.005*\"blk_6157997286876178234\"'),\r\n",
        " (9,\r\n",
        "  '0.169*\"block\" + 0.017*\"blk_4286887770593516283\" + '\r\n",
        "  '0.016*\"blk_1207568959074804298\" + 0.016*\"blk_-8608758988186237206\" + '\r\n",
        "  '0.015*\"10.251.31.5:50010\" + 0.015*\"blk_1200401807679484048\" + '\r\n",
        "  '0.014*\"/10.251.194.245\" + 0.013*\"/10.251.105.189\" + '\r\n",
        "  '0.013*\"blk_-6174155369373380263\" + 0.012*\"/10.251.126.227\"')]"
      ],
      "execution_count": null,
      "outputs": []
    },
    {
      "cell_type": "code",
      "metadata": {
        "id": "cUrXWAe8z3zZ"
      },
      "source": [
        "result_df_2 = pd.DataFrame([i[1].split(' + ') for i in _3rd])"
      ],
      "execution_count": null,
      "outputs": []
    },
    {
      "cell_type": "code",
      "metadata": {
        "id": "h1Rgdg_Yz3zh"
      },
      "source": [
        "for i in result_df_2:\r\n",
        "  result_df_2['{}_rate'.format(i)]=result_df_2[i].str[:5]\r\n",
        "  result_df_2[i]= result_df_2[i].str[6:]"
      ],
      "execution_count": null,
      "outputs": []
    },
    {
      "cell_type": "code",
      "metadata": {
        "id": "KQjQFVMIz3zi"
      },
      "source": [
        "temp = []\r\n",
        "for i in range(10):\r\n",
        "  temp += ['{}_rate'.format(i), i]"
      ],
      "execution_count": null,
      "outputs": []
    },
    {
      "cell_type": "code",
      "metadata": {
        "id": "FTAatbcfz3zi"
      },
      "source": [
        "result_df_2 = result_df_2[temp]"
      ],
      "execution_count": null,
      "outputs": []
    },
    {
      "cell_type": "markdown",
      "metadata": {
        "id": "F-tm7MbZ1DS0"
      },
      "source": [
        "결과 확인"
      ]
    },
    {
      "cell_type": "code",
      "metadata": {
        "colab": {
          "base_uri": "https://localhost:8080/",
          "height": 379
        },
        "id": "9rhLd771z8HS",
        "outputId": "614808ab-7523-4c5c-a7f8-2b943d2cbd50"
      },
      "source": [
        "result_df_1"
      ],
      "execution_count": null,
      "outputs": [
        {
          "output_type": "execute_result",
          "data": {
            "text/html": [
              "<div>\n",
              "<style scoped>\n",
              "    .dataframe tbody tr th:only-of-type {\n",
              "        vertical-align: middle;\n",
              "    }\n",
              "\n",
              "    .dataframe tbody tr th {\n",
              "        vertical-align: top;\n",
              "    }\n",
              "\n",
              "    .dataframe thead th {\n",
              "        text-align: right;\n",
              "    }\n",
              "</style>\n",
              "<table border=\"1\" class=\"dataframe\">\n",
              "  <thead>\n",
              "    <tr style=\"text-align: right;\">\n",
              "      <th></th>\n",
              "      <th>0_rate</th>\n",
              "      <th>0</th>\n",
              "      <th>1_rate</th>\n",
              "      <th>1</th>\n",
              "      <th>2_rate</th>\n",
              "      <th>2</th>\n",
              "      <th>3_rate</th>\n",
              "      <th>3</th>\n",
              "      <th>4_rate</th>\n",
              "      <th>4</th>\n",
              "      <th>5_rate</th>\n",
              "      <th>5</th>\n",
              "      <th>6_rate</th>\n",
              "      <th>6</th>\n",
              "      <th>7_rate</th>\n",
              "      <th>7</th>\n",
              "      <th>8_rate</th>\n",
              "      <th>8</th>\n",
              "      <th>9_rate</th>\n",
              "      <th>9</th>\n",
              "    </tr>\n",
              "  </thead>\n",
              "  <tbody>\n",
              "    <tr>\n",
              "      <th>0</th>\n",
              "      <td>0.046</td>\n",
              "      <td>\"BLOCK*\"</td>\n",
              "      <td>0.031</td>\n",
              "      <td>\"NameSystem.allocateBlock:\"</td>\n",
              "      <td>0.012</td>\n",
              "      <td>\"blk_4241467193520768333\"</td>\n",
              "      <td>0.004</td>\n",
              "      <td>\"blk_8909107483987085802\"</td>\n",
              "      <td>0.004</td>\n",
              "      <td>\"blk_9047244576407600764\"</td>\n",
              "      <td>0.004</td>\n",
              "      <td>\"blk_524408193881860019\"</td>\n",
              "      <td>0.004</td>\n",
              "      <td>\"blk_4222802578485615752\"</td>\n",
              "      <td>0.004</td>\n",
              "      <td>\"blk_-2951262078924395064\"</td>\n",
              "      <td>0.004</td>\n",
              "      <td>\"blk_-9081208173975932165\"</td>\n",
              "      <td>0.004</td>\n",
              "      <td>\"blk_8652779608730262978\"</td>\n",
              "    </tr>\n",
              "    <tr>\n",
              "      <th>1</th>\n",
              "      <td>0.101</td>\n",
              "      <td>\"to\"</td>\n",
              "      <td>0.099</td>\n",
              "      <td>\"NameSystem.addStoredBlock:\"</td>\n",
              "      <td>0.099</td>\n",
              "      <td>\"size\"</td>\n",
              "      <td>0.099</td>\n",
              "      <td>\"is\"</td>\n",
              "      <td>0.099</td>\n",
              "      <td>\"blockMap\"</td>\n",
              "      <td>0.099</td>\n",
              "      <td>\"added\"</td>\n",
              "      <td>0.099</td>\n",
              "      <td>\"updated:\"</td>\n",
              "      <td>0.097</td>\n",
              "      <td>\"67108864\"</td>\n",
              "      <td>0.095</td>\n",
              "      <td>\"BLOCK*\"</td>\n",
              "      <td>0.001</td>\n",
              "      <td>\"10.251.39.160:50010\"</td>\n",
              "    </tr>\n",
              "    <tr>\n",
              "      <th>2</th>\n",
              "      <td>0.018</td>\n",
              "      <td>\"blk_-2607603250149292767\"</td>\n",
              "      <td>0.017</td>\n",
              "      <td>\"blk_4286887770593516283\"</td>\n",
              "      <td>0.017</td>\n",
              "      <td>\"blk_1037066694877136451\"</td>\n",
              "      <td>0.016</td>\n",
              "      <td>\"10.251.74.79:50010\"</td>\n",
              "      <td>0.016</td>\n",
              "      <td>\"blk_-7390710706320943439\"</td>\n",
              "      <td>0.016</td>\n",
              "      <td>\"blk_-7385019746290967026\"</td>\n",
              "      <td>0.016</td>\n",
              "      <td>\"blk_-1160765867676592212\"</td>\n",
              "      <td>0.015</td>\n",
              "      <td>\"10.251.31.5:50010\"</td>\n",
              "      <td>0.015</td>\n",
              "      <td>\"blk_-4130422002907235753\"</td>\n",
              "      <td>0.015</td>\n",
              "      <td>\"blk_-372632911736985200\"</td>\n",
              "    </tr>\n",
              "    <tr>\n",
              "      <th>3</th>\n",
              "      <td>0.157</td>\n",
              "      <td>\"block\"</td>\n",
              "      <td>0.151</td>\n",
              "      <td>\"of\"</td>\n",
              "      <td>0.150</td>\n",
              "      <td>\"from\"</td>\n",
              "      <td>0.150</td>\n",
              "      <td>\"size\"</td>\n",
              "      <td>0.150</td>\n",
              "      <td>\"Received\"</td>\n",
              "      <td>0.146</td>\n",
              "      <td>\"67108864\"</td>\n",
              "      <td>0.050</td>\n",
              "      <td>\"1\"</td>\n",
              "      <td>0.001</td>\n",
              "      <td>\"/10.251.31.5\"</td>\n",
              "      <td>0.001</td>\n",
              "      <td>\"/10.250.7.32\"</td>\n",
              "      <td>0.001</td>\n",
              "      <td>\"/10.251.203.129\"</td>\n",
              "    </tr>\n",
              "    <tr>\n",
              "      <th>4</th>\n",
              "      <td>0.159</td>\n",
              "      <td>\"block\"</td>\n",
              "      <td>0.145</td>\n",
              "      <td>\"src:\"</td>\n",
              "      <td>0.145</td>\n",
              "      <td>\"dest:\"</td>\n",
              "      <td>0.144</td>\n",
              "      <td>\"Receiving\"</td>\n",
              "      <td>0.005</td>\n",
              "      <td>\"blk_4108032757710290196\"</td>\n",
              "      <td>0.005</td>\n",
              "      <td>\"blk_-7326879742777330616\"</td>\n",
              "      <td>0.005</td>\n",
              "      <td>\"blk_4966276028193818154\"</td>\n",
              "      <td>0.005</td>\n",
              "      <td>\"blk_-955678844525403431\"</td>\n",
              "      <td>0.005</td>\n",
              "      <td>\"blk_-4566764090560972175\"</td>\n",
              "      <td>0.005</td>\n",
              "      <td>\"blk_7359588822015996941\"</td>\n",
              "    </tr>\n",
              "    <tr>\n",
              "      <th>5</th>\n",
              "      <td>0.014</td>\n",
              "      <td>\"blk_-7199733435216834133\"</td>\n",
              "      <td>0.013</td>\n",
              "      <td>\"blk_-3140754468249228022\"</td>\n",
              "      <td>0.012</td>\n",
              "      <td>\"blk_-8608758988186237206\"</td>\n",
              "      <td>0.012</td>\n",
              "      <td>\"blk_-7374177486939901806\"</td>\n",
              "      <td>0.012</td>\n",
              "      <td>\"blk_7007568649123695530\"</td>\n",
              "      <td>0.011</td>\n",
              "      <td>\"blk_252816358434654494\"</td>\n",
              "      <td>0.011</td>\n",
              "      <td>\"/10.251.126.5\"</td>\n",
              "      <td>0.011</td>\n",
              "      <td>\"blk_4301761665496587132\"</td>\n",
              "      <td>0.011</td>\n",
              "      <td>\"/10.251.31.160\"</td>\n",
              "      <td>0.011</td>\n",
              "      <td>\"/10.251.194.245\"</td>\n",
              "    </tr>\n",
              "    <tr>\n",
              "      <th>6</th>\n",
              "      <td>0.013</td>\n",
              "      <td>\"/10.251.39.209\"</td>\n",
              "      <td>0.012</td>\n",
              "      <td>\"/10.251.107.227\"</td>\n",
              "      <td>0.011</td>\n",
              "      <td>\"blk_-365681253977708548\"</td>\n",
              "      <td>0.011</td>\n",
              "      <td>\"/10.251.203.179\"</td>\n",
              "      <td>0.010</td>\n",
              "      <td>\"/10.251.26.131\"</td>\n",
              "      <td>0.010</td>\n",
              "      <td>\"/10.251.111.209\"</td>\n",
              "      <td>0.010</td>\n",
              "      <td>\"/10.251.105.189\"</td>\n",
              "      <td>0.009</td>\n",
              "      <td>\"10.251.111.209:50010\"</td>\n",
              "      <td>0.009</td>\n",
              "      <td>\"/10.251.43.21\"</td>\n",
              "      <td>0.009</td>\n",
              "      <td>\"/10.250.17.225\"</td>\n",
              "    </tr>\n",
              "    <tr>\n",
              "      <th>7</th>\n",
              "      <td>0.386</td>\n",
              "      <td>\"for\"</td>\n",
              "      <td>0.157</td>\n",
              "      <td>\"PacketResponder\"</td>\n",
              "      <td>0.156</td>\n",
              "      <td>\"terminating\"</td>\n",
              "      <td>0.147</td>\n",
              "      <td>\"block\"</td>\n",
              "      <td>0.052</td>\n",
              "      <td>\"0\"</td>\n",
              "      <td>0.052</td>\n",
              "      <td>\"2\"</td>\n",
              "      <td>0.001</td>\n",
              "      <td>\"/10.251.71.16\"</td>\n",
              "      <td>0.001</td>\n",
              "      <td>\"/10.250.11.100\"</td>\n",
              "      <td>0.001</td>\n",
              "      <td>\"/10.251.197.226\"</td>\n",
              "      <td>0.001</td>\n",
              "      <td>\"/10.250.14.196\"</td>\n",
              "    </tr>\n",
              "    <tr>\n",
              "      <th>8</th>\n",
              "      <td>0.320</td>\n",
              "      <td>\"succeeded\"</td>\n",
              "      <td>0.320</td>\n",
              "      <td>\"Verification\"</td>\n",
              "      <td>0.002</td>\n",
              "      <td>\"blk_6420476111425645508\"</td>\n",
              "      <td>0.002</td>\n",
              "      <td>\"blk_4747238186020862016\"</td>\n",
              "      <td>0.002</td>\n",
              "      <td>\"blk_-2382389751032389929\"</td>\n",
              "      <td>0.002</td>\n",
              "      <td>\"blk_7455154075126513420\"</td>\n",
              "      <td>0.002</td>\n",
              "      <td>\"blk_4856031730010032819\"</td>\n",
              "      <td>0.002</td>\n",
              "      <td>\"blk_-3155415637543545820\"</td>\n",
              "      <td>0.002</td>\n",
              "      <td>\"blk_638939784120214749\"</td>\n",
              "      <td>0.002</td>\n",
              "      <td>\"blk_-2947515393396507971\"</td>\n",
              "    </tr>\n",
              "    <tr>\n",
              "      <th>9</th>\n",
              "      <td>0.018</td>\n",
              "      <td>\"blk_-9039789976760025618\"</td>\n",
              "      <td>0.018</td>\n",
              "      <td>\"blk_8232653167951816215\"</td>\n",
              "      <td>0.018</td>\n",
              "      <td>\"blk_-3059453549958878582\"</td>\n",
              "      <td>0.017</td>\n",
              "      <td>\"blk_9010689441969286891\"</td>\n",
              "      <td>0.016</td>\n",
              "      <td>\"blk_-1214394198778192417\"</td>\n",
              "      <td>0.015</td>\n",
              "      <td>\"blk_-4358861442329520889\"</td>\n",
              "      <td>0.015</td>\n",
              "      <td>\"blk_-271233912558262172\"</td>\n",
              "      <td>0.014</td>\n",
              "      <td>\"blk_5251082346485479848\"</td>\n",
              "      <td>0.014</td>\n",
              "      <td>\"blk_4472097162321285264\"</td>\n",
              "      <td>0.014</td>\n",
              "      <td>\"blk_-4917509153767079107\"</td>\n",
              "    </tr>\n",
              "  </tbody>\n",
              "</table>\n",
              "</div>"
            ],
            "text/plain": [
              "  0_rate                           0  ... 9_rate                           9\n",
              "0  0.046                    \"BLOCK*\"  ...  0.004   \"blk_8652779608730262978\"\n",
              "1  0.101                        \"to\"  ...  0.001       \"10.251.39.160:50010\"\n",
              "2  0.018  \"blk_-2607603250149292767\"  ...  0.015   \"blk_-372632911736985200\"\n",
              "3  0.157                     \"block\"  ...  0.001           \"/10.251.203.129\"\n",
              "4  0.159                     \"block\"  ...  0.005   \"blk_7359588822015996941\"\n",
              "5  0.014  \"blk_-7199733435216834133\"  ...  0.011           \"/10.251.194.245\"\n",
              "6  0.013            \"/10.251.39.209\"  ...  0.009            \"/10.250.17.225\"\n",
              "7  0.386                       \"for\"  ...  0.001            \"/10.250.14.196\"\n",
              "8  0.320                 \"succeeded\"  ...  0.002  \"blk_-2947515393396507971\"\n",
              "9  0.018  \"blk_-9039789976760025618\"  ...  0.014  \"blk_-4917509153767079107\"\n",
              "\n",
              "[10 rows x 20 columns]"
            ]
          },
          "metadata": {
            "tags": []
          },
          "execution_count": 150
        }
      ]
    },
    {
      "cell_type": "code",
      "metadata": {
        "colab": {
          "base_uri": "https://localhost:8080/",
          "height": 379
        },
        "id": "5CuIgJHSz7Hy",
        "outputId": "33348b3f-04cf-4de4-dbe2-2e4578d20f6f"
      },
      "source": [
        "result_df_2"
      ],
      "execution_count": null,
      "outputs": [
        {
          "output_type": "execute_result",
          "data": {
            "text/html": [
              "<div>\n",
              "<style scoped>\n",
              "    .dataframe tbody tr th:only-of-type {\n",
              "        vertical-align: middle;\n",
              "    }\n",
              "\n",
              "    .dataframe tbody tr th {\n",
              "        vertical-align: top;\n",
              "    }\n",
              "\n",
              "    .dataframe thead th {\n",
              "        text-align: right;\n",
              "    }\n",
              "</style>\n",
              "<table border=\"1\" class=\"dataframe\">\n",
              "  <thead>\n",
              "    <tr style=\"text-align: right;\">\n",
              "      <th></th>\n",
              "      <th>0_rate</th>\n",
              "      <th>0</th>\n",
              "      <th>1_rate</th>\n",
              "      <th>1</th>\n",
              "      <th>2_rate</th>\n",
              "      <th>2</th>\n",
              "      <th>3_rate</th>\n",
              "      <th>3</th>\n",
              "      <th>4_rate</th>\n",
              "      <th>4</th>\n",
              "      <th>5_rate</th>\n",
              "      <th>5</th>\n",
              "      <th>6_rate</th>\n",
              "      <th>6</th>\n",
              "      <th>7_rate</th>\n",
              "      <th>7</th>\n",
              "      <th>8_rate</th>\n",
              "      <th>8</th>\n",
              "      <th>9_rate</th>\n",
              "      <th>9</th>\n",
              "    </tr>\n",
              "  </thead>\n",
              "  <tbody>\n",
              "    <tr>\n",
              "      <th>0</th>\n",
              "      <td>0.307</td>\n",
              "      <td>\"block\"</td>\n",
              "      <td>0.015</td>\n",
              "      <td>\"blk_-3059453549958878582\"</td>\n",
              "      <td>0.013</td>\n",
              "      <td>\"/10.251.31.5\"</td>\n",
              "      <td>0.012</td>\n",
              "      <td>\"/10.251.126.5\"</td>\n",
              "      <td>0.011</td>\n",
              "      <td>\"/10.250.7.32\"</td>\n",
              "      <td>0.011</td>\n",
              "      <td>\"/10.251.203.129\"</td>\n",
              "      <td>0.011</td>\n",
              "      <td>\"/10.250.11.85\"</td>\n",
              "      <td>0.010</td>\n",
              "      <td>\"/10.251.71.97\"</td>\n",
              "      <td>0.010</td>\n",
              "      <td>\"blk_-836233151529212612\"</td>\n",
              "      <td>0.009</td>\n",
              "      <td>\"/10.251.39.192\"</td>\n",
              "    </tr>\n",
              "    <tr>\n",
              "      <th>1</th>\n",
              "      <td>0.234</td>\n",
              "      <td>\"block\"</td>\n",
              "      <td>0.016</td>\n",
              "      <td>\"blk_-2607603250149292767\"</td>\n",
              "      <td>0.014</td>\n",
              "      <td>\"blk_3126100339057783399\"</td>\n",
              "      <td>0.014</td>\n",
              "      <td>\"10.251.74.79:50010\"</td>\n",
              "      <td>0.014</td>\n",
              "      <td>\"blk_-598955920782630733\"</td>\n",
              "      <td>0.013</td>\n",
              "      <td>\"blk_4718466536212741328\"</td>\n",
              "      <td>0.012</td>\n",
              "      <td>\"/10.251.111.209\"</td>\n",
              "      <td>0.012</td>\n",
              "      <td>\"10.251.111.209:50010\"</td>\n",
              "      <td>0.011</td>\n",
              "      <td>\"/10.251.111.37\"</td>\n",
              "      <td>0.011</td>\n",
              "      <td>\"blk_7907797724760003565\"</td>\n",
              "    </tr>\n",
              "    <tr>\n",
              "      <th>2</th>\n",
              "      <td>0.200</td>\n",
              "      <td>\"size\"</td>\n",
              "      <td>0.195</td>\n",
              "      <td>\"67108864\"</td>\n",
              "      <td>0.101</td>\n",
              "      <td>\"Received\"</td>\n",
              "      <td>0.100</td>\n",
              "      <td>\"NameSystem.addStoredBlock\"</td>\n",
              "      <td>0.100</td>\n",
              "      <td>\"update\"</td>\n",
              "      <td>0.100</td>\n",
              "      <td>\"blockMap\"</td>\n",
              "      <td>0.091</td>\n",
              "      <td>\"BLOCK*\"</td>\n",
              "      <td>0.001</td>\n",
              "      <td>\"10.251.39.160:50010\"</td>\n",
              "      <td>0.001</td>\n",
              "      <td>\"10.251.39.209:50010\"</td>\n",
              "      <td>0.001</td>\n",
              "      <td>\"10.251.107.227:50010\"</td>\n",
              "    </tr>\n",
              "    <tr>\n",
              "      <th>3</th>\n",
              "      <td>0.060</td>\n",
              "      <td>\"BLOCK*\"</td>\n",
              "      <td>0.028</td>\n",
              "      <td>\"NameSystem.allocateBlock\"</td>\n",
              "      <td>0.004</td>\n",
              "      <td>\"blk_8909107483987085802\"</td>\n",
              "      <td>0.004</td>\n",
              "      <td>\"blk_9047244576407600764\"</td>\n",
              "      <td>0.004</td>\n",
              "      <td>\"blk_524408193881860019\"</td>\n",
              "      <td>0.004</td>\n",
              "      <td>\"blk_4222802578485615752\"</td>\n",
              "      <td>0.004</td>\n",
              "      <td>\"blk_-2951262078924395064\"</td>\n",
              "      <td>0.004</td>\n",
              "      <td>\"blk_-9081208173975932165\"</td>\n",
              "      <td>0.004</td>\n",
              "      <td>\"blk_8652779608730262978\"</td>\n",
              "      <td>0.004</td>\n",
              "      <td>\"blk_-976339114197076853\"</td>\n",
              "    </tr>\n",
              "    <tr>\n",
              "      <th>4</th>\n",
              "      <td>0.318</td>\n",
              "      <td>\"block\"</td>\n",
              "      <td>0.307</td>\n",
              "      <td>\"PacketResponder\"</td>\n",
              "      <td>0.306</td>\n",
              "      <td>\"terminate\"</td>\n",
              "      <td>0.002</td>\n",
              "      <td>\"/10.251.30.179\"</td>\n",
              "      <td>0.002</td>\n",
              "      <td>\"10.251.90.64:50010\"</td>\n",
              "      <td>0.001</td>\n",
              "      <td>\"/10.250.11.100\"</td>\n",
              "      <td>0.001</td>\n",
              "      <td>\"blk_-7722134978135978544\"</td>\n",
              "      <td>0.001</td>\n",
              "      <td>\"blk_5951221751432246380\"</td>\n",
              "      <td>0.001</td>\n",
              "      <td>\"10.250.7.244:50010\"</td>\n",
              "      <td>0.001</td>\n",
              "      <td>\"blk_-1196019860597610288\"</td>\n",
              "    </tr>\n",
              "    <tr>\n",
              "      <th>5</th>\n",
              "      <td>0.020</td>\n",
              "      <td>\"blk_-6742986629304373462\"</td>\n",
              "      <td>0.019</td>\n",
              "      <td>\"blk_-5139777489517063680\"</td>\n",
              "      <td>0.019</td>\n",
              "      <td>\"blk_2907885683673342872\"</td>\n",
              "      <td>0.018</td>\n",
              "      <td>\"blk_-3260736406913425394\"</td>\n",
              "      <td>0.017</td>\n",
              "      <td>\"10.251.106.10:50010\"</td>\n",
              "      <td>0.017</td>\n",
              "      <td>\"blk_-861765373330722953\"</td>\n",
              "      <td>0.016</td>\n",
              "      <td>\"blk_-1402764052044494020\"</td>\n",
              "      <td>0.016</td>\n",
              "      <td>\"blk_-3350625939026579183\"</td>\n",
              "      <td>0.016</td>\n",
              "      <td>\"blk_-7800853382581848688\"</td>\n",
              "      <td>0.013</td>\n",
              "      <td>\"blk_4509878823587110787\"</td>\n",
              "    </tr>\n",
              "    <tr>\n",
              "      <th>6</th>\n",
              "      <td>0.265</td>\n",
              "      <td>\"succeed\"</td>\n",
              "      <td>0.265</td>\n",
              "      <td>\"Verification\"</td>\n",
              "      <td>0.097</td>\n",
              "      <td>\"block\"</td>\n",
              "      <td>0.002</td>\n",
              "      <td>\"blk_-2382389751032389929\"</td>\n",
              "      <td>0.002</td>\n",
              "      <td>\"blk_4747238186020862016\"</td>\n",
              "      <td>0.002</td>\n",
              "      <td>\"blk_6420476111425645508\"</td>\n",
              "      <td>0.002</td>\n",
              "      <td>\"/10.251.39.209\"</td>\n",
              "      <td>0.002</td>\n",
              "      <td>\"blk_4856031730010032819\"</td>\n",
              "      <td>0.002</td>\n",
              "      <td>\"blk_-3155415637543545820\"</td>\n",
              "      <td>0.002</td>\n",
              "      <td>\"/10.251.107.227\"</td>\n",
              "    </tr>\n",
              "    <tr>\n",
              "      <th>7</th>\n",
              "      <td>0.057</td>\n",
              "      <td>\"blk_4241467193520768333\"</td>\n",
              "      <td>0.016</td>\n",
              "      <td>\"blk_1037066694877136451\"</td>\n",
              "      <td>0.016</td>\n",
              "      <td>\"blk_-7325968241997525720\"</td>\n",
              "      <td>0.015</td>\n",
              "      <td>\"blk_-7390710706320943439\"</td>\n",
              "      <td>0.015</td>\n",
              "      <td>\"blk_-1214394198778192417\"</td>\n",
              "      <td>0.015</td>\n",
              "      <td>\"blk_-7374177486939901806\"</td>\n",
              "      <td>0.014</td>\n",
              "      <td>\"blk_-4358861442329520889\"</td>\n",
              "      <td>0.014</td>\n",
              "      <td>\"blk_-372632911736985200\"</td>\n",
              "      <td>0.013</td>\n",
              "      <td>\"blk_-1322963786995945056\"</td>\n",
              "      <td>0.013</td>\n",
              "      <td>\"blk_-7858897319223152664\"</td>\n",
              "    </tr>\n",
              "    <tr>\n",
              "      <th>8</th>\n",
              "      <td>0.192</td>\n",
              "      <td>\"block\"</td>\n",
              "      <td>0.190</td>\n",
              "      <td>\"dest\"</td>\n",
              "      <td>0.189</td>\n",
              "      <td>\"Receiving\"</td>\n",
              "      <td>0.007</td>\n",
              "      <td>\"blk_4966276028193818154\"</td>\n",
              "      <td>0.007</td>\n",
              "      <td>\"blk_4108032757710290196\"</td>\n",
              "      <td>0.007</td>\n",
              "      <td>\"blk_-7326879742777330616\"</td>\n",
              "      <td>0.006</td>\n",
              "      <td>\"blk_-955678844525403431\"</td>\n",
              "      <td>0.006</td>\n",
              "      <td>\"blk_-4566764090560972175\"</td>\n",
              "      <td>0.006</td>\n",
              "      <td>\"blk_8093107867996361765\"</td>\n",
              "      <td>0.005</td>\n",
              "      <td>\"blk_6157997286876178234\"</td>\n",
              "    </tr>\n",
              "    <tr>\n",
              "      <th>9</th>\n",
              "      <td>0.169</td>\n",
              "      <td>\"block\"</td>\n",
              "      <td>0.017</td>\n",
              "      <td>\"blk_4286887770593516283\"</td>\n",
              "      <td>0.016</td>\n",
              "      <td>\"blk_1207568959074804298\"</td>\n",
              "      <td>0.016</td>\n",
              "      <td>\"blk_-8608758988186237206\"</td>\n",
              "      <td>0.015</td>\n",
              "      <td>\"10.251.31.5:50010\"</td>\n",
              "      <td>0.015</td>\n",
              "      <td>\"blk_1200401807679484048\"</td>\n",
              "      <td>0.014</td>\n",
              "      <td>\"/10.251.194.245\"</td>\n",
              "      <td>0.013</td>\n",
              "      <td>\"/10.251.105.189\"</td>\n",
              "      <td>0.013</td>\n",
              "      <td>\"blk_-6174155369373380263\"</td>\n",
              "      <td>0.012</td>\n",
              "      <td>\"/10.251.126.227\"</td>\n",
              "    </tr>\n",
              "  </tbody>\n",
              "</table>\n",
              "</div>"
            ],
            "text/plain": [
              "  0_rate                           0  ... 9_rate                           9\n",
              "0  0.307                     \"block\"  ...  0.009            \"/10.251.39.192\"\n",
              "1  0.234                     \"block\"  ...  0.011   \"blk_7907797724760003565\"\n",
              "2  0.200                      \"size\"  ...  0.001      \"10.251.107.227:50010\"\n",
              "3  0.060                    \"BLOCK*\"  ...  0.004   \"blk_-976339114197076853\"\n",
              "4  0.318                     \"block\"  ...  0.001  \"blk_-1196019860597610288\"\n",
              "5  0.020  \"blk_-6742986629304373462\"  ...  0.013   \"blk_4509878823587110787\"\n",
              "6  0.265                   \"succeed\"  ...  0.002           \"/10.251.107.227\"\n",
              "7  0.057   \"blk_4241467193520768333\"  ...  0.013  \"blk_-7858897319223152664\"\n",
              "8  0.192                     \"block\"  ...  0.005   \"blk_6157997286876178234\"\n",
              "9  0.169                     \"block\"  ...  0.012           \"/10.251.126.227\"\n",
              "\n",
              "[10 rows x 20 columns]"
            ]
          },
          "metadata": {
            "tags": []
          },
          "execution_count": 151
        }
      ]
    },
    {
      "cell_type": "markdown",
      "metadata": {
        "id": "vbhbHFP-ieJx"
      },
      "source": [
        "## Syslog 1차"
      ]
    },
    {
      "cell_type": "code",
      "metadata": {
        "id": "7FZoyV92_gr8",
        "colab": {
          "base_uri": "https://localhost:8080/",
          "height": 204
        },
        "outputId": "aad3940b-8e60-4425-f00d-72ba96b2f2b7"
      },
      "source": [
        "df = pd.read_excel('./data/syslog 샘플.xls')\r\n",
        "df.head()"
      ],
      "execution_count": 157,
      "outputs": [
        {
          "output_type": "execute_result",
          "data": {
            "text/html": [
              "<div>\n",
              "<style scoped>\n",
              "    .dataframe tbody tr th:only-of-type {\n",
              "        vertical-align: middle;\n",
              "    }\n",
              "\n",
              "    .dataframe tbody tr th {\n",
              "        vertical-align: top;\n",
              "    }\n",
              "\n",
              "    .dataframe thead th {\n",
              "        text-align: right;\n",
              "    }\n",
              "</style>\n",
              "<table border=\"1\" class=\"dataframe\">\n",
              "  <thead>\n",
              "    <tr style=\"text-align: right;\">\n",
              "      <th></th>\n",
              "      <th>심각도</th>\n",
              "      <th>발생 일시</th>\n",
              "      <th>그룹경로</th>\n",
              "      <th>시스템명</th>\n",
              "      <th>호스트명</th>\n",
              "      <th>리소스 이름</th>\n",
              "      <th>대상</th>\n",
              "      <th>이벤트 타입</th>\n",
              "      <th>이벤트 소스</th>\n",
              "      <th>내용</th>\n",
              "    </tr>\n",
              "  </thead>\n",
              "  <tbody>\n",
              "    <tr>\n",
              "      <th>0</th>\n",
              "      <td>ERROR</td>\n",
              "      <td>2021-01-08 11:39:07</td>\n",
              "      <td>인프라그룹</td>\n",
              "      <td>Syslog Receiver</td>\n",
              "      <td>NaN</td>\n",
              "      <td>Syslog Receiver</td>\n",
              "      <td>인프라그룹&gt;Syslog Receiver</td>\n",
              "      <td>syslog</td>\n",
              "      <td>172.30.151.88</td>\n",
              "      <td>[syslog]&lt;43&gt;Jan  8 11:39:07 Kolon_L7_trust_02 ...</td>\n",
              "    </tr>\n",
              "    <tr>\n",
              "      <th>1</th>\n",
              "      <td>ERROR</td>\n",
              "      <td>2021-01-08 11:39:07</td>\n",
              "      <td>인프라그룹</td>\n",
              "      <td>Syslog Receiver</td>\n",
              "      <td>NaN</td>\n",
              "      <td>Syslog Receiver</td>\n",
              "      <td>인프라그룹&gt;Syslog Receiver</td>\n",
              "      <td>syslog</td>\n",
              "      <td>172.30.151.88</td>\n",
              "      <td>[syslog]&lt;43&gt;Jan  8 11:39:07 Kolon_L7_trust_02 ...</td>\n",
              "    </tr>\n",
              "    <tr>\n",
              "      <th>2</th>\n",
              "      <td>ERROR</td>\n",
              "      <td>2021-01-08 11:39:06</td>\n",
              "      <td>인프라그룹</td>\n",
              "      <td>Syslog Receiver</td>\n",
              "      <td>NaN</td>\n",
              "      <td>Syslog Receiver</td>\n",
              "      <td>인프라그룹&gt;Syslog Receiver</td>\n",
              "      <td>syslog</td>\n",
              "      <td>172.30.151.87</td>\n",
              "      <td>[syslog]&lt;43&gt;Jan  8 11:39:06 Kolon_L7_trust_01 ...</td>\n",
              "    </tr>\n",
              "    <tr>\n",
              "      <th>3</th>\n",
              "      <td>ERROR</td>\n",
              "      <td>2021-01-08 11:38:07</td>\n",
              "      <td>인프라그룹</td>\n",
              "      <td>Syslog Receiver</td>\n",
              "      <td>NaN</td>\n",
              "      <td>Syslog Receiver</td>\n",
              "      <td>인프라그룹&gt;Syslog Receiver</td>\n",
              "      <td>syslog</td>\n",
              "      <td>172.30.151.88</td>\n",
              "      <td>[syslog]&lt;43&gt;Jan  8 11:38:07 Kolon_L7_trust_02 ...</td>\n",
              "    </tr>\n",
              "    <tr>\n",
              "      <th>4</th>\n",
              "      <td>ERROR</td>\n",
              "      <td>2021-01-08 11:38:07</td>\n",
              "      <td>인프라그룹</td>\n",
              "      <td>Syslog Receiver</td>\n",
              "      <td>NaN</td>\n",
              "      <td>Syslog Receiver</td>\n",
              "      <td>인프라그룹&gt;Syslog Receiver</td>\n",
              "      <td>syslog</td>\n",
              "      <td>172.30.151.88</td>\n",
              "      <td>[syslog]&lt;43&gt;Jan  8 11:38:07 Kolon_L7_trust_02 ...</td>\n",
              "    </tr>\n",
              "  </tbody>\n",
              "</table>\n",
              "</div>"
            ],
            "text/plain": [
              "     심각도  ...                                                 내용\n",
              "0  ERROR  ...  [syslog]<43>Jan  8 11:39:07 Kolon_L7_trust_02 ...\n",
              "1  ERROR  ...  [syslog]<43>Jan  8 11:39:07 Kolon_L7_trust_02 ...\n",
              "2  ERROR  ...  [syslog]<43>Jan  8 11:39:06 Kolon_L7_trust_01 ...\n",
              "3  ERROR  ...  [syslog]<43>Jan  8 11:38:07 Kolon_L7_trust_02 ...\n",
              "4  ERROR  ...  [syslog]<43>Jan  8 11:38:07 Kolon_L7_trust_02 ...\n",
              "\n",
              "[5 rows x 10 columns]"
            ]
          },
          "metadata": {
            "tags": []
          },
          "execution_count": 157
        }
      ]
    },
    {
      "cell_type": "code",
      "metadata": {
        "colab": {
          "base_uri": "https://localhost:8080/",
          "height": 204
        },
        "id": "CVRoq-8PikUP",
        "outputId": "81eae0bf-66f4-4ae1-c7a6-4a46b37e3bbf"
      },
      "source": [
        "text = df[['내용']]\r\n",
        "text.columns = ['Content']\r\n",
        "text.head()"
      ],
      "execution_count": 161,
      "outputs": [
        {
          "output_type": "execute_result",
          "data": {
            "text/html": [
              "<div>\n",
              "<style scoped>\n",
              "    .dataframe tbody tr th:only-of-type {\n",
              "        vertical-align: middle;\n",
              "    }\n",
              "\n",
              "    .dataframe tbody tr th {\n",
              "        vertical-align: top;\n",
              "    }\n",
              "\n",
              "    .dataframe thead th {\n",
              "        text-align: right;\n",
              "    }\n",
              "</style>\n",
              "<table border=\"1\" class=\"dataframe\">\n",
              "  <thead>\n",
              "    <tr style=\"text-align: right;\">\n",
              "      <th></th>\n",
              "      <th>Content</th>\n",
              "    </tr>\n",
              "  </thead>\n",
              "  <tbody>\n",
              "    <tr>\n",
              "      <th>0</th>\n",
              "      <td>[syslog]&lt;43&gt;Jan  8 11:39:07 Kolon_L7_trust_02 ...</td>\n",
              "    </tr>\n",
              "    <tr>\n",
              "      <th>1</th>\n",
              "      <td>[syslog]&lt;43&gt;Jan  8 11:39:07 Kolon_L7_trust_02 ...</td>\n",
              "    </tr>\n",
              "    <tr>\n",
              "      <th>2</th>\n",
              "      <td>[syslog]&lt;43&gt;Jan  8 11:39:06 Kolon_L7_trust_01 ...</td>\n",
              "    </tr>\n",
              "    <tr>\n",
              "      <th>3</th>\n",
              "      <td>[syslog]&lt;43&gt;Jan  8 11:38:07 Kolon_L7_trust_02 ...</td>\n",
              "    </tr>\n",
              "    <tr>\n",
              "      <th>4</th>\n",
              "      <td>[syslog]&lt;43&gt;Jan  8 11:38:07 Kolon_L7_trust_02 ...</td>\n",
              "    </tr>\n",
              "  </tbody>\n",
              "</table>\n",
              "</div>"
            ],
            "text/plain": [
              "                                             Content\n",
              "0  [syslog]<43>Jan  8 11:39:07 Kolon_L7_trust_02 ...\n",
              "1  [syslog]<43>Jan  8 11:39:07 Kolon_L7_trust_02 ...\n",
              "2  [syslog]<43>Jan  8 11:39:06 Kolon_L7_trust_01 ...\n",
              "3  [syslog]<43>Jan  8 11:38:07 Kolon_L7_trust_02 ...\n",
              "4  [syslog]<43>Jan  8 11:38:07 Kolon_L7_trust_02 ..."
            ]
          },
          "metadata": {
            "tags": []
          },
          "execution_count": 161
        }
      ]
    },
    {
      "cell_type": "code",
      "metadata": {
        "colab": {
          "base_uri": "https://localhost:8080/"
        },
        "id": "GV11NO8NikUX",
        "outputId": "7c3d8e93-88c9-48eb-9be4-ee3003e6a1d6"
      },
      "source": [
        "import nltk\r\n",
        "nltk.download('punkt')"
      ],
      "execution_count": 162,
      "outputs": [
        {
          "output_type": "stream",
          "text": [
            "[nltk_data] Downloading package punkt to /root/nltk_data...\n",
            "[nltk_data]   Package punkt is already up-to-date!\n"
          ],
          "name": "stdout"
        },
        {
          "output_type": "execute_result",
          "data": {
            "text/plain": [
              "True"
            ]
          },
          "metadata": {
            "tags": []
          },
          "execution_count": 162
        }
      ]
    },
    {
      "cell_type": "code",
      "metadata": {
        "colab": {
          "base_uri": "https://localhost:8080/",
          "height": 204
        },
        "id": "RK0f8_gyikUY",
        "outputId": "9845d558-6348-4cec-a8e4-16f4c152ebf5"
      },
      "source": [
        "# 토큰화\r\n",
        "text['Content'] = text.apply(lambda row: nltk.word_tokenize(row['Content']), axis=1)\r\n",
        "text.head()"
      ],
      "execution_count": 163,
      "outputs": [
        {
          "output_type": "execute_result",
          "data": {
            "text/html": [
              "<div>\n",
              "<style scoped>\n",
              "    .dataframe tbody tr th:only-of-type {\n",
              "        vertical-align: middle;\n",
              "    }\n",
              "\n",
              "    .dataframe tbody tr th {\n",
              "        vertical-align: top;\n",
              "    }\n",
              "\n",
              "    .dataframe thead th {\n",
              "        text-align: right;\n",
              "    }\n",
              "</style>\n",
              "<table border=\"1\" class=\"dataframe\">\n",
              "  <thead>\n",
              "    <tr style=\"text-align: right;\">\n",
              "      <th></th>\n",
              "      <th>Content</th>\n",
              "    </tr>\n",
              "  </thead>\n",
              "  <tbody>\n",
              "    <tr>\n",
              "      <th>0</th>\n",
              "      <td>[[, syslog, ], &lt;, 43, &gt;, Jan, 8, 11:39:07, Kol...</td>\n",
              "    </tr>\n",
              "    <tr>\n",
              "      <th>1</th>\n",
              "      <td>[[, syslog, ], &lt;, 43, &gt;, Jan, 8, 11:39:07, Kol...</td>\n",
              "    </tr>\n",
              "    <tr>\n",
              "      <th>2</th>\n",
              "      <td>[[, syslog, ], &lt;, 43, &gt;, Jan, 8, 11:39:06, Kol...</td>\n",
              "    </tr>\n",
              "    <tr>\n",
              "      <th>3</th>\n",
              "      <td>[[, syslog, ], &lt;, 43, &gt;, Jan, 8, 11:38:07, Kol...</td>\n",
              "    </tr>\n",
              "    <tr>\n",
              "      <th>4</th>\n",
              "      <td>[[, syslog, ], &lt;, 43, &gt;, Jan, 8, 11:38:07, Kol...</td>\n",
              "    </tr>\n",
              "  </tbody>\n",
              "</table>\n",
              "</div>"
            ],
            "text/plain": [
              "                                             Content\n",
              "0  [[, syslog, ], <, 43, >, Jan, 8, 11:39:07, Kol...\n",
              "1  [[, syslog, ], <, 43, >, Jan, 8, 11:39:07, Kol...\n",
              "2  [[, syslog, ], <, 43, >, Jan, 8, 11:39:06, Kol...\n",
              "3  [[, syslog, ], <, 43, >, Jan, 8, 11:38:07, Kol...\n",
              "4  [[, syslog, ], <, 43, >, Jan, 8, 11:38:07, Kol..."
            ]
          },
          "metadata": {
            "tags": []
          },
          "execution_count": 163
        }
      ]
    },
    {
      "cell_type": "code",
      "metadata": {
        "colab": {
          "base_uri": "https://localhost:8080/"
        },
        "id": "lnozRa0eikUY",
        "outputId": "2968eff3-bd43-48e3-ab01-86eae13d4b53"
      },
      "source": [
        "from nltk.corpus import stopwords\r\n",
        "nltk.download('stopwords')"
      ],
      "execution_count": 164,
      "outputs": [
        {
          "output_type": "stream",
          "text": [
            "[nltk_data] Downloading package stopwords to /root/nltk_data...\n",
            "[nltk_data]   Package stopwords is already up-to-date!\n"
          ],
          "name": "stdout"
        },
        {
          "output_type": "execute_result",
          "data": {
            "text/plain": [
              "True"
            ]
          },
          "metadata": {
            "tags": []
          },
          "execution_count": 164
        }
      ]
    },
    {
      "cell_type": "code",
      "metadata": {
        "colab": {
          "base_uri": "https://localhost:8080/",
          "height": 204
        },
        "id": "sO-L0m7GikUZ",
        "outputId": "929c58f7-7dd4-4792-e7bb-6bf7abc88ab8"
      },
      "source": [
        "# 불용어 처리\r\n",
        "stop = stopwords.words('english')\r\n",
        "text['Content'] = text['Content'].apply(lambda x: [word for word in x if word not in (stop)])\r\n",
        "text.head()"
      ],
      "execution_count": 165,
      "outputs": [
        {
          "output_type": "execute_result",
          "data": {
            "text/html": [
              "<div>\n",
              "<style scoped>\n",
              "    .dataframe tbody tr th:only-of-type {\n",
              "        vertical-align: middle;\n",
              "    }\n",
              "\n",
              "    .dataframe tbody tr th {\n",
              "        vertical-align: top;\n",
              "    }\n",
              "\n",
              "    .dataframe thead th {\n",
              "        text-align: right;\n",
              "    }\n",
              "</style>\n",
              "<table border=\"1\" class=\"dataframe\">\n",
              "  <thead>\n",
              "    <tr style=\"text-align: right;\">\n",
              "      <th></th>\n",
              "      <th>Content</th>\n",
              "    </tr>\n",
              "  </thead>\n",
              "  <tbody>\n",
              "    <tr>\n",
              "      <th>0</th>\n",
              "      <td>[[, syslog, ], &lt;, 43, &gt;, Jan, 8, 11:39:07, Kol...</td>\n",
              "    </tr>\n",
              "    <tr>\n",
              "      <th>1</th>\n",
              "      <td>[[, syslog, ], &lt;, 43, &gt;, Jan, 8, 11:39:07, Kol...</td>\n",
              "    </tr>\n",
              "    <tr>\n",
              "      <th>2</th>\n",
              "      <td>[[, syslog, ], &lt;, 43, &gt;, Jan, 8, 11:39:06, Kol...</td>\n",
              "    </tr>\n",
              "    <tr>\n",
              "      <th>3</th>\n",
              "      <td>[[, syslog, ], &lt;, 43, &gt;, Jan, 8, 11:38:07, Kol...</td>\n",
              "    </tr>\n",
              "    <tr>\n",
              "      <th>4</th>\n",
              "      <td>[[, syslog, ], &lt;, 43, &gt;, Jan, 8, 11:38:07, Kol...</td>\n",
              "    </tr>\n",
              "  </tbody>\n",
              "</table>\n",
              "</div>"
            ],
            "text/plain": [
              "                                             Content\n",
              "0  [[, syslog, ], <, 43, >, Jan, 8, 11:39:07, Kol...\n",
              "1  [[, syslog, ], <, 43, >, Jan, 8, 11:39:07, Kol...\n",
              "2  [[, syslog, ], <, 43, >, Jan, 8, 11:39:06, Kol...\n",
              "3  [[, syslog, ], <, 43, >, Jan, 8, 11:38:07, Kol...\n",
              "4  [[, syslog, ], <, 43, >, Jan, 8, 11:38:07, Kol..."
            ]
          },
          "metadata": {
            "tags": []
          },
          "execution_count": 165
        }
      ]
    },
    {
      "cell_type": "code",
      "metadata": {
        "colab": {
          "base_uri": "https://localhost:8080/"
        },
        "id": "gZtLxUloikUZ",
        "outputId": "65e415ec-2495-4d90-ae91-538aa7ac563b"
      },
      "source": [
        "nltk.download('wordnet')"
      ],
      "execution_count": 166,
      "outputs": [
        {
          "output_type": "stream",
          "text": [
            "[nltk_data] Downloading package wordnet to /root/nltk_data...\n",
            "[nltk_data]   Package wordnet is already up-to-date!\n"
          ],
          "name": "stdout"
        },
        {
          "output_type": "execute_result",
          "data": {
            "text/plain": [
              "True"
            ]
          },
          "metadata": {
            "tags": []
          },
          "execution_count": 166
        }
      ]
    },
    {
      "cell_type": "code",
      "metadata": {
        "colab": {
          "base_uri": "https://localhost:8080/",
          "height": 204
        },
        "id": "PC7A2QoUikUZ",
        "outputId": "ca571b8c-8562-4366-b292-0bc07f440875"
      },
      "source": [
        "# 표제어 추출\r\n",
        "from nltk.stem import WordNetLemmatizer\r\n",
        "text['Content'] = text['Content'].apply(lambda x : [WordNetLemmatizer().lemmatize(word, pos='v') for word in x])\r\n",
        "text.head()"
      ],
      "execution_count": 167,
      "outputs": [
        {
          "output_type": "execute_result",
          "data": {
            "text/html": [
              "<div>\n",
              "<style scoped>\n",
              "    .dataframe tbody tr th:only-of-type {\n",
              "        vertical-align: middle;\n",
              "    }\n",
              "\n",
              "    .dataframe tbody tr th {\n",
              "        vertical-align: top;\n",
              "    }\n",
              "\n",
              "    .dataframe thead th {\n",
              "        text-align: right;\n",
              "    }\n",
              "</style>\n",
              "<table border=\"1\" class=\"dataframe\">\n",
              "  <thead>\n",
              "    <tr style=\"text-align: right;\">\n",
              "      <th></th>\n",
              "      <th>Content</th>\n",
              "    </tr>\n",
              "  </thead>\n",
              "  <tbody>\n",
              "    <tr>\n",
              "      <th>0</th>\n",
              "      <td>[[, syslog, ], &lt;, 43, &gt;, Jan, 8, 11:39:07, Kol...</td>\n",
              "    </tr>\n",
              "    <tr>\n",
              "      <th>1</th>\n",
              "      <td>[[, syslog, ], &lt;, 43, &gt;, Jan, 8, 11:39:07, Kol...</td>\n",
              "    </tr>\n",
              "    <tr>\n",
              "      <th>2</th>\n",
              "      <td>[[, syslog, ], &lt;, 43, &gt;, Jan, 8, 11:39:06, Kol...</td>\n",
              "    </tr>\n",
              "    <tr>\n",
              "      <th>3</th>\n",
              "      <td>[[, syslog, ], &lt;, 43, &gt;, Jan, 8, 11:38:07, Kol...</td>\n",
              "    </tr>\n",
              "    <tr>\n",
              "      <th>4</th>\n",
              "      <td>[[, syslog, ], &lt;, 43, &gt;, Jan, 8, 11:38:07, Kol...</td>\n",
              "    </tr>\n",
              "  </tbody>\n",
              "</table>\n",
              "</div>"
            ],
            "text/plain": [
              "                                             Content\n",
              "0  [[, syslog, ], <, 43, >, Jan, 8, 11:39:07, Kol...\n",
              "1  [[, syslog, ], <, 43, >, Jan, 8, 11:39:07, Kol...\n",
              "2  [[, syslog, ], <, 43, >, Jan, 8, 11:39:06, Kol...\n",
              "3  [[, syslog, ], <, 43, >, Jan, 8, 11:38:07, Kol...\n",
              "4  [[, syslog, ], <, 43, >, Jan, 8, 11:38:07, Kol..."
            ]
          },
          "metadata": {
            "tags": []
          },
          "execution_count": 167
        }
      ]
    },
    {
      "cell_type": "code",
      "metadata": {
        "colab": {
          "base_uri": "https://localhost:8080/"
        },
        "id": "PlTX1xdLikUa",
        "outputId": "67086129-e0a9-4d98-cd0e-fec905b2930a"
      },
      "source": [
        "# 일정 길이 이하 단어 삭제 \r\n",
        "tokenized_doc = text['Content'].apply(lambda x : [word for word in x if len(word) > 3])\r\n",
        "tokenized_doc[:5]"
      ],
      "execution_count": 168,
      "outputs": [
        {
          "output_type": "execute_result",
          "data": {
            "text/plain": [
              "0    [syslog, 11:39:07, Kolon_L7_trust_02, syslog-n...\n",
              "1    [syslog, 11:39:07, Kolon_L7_trust_02, syslog-n...\n",
              "2    [syslog, 11:39:06, Kolon_L7_trust_01, syslog-n...\n",
              "3    [syslog, 11:38:07, Kolon_L7_trust_02, syslog-n...\n",
              "4    [syslog, 11:38:07, Kolon_L7_trust_02, syslog-n...\n",
              "Name: Content, dtype: object"
            ]
          },
          "metadata": {
            "tags": []
          },
          "execution_count": 168
        }
      ]
    },
    {
      "cell_type": "code",
      "metadata": {
        "id": "fnOQp7HdikUa"
      },
      "source": [
        "data = [i for i in tokenized_doc]"
      ],
      "execution_count": 169,
      "outputs": []
    },
    {
      "cell_type": "code",
      "metadata": {
        "id": "ohfuyNFyikUa"
      },
      "source": [
        "id2word = corpora.Dictionary(data)"
      ],
      "execution_count": 174,
      "outputs": []
    },
    {
      "cell_type": "code",
      "metadata": {
        "id": "qcVtmFerikUa"
      },
      "source": [
        "corpus = [id2word.doc2bow(text) for text in data]"
      ],
      "execution_count": 175,
      "outputs": []
    },
    {
      "cell_type": "code",
      "metadata": {
        "colab": {
          "base_uri": "https://localhost:8080/"
        },
        "id": "P7_XUe-BikUb",
        "outputId": "64a5d2c3-c235-482a-cc8b-81512d07dc54"
      },
      "source": [
        "print(corpus[:1])"
      ],
      "execution_count": 176,
      "outputs": [
        {
          "output_type": "stream",
          "text": [
            "[[(0, 1), (1, 1), (2, 1), (3, 1), (4, 1), (5, 1), (6, 1), (7, 1)]]\n"
          ],
          "name": "stdout"
        }
      ]
    },
    {
      "cell_type": "code",
      "metadata": {
        "id": "udGAr60WikUb"
      },
      "source": [
        "import warnings \r\n",
        "warnings.filterwarnings('ignore')"
      ],
      "execution_count": 177,
      "outputs": []
    },
    {
      "cell_type": "code",
      "metadata": {
        "id": "CaW_v9-WikUb"
      },
      "source": [
        "lda_model = gensim.models.ldamodel.LdaModel(corpus = corpus,\r\n",
        "                                            id2word = id2word,\r\n",
        "                                            num_topics = 10,\r\n",
        "                                            random_state = 100,\r\n",
        "                                            update_every =1,\r\n",
        "                                            chunksize = 100,\r\n",
        "                                            passes = 10,\r\n",
        "                                            alpha= 'auto',\r\n",
        "                                            per_word_topics = True\r\n",
        "                                            )"
      ],
      "execution_count": 178,
      "outputs": []
    },
    {
      "cell_type": "code",
      "metadata": {
        "colab": {
          "base_uri": "https://localhost:8080/"
        },
        "id": "mmXZNSCMikUb",
        "outputId": "640213ef-b124-45f8-964f-52b644de61b5"
      },
      "source": [
        "pprint(lda_model.print_topics())\r\n",
        "doc_lda = lda_model[corpus]"
      ],
      "execution_count": 179,
      "outputs": [
        {
          "output_type": "stream",
          "text": [
            "[(0,\n",
            "  '0.022*\"BMW_Opo_AS\" + 0.022*\"ge-1/0/0.0\" + 0.022*\"192.168.0.37\" + '\n",
            "  '0.010*\"779b9feb\" + 0.010*\"2021-01-06T18:39:28.539+09:00\" + 0.010*\"e7e5\" + '\n",
            "  '0.003*\"08:15:06\" + 0.003*\"03:32:08\" + 0.003*\"03:40:08\" + 0.003*\"03:47:08\"'),\n",
            " (1,\n",
            "  '0.084*\"syslog-ng\" + 0.084*\"syslog\" + 0.083*\"Kolon_L7_trust_01\" + '\n",
            "  '0.083*\"12592\" + 0.083*\"fd=\\'39\" + 0.083*\"occur\" + 0.083*\"write\" + '\n",
            "  '0.083*\"error=\\'Connection\" + 0.083*\"refuse\" + 0.083*\"error\"'),\n",
            " (2,\n",
            "  '0.109*\"idle\" + 0.109*\"POLLERR\" + 0.109*\"occur\" + 0.109*\"fd=\\'39\" + '\n",
            "  '0.109*\"syslog-ng\" + 0.109*\"syslog\" + 0.109*\"Kolon_L7_trust_01\" + '\n",
            "  '0.109*\"12592\" + 0.001*\"18:51:11\" + 0.001*\"18:46:10\"'),\n",
            " (3,\n",
            "  '0.123*\"syslog\" + 0.123*\"syslog-ng\" + 0.123*\"Kolon_L7_trust_01\" + '\n",
            "  '0.123*\"12592\" + 0.122*\"time_reopen=\\'60\" + 0.122*\"Connection\" + '\n",
            "  '0.122*\"break\" + 0.001*\"18:55:11\" + 0.000*\"18:51:11\" + 0.000*\"18:49:10\"'),\n",
            " (4,\n",
            "  '0.023*\"iken\" + 0.014*\"members\" + 0.014*\"available\" + '\n",
            "  '0.014*\"/Common/p_media_9005\" + 0.014*\"local0\" + 0.008*\"01010221:3\" + '\n",
            "  '0.008*\"Pool\" + 0.007*\"19367\" + 0.007*\"19374\" + 0.007*\"tmm1\"'),\n",
            " (5,\n",
            "  '0.035*\"tunnel-id=\" + 0.035*\"type=\" + 0.035*\"interface-name=\" + '\n",
            "  '0.035*\"junos\" + 0.035*\"sequence-number=\" + 0.035*\"source-address=\" + '\n",
            "  '0.035*\"destination-address=\" + 0.035*\"length=\" + 0.035*\"index=\" + '\n",
            "  '0.035*\"203.225.253.71\"'),\n",
            " (6,\n",
            "  '0.080*\"occur\" + 0.080*\"fd=\\'39\" + 0.080*\"write\" + 0.080*\"error\" + '\n",
            "  '0.080*\"refuse\" + 0.080*\"error=\\'Connection\" + 0.079*\"12499\" + '\n",
            "  '0.079*\"Kolon_L7_trust_02\" + 0.079*\"syslog-ng\" + 0.079*\"syslog\"'),\n",
            " (7,\n",
            "  '0.109*\"idle\" + 0.109*\"POLLERR\" + 0.109*\"fd=\\'39\" + 0.109*\"occur\" + '\n",
            "  '0.109*\"12499\" + 0.109*\"Kolon_L7_trust_02\" + 0.109*\"syslog-ng\" + '\n",
            "  '0.109*\"syslog\" + 0.000*\"18:43:06\" + 0.000*\"18:46:06\"'),\n",
            " (8,\n",
            "  '0.123*\"syslog\" + 0.123*\"syslog-ng\" + 0.123*\"Kolon_L7_trust_02\" + '\n",
            "  '0.123*\"12499\" + 0.122*\"Connection\" + 0.122*\"break\" + '\n",
            "  '0.122*\"time_reopen=\\'60\" + 0.001*\"19:20:06\" + 0.000*\"18:44:06\" + '\n",
            "  '0.000*\"18:46:06\"'),\n",
            " (9,\n",
            "  '0.027*\"stats\" + 0.027*\":514\" + 0.027*\"Duplicate\" + 0.027*\"counter\" + '\n",
            "  '0.027*\"counter=\\'udp\" + 0.027*\"null\" + 0.022*\"04:02:04\" + 0.005*\"11947\" + '\n",
            "  '0.005*\"11994\" + 0.003*\"08:54:06\"')]\n"
          ],
          "name": "stdout"
        }
      ]
    },
    {
      "cell_type": "markdown",
      "metadata": {
        "id": "Qzjc75XflFDS"
      },
      "source": [
        "결과 정리"
      ]
    },
    {
      "cell_type": "code",
      "metadata": {
        "id": "IFecuIb2lBIH"
      },
      "source": [
        "_1st = [(0,\r\n",
        "  '0.022*\"BMW_Opo_AS\" + 0.022*\"ge-1/0/0.0\" + 0.022*\"192.168.0.37\" + '\r\n",
        "  '0.010*\"779b9feb\" + 0.010*\"2021-01-06T18:39:28.539+09:00\" + 0.010*\"e7e5\" + '\r\n",
        "  '0.003*\"08:15:06\" + 0.003*\"03:32:08\" + 0.003*\"03:40:08\" + 0.003*\"03:47:08\"'),\r\n",
        " (1,\r\n",
        "  '0.084*\"syslog-ng\" + 0.084*\"syslog\" + 0.083*\"Kolon_L7_trust_01\" + '\r\n",
        "  '0.083*\"12592\" + 0.083*\"fd=\\'39\" + 0.083*\"occur\" + 0.083*\"write\" + '\r\n",
        "  '0.083*\"error=\\'Connection\" + 0.083*\"refuse\" + 0.083*\"error\"'),\r\n",
        " (2,\r\n",
        "  '0.109*\"idle\" + 0.109*\"POLLERR\" + 0.109*\"occur\" + 0.109*\"fd=\\'39\" + '\r\n",
        "  '0.109*\"syslog-ng\" + 0.109*\"syslog\" + 0.109*\"Kolon_L7_trust_01\" + '\r\n",
        "  '0.109*\"12592\" + 0.001*\"18:51:11\" + 0.001*\"18:46:10\"'),\r\n",
        " (3,\r\n",
        "  '0.123*\"syslog\" + 0.123*\"syslog-ng\" + 0.123*\"Kolon_L7_trust_01\" + '\r\n",
        "  '0.123*\"12592\" + 0.122*\"time_reopen=\\'60\" + 0.122*\"Connection\" + '\r\n",
        "  '0.122*\"break\" + 0.001*\"18:55:11\" + 0.000*\"18:51:11\" + 0.000*\"18:49:10\"'),\r\n",
        " (4,\r\n",
        "  '0.023*\"iken\" + 0.014*\"members\" + 0.014*\"available\" + '\r\n",
        "  '0.014*\"/Common/p_media_9005\" + 0.014*\"local0\" + 0.008*\"01010221:3\" + '\r\n",
        "  '0.008*\"Pool\" + 0.007*\"19367\" + 0.007*\"19374\" + 0.007*\"tmm1\"'),\r\n",
        " (5,\r\n",
        "  '0.035*\"tunnel-id=\" + 0.035*\"type=\" + 0.035*\"interface-name=\" + '\r\n",
        "  '0.035*\"junos\" + 0.035*\"sequence-number=\" + 0.035*\"source-address=\" + '\r\n",
        "  '0.035*\"destination-address=\" + 0.035*\"length=\" + 0.035*\"index=\" + '\r\n",
        "  '0.035*\"203.225.253.71\"'),\r\n",
        " (6,\r\n",
        "  '0.080*\"occur\" + 0.080*\"fd=\\'39\" + 0.080*\"write\" + 0.080*\"error\" + '\r\n",
        "  '0.080*\"refuse\" + 0.080*\"error=\\'Connection\" + 0.079*\"12499\" + '\r\n",
        "  '0.079*\"Kolon_L7_trust_02\" + 0.079*\"syslog-ng\" + 0.079*\"syslog\"'),\r\n",
        " (7,\r\n",
        "  '0.109*\"idle\" + 0.109*\"POLLERR\" + 0.109*\"fd=\\'39\" + 0.109*\"occur\" + '\r\n",
        "  '0.109*\"12499\" + 0.109*\"Kolon_L7_trust_02\" + 0.109*\"syslog-ng\" + '\r\n",
        "  '0.109*\"syslog\" + 0.000*\"18:43:06\" + 0.000*\"18:46:06\"'),\r\n",
        " (8,\r\n",
        "  '0.123*\"syslog\" + 0.123*\"syslog-ng\" + 0.123*\"Kolon_L7_trust_02\" + '\r\n",
        "  '0.123*\"12499\" + 0.122*\"Connection\" + 0.122*\"break\" + '\r\n",
        "  '0.122*\"time_reopen=\\'60\" + 0.001*\"19:20:06\" + 0.000*\"18:44:06\" + '\r\n",
        "  '0.000*\"18:46:06\"'),\r\n",
        " (9,\r\n",
        "  '0.027*\"stats\" + 0.027*\":514\" + 0.027*\"Duplicate\" + 0.027*\"counter\" + '\r\n",
        "  '0.027*\"counter=\\'udp\" + 0.027*\"null\" + 0.022*\"04:02:04\" + 0.005*\"11947\" + '\r\n",
        "  '0.005*\"11994\" + 0.003*\"08:54:06\"')]"
      ],
      "execution_count": 180,
      "outputs": []
    },
    {
      "cell_type": "code",
      "metadata": {
        "id": "1e4UNnfolBIM"
      },
      "source": [
        "result_df_1 = pd.DataFrame([i[1].split(' + ') for i in _1st])"
      ],
      "execution_count": 181,
      "outputs": []
    },
    {
      "cell_type": "code",
      "metadata": {
        "id": "HX6s4uj2lBIN"
      },
      "source": [
        "for i in result_df_1:\r\n",
        "  result_df_1['{}_rate'.format(i)]=result_df_1[i].str[:5]\r\n",
        "  result_df_1[i]= result_df_1[i].str[6:]"
      ],
      "execution_count": 182,
      "outputs": []
    },
    {
      "cell_type": "code",
      "metadata": {
        "id": "8m6mryaNlBIN"
      },
      "source": [
        "temp = []\r\n",
        "for i in range(10):\r\n",
        "  temp += ['{}_rate'.format(i), i]"
      ],
      "execution_count": 183,
      "outputs": []
    },
    {
      "cell_type": "code",
      "metadata": {
        "id": "i85VL-WZlBIO"
      },
      "source": [
        "result_df_1 = result_df_1[temp]"
      ],
      "execution_count": 184,
      "outputs": []
    },
    {
      "cell_type": "markdown",
      "metadata": {
        "id": "-DmMLoBllBIO"
      },
      "source": [
        "결과 확인"
      ]
    },
    {
      "cell_type": "code",
      "metadata": {
        "colab": {
          "base_uri": "https://localhost:8080/",
          "height": 464
        },
        "id": "XzDF1EDclBIO",
        "outputId": "5e26aced-bb90-42a2-dfe4-4a91d2f04c2b"
      },
      "source": [
        "result_df_1"
      ],
      "execution_count": 190,
      "outputs": [
        {
          "output_type": "execute_result",
          "data": {
            "text/html": [
              "<div>\n",
              "<style scoped>\n",
              "    .dataframe tbody tr th:only-of-type {\n",
              "        vertical-align: middle;\n",
              "    }\n",
              "\n",
              "    .dataframe tbody tr th {\n",
              "        vertical-align: top;\n",
              "    }\n",
              "\n",
              "    .dataframe thead th {\n",
              "        text-align: right;\n",
              "    }\n",
              "</style>\n",
              "<table border=\"1\" class=\"dataframe\">\n",
              "  <thead>\n",
              "    <tr style=\"text-align: right;\">\n",
              "      <th></th>\n",
              "      <th>0_rate</th>\n",
              "      <th>0</th>\n",
              "      <th>1_rate</th>\n",
              "      <th>1</th>\n",
              "      <th>2_rate</th>\n",
              "      <th>2</th>\n",
              "      <th>3_rate</th>\n",
              "      <th>3</th>\n",
              "      <th>4_rate</th>\n",
              "      <th>4</th>\n",
              "      <th>5_rate</th>\n",
              "      <th>5</th>\n",
              "      <th>6_rate</th>\n",
              "      <th>6</th>\n",
              "      <th>7_rate</th>\n",
              "      <th>7</th>\n",
              "      <th>8_rate</th>\n",
              "      <th>8</th>\n",
              "      <th>9_rate</th>\n",
              "      <th>9</th>\n",
              "    </tr>\n",
              "  </thead>\n",
              "  <tbody>\n",
              "    <tr>\n",
              "      <th>0</th>\n",
              "      <td>0.022</td>\n",
              "      <td>\"BMW_Opo_AS\"</td>\n",
              "      <td>0.022</td>\n",
              "      <td>\"ge-1/0/0.0\"</td>\n",
              "      <td>0.022</td>\n",
              "      <td>\"192.168.0.37\"</td>\n",
              "      <td>0.010</td>\n",
              "      <td>\"779b9feb\"</td>\n",
              "      <td>0.010</td>\n",
              "      <td>\"2021-01-06T18:39:28.539+09:00\"</td>\n",
              "      <td>0.010</td>\n",
              "      <td>\"e7e5\"</td>\n",
              "      <td>0.003</td>\n",
              "      <td>\"08:15:06\"</td>\n",
              "      <td>0.003</td>\n",
              "      <td>\"03:32:08\"</td>\n",
              "      <td>0.003</td>\n",
              "      <td>\"03:40:08\"</td>\n",
              "      <td>0.003</td>\n",
              "      <td>\"03:47:08\"</td>\n",
              "    </tr>\n",
              "    <tr>\n",
              "      <th>1</th>\n",
              "      <td>0.084</td>\n",
              "      <td>\"syslog-ng\"</td>\n",
              "      <td>0.084</td>\n",
              "      <td>\"syslog\"</td>\n",
              "      <td>0.083</td>\n",
              "      <td>\"Kolon_L7_trust_01\"</td>\n",
              "      <td>0.083</td>\n",
              "      <td>\"12592\"</td>\n",
              "      <td>0.083</td>\n",
              "      <td>\"fd='39\"</td>\n",
              "      <td>0.083</td>\n",
              "      <td>\"occur\"</td>\n",
              "      <td>0.083</td>\n",
              "      <td>\"write\"</td>\n",
              "      <td>0.083</td>\n",
              "      <td>\"error='Connection\"</td>\n",
              "      <td>0.083</td>\n",
              "      <td>\"refuse\"</td>\n",
              "      <td>0.083</td>\n",
              "      <td>\"error\"</td>\n",
              "    </tr>\n",
              "    <tr>\n",
              "      <th>2</th>\n",
              "      <td>0.109</td>\n",
              "      <td>\"idle\"</td>\n",
              "      <td>0.109</td>\n",
              "      <td>\"POLLERR\"</td>\n",
              "      <td>0.109</td>\n",
              "      <td>\"occur\"</td>\n",
              "      <td>0.109</td>\n",
              "      <td>\"fd='39\"</td>\n",
              "      <td>0.109</td>\n",
              "      <td>\"syslog-ng\"</td>\n",
              "      <td>0.109</td>\n",
              "      <td>\"syslog\"</td>\n",
              "      <td>0.109</td>\n",
              "      <td>\"Kolon_L7_trust_01\"</td>\n",
              "      <td>0.109</td>\n",
              "      <td>\"12592\"</td>\n",
              "      <td>0.001</td>\n",
              "      <td>\"18:51:11\"</td>\n",
              "      <td>0.001</td>\n",
              "      <td>\"18:46:10\"</td>\n",
              "    </tr>\n",
              "    <tr>\n",
              "      <th>3</th>\n",
              "      <td>0.123</td>\n",
              "      <td>\"syslog\"</td>\n",
              "      <td>0.123</td>\n",
              "      <td>\"syslog-ng\"</td>\n",
              "      <td>0.123</td>\n",
              "      <td>\"Kolon_L7_trust_01\"</td>\n",
              "      <td>0.123</td>\n",
              "      <td>\"12592\"</td>\n",
              "      <td>0.122</td>\n",
              "      <td>\"time_reopen='60\"</td>\n",
              "      <td>0.122</td>\n",
              "      <td>\"Connection\"</td>\n",
              "      <td>0.122</td>\n",
              "      <td>\"break\"</td>\n",
              "      <td>0.001</td>\n",
              "      <td>\"18:55:11\"</td>\n",
              "      <td>0.000</td>\n",
              "      <td>\"18:51:11\"</td>\n",
              "      <td>0.000</td>\n",
              "      <td>\"18:49:10\"</td>\n",
              "    </tr>\n",
              "    <tr>\n",
              "      <th>4</th>\n",
              "      <td>0.023</td>\n",
              "      <td>\"iken\"</td>\n",
              "      <td>0.014</td>\n",
              "      <td>\"members\"</td>\n",
              "      <td>0.014</td>\n",
              "      <td>\"available\"</td>\n",
              "      <td>0.014</td>\n",
              "      <td>\"/Common/p_media_9005\"</td>\n",
              "      <td>0.014</td>\n",
              "      <td>\"local0\"</td>\n",
              "      <td>0.008</td>\n",
              "      <td>\"01010221:3\"</td>\n",
              "      <td>0.008</td>\n",
              "      <td>\"Pool\"</td>\n",
              "      <td>0.007</td>\n",
              "      <td>\"19367\"</td>\n",
              "      <td>0.007</td>\n",
              "      <td>\"19374\"</td>\n",
              "      <td>0.007</td>\n",
              "      <td>\"tmm1\"</td>\n",
              "    </tr>\n",
              "    <tr>\n",
              "      <th>5</th>\n",
              "      <td>0.035</td>\n",
              "      <td>\"tunnel-id=\"</td>\n",
              "      <td>0.035</td>\n",
              "      <td>\"type=\"</td>\n",
              "      <td>0.035</td>\n",
              "      <td>\"interface-name=\"</td>\n",
              "      <td>0.035</td>\n",
              "      <td>\"junos\"</td>\n",
              "      <td>0.035</td>\n",
              "      <td>\"sequence-number=\"</td>\n",
              "      <td>0.035</td>\n",
              "      <td>\"source-address=\"</td>\n",
              "      <td>0.035</td>\n",
              "      <td>\"destination-address=\"</td>\n",
              "      <td>0.035</td>\n",
              "      <td>\"length=\"</td>\n",
              "      <td>0.035</td>\n",
              "      <td>\"index=\"</td>\n",
              "      <td>0.035</td>\n",
              "      <td>\"203.225.253.71\"</td>\n",
              "    </tr>\n",
              "    <tr>\n",
              "      <th>6</th>\n",
              "      <td>0.080</td>\n",
              "      <td>\"occur\"</td>\n",
              "      <td>0.080</td>\n",
              "      <td>\"fd='39\"</td>\n",
              "      <td>0.080</td>\n",
              "      <td>\"write\"</td>\n",
              "      <td>0.080</td>\n",
              "      <td>\"error\"</td>\n",
              "      <td>0.080</td>\n",
              "      <td>\"refuse\"</td>\n",
              "      <td>0.080</td>\n",
              "      <td>\"error='Connection\"</td>\n",
              "      <td>0.079</td>\n",
              "      <td>\"12499\"</td>\n",
              "      <td>0.079</td>\n",
              "      <td>\"Kolon_L7_trust_02\"</td>\n",
              "      <td>0.079</td>\n",
              "      <td>\"syslog-ng\"</td>\n",
              "      <td>0.079</td>\n",
              "      <td>\"syslog\"</td>\n",
              "    </tr>\n",
              "    <tr>\n",
              "      <th>7</th>\n",
              "      <td>0.109</td>\n",
              "      <td>\"idle\"</td>\n",
              "      <td>0.109</td>\n",
              "      <td>\"POLLERR\"</td>\n",
              "      <td>0.109</td>\n",
              "      <td>\"fd='39\"</td>\n",
              "      <td>0.109</td>\n",
              "      <td>\"occur\"</td>\n",
              "      <td>0.109</td>\n",
              "      <td>\"12499\"</td>\n",
              "      <td>0.109</td>\n",
              "      <td>\"Kolon_L7_trust_02\"</td>\n",
              "      <td>0.109</td>\n",
              "      <td>\"syslog-ng\"</td>\n",
              "      <td>0.109</td>\n",
              "      <td>\"syslog\"</td>\n",
              "      <td>0.000</td>\n",
              "      <td>\"18:43:06\"</td>\n",
              "      <td>0.000</td>\n",
              "      <td>\"18:46:06\"</td>\n",
              "    </tr>\n",
              "    <tr>\n",
              "      <th>8</th>\n",
              "      <td>0.123</td>\n",
              "      <td>\"syslog\"</td>\n",
              "      <td>0.123</td>\n",
              "      <td>\"syslog-ng\"</td>\n",
              "      <td>0.123</td>\n",
              "      <td>\"Kolon_L7_trust_02\"</td>\n",
              "      <td>0.123</td>\n",
              "      <td>\"12499\"</td>\n",
              "      <td>0.122</td>\n",
              "      <td>\"Connection\"</td>\n",
              "      <td>0.122</td>\n",
              "      <td>\"break\"</td>\n",
              "      <td>0.122</td>\n",
              "      <td>\"time_reopen='60\"</td>\n",
              "      <td>0.001</td>\n",
              "      <td>\"19:20:06\"</td>\n",
              "      <td>0.000</td>\n",
              "      <td>\"18:44:06\"</td>\n",
              "      <td>0.000</td>\n",
              "      <td>\"18:46:06\"</td>\n",
              "    </tr>\n",
              "    <tr>\n",
              "      <th>9</th>\n",
              "      <td>0.027</td>\n",
              "      <td>\"stats\"</td>\n",
              "      <td>0.027</td>\n",
              "      <td>\":514\"</td>\n",
              "      <td>0.027</td>\n",
              "      <td>\"Duplicate\"</td>\n",
              "      <td>0.027</td>\n",
              "      <td>\"counter\"</td>\n",
              "      <td>0.027</td>\n",
              "      <td>\"counter='udp\"</td>\n",
              "      <td>0.027</td>\n",
              "      <td>\"null\"</td>\n",
              "      <td>0.022</td>\n",
              "      <td>\"04:02:04\"</td>\n",
              "      <td>0.005</td>\n",
              "      <td>\"11947\"</td>\n",
              "      <td>0.005</td>\n",
              "      <td>\"11994\"</td>\n",
              "      <td>0.003</td>\n",
              "      <td>\"08:54:06\"</td>\n",
              "    </tr>\n",
              "  </tbody>\n",
              "</table>\n",
              "</div>"
            ],
            "text/plain": [
              "  0_rate             0 1_rate  ...            8 9_rate                 9\n",
              "0  0.022  \"BMW_Opo_AS\"  0.022  ...   \"03:40:08\"  0.003        \"03:47:08\"\n",
              "1  0.084   \"syslog-ng\"  0.084  ...     \"refuse\"  0.083           \"error\"\n",
              "2  0.109        \"idle\"  0.109  ...   \"18:51:11\"  0.001        \"18:46:10\"\n",
              "3  0.123      \"syslog\"  0.123  ...   \"18:51:11\"  0.000        \"18:49:10\"\n",
              "4  0.023        \"iken\"  0.014  ...      \"19374\"  0.007            \"tmm1\"\n",
              "5  0.035  \"tunnel-id=\"  0.035  ...     \"index=\"  0.035  \"203.225.253.71\"\n",
              "6  0.080       \"occur\"  0.080  ...  \"syslog-ng\"  0.079          \"syslog\"\n",
              "7  0.109        \"idle\"  0.109  ...   \"18:43:06\"  0.000        \"18:46:06\"\n",
              "8  0.123      \"syslog\"  0.123  ...   \"18:44:06\"  0.000        \"18:46:06\"\n",
              "9  0.027       \"stats\"  0.027  ...      \"11994\"  0.003        \"08:54:06\"\n",
              "\n",
              "[10 rows x 20 columns]"
            ]
          },
          "metadata": {
            "tags": []
          },
          "execution_count": 190
        }
      ]
    },
    {
      "cell_type": "code",
      "metadata": {
        "id": "HchOp0mala70"
      },
      "source": [
        "result_df_1.to_csv('/content/syslog_lda.csv')"
      ],
      "execution_count": 191,
      "outputs": []
    },
    {
      "cell_type": "markdown",
      "metadata": {
        "id": "HXgXEkOjlrYH"
      },
      "source": [
        "## 이벤트 로그 1차"
      ]
    },
    {
      "cell_type": "code",
      "metadata": {
        "colab": {
          "base_uri": "https://localhost:8080/",
          "height": 306
        },
        "id": "DLfHvd-YlfF3",
        "outputId": "ad251067-88e0-4d44-e596-3bff76f837b1"
      },
      "source": [
        "df = pd.read_excel('./data/이벤트 목록_log1.xls')\r\n",
        "add = pd.read_excel('./data/이벤트 목록_log2.xls')\r\n",
        "add2  = pd.read_excel('./data/이벤트 목록_log3.xls')\r\n",
        "df = pd.concat([df,add, add2])\r\n",
        "\r\n",
        "df.head()"
      ],
      "execution_count": 198,
      "outputs": [
        {
          "output_type": "execute_result",
          "data": {
            "text/html": [
              "<div>\n",
              "<style scoped>\n",
              "    .dataframe tbody tr th:only-of-type {\n",
              "        vertical-align: middle;\n",
              "    }\n",
              "\n",
              "    .dataframe tbody tr th {\n",
              "        vertical-align: top;\n",
              "    }\n",
              "\n",
              "    .dataframe thead th {\n",
              "        text-align: right;\n",
              "    }\n",
              "</style>\n",
              "<table border=\"1\" class=\"dataframe\">\n",
              "  <thead>\n",
              "    <tr style=\"text-align: right;\">\n",
              "      <th></th>\n",
              "      <th>심각도</th>\n",
              "      <th>발생 일시</th>\n",
              "      <th>그룹경로</th>\n",
              "      <th>시스템명</th>\n",
              "      <th>호스트명</th>\n",
              "      <th>리소스 이름</th>\n",
              "      <th>대상</th>\n",
              "      <th>이벤트 타입</th>\n",
              "      <th>이벤트 소스</th>\n",
              "      <th>상세내용</th>\n",
              "    </tr>\n",
              "  </thead>\n",
              "  <tbody>\n",
              "    <tr>\n",
              "      <th>0</th>\n",
              "      <td>INFO</td>\n",
              "      <td>2021-01-19 10:30:48</td>\n",
              "      <td>시스템그룹&gt;HR</td>\n",
              "      <td>INF-INFPRJOBWS02( 172.30.171.22)</td>\n",
              "      <td>infprjobws02</td>\n",
              "      <td>채용WAS21로그</td>\n",
              "      <td>시스템그룹&gt;HR&gt;INF-INFPRJOBWS02( 172.30.171.22)&gt;moni...</td>\n",
              "      <td>logMessage</td>\n",
              "      <td>NaN</td>\n",
              "      <td>BENIT_Client IP1 : 114.119.158.142, user_no : ...</td>\n",
              "    </tr>\n",
              "    <tr>\n",
              "      <th>1</th>\n",
              "      <td>INFO</td>\n",
              "      <td>2021-01-19 10:30:48</td>\n",
              "      <td>시스템그룹&gt;HR</td>\n",
              "      <td>INF-INFPRJOBWS02( 172.30.171.22)</td>\n",
              "      <td>infprjobws02</td>\n",
              "      <td>채용WAS21로그</td>\n",
              "      <td>시스템그룹&gt;HR&gt;INF-INFPRJOBWS02( 172.30.171.22)&gt;moni...</td>\n",
              "      <td>logMessage</td>\n",
              "      <td>NaN</td>\n",
              "      <td>BENIT_Client IP2 : 114.119.158.142, user_no : ...</td>\n",
              "    </tr>\n",
              "    <tr>\n",
              "      <th>2</th>\n",
              "      <td>INFO</td>\n",
              "      <td>2021-01-19 10:30:04</td>\n",
              "      <td>시스템그룹&gt;HR</td>\n",
              "      <td>INF-INFPRJOBWS01(121.135.187.201)</td>\n",
              "      <td>infprjobws01</td>\n",
              "      <td>채용WAS11로그</td>\n",
              "      <td>시스템그룹&gt;HR&gt;INF-INFPRJOBWS01(121.135.187.201)&gt;mon...</td>\n",
              "      <td>logMessage</td>\n",
              "      <td>NaN</td>\n",
              "      <td>BENIT_Client IP2 : 203.225.82.146, user_no : n...</td>\n",
              "    </tr>\n",
              "    <tr>\n",
              "      <th>3</th>\n",
              "      <td>INFO</td>\n",
              "      <td>2021-01-19 10:30:04</td>\n",
              "      <td>시스템그룹&gt;HR</td>\n",
              "      <td>INF-INFPRJOBWS01(121.135.187.201)</td>\n",
              "      <td>infprjobws01</td>\n",
              "      <td>채용WAS11로그</td>\n",
              "      <td>시스템그룹&gt;HR&gt;INF-INFPRJOBWS01(121.135.187.201)&gt;mon...</td>\n",
              "      <td>logMessage</td>\n",
              "      <td>NaN</td>\n",
              "      <td>BENIT_Client IP2 : 203.225.82.146, user_no : n...</td>\n",
              "    </tr>\n",
              "    <tr>\n",
              "      <th>4</th>\n",
              "      <td>INFO</td>\n",
              "      <td>2021-01-19 10:30:04</td>\n",
              "      <td>시스템그룹&gt;HR</td>\n",
              "      <td>INF-INFPRJOBWS01(121.135.187.201)</td>\n",
              "      <td>infprjobws01</td>\n",
              "      <td>채용WAS11로그</td>\n",
              "      <td>시스템그룹&gt;HR&gt;INF-INFPRJOBWS01(121.135.187.201)&gt;mon...</td>\n",
              "      <td>logMessage</td>\n",
              "      <td>NaN</td>\n",
              "      <td>BENIT_Client IP1 : 203.225.82.146, user_no : n...</td>\n",
              "    </tr>\n",
              "  </tbody>\n",
              "</table>\n",
              "</div>"
            ],
            "text/plain": [
              "    심각도  ...                                               상세내용\n",
              "0  INFO  ...  BENIT_Client IP1 : 114.119.158.142, user_no : ...\n",
              "1  INFO  ...  BENIT_Client IP2 : 114.119.158.142, user_no : ...\n",
              "2  INFO  ...  BENIT_Client IP2 : 203.225.82.146, user_no : n...\n",
              "3  INFO  ...  BENIT_Client IP2 : 203.225.82.146, user_no : n...\n",
              "4  INFO  ...  BENIT_Client IP1 : 203.225.82.146, user_no : n...\n",
              "\n",
              "[5 rows x 10 columns]"
            ]
          },
          "metadata": {
            "tags": []
          },
          "execution_count": 198
        }
      ]
    },
    {
      "cell_type": "code",
      "metadata": {
        "colab": {
          "base_uri": "https://localhost:8080/",
          "height": 204
        },
        "id": "E0g6AFjTnTqB",
        "outputId": "02a18cd2-6eea-41e3-af46-774f0fe4a2df"
      },
      "source": [
        "text = df[['상세내용']]\r\n",
        "text.columns = ['Content']\r\n",
        "text.head()"
      ],
      "execution_count": 199,
      "outputs": [
        {
          "output_type": "execute_result",
          "data": {
            "text/html": [
              "<div>\n",
              "<style scoped>\n",
              "    .dataframe tbody tr th:only-of-type {\n",
              "        vertical-align: middle;\n",
              "    }\n",
              "\n",
              "    .dataframe tbody tr th {\n",
              "        vertical-align: top;\n",
              "    }\n",
              "\n",
              "    .dataframe thead th {\n",
              "        text-align: right;\n",
              "    }\n",
              "</style>\n",
              "<table border=\"1\" class=\"dataframe\">\n",
              "  <thead>\n",
              "    <tr style=\"text-align: right;\">\n",
              "      <th></th>\n",
              "      <th>Content</th>\n",
              "    </tr>\n",
              "  </thead>\n",
              "  <tbody>\n",
              "    <tr>\n",
              "      <th>0</th>\n",
              "      <td>BENIT_Client IP1 : 114.119.158.142, user_no : ...</td>\n",
              "    </tr>\n",
              "    <tr>\n",
              "      <th>1</th>\n",
              "      <td>BENIT_Client IP2 : 114.119.158.142, user_no : ...</td>\n",
              "    </tr>\n",
              "    <tr>\n",
              "      <th>2</th>\n",
              "      <td>BENIT_Client IP2 : 203.225.82.146, user_no : n...</td>\n",
              "    </tr>\n",
              "    <tr>\n",
              "      <th>3</th>\n",
              "      <td>BENIT_Client IP2 : 203.225.82.146, user_no : n...</td>\n",
              "    </tr>\n",
              "    <tr>\n",
              "      <th>4</th>\n",
              "      <td>BENIT_Client IP1 : 203.225.82.146, user_no : n...</td>\n",
              "    </tr>\n",
              "  </tbody>\n",
              "</table>\n",
              "</div>"
            ],
            "text/plain": [
              "                                             Content\n",
              "0  BENIT_Client IP1 : 114.119.158.142, user_no : ...\n",
              "1  BENIT_Client IP2 : 114.119.158.142, user_no : ...\n",
              "2  BENIT_Client IP2 : 203.225.82.146, user_no : n...\n",
              "3  BENIT_Client IP2 : 203.225.82.146, user_no : n...\n",
              "4  BENIT_Client IP1 : 203.225.82.146, user_no : n..."
            ]
          },
          "metadata": {
            "tags": []
          },
          "execution_count": 199
        }
      ]
    },
    {
      "cell_type": "code",
      "metadata": {
        "colab": {
          "base_uri": "https://localhost:8080/"
        },
        "id": "maorJjkrnTqC",
        "outputId": "9ff68eed-9d4d-4776-acc7-4c44a1640a46"
      },
      "source": [
        "import nltk\r\n",
        "nltk.download('punkt')"
      ],
      "execution_count": 200,
      "outputs": [
        {
          "output_type": "stream",
          "text": [
            "[nltk_data] Downloading package punkt to /root/nltk_data...\n",
            "[nltk_data]   Package punkt is already up-to-date!\n"
          ],
          "name": "stdout"
        },
        {
          "output_type": "execute_result",
          "data": {
            "text/plain": [
              "True"
            ]
          },
          "metadata": {
            "tags": []
          },
          "execution_count": 200
        }
      ]
    },
    {
      "cell_type": "code",
      "metadata": {
        "colab": {
          "base_uri": "https://localhost:8080/",
          "height": 204
        },
        "id": "-ViQ_qjfnTqD",
        "outputId": "39b84ea1-fcc7-4a83-9d9f-57eb37028f20"
      },
      "source": [
        "# 토큰화\r\n",
        "text['Content'] = text.apply(lambda row: nltk.word_tokenize(row['Content']), axis=1)\r\n",
        "text.head()"
      ],
      "execution_count": 201,
      "outputs": [
        {
          "output_type": "execute_result",
          "data": {
            "text/html": [
              "<div>\n",
              "<style scoped>\n",
              "    .dataframe tbody tr th:only-of-type {\n",
              "        vertical-align: middle;\n",
              "    }\n",
              "\n",
              "    .dataframe tbody tr th {\n",
              "        vertical-align: top;\n",
              "    }\n",
              "\n",
              "    .dataframe thead th {\n",
              "        text-align: right;\n",
              "    }\n",
              "</style>\n",
              "<table border=\"1\" class=\"dataframe\">\n",
              "  <thead>\n",
              "    <tr style=\"text-align: right;\">\n",
              "      <th></th>\n",
              "      <th>Content</th>\n",
              "    </tr>\n",
              "  </thead>\n",
              "  <tbody>\n",
              "    <tr>\n",
              "      <th>0</th>\n",
              "      <td>[BENIT_Client, IP1, :, 114.119.158.142, ,, use...</td>\n",
              "    </tr>\n",
              "    <tr>\n",
              "      <th>1</th>\n",
              "      <td>[BENIT_Client, IP2, :, 114.119.158.142, ,, use...</td>\n",
              "    </tr>\n",
              "    <tr>\n",
              "      <th>2</th>\n",
              "      <td>[BENIT_Client, IP2, :, 203.225.82.146, ,, user...</td>\n",
              "    </tr>\n",
              "    <tr>\n",
              "      <th>3</th>\n",
              "      <td>[BENIT_Client, IP2, :, 203.225.82.146, ,, user...</td>\n",
              "    </tr>\n",
              "    <tr>\n",
              "      <th>4</th>\n",
              "      <td>[BENIT_Client, IP1, :, 203.225.82.146, ,, user...</td>\n",
              "    </tr>\n",
              "  </tbody>\n",
              "</table>\n",
              "</div>"
            ],
            "text/plain": [
              "                                             Content\n",
              "0  [BENIT_Client, IP1, :, 114.119.158.142, ,, use...\n",
              "1  [BENIT_Client, IP2, :, 114.119.158.142, ,, use...\n",
              "2  [BENIT_Client, IP2, :, 203.225.82.146, ,, user...\n",
              "3  [BENIT_Client, IP2, :, 203.225.82.146, ,, user...\n",
              "4  [BENIT_Client, IP1, :, 203.225.82.146, ,, user..."
            ]
          },
          "metadata": {
            "tags": []
          },
          "execution_count": 201
        }
      ]
    },
    {
      "cell_type": "code",
      "metadata": {
        "colab": {
          "base_uri": "https://localhost:8080/"
        },
        "id": "h34Wg9fJnTqE",
        "outputId": "01c2c45d-6688-46c9-bd80-35697d5e5143"
      },
      "source": [
        "from nltk.corpus import stopwords\r\n",
        "nltk.download('stopwords')"
      ],
      "execution_count": 202,
      "outputs": [
        {
          "output_type": "stream",
          "text": [
            "[nltk_data] Downloading package stopwords to /root/nltk_data...\n",
            "[nltk_data]   Package stopwords is already up-to-date!\n"
          ],
          "name": "stdout"
        },
        {
          "output_type": "execute_result",
          "data": {
            "text/plain": [
              "True"
            ]
          },
          "metadata": {
            "tags": []
          },
          "execution_count": 202
        }
      ]
    },
    {
      "cell_type": "code",
      "metadata": {
        "colab": {
          "base_uri": "https://localhost:8080/",
          "height": 204
        },
        "id": "YaRo242NnTqE",
        "outputId": "ff7d9cf5-bf41-49e9-cace-80f2bb2485b8"
      },
      "source": [
        "# 불용어 처리\r\n",
        "stop = stopwords.words('english')\r\n",
        "text['Content'] = text['Content'].apply(lambda x: [word for word in x if word not in (stop)])\r\n",
        "text.head()"
      ],
      "execution_count": 203,
      "outputs": [
        {
          "output_type": "execute_result",
          "data": {
            "text/html": [
              "<div>\n",
              "<style scoped>\n",
              "    .dataframe tbody tr th:only-of-type {\n",
              "        vertical-align: middle;\n",
              "    }\n",
              "\n",
              "    .dataframe tbody tr th {\n",
              "        vertical-align: top;\n",
              "    }\n",
              "\n",
              "    .dataframe thead th {\n",
              "        text-align: right;\n",
              "    }\n",
              "</style>\n",
              "<table border=\"1\" class=\"dataframe\">\n",
              "  <thead>\n",
              "    <tr style=\"text-align: right;\">\n",
              "      <th></th>\n",
              "      <th>Content</th>\n",
              "    </tr>\n",
              "  </thead>\n",
              "  <tbody>\n",
              "    <tr>\n",
              "      <th>0</th>\n",
              "      <td>[BENIT_Client, IP1, :, 114.119.158.142, ,, use...</td>\n",
              "    </tr>\n",
              "    <tr>\n",
              "      <th>1</th>\n",
              "      <td>[BENIT_Client, IP2, :, 114.119.158.142, ,, use...</td>\n",
              "    </tr>\n",
              "    <tr>\n",
              "      <th>2</th>\n",
              "      <td>[BENIT_Client, IP2, :, 203.225.82.146, ,, user...</td>\n",
              "    </tr>\n",
              "    <tr>\n",
              "      <th>3</th>\n",
              "      <td>[BENIT_Client, IP2, :, 203.225.82.146, ,, user...</td>\n",
              "    </tr>\n",
              "    <tr>\n",
              "      <th>4</th>\n",
              "      <td>[BENIT_Client, IP1, :, 203.225.82.146, ,, user...</td>\n",
              "    </tr>\n",
              "  </tbody>\n",
              "</table>\n",
              "</div>"
            ],
            "text/plain": [
              "                                             Content\n",
              "0  [BENIT_Client, IP1, :, 114.119.158.142, ,, use...\n",
              "1  [BENIT_Client, IP2, :, 114.119.158.142, ,, use...\n",
              "2  [BENIT_Client, IP2, :, 203.225.82.146, ,, user...\n",
              "3  [BENIT_Client, IP2, :, 203.225.82.146, ,, user...\n",
              "4  [BENIT_Client, IP1, :, 203.225.82.146, ,, user..."
            ]
          },
          "metadata": {
            "tags": []
          },
          "execution_count": 203
        }
      ]
    },
    {
      "cell_type": "code",
      "metadata": {
        "colab": {
          "base_uri": "https://localhost:8080/"
        },
        "id": "8LB_eoFLnTqF",
        "outputId": "a208ef01-4db9-4767-a086-4c1ebe9857ad"
      },
      "source": [
        "nltk.download('wordnet')"
      ],
      "execution_count": 204,
      "outputs": [
        {
          "output_type": "stream",
          "text": [
            "[nltk_data] Downloading package wordnet to /root/nltk_data...\n",
            "[nltk_data]   Package wordnet is already up-to-date!\n"
          ],
          "name": "stdout"
        },
        {
          "output_type": "execute_result",
          "data": {
            "text/plain": [
              "True"
            ]
          },
          "metadata": {
            "tags": []
          },
          "execution_count": 204
        }
      ]
    },
    {
      "cell_type": "code",
      "metadata": {
        "colab": {
          "base_uri": "https://localhost:8080/",
          "height": 204
        },
        "id": "rLFKBdVEnTqF",
        "outputId": "c2eef62e-6b0e-44d7-e55a-275af024e1b7"
      },
      "source": [
        "# 표제어 추출\r\n",
        "from nltk.stem import WordNetLemmatizer\r\n",
        "text['Content'] = text['Content'].apply(lambda x : [WordNetLemmatizer().lemmatize(word, pos='v') for word in x])\r\n",
        "text.head()"
      ],
      "execution_count": 205,
      "outputs": [
        {
          "output_type": "execute_result",
          "data": {
            "text/html": [
              "<div>\n",
              "<style scoped>\n",
              "    .dataframe tbody tr th:only-of-type {\n",
              "        vertical-align: middle;\n",
              "    }\n",
              "\n",
              "    .dataframe tbody tr th {\n",
              "        vertical-align: top;\n",
              "    }\n",
              "\n",
              "    .dataframe thead th {\n",
              "        text-align: right;\n",
              "    }\n",
              "</style>\n",
              "<table border=\"1\" class=\"dataframe\">\n",
              "  <thead>\n",
              "    <tr style=\"text-align: right;\">\n",
              "      <th></th>\n",
              "      <th>Content</th>\n",
              "    </tr>\n",
              "  </thead>\n",
              "  <tbody>\n",
              "    <tr>\n",
              "      <th>0</th>\n",
              "      <td>[BENIT_Client, IP1, :, 114.119.158.142, ,, use...</td>\n",
              "    </tr>\n",
              "    <tr>\n",
              "      <th>1</th>\n",
              "      <td>[BENIT_Client, IP2, :, 114.119.158.142, ,, use...</td>\n",
              "    </tr>\n",
              "    <tr>\n",
              "      <th>2</th>\n",
              "      <td>[BENIT_Client, IP2, :, 203.225.82.146, ,, user...</td>\n",
              "    </tr>\n",
              "    <tr>\n",
              "      <th>3</th>\n",
              "      <td>[BENIT_Client, IP2, :, 203.225.82.146, ,, user...</td>\n",
              "    </tr>\n",
              "    <tr>\n",
              "      <th>4</th>\n",
              "      <td>[BENIT_Client, IP1, :, 203.225.82.146, ,, user...</td>\n",
              "    </tr>\n",
              "  </tbody>\n",
              "</table>\n",
              "</div>"
            ],
            "text/plain": [
              "                                             Content\n",
              "0  [BENIT_Client, IP1, :, 114.119.158.142, ,, use...\n",
              "1  [BENIT_Client, IP2, :, 114.119.158.142, ,, use...\n",
              "2  [BENIT_Client, IP2, :, 203.225.82.146, ,, user...\n",
              "3  [BENIT_Client, IP2, :, 203.225.82.146, ,, user...\n",
              "4  [BENIT_Client, IP1, :, 203.225.82.146, ,, user..."
            ]
          },
          "metadata": {
            "tags": []
          },
          "execution_count": 205
        }
      ]
    },
    {
      "cell_type": "code",
      "metadata": {
        "colab": {
          "base_uri": "https://localhost:8080/"
        },
        "id": "Bx3bvVk4nTqG",
        "outputId": "d453143e-1afe-4843-ecd4-e1f741f72dbf"
      },
      "source": [
        "# 일정 길이 이하 단어 삭제 \r\n",
        "tokenized_doc = text['Content'].apply(lambda x : [word for word in x if len(word) > 3])\r\n",
        "tokenized_doc[:5]"
      ],
      "execution_count": 206,
      "outputs": [
        {
          "output_type": "execute_result",
          "data": {
            "text/plain": [
              "0    [BENIT_Client, 114.119.158.142, user_no, null,...\n",
              "1    [BENIT_Client, 114.119.158.142, user_no, null,...\n",
              "2    [BENIT_Client, 203.225.82.146, user_no, null, ...\n",
              "3    [BENIT_Client, 203.225.82.146, user_no, null, ...\n",
              "4    [BENIT_Client, 203.225.82.146, user_no, null, ...\n",
              "Name: Content, dtype: object"
            ]
          },
          "metadata": {
            "tags": []
          },
          "execution_count": 206
        }
      ]
    },
    {
      "cell_type": "code",
      "metadata": {
        "id": "QUPQMwe-nTqH"
      },
      "source": [
        "data = [i for i in tokenized_doc]"
      ],
      "execution_count": 207,
      "outputs": []
    },
    {
      "cell_type": "code",
      "metadata": {
        "id": "DkpFqB8NnTqH"
      },
      "source": [
        "id2word = corpora.Dictionary(data)"
      ],
      "execution_count": 208,
      "outputs": []
    },
    {
      "cell_type": "code",
      "metadata": {
        "id": "w-haT03_nTqH"
      },
      "source": [
        "corpus = [id2word.doc2bow(text) for text in data]"
      ],
      "execution_count": 209,
      "outputs": []
    },
    {
      "cell_type": "code",
      "metadata": {
        "colab": {
          "base_uri": "https://localhost:8080/"
        },
        "id": "B25Ti-j6nTqI",
        "outputId": "53d4be63-abd3-4901-b949-b7218c579c1f"
      },
      "source": [
        "print(corpus[:1])"
      ],
      "execution_count": 210,
      "outputs": [
        {
          "output_type": "stream",
          "text": [
            "[[(0, 1), (1, 2), (2, 1), (3, 1), (4, 1), (5, 2), (6, 1), (7, 1), (8, 1), (9, 1), (10, 1), (11, 1), (12, 1), (13, 1), (14, 1), (15, 1)]]\n"
          ],
          "name": "stdout"
        }
      ]
    },
    {
      "cell_type": "code",
      "metadata": {
        "id": "lP3ejVwenTqI"
      },
      "source": [
        "import warnings \r\n",
        "warnings.filterwarnings('ignore')"
      ],
      "execution_count": 211,
      "outputs": []
    },
    {
      "cell_type": "code",
      "metadata": {
        "id": "1Hv55PcmnTqJ"
      },
      "source": [
        "lda_model = gensim.models.ldamodel.LdaModel(corpus = corpus,\r\n",
        "                                            id2word = id2word,\r\n",
        "                                            num_topics = 10,\r\n",
        "                                            random_state = 100,\r\n",
        "                                            update_every =1,\r\n",
        "                                            chunksize = 100,\r\n",
        "                                            passes = 10,\r\n",
        "                                            alpha= 'auto',\r\n",
        "                                            per_word_topics = True\r\n",
        "                                            )"
      ],
      "execution_count": 212,
      "outputs": []
    },
    {
      "cell_type": "code",
      "metadata": {
        "colab": {
          "base_uri": "https://localhost:8080/"
        },
        "id": "qnsyKOB_nTqJ",
        "outputId": "22cfefa2-d412-4190-fa50-4de45e8238af"
      },
      "source": [
        "pprint(lda_model.print_topics())\r\n",
        "doc_lda = lda_model[corpus]"
      ],
      "execution_count": 213,
      "outputs": [
        {
          "output_type": "stream",
          "text": [
            "[(0,\n",
            "  '0.076*\"create_time\" + 0.076*\"session_id\" + 0.076*\"last_access_time\" + '\n",
            "  '0.076*\"is_new\" + 0.076*\"1800\" + 0.076*\"interval_time\" + 0.076*\"user_no\" + '\n",
            "  '0.076*\"BENIT_Client\" + 0.053*\"20201231\" + 0.051*\"null\"'),\n",
            " (1,\n",
            "  '0.032*\"null\" + 0.031*\"like\" + 0.030*\"BENIT_Client\" + 0.030*\"user_no\" + '\n",
            "  '0.030*\"application/xml\" + 0.030*\"Header\" + 0.030*\"Connection=Keep-Alive\" + '\n",
            "  '0.030*\"X-WebLogic-KeepAliveSecs=30\" + 0.030*\"Info\" + '\n",
            "  '0.030*\"Host=dream.kolon.com\"'),\n",
            " (2,\n",
            "  '0.092*\"10.0\" + 0.079*\"Windows\" + 0.079*\"-1502104144\" + 0.071*\"Win64\" + '\n",
            "  '0.041*\"image/avif\" + 0.032*\"SSCSID=MR21\" + 0.030*\"q=0.01\" + '\n",
            "  '0.030*\"charset=UTF-8\" + 0.030*\"X-Requested-With=XMLHttpRequest\" + '\n",
            "  '0.022*\"Sec-Fetch-Dest=empty\"'),\n",
            " (3,\n",
            "  '0.023*\"iPhone\" + 0.019*\"Accept-Language=en-US\" + '\n",
            "  '0.016*\"Accept-Language=ko-kr\" + 0.016*\"AppleWebKit/605.1.15\" + '\n",
            "  '0.011*\"114.119.134.10\" + 0.011*\"Mobile/15E148\" + 0.011*\"12:14:23\" + '\n",
            "  '0.010*\"27.113.11.232\" + 0.010*\"1609341263980\" + '\n",
            "  '0.010*\"Fvm0NuBsqLQP0veRtzLa2yuagQ76fQLEGSqeG8S4imKZRxjKjla3\"'),\n",
            " (4,\n",
            "  '0.229*\"1549373300\" + 0.122*\"20201230\" + 0.013*\"1609333810169\" + '\n",
            "  '0.013*\"notionplus\" + 0.013*\"naver.com_20201230221138\" + '\n",
            "  '0.013*\"EyKzxSP5oFuMof5cB-t3l3xQGBF2bxwqNqKLU2hvLuFCe2d8N1to\" + '\n",
            "  '0.013*\"58.236.104.117\" + 0.010*\"221.141.150.118\" + '\n",
            "  '0.010*\"1ea0CqnvBySEeL_bvbvjmFkJUyfpFbxuBXCzJO0REUZQgAZwKF89\" + '\n",
            "  '0.010*\"1609338366447\"'),\n",
            " (5,\n",
            "  '0.072*\"java.lang.NullPointerException\" + '\n",
            "  '0.034*\"com.thinkm.mink.commons.exection.MinkException\" + 0.034*\"fail\" + '\n",
            "  '0.034*\"AUTHENTICATE\" + 0.027*\"server\" + 0.027*\"mail\" + 0.025*\"Caused\" + '\n",
            "  '0.023*\"failure\" + 0.023*\"connection\" + 0.023*\"-499\"'),\n",
            " (6,\n",
            "  '0.051*\"User-Agent=Mozilla/5.0\" + 0.048*\"Gecko\" + 0.048*\"like\" + '\n",
            "  '0.048*\"Trident/7.0\" + 0.048*\"rv:11.0\" + 0.043*\"Referer=https\" + '\n",
            "  '0.037*\"Windows\" + 0.030*\"Accept-Language=ko\" + 0.026*\"image/jxr\" + '\n",
            "  '0.025*\"Accept-Language=ko-KR\"'),\n",
            " (7,\n",
            "  '0.189*\"20201230\" + 0.123*\"-41027595\" + 0.031*\"SSCSID=MR22\" + '\n",
            "  '0.020*\"X-WebLogic-Force-JVMID=-41027595\" + 0.010*\"121.158.254.79\" + '\n",
            "  '0.009*\"naver.com_20201230220554\" + 0.009*\"ges72229\" + '\n",
            "  '0.008*\"vg20DvYyP6L1YztIbFkfQsHrxElQdr0jO-6siiwNIecXqNIcCy-q\" + '\n",
            "  '0.008*\"1609338648114\" + 0.008*\"203.243.50.47\"'),\n",
            " (8,\n",
            "  '0.057*\"Connection=Keep-Alive\" + 0.057*\"X-WebLogic-KeepAliveSecs=30\" + '\n",
            "  '0.057*\"Info\" + 0.057*\"Header\" + 0.057*\"BENIT_Client\" + 0.057*\"user_no\" + '\n",
            "  '0.057*\"Host=dream.kolon.com\" + 0.057*\"deflate\" + '\n",
            "  '0.057*\"Accept-Encoding=gzip\" + 0.052*\"Accept=text/html\"'),\n",
            " (9,\n",
            "  '0.054*\"q=0.9\" + 0.038*\"q=0.8\" + 0.023*\"like\" + 0.023*\"Referer=https\" + '\n",
            "  '0.022*\"Gecko\" + 0.022*\"KHTML\" + 0.022*\"User-Agent=Mozilla/5.0\" + '\n",
            "  '0.022*\"Safari/537.36\" + 0.022*\"AppleWebKit/537.36\" + '\n",
            "  '0.021*\"Sec-Fetch-Site=same-origin\"')]\n"
          ],
          "name": "stdout"
        }
      ]
    },
    {
      "cell_type": "markdown",
      "metadata": {
        "id": "aBnDTITEnTqJ"
      },
      "source": [
        "결과 정리"
      ]
    },
    {
      "cell_type": "code",
      "metadata": {
        "id": "sBP51b5fnTqN"
      },
      "source": [
        "_1st = [(0,\r\n",
        "  '0.076*\"create_time\" + 0.076*\"session_id\" + 0.076*\"last_access_time\" + '\r\n",
        "  '0.076*\"is_new\" + 0.076*\"1800\" + 0.076*\"interval_time\" + 0.076*\"user_no\" + '\r\n",
        "  '0.076*\"BENIT_Client\" + 0.053*\"20201231\" + 0.051*\"null\"'),\r\n",
        " (1,\r\n",
        "  '0.032*\"null\" + 0.031*\"like\" + 0.030*\"BENIT_Client\" + 0.030*\"user_no\" + '\r\n",
        "  '0.030*\"application/xml\" + 0.030*\"Header\" + 0.030*\"Connection=Keep-Alive\" + '\r\n",
        "  '0.030*\"X-WebLogic-KeepAliveSecs=30\" + 0.030*\"Info\" + '\r\n",
        "  '0.030*\"Host=dream.kolon.com\"'),\r\n",
        " (2,\r\n",
        "  '0.092*\"10.0\" + 0.079*\"Windows\" + 0.079*\"-1502104144\" + 0.071*\"Win64\" + '\r\n",
        "  '0.041*\"image/avif\" + 0.032*\"SSCSID=MR21\" + 0.030*\"q=0.01\" + '\r\n",
        "  '0.030*\"charset=UTF-8\" + 0.030*\"X-Requested-With=XMLHttpRequest\" + '\r\n",
        "  '0.022*\"Sec-Fetch-Dest=empty\"'),\r\n",
        " (3,\r\n",
        "  '0.023*\"iPhone\" + 0.019*\"Accept-Language=en-US\" + '\r\n",
        "  '0.016*\"Accept-Language=ko-kr\" + 0.016*\"AppleWebKit/605.1.15\" + '\r\n",
        "  '0.011*\"114.119.134.10\" + 0.011*\"Mobile/15E148\" + 0.011*\"12:14:23\" + '\r\n",
        "  '0.010*\"27.113.11.232\" + 0.010*\"1609341263980\" + '\r\n",
        "  '0.010*\"Fvm0NuBsqLQP0veRtzLa2yuagQ76fQLEGSqeG8S4imKZRxjKjla3\"'),\r\n",
        " (4,\r\n",
        "  '0.229*\"1549373300\" + 0.122*\"20201230\" + 0.013*\"1609333810169\" + '\r\n",
        "  '0.013*\"notionplus\" + 0.013*\"naver.com_20201230221138\" + '\r\n",
        "  '0.013*\"EyKzxSP5oFuMof5cB-t3l3xQGBF2bxwqNqKLU2hvLuFCe2d8N1to\" + '\r\n",
        "  '0.013*\"58.236.104.117\" + 0.010*\"221.141.150.118\" + '\r\n",
        "  '0.010*\"1ea0CqnvBySEeL_bvbvjmFkJUyfpFbxuBXCzJO0REUZQgAZwKF89\" + '\r\n",
        "  '0.010*\"1609338366447\"'),\r\n",
        " (5,\r\n",
        "  '0.072*\"java.lang.NullPointerException\" + '\r\n",
        "  '0.034*\"com.thinkm.mink.commons.exection.MinkException\" + 0.034*\"fail\" + '\r\n",
        "  '0.034*\"AUTHENTICATE\" + 0.027*\"server\" + 0.027*\"mail\" + 0.025*\"Caused\" + '\r\n",
        "  '0.023*\"failure\" + 0.023*\"connection\" + 0.023*\"-499\"'),\r\n",
        " (6,\r\n",
        "  '0.051*\"User-Agent=Mozilla/5.0\" + 0.048*\"Gecko\" + 0.048*\"like\" + '\r\n",
        "  '0.048*\"Trident/7.0\" + 0.048*\"rv:11.0\" + 0.043*\"Referer=https\" + '\r\n",
        "  '0.037*\"Windows\" + 0.030*\"Accept-Language=ko\" + 0.026*\"image/jxr\" + '\r\n",
        "  '0.025*\"Accept-Language=ko-KR\"'),\r\n",
        " (7,\r\n",
        "  '0.189*\"20201230\" + 0.123*\"-41027595\" + 0.031*\"SSCSID=MR22\" + '\r\n",
        "  '0.020*\"X-WebLogic-Force-JVMID=-41027595\" + 0.010*\"121.158.254.79\" + '\r\n",
        "  '0.009*\"naver.com_20201230220554\" + 0.009*\"ges72229\" + '\r\n",
        "  '0.008*\"vg20DvYyP6L1YztIbFkfQsHrxElQdr0jO-6siiwNIecXqNIcCy-q\" + '\r\n",
        "  '0.008*\"1609338648114\" + 0.008*\"203.243.50.47\"'),\r\n",
        " (8,\r\n",
        "  '0.057*\"Connection=Keep-Alive\" + 0.057*\"X-WebLogic-KeepAliveSecs=30\" + '\r\n",
        "  '0.057*\"Info\" + 0.057*\"Header\" + 0.057*\"BENIT_Client\" + 0.057*\"user_no\" + '\r\n",
        "  '0.057*\"Host=dream.kolon.com\" + 0.057*\"deflate\" + '\r\n",
        "  '0.057*\"Accept-Encoding=gzip\" + 0.052*\"Accept=text/html\"'),\r\n",
        " (9,\r\n",
        "  '0.054*\"q=0.9\" + 0.038*\"q=0.8\" + 0.023*\"like\" + 0.023*\"Referer=https\" + '\r\n",
        "  '0.022*\"Gecko\" + 0.022*\"KHTML\" + 0.022*\"User-Agent=Mozilla/5.0\" + '\r\n",
        "  '0.022*\"Safari/537.36\" + 0.022*\"AppleWebKit/537.36\" + '\r\n",
        "  '0.021*\"Sec-Fetch-Site=same-origin\"')]"
      ],
      "execution_count": 219,
      "outputs": []
    },
    {
      "cell_type": "code",
      "metadata": {
        "id": "buhhcc0tnTqO"
      },
      "source": [
        "result_df_1 = pd.DataFrame([i[1].split(' + ') for i in _1st])"
      ],
      "execution_count": 220,
      "outputs": []
    },
    {
      "cell_type": "code",
      "metadata": {
        "id": "9fYzBzsXnTqP"
      },
      "source": [
        "for i in result_df_1:\r\n",
        "  result_df_1['{}_rate'.format(i)]=result_df_1[i].str[:5]\r\n",
        "  result_df_1[i]= result_df_1[i].str[6:]"
      ],
      "execution_count": 221,
      "outputs": []
    },
    {
      "cell_type": "code",
      "metadata": {
        "id": "zHIdDs3cnTqP"
      },
      "source": [
        "temp = []\r\n",
        "for i in range(10):\r\n",
        "  temp += ['{}_rate'.format(i), i]"
      ],
      "execution_count": 222,
      "outputs": []
    },
    {
      "cell_type": "code",
      "metadata": {
        "id": "tmZosxlsnTqP"
      },
      "source": [
        "result_df_1 = result_df_1[temp]"
      ],
      "execution_count": 223,
      "outputs": []
    },
    {
      "cell_type": "markdown",
      "metadata": {
        "id": "S4AckyevnTqQ"
      },
      "source": [
        "결과 확인"
      ]
    },
    {
      "cell_type": "code",
      "metadata": {
        "colab": {
          "base_uri": "https://localhost:8080/",
          "height": 464
        },
        "id": "L1sORVtWnTqQ",
        "outputId": "63eda4fe-5ed9-4662-ce01-2236abe83610"
      },
      "source": [
        "result_df_1"
      ],
      "execution_count": 224,
      "outputs": [
        {
          "output_type": "execute_result",
          "data": {
            "text/html": [
              "<div>\n",
              "<style scoped>\n",
              "    .dataframe tbody tr th:only-of-type {\n",
              "        vertical-align: middle;\n",
              "    }\n",
              "\n",
              "    .dataframe tbody tr th {\n",
              "        vertical-align: top;\n",
              "    }\n",
              "\n",
              "    .dataframe thead th {\n",
              "        text-align: right;\n",
              "    }\n",
              "</style>\n",
              "<table border=\"1\" class=\"dataframe\">\n",
              "  <thead>\n",
              "    <tr style=\"text-align: right;\">\n",
              "      <th></th>\n",
              "      <th>0_rate</th>\n",
              "      <th>0</th>\n",
              "      <th>1_rate</th>\n",
              "      <th>1</th>\n",
              "      <th>2_rate</th>\n",
              "      <th>2</th>\n",
              "      <th>3_rate</th>\n",
              "      <th>3</th>\n",
              "      <th>4_rate</th>\n",
              "      <th>4</th>\n",
              "      <th>5_rate</th>\n",
              "      <th>5</th>\n",
              "      <th>6_rate</th>\n",
              "      <th>6</th>\n",
              "      <th>7_rate</th>\n",
              "      <th>7</th>\n",
              "      <th>8_rate</th>\n",
              "      <th>8</th>\n",
              "      <th>9_rate</th>\n",
              "      <th>9</th>\n",
              "    </tr>\n",
              "  </thead>\n",
              "  <tbody>\n",
              "    <tr>\n",
              "      <th>0</th>\n",
              "      <td>0.076</td>\n",
              "      <td>\"create_time\"</td>\n",
              "      <td>0.076</td>\n",
              "      <td>\"session_id\"</td>\n",
              "      <td>0.076</td>\n",
              "      <td>\"last_access_time\"</td>\n",
              "      <td>0.076</td>\n",
              "      <td>\"is_new\"</td>\n",
              "      <td>0.076</td>\n",
              "      <td>\"1800\"</td>\n",
              "      <td>0.076</td>\n",
              "      <td>\"interval_time\"</td>\n",
              "      <td>0.076</td>\n",
              "      <td>\"user_no\"</td>\n",
              "      <td>0.076</td>\n",
              "      <td>\"BENIT_Client\"</td>\n",
              "      <td>0.053</td>\n",
              "      <td>\"20201231\"</td>\n",
              "      <td>0.051</td>\n",
              "      <td>\"null\"</td>\n",
              "    </tr>\n",
              "    <tr>\n",
              "      <th>1</th>\n",
              "      <td>0.032</td>\n",
              "      <td>\"null\"</td>\n",
              "      <td>0.031</td>\n",
              "      <td>\"like\"</td>\n",
              "      <td>0.030</td>\n",
              "      <td>\"BENIT_Client\"</td>\n",
              "      <td>0.030</td>\n",
              "      <td>\"user_no\"</td>\n",
              "      <td>0.030</td>\n",
              "      <td>\"application/xml\"</td>\n",
              "      <td>0.030</td>\n",
              "      <td>\"Header\"</td>\n",
              "      <td>0.030</td>\n",
              "      <td>\"Connection=Keep-Alive\"</td>\n",
              "      <td>0.030</td>\n",
              "      <td>\"X-WebLogic-KeepAliveSecs=30\"</td>\n",
              "      <td>0.030</td>\n",
              "      <td>\"Info\"</td>\n",
              "      <td>0.030</td>\n",
              "      <td>\"Host=dream.kolon.com\"</td>\n",
              "    </tr>\n",
              "    <tr>\n",
              "      <th>2</th>\n",
              "      <td>0.092</td>\n",
              "      <td>\"10.0\"</td>\n",
              "      <td>0.079</td>\n",
              "      <td>\"Windows\"</td>\n",
              "      <td>0.079</td>\n",
              "      <td>\"-1502104144\"</td>\n",
              "      <td>0.071</td>\n",
              "      <td>\"Win64\"</td>\n",
              "      <td>0.041</td>\n",
              "      <td>\"image/avif\"</td>\n",
              "      <td>0.032</td>\n",
              "      <td>\"SSCSID=MR21\"</td>\n",
              "      <td>0.030</td>\n",
              "      <td>\"q=0.01\"</td>\n",
              "      <td>0.030</td>\n",
              "      <td>\"charset=UTF-8\"</td>\n",
              "      <td>0.030</td>\n",
              "      <td>\"X-Requested-With=XMLHttpRequest\"</td>\n",
              "      <td>0.022</td>\n",
              "      <td>\"Sec-Fetch-Dest=empty\"</td>\n",
              "    </tr>\n",
              "    <tr>\n",
              "      <th>3</th>\n",
              "      <td>0.023</td>\n",
              "      <td>\"iPhone\"</td>\n",
              "      <td>0.019</td>\n",
              "      <td>\"Accept-Language=en-US\"</td>\n",
              "      <td>0.016</td>\n",
              "      <td>\"Accept-Language=ko-kr\"</td>\n",
              "      <td>0.016</td>\n",
              "      <td>\"AppleWebKit/605.1.15\"</td>\n",
              "      <td>0.011</td>\n",
              "      <td>\"114.119.134.10\"</td>\n",
              "      <td>0.011</td>\n",
              "      <td>\"Mobile/15E148\"</td>\n",
              "      <td>0.011</td>\n",
              "      <td>\"12:14:23\"</td>\n",
              "      <td>0.010</td>\n",
              "      <td>\"27.113.11.232\"</td>\n",
              "      <td>0.010</td>\n",
              "      <td>\"1609341263980\"</td>\n",
              "      <td>0.010</td>\n",
              "      <td>\"Fvm0NuBsqLQP0veRtzLa2yuagQ76fQLEGSqeG8S4imKZR...</td>\n",
              "    </tr>\n",
              "    <tr>\n",
              "      <th>4</th>\n",
              "      <td>0.229</td>\n",
              "      <td>\"1549373300\"</td>\n",
              "      <td>0.122</td>\n",
              "      <td>\"20201230\"</td>\n",
              "      <td>0.013</td>\n",
              "      <td>\"1609333810169\"</td>\n",
              "      <td>0.013</td>\n",
              "      <td>\"notionplus\"</td>\n",
              "      <td>0.013</td>\n",
              "      <td>\"naver.com_20201230221138\"</td>\n",
              "      <td>0.013</td>\n",
              "      <td>\"EyKzxSP5oFuMof5cB-t3l3xQGBF2bxwqNqKLU2hvLuFCe...</td>\n",
              "      <td>0.013</td>\n",
              "      <td>\"58.236.104.117\"</td>\n",
              "      <td>0.010</td>\n",
              "      <td>\"221.141.150.118\"</td>\n",
              "      <td>0.010</td>\n",
              "      <td>\"1ea0CqnvBySEeL_bvbvjmFkJUyfpFbxuBXCzJO0REUZQg...</td>\n",
              "      <td>0.010</td>\n",
              "      <td>\"1609338366447\"</td>\n",
              "    </tr>\n",
              "    <tr>\n",
              "      <th>5</th>\n",
              "      <td>0.072</td>\n",
              "      <td>\"java.lang.NullPointerException\"</td>\n",
              "      <td>0.034</td>\n",
              "      <td>\"com.thinkm.mink.commons.exection.MinkException\"</td>\n",
              "      <td>0.034</td>\n",
              "      <td>\"fail\"</td>\n",
              "      <td>0.034</td>\n",
              "      <td>\"AUTHENTICATE\"</td>\n",
              "      <td>0.027</td>\n",
              "      <td>\"server\"</td>\n",
              "      <td>0.027</td>\n",
              "      <td>\"mail\"</td>\n",
              "      <td>0.025</td>\n",
              "      <td>\"Caused\"</td>\n",
              "      <td>0.023</td>\n",
              "      <td>\"failure\"</td>\n",
              "      <td>0.023</td>\n",
              "      <td>\"connection\"</td>\n",
              "      <td>0.023</td>\n",
              "      <td>\"-499\"</td>\n",
              "    </tr>\n",
              "    <tr>\n",
              "      <th>6</th>\n",
              "      <td>0.051</td>\n",
              "      <td>\"User-Agent=Mozilla/5.0\"</td>\n",
              "      <td>0.048</td>\n",
              "      <td>\"Gecko\"</td>\n",
              "      <td>0.048</td>\n",
              "      <td>\"like\"</td>\n",
              "      <td>0.048</td>\n",
              "      <td>\"Trident/7.0\"</td>\n",
              "      <td>0.048</td>\n",
              "      <td>\"rv:11.0\"</td>\n",
              "      <td>0.043</td>\n",
              "      <td>\"Referer=https\"</td>\n",
              "      <td>0.037</td>\n",
              "      <td>\"Windows\"</td>\n",
              "      <td>0.030</td>\n",
              "      <td>\"Accept-Language=ko\"</td>\n",
              "      <td>0.026</td>\n",
              "      <td>\"image/jxr\"</td>\n",
              "      <td>0.025</td>\n",
              "      <td>\"Accept-Language=ko-KR\"</td>\n",
              "    </tr>\n",
              "    <tr>\n",
              "      <th>7</th>\n",
              "      <td>0.189</td>\n",
              "      <td>\"20201230\"</td>\n",
              "      <td>0.123</td>\n",
              "      <td>\"-41027595\"</td>\n",
              "      <td>0.031</td>\n",
              "      <td>\"SSCSID=MR22\"</td>\n",
              "      <td>0.020</td>\n",
              "      <td>\"X-WebLogic-Force-JVMID=-41027595\"</td>\n",
              "      <td>0.010</td>\n",
              "      <td>\"121.158.254.79\"</td>\n",
              "      <td>0.009</td>\n",
              "      <td>\"naver.com_20201230220554\"</td>\n",
              "      <td>0.009</td>\n",
              "      <td>\"ges72229\"</td>\n",
              "      <td>0.008</td>\n",
              "      <td>\"vg20DvYyP6L1YztIbFkfQsHrxElQdr0jO-6siiwNIecXq...</td>\n",
              "      <td>0.008</td>\n",
              "      <td>\"1609338648114\"</td>\n",
              "      <td>0.008</td>\n",
              "      <td>\"203.243.50.47\"</td>\n",
              "    </tr>\n",
              "    <tr>\n",
              "      <th>8</th>\n",
              "      <td>0.057</td>\n",
              "      <td>\"Connection=Keep-Alive\"</td>\n",
              "      <td>0.057</td>\n",
              "      <td>\"X-WebLogic-KeepAliveSecs=30\"</td>\n",
              "      <td>0.057</td>\n",
              "      <td>\"Info\"</td>\n",
              "      <td>0.057</td>\n",
              "      <td>\"Header\"</td>\n",
              "      <td>0.057</td>\n",
              "      <td>\"BENIT_Client\"</td>\n",
              "      <td>0.057</td>\n",
              "      <td>\"user_no\"</td>\n",
              "      <td>0.057</td>\n",
              "      <td>\"Host=dream.kolon.com\"</td>\n",
              "      <td>0.057</td>\n",
              "      <td>\"deflate\"</td>\n",
              "      <td>0.057</td>\n",
              "      <td>\"Accept-Encoding=gzip\"</td>\n",
              "      <td>0.052</td>\n",
              "      <td>\"Accept=text/html\"</td>\n",
              "    </tr>\n",
              "    <tr>\n",
              "      <th>9</th>\n",
              "      <td>0.054</td>\n",
              "      <td>\"q=0.9\"</td>\n",
              "      <td>0.038</td>\n",
              "      <td>\"q=0.8\"</td>\n",
              "      <td>0.023</td>\n",
              "      <td>\"like\"</td>\n",
              "      <td>0.023</td>\n",
              "      <td>\"Referer=https\"</td>\n",
              "      <td>0.022</td>\n",
              "      <td>\"Gecko\"</td>\n",
              "      <td>0.022</td>\n",
              "      <td>\"KHTML\"</td>\n",
              "      <td>0.022</td>\n",
              "      <td>\"User-Agent=Mozilla/5.0\"</td>\n",
              "      <td>0.022</td>\n",
              "      <td>\"Safari/537.36\"</td>\n",
              "      <td>0.022</td>\n",
              "      <td>\"AppleWebKit/537.36\"</td>\n",
              "      <td>0.021</td>\n",
              "      <td>\"Sec-Fetch-Site=same-origin\"</td>\n",
              "    </tr>\n",
              "  </tbody>\n",
              "</table>\n",
              "</div>"
            ],
            "text/plain": [
              "  0_rate  ...                                                  9\n",
              "0  0.076  ...                                             \"null\"\n",
              "1  0.032  ...                             \"Host=dream.kolon.com\"\n",
              "2  0.092  ...                             \"Sec-Fetch-Dest=empty\"\n",
              "3  0.023  ...  \"Fvm0NuBsqLQP0veRtzLa2yuagQ76fQLEGSqeG8S4imKZR...\n",
              "4  0.229  ...                                    \"1609338366447\"\n",
              "5  0.072  ...                                             \"-499\"\n",
              "6  0.051  ...                            \"Accept-Language=ko-KR\"\n",
              "7  0.189  ...                                    \"203.243.50.47\"\n",
              "8  0.057  ...                                 \"Accept=text/html\"\n",
              "9  0.054  ...                       \"Sec-Fetch-Site=same-origin\"\n",
              "\n",
              "[10 rows x 20 columns]"
            ]
          },
          "metadata": {
            "tags": []
          },
          "execution_count": 224
        }
      ]
    },
    {
      "cell_type": "code",
      "metadata": {
        "id": "9PPDOUR6nTqR"
      },
      "source": [
        "result_df_1.to_csv('/content/이벤트로그_lda.csv')"
      ],
      "execution_count": 225,
      "outputs": []
    },
    {
      "cell_type": "markdown",
      "metadata": {
        "id": "FiUrZayUvEvZ"
      },
      "source": [
        "## WAS 로그 1차"
      ]
    },
    {
      "cell_type": "code",
      "metadata": {
        "colab": {
          "base_uri": "https://localhost:8080/",
          "height": 1000
        },
        "id": "YPljPpiuvLFv",
        "outputId": "ea527f16-ac1c-4080-d627-17f864dbb790"
      },
      "source": [
        "df = pd.read_excel('./data/이벤트 목록_waslog1.xls')\r\n",
        "add = pd.read_excel('./data/이벤트 목록_waslog2.xls')\r\n",
        "add2  = pd.read_excel('./data/이벤트 목록_waslog3.xls')\r\n",
        "df = pd.concat([df,add, add2])\r\n",
        "\r\n",
        "df.head()"
      ],
      "execution_count": 226,
      "outputs": [
        {
          "output_type": "execute_result",
          "data": {
            "text/html": [
              "<div>\n",
              "<style scoped>\n",
              "    .dataframe tbody tr th:only-of-type {\n",
              "        vertical-align: middle;\n",
              "    }\n",
              "\n",
              "    .dataframe tbody tr th {\n",
              "        vertical-align: top;\n",
              "    }\n",
              "\n",
              "    .dataframe thead th {\n",
              "        text-align: right;\n",
              "    }\n",
              "</style>\n",
              "<table border=\"1\" class=\"dataframe\">\n",
              "  <thead>\n",
              "    <tr style=\"text-align: right;\">\n",
              "      <th></th>\n",
              "      <th>심각도</th>\n",
              "      <th>발생 일시</th>\n",
              "      <th>그룹경로</th>\n",
              "      <th>시스템명</th>\n",
              "      <th>호스트명</th>\n",
              "      <th>리소스 이름</th>\n",
              "      <th>대상</th>\n",
              "      <th>이벤트 타입</th>\n",
              "      <th>이벤트 소스</th>\n",
              "      <th>상세내용</th>\n",
              "    </tr>\n",
              "  </thead>\n",
              "  <tbody>\n",
              "    <tr>\n",
              "      <th>0</th>\n",
              "      <td>ERROR</td>\n",
              "      <td>2020-12-31 10:30:45</td>\n",
              "      <td>시스템그룹&gt;유통/환경/서비스</td>\n",
              "      <td>kasswas01</td>\n",
              "      <td>kasswas01</td>\n",
              "      <td>[상] [수입차영업지원]-WAS-TomEE-KASS11(203.225.59.171)</td>\n",
              "      <td>시스템그룹&gt;유통/환경/서비스&gt;BNS-KASSWAS01(203.225.59.171)&gt;...</td>\n",
              "      <td>WASExceptionLog</td>\n",
              "      <td>/bsl/fi/bllmng/smrtbllsalesbllmng/controller/S...</td>\n",
              "      <td>warning slow sql, over 30000 ms</td>\n",
              "    </tr>\n",
              "    <tr>\n",
              "      <th>1</th>\n",
              "      <td>ERROR</td>\n",
              "      <td>2020-12-31 10:30:24</td>\n",
              "      <td>시스템그룹&gt;홈페이지</td>\n",
              "      <td>klnweb01</td>\n",
              "      <td>klnweb01</td>\n",
              "      <td>[하] [코오롱베니트  홈페이지]-WAS-Tomcat-KBN_WEB_USER11(2...</td>\n",
              "      <td>시스템그룹&gt;홈페이지&gt;INF-KLNWEB01(203.225.255.108)&gt;klnwe...</td>\n",
              "      <td>WASExceptionLog</td>\n",
              "      <td>/common/11727518.mp4</td>\n",
              "      <td>org.apache.catalina.connector.ClientAbortExcep...</td>\n",
              "    </tr>\n",
              "    <tr>\n",
              "      <th>2</th>\n",
              "      <td>ERROR</td>\n",
              "      <td>2020-12-31 10:29:56</td>\n",
              "      <td>인프라그룹&gt;보안&gt;서버</td>\n",
              "      <td>KII-DOCUWAS1(172.30.153.12)</td>\n",
              "      <td>KII-DOCUWAS1</td>\n",
              "      <td>[상] [문서집중화]-WAS-WebLogic-KIIDOC13(172.30.153.12)</td>\n",
              "      <td>인프라그룹&gt;보안&gt;서버&gt;KII-DOCUWAS1(172.30.153.12)&gt;KII-DO...</td>\n",
              "      <td>WASExceptionLog</td>\n",
              "      <td>/ecm/Servlet/ContentDownload</td>\n",
              "      <td>java.net.ConnectException: Connection refused:...</td>\n",
              "    </tr>\n",
              "    <tr>\n",
              "      <th>3</th>\n",
              "      <td>ERROR</td>\n",
              "      <td>2020-12-31 10:29:46</td>\n",
              "      <td>시스템그룹&gt;베니트</td>\n",
              "      <td>bpoap02</td>\n",
              "      <td>bpoap02</td>\n",
              "      <td>[중] [BPO]-WAS-Tomcat-BPO12(203.225.59.84)</td>\n",
              "      <td>시스템그룹&gt;베니트 &gt;BNT-BPOAP02(203.225.59.84)&gt;bpoap02&gt;...</td>\n",
              "      <td>WASExceptionLog</td>\n",
              "      <td>/bsl/tx/salesexcalcmng/salesexcalcmng/controll...</td>\n",
              "      <td>java.sql.SQLException: ORA-12899: \"BPOADM\".\"AC...</td>\n",
              "    </tr>\n",
              "    <tr>\n",
              "      <th>4</th>\n",
              "      <td>ERROR</td>\n",
              "      <td>2020-12-31 10:29:39</td>\n",
              "      <td>시스템그룹&gt;베니트</td>\n",
              "      <td>bpoap02</td>\n",
              "      <td>bpoap02</td>\n",
              "      <td>[중] [BPO]-WAS-Tomcat-BPO12(203.225.59.84)</td>\n",
              "      <td>시스템그룹&gt;베니트 &gt;BNT-BPOAP02(203.225.59.84)&gt;bpoap02&gt;...</td>\n",
              "      <td>WASExceptionLog</td>\n",
              "      <td>/bsl/tx/salesexcalcmng/salesexcalcmng/controll...</td>\n",
              "      <td>java.sql.SQLException: ORA-12899: \"BPOADM\".\"AC...</td>\n",
              "    </tr>\n",
              "  </tbody>\n",
              "</table>\n",
              "</div>"
            ],
            "text/plain": [
              "     심각도  ...                                               상세내용\n",
              "0  ERROR  ...                    warning slow sql, over 30000 ms\n",
              "1  ERROR  ...  org.apache.catalina.connector.ClientAbortExcep...\n",
              "2  ERROR  ...  java.net.ConnectException: Connection refused:...\n",
              "3  ERROR  ...  java.sql.SQLException: ORA-12899: \"BPOADM\".\"AC...\n",
              "4  ERROR  ...  java.sql.SQLException: ORA-12899: \"BPOADM\".\"AC...\n",
              "\n",
              "[5 rows x 10 columns]"
            ]
          },
          "metadata": {
            "tags": []
          },
          "execution_count": 226
        }
      ]
    },
    {
      "cell_type": "code",
      "metadata": {
        "colab": {
          "base_uri": "https://localhost:8080/",
          "height": 204
        },
        "id": "3HCAO3BrvLFx",
        "outputId": "cd59614e-aeea-4015-ef81-954603071315"
      },
      "source": [
        "text = df[['상세내용']]\r\n",
        "text.columns = ['Content']\r\n",
        "text.head()"
      ],
      "execution_count": 227,
      "outputs": [
        {
          "output_type": "execute_result",
          "data": {
            "text/html": [
              "<div>\n",
              "<style scoped>\n",
              "    .dataframe tbody tr th:only-of-type {\n",
              "        vertical-align: middle;\n",
              "    }\n",
              "\n",
              "    .dataframe tbody tr th {\n",
              "        vertical-align: top;\n",
              "    }\n",
              "\n",
              "    .dataframe thead th {\n",
              "        text-align: right;\n",
              "    }\n",
              "</style>\n",
              "<table border=\"1\" class=\"dataframe\">\n",
              "  <thead>\n",
              "    <tr style=\"text-align: right;\">\n",
              "      <th></th>\n",
              "      <th>Content</th>\n",
              "    </tr>\n",
              "  </thead>\n",
              "  <tbody>\n",
              "    <tr>\n",
              "      <th>0</th>\n",
              "      <td>warning slow sql, over 30000 ms</td>\n",
              "    </tr>\n",
              "    <tr>\n",
              "      <th>1</th>\n",
              "      <td>org.apache.catalina.connector.ClientAbortExcep...</td>\n",
              "    </tr>\n",
              "    <tr>\n",
              "      <th>2</th>\n",
              "      <td>java.net.ConnectException: Connection refused:...</td>\n",
              "    </tr>\n",
              "    <tr>\n",
              "      <th>3</th>\n",
              "      <td>java.sql.SQLException: ORA-12899: \"BPOADM\".\"AC...</td>\n",
              "    </tr>\n",
              "    <tr>\n",
              "      <th>4</th>\n",
              "      <td>java.sql.SQLException: ORA-12899: \"BPOADM\".\"AC...</td>\n",
              "    </tr>\n",
              "  </tbody>\n",
              "</table>\n",
              "</div>"
            ],
            "text/plain": [
              "                                             Content\n",
              "0                    warning slow sql, over 30000 ms\n",
              "1  org.apache.catalina.connector.ClientAbortExcep...\n",
              "2  java.net.ConnectException: Connection refused:...\n",
              "3  java.sql.SQLException: ORA-12899: \"BPOADM\".\"AC...\n",
              "4  java.sql.SQLException: ORA-12899: \"BPOADM\".\"AC..."
            ]
          },
          "metadata": {
            "tags": []
          },
          "execution_count": 227
        }
      ]
    },
    {
      "cell_type": "code",
      "metadata": {
        "colab": {
          "base_uri": "https://localhost:8080/"
        },
        "id": "YTKM7yVivLFy",
        "outputId": "ea2c5ad3-bf4d-4685-ed8c-a354c8a7c9a5"
      },
      "source": [
        "import nltk\r\n",
        "nltk.download('punkt')"
      ],
      "execution_count": 228,
      "outputs": [
        {
          "output_type": "stream",
          "text": [
            "[nltk_data] Downloading package punkt to /root/nltk_data...\n",
            "[nltk_data]   Package punkt is already up-to-date!\n"
          ],
          "name": "stdout"
        },
        {
          "output_type": "execute_result",
          "data": {
            "text/plain": [
              "True"
            ]
          },
          "metadata": {
            "tags": []
          },
          "execution_count": 228
        }
      ]
    },
    {
      "cell_type": "code",
      "metadata": {
        "colab": {
          "base_uri": "https://localhost:8080/",
          "height": 204
        },
        "id": "VhD7sYhevLFy",
        "outputId": "1286a610-db68-4ba4-d312-fcc9045ee898"
      },
      "source": [
        "# 토큰화\r\n",
        "text['Content'] = text.apply(lambda row: nltk.word_tokenize(row['Content']), axis=1)\r\n",
        "text.head()"
      ],
      "execution_count": 229,
      "outputs": [
        {
          "output_type": "execute_result",
          "data": {
            "text/html": [
              "<div>\n",
              "<style scoped>\n",
              "    .dataframe tbody tr th:only-of-type {\n",
              "        vertical-align: middle;\n",
              "    }\n",
              "\n",
              "    .dataframe tbody tr th {\n",
              "        vertical-align: top;\n",
              "    }\n",
              "\n",
              "    .dataframe thead th {\n",
              "        text-align: right;\n",
              "    }\n",
              "</style>\n",
              "<table border=\"1\" class=\"dataframe\">\n",
              "  <thead>\n",
              "    <tr style=\"text-align: right;\">\n",
              "      <th></th>\n",
              "      <th>Content</th>\n",
              "    </tr>\n",
              "  </thead>\n",
              "  <tbody>\n",
              "    <tr>\n",
              "      <th>0</th>\n",
              "      <td>[warning, slow, sql, ,, over, 30000, ms]</td>\n",
              "    </tr>\n",
              "    <tr>\n",
              "      <th>1</th>\n",
              "      <td>[org.apache.catalina.connector.ClientAbortExce...</td>\n",
              "    </tr>\n",
              "    <tr>\n",
              "      <th>2</th>\n",
              "      <td>[java.net.ConnectException, :, Connection, ref...</td>\n",
              "    </tr>\n",
              "    <tr>\n",
              "      <th>3</th>\n",
              "      <td>[java.sql.SQLException, :, ORA-12899, :, ``, B...</td>\n",
              "    </tr>\n",
              "    <tr>\n",
              "      <th>4</th>\n",
              "      <td>[java.sql.SQLException, :, ORA-12899, :, ``, B...</td>\n",
              "    </tr>\n",
              "  </tbody>\n",
              "</table>\n",
              "</div>"
            ],
            "text/plain": [
              "                                             Content\n",
              "0           [warning, slow, sql, ,, over, 30000, ms]\n",
              "1  [org.apache.catalina.connector.ClientAbortExce...\n",
              "2  [java.net.ConnectException, :, Connection, ref...\n",
              "3  [java.sql.SQLException, :, ORA-12899, :, ``, B...\n",
              "4  [java.sql.SQLException, :, ORA-12899, :, ``, B..."
            ]
          },
          "metadata": {
            "tags": []
          },
          "execution_count": 229
        }
      ]
    },
    {
      "cell_type": "code",
      "metadata": {
        "colab": {
          "base_uri": "https://localhost:8080/"
        },
        "id": "uokOHT8cvLFy",
        "outputId": "bc18952e-d660-4bc9-decd-c69656d0ee5f"
      },
      "source": [
        "from nltk.corpus import stopwords\r\n",
        "nltk.download('stopwords')"
      ],
      "execution_count": 230,
      "outputs": [
        {
          "output_type": "stream",
          "text": [
            "[nltk_data] Downloading package stopwords to /root/nltk_data...\n",
            "[nltk_data]   Package stopwords is already up-to-date!\n"
          ],
          "name": "stdout"
        },
        {
          "output_type": "execute_result",
          "data": {
            "text/plain": [
              "True"
            ]
          },
          "metadata": {
            "tags": []
          },
          "execution_count": 230
        }
      ]
    },
    {
      "cell_type": "code",
      "metadata": {
        "colab": {
          "base_uri": "https://localhost:8080/",
          "height": 204
        },
        "id": "4OJZavclvLFz",
        "outputId": "ff0d6a4d-680f-4ea4-ba39-bc089354b381"
      },
      "source": [
        "# 불용어 처리\r\n",
        "stop = stopwords.words('english')\r\n",
        "text['Content'] = text['Content'].apply(lambda x: [word for word in x if word not in (stop)])\r\n",
        "text.head()"
      ],
      "execution_count": 231,
      "outputs": [
        {
          "output_type": "execute_result",
          "data": {
            "text/html": [
              "<div>\n",
              "<style scoped>\n",
              "    .dataframe tbody tr th:only-of-type {\n",
              "        vertical-align: middle;\n",
              "    }\n",
              "\n",
              "    .dataframe tbody tr th {\n",
              "        vertical-align: top;\n",
              "    }\n",
              "\n",
              "    .dataframe thead th {\n",
              "        text-align: right;\n",
              "    }\n",
              "</style>\n",
              "<table border=\"1\" class=\"dataframe\">\n",
              "  <thead>\n",
              "    <tr style=\"text-align: right;\">\n",
              "      <th></th>\n",
              "      <th>Content</th>\n",
              "    </tr>\n",
              "  </thead>\n",
              "  <tbody>\n",
              "    <tr>\n",
              "      <th>0</th>\n",
              "      <td>[warning, slow, sql, ,, 30000, ms]</td>\n",
              "    </tr>\n",
              "    <tr>\n",
              "      <th>1</th>\n",
              "      <td>[org.apache.catalina.connector.ClientAbortExce...</td>\n",
              "    </tr>\n",
              "    <tr>\n",
              "      <th>2</th>\n",
              "      <td>[java.net.ConnectException, :, Connection, ref...</td>\n",
              "    </tr>\n",
              "    <tr>\n",
              "      <th>3</th>\n",
              "      <td>[java.sql.SQLException, :, ORA-12899, :, ``, B...</td>\n",
              "    </tr>\n",
              "    <tr>\n",
              "      <th>4</th>\n",
              "      <td>[java.sql.SQLException, :, ORA-12899, :, ``, B...</td>\n",
              "    </tr>\n",
              "  </tbody>\n",
              "</table>\n",
              "</div>"
            ],
            "text/plain": [
              "                                             Content\n",
              "0                 [warning, slow, sql, ,, 30000, ms]\n",
              "1  [org.apache.catalina.connector.ClientAbortExce...\n",
              "2  [java.net.ConnectException, :, Connection, ref...\n",
              "3  [java.sql.SQLException, :, ORA-12899, :, ``, B...\n",
              "4  [java.sql.SQLException, :, ORA-12899, :, ``, B..."
            ]
          },
          "metadata": {
            "tags": []
          },
          "execution_count": 231
        }
      ]
    },
    {
      "cell_type": "code",
      "metadata": {
        "colab": {
          "base_uri": "https://localhost:8080/"
        },
        "id": "ZyCvh2j5vLFz",
        "outputId": "f3fbc4fb-9aea-41ed-9d88-9bc38693bd57"
      },
      "source": [
        "nltk.download('wordnet')"
      ],
      "execution_count": 232,
      "outputs": [
        {
          "output_type": "stream",
          "text": [
            "[nltk_data] Downloading package wordnet to /root/nltk_data...\n",
            "[nltk_data]   Package wordnet is already up-to-date!\n"
          ],
          "name": "stdout"
        },
        {
          "output_type": "execute_result",
          "data": {
            "text/plain": [
              "True"
            ]
          },
          "metadata": {
            "tags": []
          },
          "execution_count": 232
        }
      ]
    },
    {
      "cell_type": "code",
      "metadata": {
        "colab": {
          "base_uri": "https://localhost:8080/",
          "height": 204
        },
        "id": "Uib_FokGvLFz",
        "outputId": "3151e050-1ce8-4d6a-b66e-be0be84dd498"
      },
      "source": [
        "# 표제어 추출\r\n",
        "from nltk.stem import WordNetLemmatizer\r\n",
        "text['Content'] = text['Content'].apply(lambda x : [WordNetLemmatizer().lemmatize(word, pos='v') for word in x])\r\n",
        "text.head()"
      ],
      "execution_count": 233,
      "outputs": [
        {
          "output_type": "execute_result",
          "data": {
            "text/html": [
              "<div>\n",
              "<style scoped>\n",
              "    .dataframe tbody tr th:only-of-type {\n",
              "        vertical-align: middle;\n",
              "    }\n",
              "\n",
              "    .dataframe tbody tr th {\n",
              "        vertical-align: top;\n",
              "    }\n",
              "\n",
              "    .dataframe thead th {\n",
              "        text-align: right;\n",
              "    }\n",
              "</style>\n",
              "<table border=\"1\" class=\"dataframe\">\n",
              "  <thead>\n",
              "    <tr style=\"text-align: right;\">\n",
              "      <th></th>\n",
              "      <th>Content</th>\n",
              "    </tr>\n",
              "  </thead>\n",
              "  <tbody>\n",
              "    <tr>\n",
              "      <th>0</th>\n",
              "      <td>[warn, slow, sql, ,, 30000, ms]</td>\n",
              "    </tr>\n",
              "    <tr>\n",
              "      <th>1</th>\n",
              "      <td>[org.apache.catalina.connector.ClientAbortExce...</td>\n",
              "    </tr>\n",
              "    <tr>\n",
              "      <th>2</th>\n",
              "      <td>[java.net.ConnectException, :, Connection, ref...</td>\n",
              "    </tr>\n",
              "    <tr>\n",
              "      <th>3</th>\n",
              "      <td>[java.sql.SQLException, :, ORA-12899, :, ``, B...</td>\n",
              "    </tr>\n",
              "    <tr>\n",
              "      <th>4</th>\n",
              "      <td>[java.sql.SQLException, :, ORA-12899, :, ``, B...</td>\n",
              "    </tr>\n",
              "  </tbody>\n",
              "</table>\n",
              "</div>"
            ],
            "text/plain": [
              "                                             Content\n",
              "0                    [warn, slow, sql, ,, 30000, ms]\n",
              "1  [org.apache.catalina.connector.ClientAbortExce...\n",
              "2  [java.net.ConnectException, :, Connection, ref...\n",
              "3  [java.sql.SQLException, :, ORA-12899, :, ``, B...\n",
              "4  [java.sql.SQLException, :, ORA-12899, :, ``, B..."
            ]
          },
          "metadata": {
            "tags": []
          },
          "execution_count": 233
        }
      ]
    },
    {
      "cell_type": "code",
      "metadata": {
        "colab": {
          "base_uri": "https://localhost:8080/"
        },
        "id": "23rMB6PdvLF0",
        "outputId": "292a31b7-46aa-4f4a-8faf-ba438c4ee1ef"
      },
      "source": [
        "# 일정 길이 이하 단어 삭제 \r\n",
        "tokenized_doc = text['Content'].apply(lambda x : [word for word in x if len(word) > 3])\r\n",
        "tokenized_doc[:5]"
      ],
      "execution_count": 234,
      "outputs": [
        {
          "output_type": "execute_result",
          "data": {
            "text/plain": [
              "0                                  [warn, slow, 30000]\n",
              "1    [org.apache.catalina.connector.ClientAbortExce...\n",
              "2    [java.net.ConnectException, Connection, refuse...\n",
              "3    [java.sql.SQLException, ORA-12899, BPOADM, AC_...\n",
              "4    [java.sql.SQLException, ORA-12899, BPOADM, AC_...\n",
              "Name: Content, dtype: object"
            ]
          },
          "metadata": {
            "tags": []
          },
          "execution_count": 234
        }
      ]
    },
    {
      "cell_type": "code",
      "metadata": {
        "id": "kYzkcbe7vLF0"
      },
      "source": [
        "data = [i for i in tokenized_doc]"
      ],
      "execution_count": 235,
      "outputs": []
    },
    {
      "cell_type": "code",
      "metadata": {
        "id": "dvhpPYXGvLF0"
      },
      "source": [
        "id2word = corpora.Dictionary(data)"
      ],
      "execution_count": 236,
      "outputs": []
    },
    {
      "cell_type": "code",
      "metadata": {
        "id": "d07rq0C_vLF1"
      },
      "source": [
        "corpus = [id2word.doc2bow(text) for text in data]"
      ],
      "execution_count": 237,
      "outputs": []
    },
    {
      "cell_type": "code",
      "metadata": {
        "colab": {
          "base_uri": "https://localhost:8080/"
        },
        "id": "o0HapPunvLF1",
        "outputId": "05e08af2-ad3c-48e3-86a9-b9ac1598b6cd"
      },
      "source": [
        "print(corpus[:1])"
      ],
      "execution_count": 238,
      "outputs": [
        {
          "output_type": "stream",
          "text": [
            "[[(0, 1), (1, 1), (2, 1)]]\n"
          ],
          "name": "stdout"
        }
      ]
    },
    {
      "cell_type": "code",
      "metadata": {
        "id": "lL9zRdgwvLF1"
      },
      "source": [
        "import warnings \r\n",
        "warnings.filterwarnings('ignore')"
      ],
      "execution_count": 239,
      "outputs": []
    },
    {
      "cell_type": "code",
      "metadata": {
        "id": "WW3HlxzTvLF2"
      },
      "source": [
        "lda_model = gensim.models.ldamodel.LdaModel(corpus = corpus,\r\n",
        "                                            id2word = id2word,\r\n",
        "                                            num_topics = 10,\r\n",
        "                                            random_state = 100,\r\n",
        "                                            update_every =1,\r\n",
        "                                            chunksize = 100,\r\n",
        "                                            passes = 10,\r\n",
        "                                            alpha= 'auto',\r\n",
        "                                            per_word_topics = True\r\n",
        "                                            )"
      ],
      "execution_count": 240,
      "outputs": []
    },
    {
      "cell_type": "code",
      "metadata": {
        "colab": {
          "base_uri": "https://localhost:8080/"
        },
        "id": "Ak0ymQk_vLF2",
        "outputId": "fd55544c-b781-46d9-82f2-272c878c6123"
      },
      "source": [
        "pprint(lda_model.print_topics())\r\n",
        "doc_lda = lda_model[corpus]"
      ],
      "execution_count": 241,
      "outputs": [
        {
          "output_type": "stream",
          "text": [
            "[(0,\n",
            "  '0.240*\"resultset\" + 0.218*\"10000\" + 0.218*\"warn\" + 0.218*\"many\" + '\n",
            "  '0.020*\"time\" + 0.008*\"발생했습니다\" + 0.008*\"bigint\" + 0.008*\"변환하는\" + '\n",
            "  '0.007*\"nvarchar을\" + 0.004*\"Read\"'),\n",
            " (1,\n",
            "  '0.150*\"connect\" + 0.147*\"java.net.ConnectException\" + 0.147*\"Connection\" + '\n",
            "  '0.146*\"refuse\" + 0.132*\"warn\" + 0.132*\"slow\" + 0.132*\"30000\" + '\n",
            "  '0.003*\"ORA-00001\" + 0.003*\"위배됩니다\" + 0.001*\"KOLONTALKDB_APP.UC_DEVICE_PK\"'),\n",
            " (2,\n",
            "  '0.104*\"invalid\" + 0.103*\"number\" + '\n",
            "  '0.075*\"java.sql.SQLIntegrityConstraintViolationException\" + 0.058*\"없습니다\" + '\n",
            "  '0.047*\"entry\" + 0.047*\"\\'PRIMARY\" + 0.047*\"Duplicate\" + 0.047*\"read\" + '\n",
            "  '0.041*\"\\'3003\" + 0.029*\"java.sql.SQLNonTransientConnectionException\"'),\n",
            " (3,\n",
            "  '0.197*\"java.lang.NullPointerException\" + 0.073*\"java.net.SocketException\" + '\n",
            "  '0.069*\"Broken\" + 0.069*\"pipe\" + 0.054*\"ClientAbortException\" + '\n",
            "  '0.033*\"java.sql.SQLDataException\" + 0.033*\"ORA-01841\" + 0.033*\"-4713\" + '\n",
            "  '0.033*\"+4713\" + 0.033*\"지정해야\"'),\n",
            " (4,\n",
            "  '0.200*\"send\" + 0.199*\"org.apache.catalina.connector.ClientAbortException\" + '\n",
            "  '0.199*\"Failed\" + 0.199*\"java.io.IOException\" + 0.199*\"message\" + '\n",
            "  '0.000*\"81,575,436\" + 0.000*\"81,575,433\" + 0.000*\"client\" + 0.000*\"avoid\" + '\n",
            "  '0.000*\"consider\"'),\n",
            " (5,\n",
            "  '0.142*\"response\" + 0.124*\"java.lang.IllegalStateException\" + 0.107*\"call\" + '\n",
            "  '0.102*\"getOutputStream\" + 0.102*\"already\" + 0.048*\"AddToMap\" + 0.042*\"fail\" '\n",
            "  '+ 0.037*\"nest\" + 0.037*\"exception\" + 0.034*\"process\"'),\n",
            " (6,\n",
            "  '0.123*\"java.sql.SQLSyntaxErrorException\" + 0.053*\"ORA-00905\" + '\n",
            "  '0.049*\"empty\" + 0.044*\"javax.servlet.ServletException\" + 0.032*\"File\" + '\n",
            "  '0.031*\"find\" + 0.031*\"WEB-INF\" + 0.031*\"view\" + 0.031*\"sale\" + '\n",
            "  '0.031*\"vrView.jsp\"'),\n",
            " (7,\n",
            "  '0.250*\"java.sql.SQLException\" + 0.247*\"존재하지\" + 0.247*\"않습니다\" + '\n",
            "  '0.247*\"ORA-00942\" + 0.000*\"RPHONE3\" + 0.000*\"CM_SMS_SEND_M\" + 0.000*\"시퀀스가\" '\n",
            "  '+ 0.000*\"ORA-02289\" + 0.000*\"일치하지\" + 0.000*\"문자열과\"'),\n",
            " (8,\n",
            "  '0.158*\"javax.servlet.ServletException\" + 0.097*\"ORA-01722\" + 0.054*\"error\" '\n",
            "  '+ 0.036*\"com.microsoft.sqlserver.jdbc.SQLServerException\" + 0.031*\"commit\" '\n",
            "  '+ 0.028*\"occur\" + 0.027*\"create\" + 0.025*\"file\" + 0.025*\"호스트에\" + '\n",
            "  '0.025*\"끊겼습니다\"'),\n",
            " (9,\n",
            "  '0.333*\"org.apache.catalina.connector.ClientAbortException\" + '\n",
            "  '0.316*\"java.io.IOException\" + 0.186*\"상대편에\" + 0.112*\"파이프가\" + '\n",
            "  '0.029*\"java.net.SocketTimeoutException\" + 0.001*\"reset\" + 0.001*\"directory\" '\n",
            "  '+ 0.000*\"02월\\\\월보\" + 0.000*\"\\\\Temp\\\\zipTemp\\\\09bc614e81fc3b4b\\\\2017년\" + '\n",
            "  '0.000*\"3월.zip\\\\2017년\"')]\n"
          ],
          "name": "stdout"
        }
      ]
    },
    {
      "cell_type": "markdown",
      "metadata": {
        "id": "89FlF4f-vLF2"
      },
      "source": [
        "결과 정리"
      ]
    },
    {
      "cell_type": "code",
      "metadata": {
        "id": "vhIAaNR7vLF2"
      },
      "source": [
        "_1st = [(0,\r\n",
        "  '0.240*\"resultset\" + 0.218*\"10000\" + 0.218*\"warn\" + 0.218*\"many\" + '\r\n",
        "  '0.020*\"time\" + 0.008*\"발생했습니다\" + 0.008*\"bigint\" + 0.008*\"변환하는\" + '\r\n",
        "  '0.007*\"nvarchar을\" + 0.004*\"Read\"'),\r\n",
        " (1,\r\n",
        "  '0.150*\"connect\" + 0.147*\"java.net.ConnectException\" + 0.147*\"Connection\" + '\r\n",
        "  '0.146*\"refuse\" + 0.132*\"warn\" + 0.132*\"slow\" + 0.132*\"30000\" + '\r\n",
        "  '0.003*\"ORA-00001\" + 0.003*\"위배됩니다\" + 0.001*\"KOLONTALKDB_APP.UC_DEVICE_PK\"'),\r\n",
        " (2,\r\n",
        "  '0.104*\"invalid\" + 0.103*\"number\" + '\r\n",
        "  '0.075*\"java.sql.SQLIntegrityConstraintViolationException\" + 0.058*\"없습니다\" + '\r\n",
        "  '0.047*\"entry\" + 0.047*\"\\'PRIMARY\" + 0.047*\"Duplicate\" + 0.047*\"read\" + '\r\n",
        "  '0.041*\"\\'3003\" + 0.029*\"java.sql.SQLNonTransientConnectionException\"'),\r\n",
        " (3,\r\n",
        "  '0.197*\"java.lang.NullPointerException\" + 0.073*\"java.net.SocketException\" + '\r\n",
        "  '0.069*\"Broken\" + 0.069*\"pipe\" + 0.054*\"ClientAbortException\" + '\r\n",
        "  '0.033*\"java.sql.SQLDataException\" + 0.033*\"ORA-01841\" + 0.033*\"-4713\" + '\r\n",
        "  '0.033*\"+4713\" + 0.033*\"지정해야\"'),\r\n",
        " (4,\r\n",
        "  '0.200*\"send\" + 0.199*\"org.apache.catalina.connector.ClientAbortException\" + '\r\n",
        "  '0.199*\"Failed\" + 0.199*\"java.io.IOException\" + 0.199*\"message\" + '\r\n",
        "  '0.000*\"81,575,436\" + 0.000*\"81,575,433\" + 0.000*\"client\" + 0.000*\"avoid\" + '\r\n",
        "  '0.000*\"consider\"'),\r\n",
        " (5,\r\n",
        "  '0.142*\"response\" + 0.124*\"java.lang.IllegalStateException\" + 0.107*\"call\" + '\r\n",
        "  '0.102*\"getOutputStream\" + 0.102*\"already\" + 0.048*\"AddToMap\" + 0.042*\"fail\" '\r\n",
        "  '+ 0.037*\"nest\" + 0.037*\"exception\" + 0.034*\"process\"'),\r\n",
        " (6,\r\n",
        "  '0.123*\"java.sql.SQLSyntaxErrorException\" + 0.053*\"ORA-00905\" + '\r\n",
        "  '0.049*\"empty\" + 0.044*\"javax.servlet.ServletException\" + 0.032*\"File\" + '\r\n",
        "  '0.031*\"find\" + 0.031*\"WEB-INF\" + 0.031*\"view\" + 0.031*\"sale\" + '\r\n",
        "  '0.031*\"vrView.jsp\"'),\r\n",
        " (7,\r\n",
        "  '0.250*\"java.sql.SQLException\" + 0.247*\"존재하지\" + 0.247*\"않습니다\" + '\r\n",
        "  '0.247*\"ORA-00942\" + 0.000*\"RPHONE3\" + 0.000*\"CM_SMS_SEND_M\" + 0.000*\"시퀀스가\" '\r\n",
        "  '+ 0.000*\"ORA-02289\" + 0.000*\"일치하지\" + 0.000*\"문자열과\"'),\r\n",
        " (8,\r\n",
        "  '0.158*\"javax.servlet.ServletException\" + 0.097*\"ORA-01722\" + 0.054*\"error\" '\r\n",
        "  '+ 0.036*\"com.microsoft.sqlserver.jdbc.SQLServerException\" + 0.031*\"commit\" '\r\n",
        "  '+ 0.028*\"occur\" + 0.027*\"create\" + 0.025*\"file\" + 0.025*\"호스트에\" + '\r\n",
        "  '0.025*\"끊겼습니다\"'),\r\n",
        " (9,\r\n",
        "  '0.333*\"org.apache.catalina.connector.ClientAbortException\" + '\r\n",
        "  '0.316*\"java.io.IOException\" + 0.186*\"상대편에\" + 0.112*\"파이프가\" + '\r\n",
        "  '0.029*\"java.net.SocketTimeoutException\" + 0.001*\"reset\" + 0.001*\"directory\" '\r\n",
        "  '+ 0.000*\"02월\\\\월보\" + 0.000*\"\\\\Temp\\\\zipTemp\\\\09bc614e81fc3b4b\\\\2017년\" + '\r\n",
        "  '0.000*\"3월.zip\\\\2017년\"')]"
      ],
      "execution_count": 242,
      "outputs": []
    },
    {
      "cell_type": "code",
      "metadata": {
        "id": "v8FNNxYTvLF3"
      },
      "source": [
        "result_df_1 = pd.DataFrame([i[1].split(' + ') for i in _1st])"
      ],
      "execution_count": 243,
      "outputs": []
    },
    {
      "cell_type": "code",
      "metadata": {
        "id": "dyhM7YWxvLF3"
      },
      "source": [
        "for i in result_df_1:\r\n",
        "  result_df_1['{}_rate'.format(i)]=result_df_1[i].str[:5]\r\n",
        "  result_df_1[i]= result_df_1[i].str[6:]"
      ],
      "execution_count": 244,
      "outputs": []
    },
    {
      "cell_type": "code",
      "metadata": {
        "id": "EqzGlZBfvLF3"
      },
      "source": [
        "temp = []\r\n",
        "for i in range(10):\r\n",
        "  temp += ['{}_rate'.format(i), i]"
      ],
      "execution_count": 245,
      "outputs": []
    },
    {
      "cell_type": "code",
      "metadata": {
        "id": "nISP6Lu_vLF3"
      },
      "source": [
        "result_df_1 = result_df_1[temp]"
      ],
      "execution_count": 246,
      "outputs": []
    },
    {
      "cell_type": "markdown",
      "metadata": {
        "id": "uhxVYJspvLF4"
      },
      "source": [
        "결과 확인"
      ]
    },
    {
      "cell_type": "code",
      "metadata": {
        "colab": {
          "base_uri": "https://localhost:8080/",
          "height": 464
        },
        "id": "Al6vMhT8vLF4",
        "outputId": "b94c4373-4bf6-400e-e15a-fd8316fc6949"
      },
      "source": [
        "result_df_1"
      ],
      "execution_count": 247,
      "outputs": [
        {
          "output_type": "execute_result",
          "data": {
            "text/html": [
              "<div>\n",
              "<style scoped>\n",
              "    .dataframe tbody tr th:only-of-type {\n",
              "        vertical-align: middle;\n",
              "    }\n",
              "\n",
              "    .dataframe tbody tr th {\n",
              "        vertical-align: top;\n",
              "    }\n",
              "\n",
              "    .dataframe thead th {\n",
              "        text-align: right;\n",
              "    }\n",
              "</style>\n",
              "<table border=\"1\" class=\"dataframe\">\n",
              "  <thead>\n",
              "    <tr style=\"text-align: right;\">\n",
              "      <th></th>\n",
              "      <th>0_rate</th>\n",
              "      <th>0</th>\n",
              "      <th>1_rate</th>\n",
              "      <th>1</th>\n",
              "      <th>2_rate</th>\n",
              "      <th>2</th>\n",
              "      <th>3_rate</th>\n",
              "      <th>3</th>\n",
              "      <th>4_rate</th>\n",
              "      <th>4</th>\n",
              "      <th>5_rate</th>\n",
              "      <th>5</th>\n",
              "      <th>6_rate</th>\n",
              "      <th>6</th>\n",
              "      <th>7_rate</th>\n",
              "      <th>7</th>\n",
              "      <th>8_rate</th>\n",
              "      <th>8</th>\n",
              "      <th>9_rate</th>\n",
              "      <th>9</th>\n",
              "    </tr>\n",
              "  </thead>\n",
              "  <tbody>\n",
              "    <tr>\n",
              "      <th>0</th>\n",
              "      <td>0.240</td>\n",
              "      <td>\"resultset\"</td>\n",
              "      <td>0.218</td>\n",
              "      <td>\"10000\"</td>\n",
              "      <td>0.218</td>\n",
              "      <td>\"warn\"</td>\n",
              "      <td>0.218</td>\n",
              "      <td>\"many\"</td>\n",
              "      <td>0.020</td>\n",
              "      <td>\"time\"</td>\n",
              "      <td>0.008</td>\n",
              "      <td>\"발생했습니다\"</td>\n",
              "      <td>0.008</td>\n",
              "      <td>\"bigint\"</td>\n",
              "      <td>0.008</td>\n",
              "      <td>\"변환하는\"</td>\n",
              "      <td>0.007</td>\n",
              "      <td>\"nvarchar을\"</td>\n",
              "      <td>0.004</td>\n",
              "      <td>\"Read\"</td>\n",
              "    </tr>\n",
              "    <tr>\n",
              "      <th>1</th>\n",
              "      <td>0.150</td>\n",
              "      <td>\"connect\"</td>\n",
              "      <td>0.147</td>\n",
              "      <td>\"java.net.ConnectException\"</td>\n",
              "      <td>0.147</td>\n",
              "      <td>\"Connection\"</td>\n",
              "      <td>0.146</td>\n",
              "      <td>\"refuse\"</td>\n",
              "      <td>0.132</td>\n",
              "      <td>\"warn\"</td>\n",
              "      <td>0.132</td>\n",
              "      <td>\"slow\"</td>\n",
              "      <td>0.132</td>\n",
              "      <td>\"30000\"</td>\n",
              "      <td>0.003</td>\n",
              "      <td>\"ORA-00001\"</td>\n",
              "      <td>0.003</td>\n",
              "      <td>\"위배됩니다\"</td>\n",
              "      <td>0.001</td>\n",
              "      <td>\"KOLONTALKDB_APP.UC_DEVICE_PK\"</td>\n",
              "    </tr>\n",
              "    <tr>\n",
              "      <th>2</th>\n",
              "      <td>0.104</td>\n",
              "      <td>\"invalid\"</td>\n",
              "      <td>0.103</td>\n",
              "      <td>\"number\"</td>\n",
              "      <td>0.075</td>\n",
              "      <td>\"java.sql.SQLIntegrityConstraintViolationExcep...</td>\n",
              "      <td>0.058</td>\n",
              "      <td>\"없습니다\"</td>\n",
              "      <td>0.047</td>\n",
              "      <td>\"entry\"</td>\n",
              "      <td>0.047</td>\n",
              "      <td>\"'PRIMARY\"</td>\n",
              "      <td>0.047</td>\n",
              "      <td>\"Duplicate\"</td>\n",
              "      <td>0.047</td>\n",
              "      <td>\"read\"</td>\n",
              "      <td>0.041</td>\n",
              "      <td>\"'3003\"</td>\n",
              "      <td>0.029</td>\n",
              "      <td>\"java.sql.SQLNonTransientConnectionException\"</td>\n",
              "    </tr>\n",
              "    <tr>\n",
              "      <th>3</th>\n",
              "      <td>0.197</td>\n",
              "      <td>\"java.lang.NullPointerException\"</td>\n",
              "      <td>0.073</td>\n",
              "      <td>\"java.net.SocketException\"</td>\n",
              "      <td>0.069</td>\n",
              "      <td>\"Broken\"</td>\n",
              "      <td>0.069</td>\n",
              "      <td>\"pipe\"</td>\n",
              "      <td>0.054</td>\n",
              "      <td>\"ClientAbortException\"</td>\n",
              "      <td>0.033</td>\n",
              "      <td>\"java.sql.SQLDataException\"</td>\n",
              "      <td>0.033</td>\n",
              "      <td>\"ORA-01841\"</td>\n",
              "      <td>0.033</td>\n",
              "      <td>\"-4713\"</td>\n",
              "      <td>0.033</td>\n",
              "      <td>\"+4713\"</td>\n",
              "      <td>0.033</td>\n",
              "      <td>\"지정해야\"</td>\n",
              "    </tr>\n",
              "    <tr>\n",
              "      <th>4</th>\n",
              "      <td>0.200</td>\n",
              "      <td>\"send\"</td>\n",
              "      <td>0.199</td>\n",
              "      <td>\"org.apache.catalina.connector.ClientAbortExce...</td>\n",
              "      <td>0.199</td>\n",
              "      <td>\"Failed\"</td>\n",
              "      <td>0.199</td>\n",
              "      <td>\"java.io.IOException\"</td>\n",
              "      <td>0.199</td>\n",
              "      <td>\"message\"</td>\n",
              "      <td>0.000</td>\n",
              "      <td>\"81,575,436\"</td>\n",
              "      <td>0.000</td>\n",
              "      <td>\"81,575,433\"</td>\n",
              "      <td>0.000</td>\n",
              "      <td>\"client\"</td>\n",
              "      <td>0.000</td>\n",
              "      <td>\"avoid\"</td>\n",
              "      <td>0.000</td>\n",
              "      <td>\"consider\"</td>\n",
              "    </tr>\n",
              "    <tr>\n",
              "      <th>5</th>\n",
              "      <td>0.142</td>\n",
              "      <td>\"response\"</td>\n",
              "      <td>0.124</td>\n",
              "      <td>\"java.lang.IllegalStateException\"</td>\n",
              "      <td>0.107</td>\n",
              "      <td>\"call\"</td>\n",
              "      <td>0.102</td>\n",
              "      <td>\"getOutputStream\"</td>\n",
              "      <td>0.102</td>\n",
              "      <td>\"already\"</td>\n",
              "      <td>0.048</td>\n",
              "      <td>\"AddToMap\"</td>\n",
              "      <td>0.042</td>\n",
              "      <td>\"fail\"</td>\n",
              "      <td>0.037</td>\n",
              "      <td>\"nest\"</td>\n",
              "      <td>0.037</td>\n",
              "      <td>\"exception\"</td>\n",
              "      <td>0.034</td>\n",
              "      <td>\"process\"</td>\n",
              "    </tr>\n",
              "    <tr>\n",
              "      <th>6</th>\n",
              "      <td>0.123</td>\n",
              "      <td>\"java.sql.SQLSyntaxErrorException\"</td>\n",
              "      <td>0.053</td>\n",
              "      <td>\"ORA-00905\"</td>\n",
              "      <td>0.049</td>\n",
              "      <td>\"empty\"</td>\n",
              "      <td>0.044</td>\n",
              "      <td>\"javax.servlet.ServletException\"</td>\n",
              "      <td>0.032</td>\n",
              "      <td>\"File\"</td>\n",
              "      <td>0.031</td>\n",
              "      <td>\"find\"</td>\n",
              "      <td>0.031</td>\n",
              "      <td>\"WEB-INF\"</td>\n",
              "      <td>0.031</td>\n",
              "      <td>\"view\"</td>\n",
              "      <td>0.031</td>\n",
              "      <td>\"sale\"</td>\n",
              "      <td>0.031</td>\n",
              "      <td>\"vrView.jsp\"</td>\n",
              "    </tr>\n",
              "    <tr>\n",
              "      <th>7</th>\n",
              "      <td>0.250</td>\n",
              "      <td>\"java.sql.SQLException\"</td>\n",
              "      <td>0.247</td>\n",
              "      <td>\"존재하지\"</td>\n",
              "      <td>0.247</td>\n",
              "      <td>\"않습니다\"</td>\n",
              "      <td>0.247</td>\n",
              "      <td>\"ORA-00942\"</td>\n",
              "      <td>0.000</td>\n",
              "      <td>\"RPHONE3\"</td>\n",
              "      <td>0.000</td>\n",
              "      <td>\"CM_SMS_SEND_M\"</td>\n",
              "      <td>0.000</td>\n",
              "      <td>\"시퀀스가\"</td>\n",
              "      <td>0.000</td>\n",
              "      <td>\"ORA-02289\"</td>\n",
              "      <td>0.000</td>\n",
              "      <td>\"일치하지\"</td>\n",
              "      <td>0.000</td>\n",
              "      <td>\"문자열과\"</td>\n",
              "    </tr>\n",
              "    <tr>\n",
              "      <th>8</th>\n",
              "      <td>0.158</td>\n",
              "      <td>\"javax.servlet.ServletException\"</td>\n",
              "      <td>0.097</td>\n",
              "      <td>\"ORA-01722\"</td>\n",
              "      <td>0.054</td>\n",
              "      <td>\"error\"</td>\n",
              "      <td>0.036</td>\n",
              "      <td>\"com.microsoft.sqlserver.jdbc.SQLServerException\"</td>\n",
              "      <td>0.031</td>\n",
              "      <td>\"commit\"</td>\n",
              "      <td>0.028</td>\n",
              "      <td>\"occur\"</td>\n",
              "      <td>0.027</td>\n",
              "      <td>\"create\"</td>\n",
              "      <td>0.025</td>\n",
              "      <td>\"file\"</td>\n",
              "      <td>0.025</td>\n",
              "      <td>\"호스트에\"</td>\n",
              "      <td>0.025</td>\n",
              "      <td>\"끊겼습니다\"</td>\n",
              "    </tr>\n",
              "    <tr>\n",
              "      <th>9</th>\n",
              "      <td>0.333</td>\n",
              "      <td>\"org.apache.catalina.connector.ClientAbortExce...</td>\n",
              "      <td>0.316</td>\n",
              "      <td>\"java.io.IOException\"</td>\n",
              "      <td>0.186</td>\n",
              "      <td>\"상대편에\"</td>\n",
              "      <td>0.112</td>\n",
              "      <td>\"파이프가\"</td>\n",
              "      <td>0.029</td>\n",
              "      <td>\"java.net.SocketTimeoutException\"</td>\n",
              "      <td>0.001</td>\n",
              "      <td>\"reset\"</td>\n",
              "      <td>0.001</td>\n",
              "      <td>\"directory\"</td>\n",
              "      <td>0.000</td>\n",
              "      <td>\"02월\\월보\"</td>\n",
              "      <td>0.000</td>\n",
              "      <td>\"\\Temp\\zipTemp\\09bc614e81fc3b4b\\2017년\"</td>\n",
              "      <td>0.000</td>\n",
              "      <td>\"3월.zip\\2017년\"</td>\n",
              "    </tr>\n",
              "  </tbody>\n",
              "</table>\n",
              "</div>"
            ],
            "text/plain": [
              "  0_rate  ...                                              9\n",
              "0  0.240  ...                                         \"Read\"\n",
              "1  0.150  ...                 \"KOLONTALKDB_APP.UC_DEVICE_PK\"\n",
              "2  0.104  ...  \"java.sql.SQLNonTransientConnectionException\"\n",
              "3  0.197  ...                                         \"지정해야\"\n",
              "4  0.200  ...                                     \"consider\"\n",
              "5  0.142  ...                                      \"process\"\n",
              "6  0.123  ...                                   \"vrView.jsp\"\n",
              "7  0.250  ...                                         \"문자열과\"\n",
              "8  0.158  ...                                        \"끊겼습니다\"\n",
              "9  0.333  ...                                 \"3월.zip\\2017년\"\n",
              "\n",
              "[10 rows x 20 columns]"
            ]
          },
          "metadata": {
            "tags": []
          },
          "execution_count": 247
        }
      ]
    },
    {
      "cell_type": "code",
      "metadata": {
        "id": "dQwQSIA4vLF4"
      },
      "source": [
        "result_df_1.to_csv('/content/이벤트로그_WAS_lda.csv')"
      ],
      "execution_count": 248,
      "outputs": []
    },
    {
      "cell_type": "code",
      "metadata": {
        "id": "FtZPQkcQv2p1"
      },
      "source": [
        ""
      ],
      "execution_count": null,
      "outputs": []
    }
  ]
}