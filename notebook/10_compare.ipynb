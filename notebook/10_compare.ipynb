{
 "metadata": {
  "language_info": {
   "codemirror_mode": {
    "name": "ipython",
    "version": 3
   },
   "file_extension": ".py",
   "mimetype": "text/x-python",
   "name": "python",
   "nbconvert_exporter": "python",
   "pygments_lexer": "ipython3",
   "version": "3.8.5-final"
  },
  "orig_nbformat": 2,
  "kernelspec": {
   "name": "python3",
   "display_name": "Python 3.8.5 64-bit ('py38tf2': conda)",
   "metadata": {
    "interpreter": {
     "hash": "c280211521d66f37a52b0842d7cb3bda35983abef4a998be7afa35eb41438e1e"
    }
   }
  }
 },
 "nbformat": 4,
 "nbformat_minor": 2,
 "cells": [
  {
   "cell_type": "code",
   "execution_count": 2,
   "metadata": {},
   "outputs": [],
   "source": [
    "import pandas as pd"
   ]
  },
  {
   "cell_type": "code",
   "execution_count": 5,
   "metadata": {},
   "outputs": [],
   "source": [
    "struct_log = './data/HDFS_100k.log_structured.csv' # The structured log file\n",
    "label_file = './data/HDFS_100k.log_anomaly_label.csv' # The anomaly label file\n",
    "\n",
    "df = pd.read_csv(struct_log)"
   ]
  },
  {
   "cell_type": "code",
   "execution_count": 7,
   "metadata": {},
   "outputs": [
    {
     "output_type": "stream",
     "name": "stdout",
     "text": [
      "====== Input data summary ======\n",
      "Loading ./data/HDFS_100k.log_structured.csv\n",
      "62 251\n",
      "Slicing 1587 sessions, with window 10\n",
      "Slicing done, 8406 windows generated\n",
      "Slicing 6353 sessions, with window 10\n",
      "Slicing done, 25807 windows generated\n",
      "Train: 8406 windows (464/8406 anomaly), 7942/8406 normal\n",
      "Test: 25807 windows (842/25807 anomaly), 24965/25807 normal\n"
     ]
    }
   ],
   "source": [
    "from utils import dataloader\n",
    "from utils.preprocessing import Vectorizer\n",
    "\n",
    "train_ratio = 0.2\n",
    "window_size = 10\n",
    "\n",
    "(x_train, window_y_train, y_train), (x_test, window_y_test, y_test) = \\\n",
    "dataloader.load_HDFS(struct_log, label_file=label_file, window='session',                                                                                                          window_size=window_size, train_ratio=train_ratio, split_type='uniform')\n",
    "\n",
    "feature_extractor = Vectorizer()\n",
    "train_dataset = feature_extractor.fit_transform(x_train, window_y_train, y_train)\n",
    "test_dataset = feature_extractor.transform(x_test, window_y_test, y_test)\n",
    "\n",
    "train_dataset['x'] = train_dataset['x']/12\n",
    "test_dataset['x'] = test_dataset['x']/12"
   ]
  },
  {
   "cell_type": "code",
   "execution_count": 9,
   "metadata": {},
   "outputs": [],
   "source": [
    "from model.Iso_2Auto import *\n",
    "from model.Iso_Auto import *\n",
    "from model.LSTM_Autoencoder import *\n",
    "from model.NN_Autoencoder import *"
   ]
  },
  {
   "cell_type": "code",
   "execution_count": 10,
   "metadata": {},
   "outputs": [
    {
     "output_type": "stream",
     "name": "stdout",
     "text": [
      "Epoch 1/100\n",
      "66/66 [==============================] - 1s 2ms/step - loss: 0.1711 - accuracy: 0.0924\n",
      "Epoch 2/100\n",
      "66/66 [==============================] - 0s 2ms/step - loss: 0.1338 - accuracy: 0.1092\n",
      "Epoch 3/100\n",
      "66/66 [==============================] - 0s 2ms/step - loss: 0.1087 - accuracy: 0.2714\n",
      "Epoch 4/100\n",
      "66/66 [==============================] - 0s 2ms/step - loss: 0.0908 - accuracy: 0.4333\n",
      "Epoch 5/100\n",
      "66/66 [==============================] - 0s 2ms/step - loss: 0.0783 - accuracy: 0.4695\n",
      "Epoch 6/100\n",
      "66/66 [==============================] - 0s 2ms/step - loss: 0.0691 - accuracy: 0.4950\n",
      "Epoch 7/100\n",
      "66/66 [==============================] - 0s 2ms/step - loss: 0.0621 - accuracy: 0.4949\n",
      "Epoch 8/100\n",
      "66/66 [==============================] - 0s 2ms/step - loss: 0.0561 - accuracy: 0.5201\n",
      "Epoch 9/100\n",
      "66/66 [==============================] - 0s 2ms/step - loss: 0.0525 - accuracy: 0.5281\n",
      "Epoch 10/100\n",
      "66/66 [==============================] - 0s 1ms/step - loss: 0.0486 - accuracy: 0.5346\n",
      "Epoch 11/100\n",
      "66/66 [==============================] - 0s 2ms/step - loss: 0.0446 - accuracy: 0.5846\n",
      "Epoch 12/100\n",
      "66/66 [==============================] - 0s 2ms/step - loss: 0.0431 - accuracy: 0.5926\n",
      "Epoch 13/100\n",
      "66/66 [==============================] - 0s 2ms/step - loss: 0.0413 - accuracy: 0.6556\n",
      "Epoch 14/100\n",
      "66/66 [==============================] - 0s 1ms/step - loss: 0.0389 - accuracy: 0.6885\n",
      "Epoch 15/100\n",
      "66/66 [==============================] - 0s 2ms/step - loss: 0.0368 - accuracy: 0.7373\n",
      "Epoch 16/100\n",
      "66/66 [==============================] - 0s 2ms/step - loss: 0.0351 - accuracy: 0.7232\n",
      "Epoch 17/100\n",
      "66/66 [==============================] - 0s 2ms/step - loss: 0.0343 - accuracy: 0.7512\n",
      "Epoch 18/100\n",
      "66/66 [==============================] - 0s 1ms/step - loss: 0.0344 - accuracy: 0.7463\n",
      "Epoch 19/100\n",
      "66/66 [==============================] - 0s 1ms/step - loss: 0.0327 - accuracy: 0.7346\n",
      "Epoch 20/100\n",
      "66/66 [==============================] - 0s 2ms/step - loss: 0.0277 - accuracy: 0.5808\n",
      "Epoch 21/100\n",
      "66/66 [==============================] - 0s 2ms/step - loss: 0.0209 - accuracy: 0.4728\n",
      "Epoch 22/100\n",
      "66/66 [==============================] - 0s 2ms/step - loss: 0.0187 - accuracy: 0.5224\n",
      "Epoch 23/100\n",
      "66/66 [==============================] - 0s 1ms/step - loss: 0.0174 - accuracy: 0.5636\n",
      "Epoch 24/100\n",
      "66/66 [==============================] - 0s 2ms/step - loss: 0.0171 - accuracy: 0.6045\n",
      "Epoch 25/100\n",
      "66/66 [==============================] - 0s 1ms/step - loss: 0.0165 - accuracy: 0.6461\n",
      "Epoch 26/100\n",
      "66/66 [==============================] - 0s 2ms/step - loss: 0.0160 - accuracy: 0.6276\n",
      "Epoch 27/100\n",
      "66/66 [==============================] - 0s 2ms/step - loss: 0.0160 - accuracy: 0.6177\n",
      "Epoch 28/100\n",
      "66/66 [==============================] - 0s 2ms/step - loss: 0.0159 - accuracy: 0.6617\n",
      "Epoch 29/100\n",
      "66/66 [==============================] - 0s 2ms/step - loss: 0.0154 - accuracy: 0.5807\n",
      "Epoch 30/100\n",
      "66/66 [==============================] - 0s 2ms/step - loss: 0.0153 - accuracy: 0.6279\n",
      "Epoch 31/100\n",
      "66/66 [==============================] - 0s 2ms/step - loss: 0.0154 - accuracy: 0.5726\n",
      "Epoch 32/100\n",
      "66/66 [==============================] - 0s 2ms/step - loss: 0.0149 - accuracy: 0.5786\n",
      "Epoch 33/100\n",
      "66/66 [==============================] - 0s 2ms/step - loss: 0.0150 - accuracy: 0.6390\n",
      "Epoch 34/100\n",
      "66/66 [==============================] - 0s 2ms/step - loss: 0.0145 - accuracy: 0.5765\n",
      "Epoch 35/100\n",
      "66/66 [==============================] - 0s 1ms/step - loss: 0.0144 - accuracy: 0.5591\n",
      "Epoch 36/100\n",
      "66/66 [==============================] - 0s 2ms/step - loss: 0.0136 - accuracy: 0.5920\n",
      "Epoch 37/100\n",
      "66/66 [==============================] - 0s 1ms/step - loss: 0.0134 - accuracy: 0.5665\n",
      "Epoch 38/100\n",
      "66/66 [==============================] - 0s 2ms/step - loss: 0.0131 - accuracy: 0.6116\n",
      "Epoch 39/100\n",
      "66/66 [==============================] - 0s 2ms/step - loss: 0.0130 - accuracy: 0.6049\n",
      "Epoch 40/100\n",
      "66/66 [==============================] - 0s 2ms/step - loss: 0.0132 - accuracy: 0.6039\n",
      "Epoch 41/100\n",
      "66/66 [==============================] - 0s 2ms/step - loss: 0.0126 - accuracy: 0.5914\n",
      "Epoch 42/100\n",
      "66/66 [==============================] - 0s 2ms/step - loss: 0.0126 - accuracy: 0.5564\n",
      "Epoch 43/100\n",
      "66/66 [==============================] - 0s 2ms/step - loss: 0.0118 - accuracy: 0.5976\n",
      "Epoch 44/100\n",
      "66/66 [==============================] - 0s 2ms/step - loss: 0.0120 - accuracy: 0.5641\n",
      "Epoch 45/100\n",
      "66/66 [==============================] - 0s 2ms/step - loss: 0.0126 - accuracy: 0.5563\n",
      "Epoch 46/100\n",
      "66/66 [==============================] - 0s 1ms/step - loss: 0.0123 - accuracy: 0.5983\n",
      "Epoch 47/100\n",
      "66/66 [==============================] - 0s 2ms/step - loss: 0.0123 - accuracy: 0.5982\n",
      "Epoch 48/100\n",
      "66/66 [==============================] - 0s 2ms/step - loss: 0.0120 - accuracy: 0.5597\n",
      "Epoch 49/100\n",
      "66/66 [==============================] - 0s 2ms/step - loss: 0.0123 - accuracy: 0.5913\n",
      "Epoch 50/100\n",
      "66/66 [==============================] - 0s 1ms/step - loss: 0.0119 - accuracy: 0.6178\n",
      "Epoch 51/100\n",
      "66/66 [==============================] - 0s 2ms/step - loss: 0.0118 - accuracy: 0.5934\n",
      "Epoch 52/100\n",
      "66/66 [==============================] - 0s 2ms/step - loss: 0.0125 - accuracy: 0.5662\n",
      "Epoch 53/100\n",
      "66/66 [==============================] - 0s 2ms/step - loss: 0.0121 - accuracy: 0.5694\n",
      "Epoch 54/100\n",
      "66/66 [==============================] - 0s 2ms/step - loss: 0.0115 - accuracy: 0.6188\n",
      "Epoch 55/100\n",
      "66/66 [==============================] - 0s 2ms/step - loss: 0.0116 - accuracy: 0.6210\n",
      "Epoch 56/100\n",
      "66/66 [==============================] - 0s 2ms/step - loss: 0.0118 - accuracy: 0.6326\n",
      "Epoch 57/100\n",
      "66/66 [==============================] - 0s 2ms/step - loss: 0.0119 - accuracy: 0.6233\n",
      "Epoch 58/100\n",
      "66/66 [==============================] - 0s 2ms/step - loss: 0.0118 - accuracy: 0.6094\n",
      "Epoch 59/100\n",
      "66/66 [==============================] - 0s 2ms/step - loss: 0.0118 - accuracy: 0.6119\n",
      "Epoch 60/100\n",
      "66/66 [==============================] - 0s 2ms/step - loss: 0.0117 - accuracy: 0.6134\n",
      "Epoch 61/100\n",
      "66/66 [==============================] - 0s 2ms/step - loss: 0.0126 - accuracy: 0.5815\n",
      "Epoch 62/100\n",
      "66/66 [==============================] - 0s 2ms/step - loss: 0.0122 - accuracy: 0.5949\n",
      "Epoch 63/100\n",
      "66/66 [==============================] - 0s 2ms/step - loss: 0.0120 - accuracy: 0.6380\n",
      "Epoch 64/100\n",
      "66/66 [==============================] - 0s 1ms/step - loss: 0.0115 - accuracy: 0.6195\n",
      "Epoch 65/100\n",
      "66/66 [==============================] - 0s 2ms/step - loss: 0.0114 - accuracy: 0.6350\n",
      "Epoch 66/100\n",
      "66/66 [==============================] - 0s 2ms/step - loss: 0.0118 - accuracy: 0.6292\n",
      "Epoch 67/100\n",
      "66/66 [==============================] - 0s 2ms/step - loss: 0.0117 - accuracy: 0.6420\n",
      "Epoch 68/100\n",
      "66/66 [==============================] - 0s 1ms/step - loss: 0.0116 - accuracy: 0.6453\n",
      "Epoch 69/100\n",
      "66/66 [==============================] - 0s 2ms/step - loss: 0.0125 - accuracy: 0.6384\n",
      "Epoch 70/100\n",
      "66/66 [==============================] - 0s 1ms/step - loss: 0.0118 - accuracy: 0.6016\n",
      "Epoch 71/100\n",
      "66/66 [==============================] - 0s 2ms/step - loss: 0.0121 - accuracy: 0.6364\n",
      "Epoch 72/100\n",
      "66/66 [==============================] - 0s 2ms/step - loss: 0.0122 - accuracy: 0.6364\n",
      "Epoch 73/100\n",
      "66/66 [==============================] - 0s 2ms/step - loss: 0.0119 - accuracy: 0.6225\n",
      "Epoch 74/100\n",
      "66/66 [==============================] - 0s 2ms/step - loss: 0.0124 - accuracy: 0.6577\n",
      "Epoch 75/100\n",
      "66/66 [==============================] - 0s 2ms/step - loss: 0.0119 - accuracy: 0.6456\n",
      "Epoch 76/100\n",
      "66/66 [==============================] - 0s 2ms/step - loss: 0.0125 - accuracy: 0.6405\n",
      "Epoch 77/100\n",
      "66/66 [==============================] - 0s 2ms/step - loss: 0.0124 - accuracy: 0.6376\n",
      "Epoch 78/100\n",
      "66/66 [==============================] - 0s 2ms/step - loss: 0.0121 - accuracy: 0.6239\n",
      "Epoch 79/100\n",
      "66/66 [==============================] - 0s 2ms/step - loss: 0.0120 - accuracy: 0.6433\n",
      "Epoch 80/100\n",
      "66/66 [==============================] - 0s 2ms/step - loss: 0.0117 - accuracy: 0.6277\n",
      "Epoch 81/100\n",
      "66/66 [==============================] - 0s 2ms/step - loss: 0.0117 - accuracy: 0.6646\n",
      "Epoch 82/100\n",
      "66/66 [==============================] - 0s 1ms/step - loss: 0.0115 - accuracy: 0.6884\n",
      "Epoch 83/100\n",
      "66/66 [==============================] - 0s 2ms/step - loss: 0.0117 - accuracy: 0.6769\n",
      "Epoch 84/100\n",
      "66/66 [==============================] - 0s 2ms/step - loss: 0.0115 - accuracy: 0.6874\n",
      "Epoch 85/100\n",
      "66/66 [==============================] - 0s 2ms/step - loss: 0.0118 - accuracy: 0.6207\n",
      "Epoch 86/100\n",
      "66/66 [==============================] - 0s 2ms/step - loss: 0.0113 - accuracy: 0.6708\n",
      "Epoch 87/100\n",
      "66/66 [==============================] - 0s 2ms/step - loss: 0.0117 - accuracy: 0.6875\n",
      "Epoch 88/100\n",
      "66/66 [==============================] - 0s 2ms/step - loss: 0.0113 - accuracy: 0.6534\n",
      "Epoch 89/100\n",
      "66/66 [==============================] - 0s 2ms/step - loss: 0.0119 - accuracy: 0.6417\n",
      "Epoch 90/100\n",
      "66/66 [==============================] - 0s 2ms/step - loss: 0.0126 - accuracy: 0.5802\n",
      "Epoch 91/100\n",
      "66/66 [==============================] - 0s 2ms/step - loss: 0.0115 - accuracy: 0.6560\n",
      "Epoch 92/100\n",
      "66/66 [==============================] - 0s 2ms/step - loss: 0.0114 - accuracy: 0.6371\n",
      "Epoch 93/100\n",
      "66/66 [==============================] - 0s 2ms/step - loss: 0.0125 - accuracy: 0.6409\n",
      "Epoch 94/100\n",
      "66/66 [==============================] - 0s 2ms/step - loss: 0.0118 - accuracy: 0.6137\n",
      "Epoch 95/100\n",
      "66/66 [==============================] - 0s 1ms/step - loss: 0.0116 - accuracy: 0.6783\n",
      "Epoch 96/100\n",
      "66/66 [==============================] - 0s 2ms/step - loss: 0.0117 - accuracy: 0.6731\n",
      "Epoch 97/100\n",
      "66/66 [==============================] - 0s 1ms/step - loss: 0.0120 - accuracy: 0.6503\n",
      "Epoch 98/100\n",
      "66/66 [==============================] - 0s 1ms/step - loss: 0.0118 - accuracy: 0.6472\n",
      "Epoch 99/100\n",
      "66/66 [==============================] - 0s 2ms/step - loss: 0.0118 - accuracy: 0.6519\n",
      "Epoch 100/100\n",
      "66/66 [==============================] - 0s 2ms/step - loss: 0.0119 - accuracy: 0.6605\n"
     ]
    },
    {
     "output_type": "execute_result",
     "data": {
      "text/plain": [
       "0.7464905977249146"
      ]
     },
     "metadata": {},
     "execution_count": 10
    }
   ],
   "source": [
    "NN_Autoencoder(train_dataset['x'])"
   ]
  },
  {
   "cell_type": "code",
   "execution_count": 12,
   "metadata": {},
   "outputs": [
    {
     "output_type": "execute_result",
     "data": {
      "text/plain": [
       "   NN\n",
       "0   1\n",
       "1   2\n",
       "2   3"
      ],
      "text/html": "<div>\n<style scoped>\n    .dataframe tbody tr th:only-of-type {\n        vertical-align: middle;\n    }\n\n    .dataframe tbody tr th {\n        vertical-align: top;\n    }\n\n    .dataframe thead th {\n        text-align: right;\n    }\n</style>\n<table border=\"1\" class=\"dataframe\">\n  <thead>\n    <tr style=\"text-align: right;\">\n      <th></th>\n      <th>NN</th>\n    </tr>\n  </thead>\n  <tbody>\n    <tr>\n      <th>0</th>\n      <td>1</td>\n    </tr>\n    <tr>\n      <th>1</th>\n      <td>2</td>\n    </tr>\n    <tr>\n      <th>2</th>\n      <td>3</td>\n    </tr>\n  </tbody>\n</table>\n</div>"
     },
     "metadata": {},
     "execution_count": 12
    }
   ],
   "source": [
    "pd.DataFrame({'NN':[1,2,3]})"
   ]
  },
  {
   "cell_type": "code",
   "execution_count": 1,
   "metadata": {},
   "outputs": [],
   "source": [
    "from collections import OrderedDict"
   ]
  },
  {
   "cell_type": "code",
   "execution_count": 4,
   "metadata": {},
   "outputs": [],
   "source": [
    "data = OrderedDict()"
   ]
  },
  {
   "cell_type": "code",
   "execution_count": 5,
   "metadata": {},
   "outputs": [],
   "source": [
    "data['HDFS'] = [12]"
   ]
  },
  {
   "cell_type": "code",
   "execution_count": 6,
   "metadata": {},
   "outputs": [
    {
     "output_type": "stream",
     "name": "stdout",
     "text": [
      "HDFS\n"
     ]
    }
   ],
   "source": [
    "for i in data:\n",
    "    print(i)"
   ]
  },
  {
   "cell_type": "code",
   "execution_count": 7,
   "metadata": {},
   "outputs": [
    {
     "output_type": "execute_result",
     "data": {
      "text/plain": [
       "   HDFS\n",
       "h    12"
      ],
      "text/html": "<div>\n<style scoped>\n    .dataframe tbody tr th:only-of-type {\n        vertical-align: middle;\n    }\n\n    .dataframe tbody tr th {\n        vertical-align: top;\n    }\n\n    .dataframe thead th {\n        text-align: right;\n    }\n</style>\n<table border=\"1\" class=\"dataframe\">\n  <thead>\n    <tr style=\"text-align: right;\">\n      <th></th>\n      <th>HDFS</th>\n    </tr>\n  </thead>\n  <tbody>\n    <tr>\n      <th>h</th>\n      <td>12</td>\n    </tr>\n  </tbody>\n</table>\n</div>"
     },
     "metadata": {},
     "execution_count": 7
    }
   ],
   "source": [
    "pd.DataFrame(data,index=['h'])"
   ]
  },
  {
   "cell_type": "code",
   "execution_count": 20,
   "metadata": {},
   "outputs": [
    {
     "output_type": "stream",
     "name": "stdout",
     "text": [
      "HDFS [12]\n"
     ]
    }
   ],
   "source": [
    "for i,j in data.items():\n",
    "    print(i,j)"
   ]
  },
  {
   "cell_type": "code",
   "execution_count": 3,
   "metadata": {},
   "outputs": [],
   "source": [
    "'''\n",
    "Syslog_Time\n",
    "'''\n",
    "\n",
    "struct_log = './data/이벤트_목록(서버로그).txt_structured.csv' # The structured log file\n",
    "df = pd.read_csv(struct_log)\n"
   ]
  },
  {
   "cell_type": "code",
   "execution_count": 4,
   "metadata": {},
   "outputs": [
    {
     "output_type": "stream",
     "name": "stdout",
     "text": [
      "====== Input data summary ======\n",
      "Loading ./data/이벤트_목록(서버로그).txt_structured.csv\n",
      "Slicing 28063 sessions, with window 10\n",
      "Slicing done, 39949 windows generated\n",
      "Train: windows\n"
     ]
    }
   ],
   "source": [
    "from utils import dataloader\n",
    "from utils.preprocessing import Vectorizer\n",
    "\n",
    "x_, window_y_ = \\\n",
    "dataloader.load_sys(struct_log, window='session', window_size=10, train_ratio=0.2, split_type='uniform',Time =True)"
   ]
  },
  {
   "cell_type": "code",
   "execution_count": 6,
   "metadata": {},
   "outputs": [
    {
     "output_type": "execute_result",
     "data": {
      "text/plain": [
       "       SessionId                                      EventSequence\n",
       "0              0  [298, 329, 298, 321, 298, 322, 329, 298, 296, ...\n",
       "1              0  [329, 298, 321, 298, 322, 329, 298, 296, 321, ...\n",
       "2              0  [298, 321, 298, 322, 329, 298, 296, 321, 322, ...\n",
       "3              0  [321, 298, 322, 329, 298, 296, 321, 322, 329, ...\n",
       "4              0  [298, 322, 329, 298, 296, 321, 322, 329, 299, ...\n",
       "...          ...                                                ...\n",
       "39944      28061                     [1, 1, 7, 1, 8, 7, 1, 6, 1, 6]\n",
       "39945      28061                     [1, 7, 1, 8, 7, 1, 6, 1, 6, 1]\n",
       "39946      28061                     [7, 1, 8, 7, 1, 6, 1, 6, 1, 5]\n",
       "39947      28061                     [1, 8, 7, 1, 6, 1, 6, 1, 5, 5]\n",
       "39948      28062         [3, 4, 1, 1, 1, 2, #Pad, #Pad, #Pad, #Pad]\n",
       "\n",
       "[39949 rows x 2 columns]"
      ],
      "text/html": "<div>\n<style scoped>\n    .dataframe tbody tr th:only-of-type {\n        vertical-align: middle;\n    }\n\n    .dataframe tbody tr th {\n        vertical-align: top;\n    }\n\n    .dataframe thead th {\n        text-align: right;\n    }\n</style>\n<table border=\"1\" class=\"dataframe\">\n  <thead>\n    <tr style=\"text-align: right;\">\n      <th></th>\n      <th>SessionId</th>\n      <th>EventSequence</th>\n    </tr>\n  </thead>\n  <tbody>\n    <tr>\n      <th>0</th>\n      <td>0</td>\n      <td>[298, 329, 298, 321, 298, 322, 329, 298, 296, ...</td>\n    </tr>\n    <tr>\n      <th>1</th>\n      <td>0</td>\n      <td>[329, 298, 321, 298, 322, 329, 298, 296, 321, ...</td>\n    </tr>\n    <tr>\n      <th>2</th>\n      <td>0</td>\n      <td>[298, 321, 298, 322, 329, 298, 296, 321, 322, ...</td>\n    </tr>\n    <tr>\n      <th>3</th>\n      <td>0</td>\n      <td>[321, 298, 322, 329, 298, 296, 321, 322, 329, ...</td>\n    </tr>\n    <tr>\n      <th>4</th>\n      <td>0</td>\n      <td>[298, 322, 329, 298, 296, 321, 322, 329, 299, ...</td>\n    </tr>\n    <tr>\n      <th>...</th>\n      <td>...</td>\n      <td>...</td>\n    </tr>\n    <tr>\n      <th>39944</th>\n      <td>28061</td>\n      <td>[1, 1, 7, 1, 8, 7, 1, 6, 1, 6]</td>\n    </tr>\n    <tr>\n      <th>39945</th>\n      <td>28061</td>\n      <td>[1, 7, 1, 8, 7, 1, 6, 1, 6, 1]</td>\n    </tr>\n    <tr>\n      <th>39946</th>\n      <td>28061</td>\n      <td>[7, 1, 8, 7, 1, 6, 1, 6, 1, 5]</td>\n    </tr>\n    <tr>\n      <th>39947</th>\n      <td>28061</td>\n      <td>[1, 8, 7, 1, 6, 1, 6, 1, 5, 5]</td>\n    </tr>\n    <tr>\n      <th>39948</th>\n      <td>28062</td>\n      <td>[3, 4, 1, 1, 1, 2, #Pad, #Pad, #Pad, #Pad]</td>\n    </tr>\n  </tbody>\n</table>\n<p>39949 rows × 2 columns</p>\n</div>"
     },
     "metadata": {},
     "execution_count": 6
    }
   ],
   "source": [
    "x_"
   ]
  },
  {
   "cell_type": "code",
   "execution_count": 8,
   "metadata": {},
   "outputs": [],
   "source": [
    "\n",
    "from utils.preprocessing import Vectorizer_sys\n",
    "feature_extractor = Vectorizer_sys()\n",
    "train_dataset = feature_extractor.fit_transform(x_, window_y_)"
   ]
  },
  {
   "cell_type": "code",
   "execution_count": 10,
   "metadata": {},
   "outputs": [
    {
     "output_type": "execute_result",
     "data": {
      "text/plain": [
       "381"
      ]
     },
     "metadata": {},
     "execution_count": 10
    }
   ],
   "source": [
    "train_dataset['x'].max()"
   ]
  },
  {
   "cell_type": "code",
   "execution_count": null,
   "metadata": {},
   "outputs": [],
   "source": []
  }
 ]
}