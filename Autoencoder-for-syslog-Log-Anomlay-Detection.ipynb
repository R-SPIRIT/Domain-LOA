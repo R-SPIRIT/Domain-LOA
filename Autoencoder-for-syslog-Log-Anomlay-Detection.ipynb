{
 "metadata": {
  "language_info": {
   "codemirror_mode": {
    "name": "ipython",
    "version": 3
   },
   "file_extension": ".py",
   "mimetype": "text/x-python",
   "name": "python",
   "nbconvert_exporter": "python",
   "pygments_lexer": "ipython3",
   "version": "3.8.5-final"
  },
  "orig_nbformat": 2,
  "kernelspec": {
   "name": "python3",
   "display_name": "Python 3.8.5 64-bit ('py38ten2': conda)",
   "metadata": {
    "interpreter": {
     "hash": "2e7bd791b6391f365a5c7924ea6cd9c57903dc5a79aac4cd5bd08cb4cc57753f"
    }
   }
  }
 },
 "nbformat": 4,
 "nbformat_minor": 2,
 "cells": [
  {
   "source": [
    "# Autoencoder-for-HTTP-Log-Anomaly-Detection\n",
    "\n",
    "Syslog 데이터를 이용하여 Autoencoder Anomaly Detection 진행.\n",
    "\n",
    "---"
   ],
   "cell_type": "markdown",
   "metadata": {}
  },
  {
   "cell_type": "code",
   "execution_count": 2,
   "metadata": {},
   "outputs": [
    {
     "output_type": "stream",
     "name": "stdout",
     "text": [
      "HDFS_100k.log_anomaly_label.csv  log_model_HDFS-testing.h5  syslog.xls\nHDFS_100k.log_structured.csv\t log_model-testing.h5\t    weblog.csv\n"
     ]
    }
   ],
   "source": [
    "# 파일 확인\n",
    "!ls \"./data\"\n",
    "import os\n",
    "os.chdir(\"./data\")"
   ]
  },
  {
   "cell_type": "code",
   "execution_count": 3,
   "metadata": {},
   "outputs": [],
   "source": [
    "# import section\n",
    "from __future__ import print_function\n",
    "import keras\n",
    "from keras.preprocessing.text import Tokenizer\n",
    "from keras.preprocessing.sequence import pad_sequences\n",
    "from keras.models import load_model\n",
    "from keras.models import  Model\n",
    "from keras.layers import Dense, Input\n",
    "import numpy as np\n",
    "import pandas as pd"
   ]
  },
  {
   "cell_type": "code",
   "execution_count": 4,
   "metadata": {},
   "outputs": [],
   "source": [
    "df = pd.read_excel('syslog.xls')"
   ]
  },
  {
   "cell_type": "code",
   "execution_count": 5,
   "metadata": {},
   "outputs": [
    {
     "output_type": "execute_result",
     "data": {
      "text/plain": [
       "        심각도                발생 일시   그룹경로             시스템명  호스트명  \\\n",
       "0     ERROR  2021-01-08 11:39:07  인프라그룹  Syslog Receiver   NaN   \n",
       "1     ERROR  2021-01-08 11:39:07  인프라그룹  Syslog Receiver   NaN   \n",
       "2     ERROR  2021-01-08 11:39:06  인프라그룹  Syslog Receiver   NaN   \n",
       "3     ERROR  2021-01-08 11:38:07  인프라그룹  Syslog Receiver   NaN   \n",
       "4     ERROR  2021-01-08 11:38:07  인프라그룹  Syslog Receiver   NaN   \n",
       "...     ...                  ...    ...              ...   ...   \n",
       "9995  ERROR  2021-01-06 18:32:06  인프라그룹  Syslog Receiver   NaN   \n",
       "9996  ERROR  2021-01-06 18:31:10  인프라그룹  Syslog Receiver   NaN   \n",
       "9997  ERROR  2021-01-06 18:31:10  인프라그룹  Syslog Receiver   NaN   \n",
       "9998  ERROR  2021-01-06 18:31:06  인프라그룹  Syslog Receiver   NaN   \n",
       "9999  ERROR  2021-01-06 18:31:06  인프라그룹  Syslog Receiver   NaN   \n",
       "\n",
       "               리소스 이름                     대상  이벤트 타입         이벤트 소스  \\\n",
       "0     Syslog Receiver  인프라그룹>Syslog Receiver  syslog  172.30.151.88   \n",
       "1     Syslog Receiver  인프라그룹>Syslog Receiver  syslog  172.30.151.88   \n",
       "2     Syslog Receiver  인프라그룹>Syslog Receiver  syslog  172.30.151.87   \n",
       "3     Syslog Receiver  인프라그룹>Syslog Receiver  syslog  172.30.151.88   \n",
       "4     Syslog Receiver  인프라그룹>Syslog Receiver  syslog  172.30.151.88   \n",
       "...               ...                    ...     ...            ...   \n",
       "9995  Syslog Receiver  인프라그룹>Syslog Receiver  syslog  172.30.151.88   \n",
       "9996  Syslog Receiver  인프라그룹>Syslog Receiver  syslog  172.30.151.87   \n",
       "9997  Syslog Receiver  인프라그룹>Syslog Receiver  syslog  172.30.151.87   \n",
       "9998  Syslog Receiver  인프라그룹>Syslog Receiver  syslog  172.30.151.88   \n",
       "9999  Syslog Receiver  인프라그룹>Syslog Receiver  syslog  172.30.151.88   \n",
       "\n",
       "                                                     내용  \n",
       "0     [syslog]<43>Jan  8 11:39:07 Kolon_L7_trust_02 ...  \n",
       "1     [syslog]<43>Jan  8 11:39:07 Kolon_L7_trust_02 ...  \n",
       "2     [syslog]<43>Jan  8 11:39:06 Kolon_L7_trust_01 ...  \n",
       "3     [syslog]<43>Jan  8 11:38:07 Kolon_L7_trust_02 ...  \n",
       "4     [syslog]<43>Jan  8 11:38:07 Kolon_L7_trust_02 ...  \n",
       "...                                                 ...  \n",
       "9995  [syslog]<43>Jan  6 18:32:06 Kolon_L7_trust_02 ...  \n",
       "9996  [syslog]<43>Jan  6 18:31:10 Kolon_L7_trust_01 ...  \n",
       "9997  [syslog]<43>Jan  6 18:31:10 Kolon_L7_trust_01 ...  \n",
       "9998  [syslog]<43>Jan  6 18:31:06 Kolon_L7_trust_02 ...  \n",
       "9999  [syslog]<43>Jan  6 18:31:06 Kolon_L7_trust_02 ...  \n",
       "\n",
       "[10000 rows x 10 columns]"
      ],
      "text/html": "<div>\n<style scoped>\n    .dataframe tbody tr th:only-of-type {\n        vertical-align: middle;\n    }\n\n    .dataframe tbody tr th {\n        vertical-align: top;\n    }\n\n    .dataframe thead th {\n        text-align: right;\n    }\n</style>\n<table border=\"1\" class=\"dataframe\">\n  <thead>\n    <tr style=\"text-align: right;\">\n      <th></th>\n      <th>심각도</th>\n      <th>발생 일시</th>\n      <th>그룹경로</th>\n      <th>시스템명</th>\n      <th>호스트명</th>\n      <th>리소스 이름</th>\n      <th>대상</th>\n      <th>이벤트 타입</th>\n      <th>이벤트 소스</th>\n      <th>내용</th>\n    </tr>\n  </thead>\n  <tbody>\n    <tr>\n      <th>0</th>\n      <td>ERROR</td>\n      <td>2021-01-08 11:39:07</td>\n      <td>인프라그룹</td>\n      <td>Syslog Receiver</td>\n      <td>NaN</td>\n      <td>Syslog Receiver</td>\n      <td>인프라그룹&gt;Syslog Receiver</td>\n      <td>syslog</td>\n      <td>172.30.151.88</td>\n      <td>[syslog]&lt;43&gt;Jan  8 11:39:07 Kolon_L7_trust_02 ...</td>\n    </tr>\n    <tr>\n      <th>1</th>\n      <td>ERROR</td>\n      <td>2021-01-08 11:39:07</td>\n      <td>인프라그룹</td>\n      <td>Syslog Receiver</td>\n      <td>NaN</td>\n      <td>Syslog Receiver</td>\n      <td>인프라그룹&gt;Syslog Receiver</td>\n      <td>syslog</td>\n      <td>172.30.151.88</td>\n      <td>[syslog]&lt;43&gt;Jan  8 11:39:07 Kolon_L7_trust_02 ...</td>\n    </tr>\n    <tr>\n      <th>2</th>\n      <td>ERROR</td>\n      <td>2021-01-08 11:39:06</td>\n      <td>인프라그룹</td>\n      <td>Syslog Receiver</td>\n      <td>NaN</td>\n      <td>Syslog Receiver</td>\n      <td>인프라그룹&gt;Syslog Receiver</td>\n      <td>syslog</td>\n      <td>172.30.151.87</td>\n      <td>[syslog]&lt;43&gt;Jan  8 11:39:06 Kolon_L7_trust_01 ...</td>\n    </tr>\n    <tr>\n      <th>3</th>\n      <td>ERROR</td>\n      <td>2021-01-08 11:38:07</td>\n      <td>인프라그룹</td>\n      <td>Syslog Receiver</td>\n      <td>NaN</td>\n      <td>Syslog Receiver</td>\n      <td>인프라그룹&gt;Syslog Receiver</td>\n      <td>syslog</td>\n      <td>172.30.151.88</td>\n      <td>[syslog]&lt;43&gt;Jan  8 11:38:07 Kolon_L7_trust_02 ...</td>\n    </tr>\n    <tr>\n      <th>4</th>\n      <td>ERROR</td>\n      <td>2021-01-08 11:38:07</td>\n      <td>인프라그룹</td>\n      <td>Syslog Receiver</td>\n      <td>NaN</td>\n      <td>Syslog Receiver</td>\n      <td>인프라그룹&gt;Syslog Receiver</td>\n      <td>syslog</td>\n      <td>172.30.151.88</td>\n      <td>[syslog]&lt;43&gt;Jan  8 11:38:07 Kolon_L7_trust_02 ...</td>\n    </tr>\n    <tr>\n      <th>...</th>\n      <td>...</td>\n      <td>...</td>\n      <td>...</td>\n      <td>...</td>\n      <td>...</td>\n      <td>...</td>\n      <td>...</td>\n      <td>...</td>\n      <td>...</td>\n      <td>...</td>\n    </tr>\n    <tr>\n      <th>9995</th>\n      <td>ERROR</td>\n      <td>2021-01-06 18:32:06</td>\n      <td>인프라그룹</td>\n      <td>Syslog Receiver</td>\n      <td>NaN</td>\n      <td>Syslog Receiver</td>\n      <td>인프라그룹&gt;Syslog Receiver</td>\n      <td>syslog</td>\n      <td>172.30.151.88</td>\n      <td>[syslog]&lt;43&gt;Jan  6 18:32:06 Kolon_L7_trust_02 ...</td>\n    </tr>\n    <tr>\n      <th>9996</th>\n      <td>ERROR</td>\n      <td>2021-01-06 18:31:10</td>\n      <td>인프라그룹</td>\n      <td>Syslog Receiver</td>\n      <td>NaN</td>\n      <td>Syslog Receiver</td>\n      <td>인프라그룹&gt;Syslog Receiver</td>\n      <td>syslog</td>\n      <td>172.30.151.87</td>\n      <td>[syslog]&lt;43&gt;Jan  6 18:31:10 Kolon_L7_trust_01 ...</td>\n    </tr>\n    <tr>\n      <th>9997</th>\n      <td>ERROR</td>\n      <td>2021-01-06 18:31:10</td>\n      <td>인프라그룹</td>\n      <td>Syslog Receiver</td>\n      <td>NaN</td>\n      <td>Syslog Receiver</td>\n      <td>인프라그룹&gt;Syslog Receiver</td>\n      <td>syslog</td>\n      <td>172.30.151.87</td>\n      <td>[syslog]&lt;43&gt;Jan  6 18:31:10 Kolon_L7_trust_01 ...</td>\n    </tr>\n    <tr>\n      <th>9998</th>\n      <td>ERROR</td>\n      <td>2021-01-06 18:31:06</td>\n      <td>인프라그룹</td>\n      <td>Syslog Receiver</td>\n      <td>NaN</td>\n      <td>Syslog Receiver</td>\n      <td>인프라그룹&gt;Syslog Receiver</td>\n      <td>syslog</td>\n      <td>172.30.151.88</td>\n      <td>[syslog]&lt;43&gt;Jan  6 18:31:06 Kolon_L7_trust_02 ...</td>\n    </tr>\n    <tr>\n      <th>9999</th>\n      <td>ERROR</td>\n      <td>2021-01-06 18:31:06</td>\n      <td>인프라그룹</td>\n      <td>Syslog Receiver</td>\n      <td>NaN</td>\n      <td>Syslog Receiver</td>\n      <td>인프라그룹&gt;Syslog Receiver</td>\n      <td>syslog</td>\n      <td>172.30.151.88</td>\n      <td>[syslog]&lt;43&gt;Jan  6 18:31:06 Kolon_L7_trust_02 ...</td>\n    </tr>\n  </tbody>\n</table>\n<p>10000 rows × 10 columns</p>\n</div>"
     },
     "metadata": {},
     "execution_count": 5
    }
   ],
   "source": [
    "df"
   ]
  },
  {
   "cell_type": "code",
   "execution_count": 6,
   "metadata": {},
   "outputs": [
    {
     "output_type": "execute_result",
     "data": {
      "text/plain": [
       "심각도           0\n",
       "발생 일시         0\n",
       "그룹경로          0\n",
       "시스템명          0\n",
       "호스트명      10000\n",
       "리소스 이름        0\n",
       "대상            0\n",
       "이벤트 타입        0\n",
       "이벤트 소스        0\n",
       "내용            0\n",
       "dtype: int64"
      ]
     },
     "metadata": {},
     "execution_count": 6
    }
   ],
   "source": [
    "df.isna().sum()"
   ]
  },
  {
   "cell_type": "code",
   "execution_count": 7,
   "metadata": {},
   "outputs": [
    {
     "output_type": "stream",
     "name": "stdout",
     "text": [
      "심각도\n(array([0, 0, 0, ..., 0, 0, 0]), Index(['ERROR'], dtype='object'))\n === \n발생 일시\n(array([   0,    0,    1, ..., 4408, 4409, 4409]), Index(['2021-01-08 11:39:07', '2021-01-08 11:39:06', '2021-01-08 11:38:07',\n       '2021-01-08 11:38:06', '2021-01-08 11:37:07', '2021-01-08 11:37:06',\n       '2021-01-08 11:36:07', '2021-01-08 11:36:06', '2021-01-08 11:35:07',\n       '2021-01-08 11:35:06',\n       ...\n       '2021-01-06 18:35:10', '2021-01-06 18:35:06', '2021-01-06 18:34:10',\n       '2021-01-06 18:34:06', '2021-01-06 18:33:10', '2021-01-06 18:33:06',\n       '2021-01-06 18:32:10', '2021-01-06 18:32:06', '2021-01-06 18:31:10',\n       '2021-01-06 18:31:06'],\n      dtype='object', length=4410))\n === \n그룹경로\n(array([0, 0, 0, ..., 0, 0, 0]), Index(['인프라그룹'], dtype='object'))\n === \n시스템명\n(array([0, 0, 0, ..., 0, 0, 0]), Index(['Syslog Receiver'], dtype='object'))\n === \n호스트명\n(array([-1, -1, -1, ..., -1, -1, -1]), Float64Index([], dtype='float64'))\n === \n리소스 이름\n(array([0, 0, 0, ..., 0, 0, 0]), Index(['Syslog Receiver'], dtype='object'))\n === \n대상\n(array([0, 0, 0, ..., 0, 0, 0]), Index(['인프라그룹>Syslog Receiver'], dtype='object'))\n === \n이벤트 타입\n(array([0, 0, 0, ..., 0, 0, 0]), Index(['syslog'], dtype='object'))\n === \n이벤트 소스\n(array([0, 0, 1, ..., 1, 0, 0]), Index(['172.30.151.88', '172.30.151.87', '192.168.0.93', '172.19.145.62',\n       '172.30.151.188', '172.30.151.187', '172.19.150.190', '192.168.0.37'],\n      dtype='object'))\n === \n내용\n(array([   0,    1,    2, ..., 9981, 9982, 9983]), Index(['[syslog]<43>Jan  8 11:39:07 Kolon_L7_trust_02 err syslog-ng[12499]: Connection broken; time_reopen='60'\\n',\n       '[syslog]<43>Jan  8 11:39:07 Kolon_L7_trust_02 err syslog-ng[12499]: POLLERR occurred while idle; fd='39'\\n',\n       '[syslog]<43>Jan  8 11:39:06 Kolon_L7_trust_01 err syslog-ng[12592]: Connection broken; time_reopen='60'\\n',\n       '[syslog]<43>Jan  8 11:38:07 Kolon_L7_trust_02 err syslog-ng[12499]: Connection broken; time_reopen='60'\\n',\n       '[syslog]<43>Jan  8 11:38:07 Kolon_L7_trust_02 err syslog-ng[12499]: POLLERR occurred while idle; fd='39'\\n',\n       '[syslog]<43>Jan  8 11:38:06 Kolon_L7_trust_01 err syslog-ng[12592]: Connection broken; time_reopen='60'\\n',\n       '[syslog]<43>Jan  8 11:38:06 Kolon_L7_trust_01 err syslog-ng[12592]: POLLERR occurred while idle; fd='39'\\n',\n       '[syslog]<43>Jan  8 11:37:07 Kolon_L7_trust_02 err syslog-ng[12499]: Connection broken; time_reopen='60'\\n',\n       '[syslog]<43>Jan  8 11:37:07 Kolon_L7_trust_02 err syslog-ng[12499]: POLLERR occurred while idle; fd='39'\\n',\n       '[syslog]<43>Jan  8 11:37:06 Kolon_L7_trust_01 err syslog-ng[12592]: Connection broken; time_reopen='60'\\n',\n       ...\n       '[syslog]<43>Jan  6 18:33:06 Kolon_L7_trust_02 err syslog-ng[12499]: Connection broken; time_reopen='60'\\n',\n       '[syslog]<43>Jan  6 18:33:06 Kolon_L7_trust_02 err syslog-ng[12499]: POLLERR occurred while idle; fd='39'\\n',\n       '[syslog]<43>Jan  6 18:32:10 Kolon_L7_trust_01 err syslog-ng[12592]: Connection broken; time_reopen='60'\\n',\n       '[syslog]<43>Jan  6 18:32:10 Kolon_L7_trust_01 err syslog-ng[12592]: I/O error occurred while writing; fd='39', error='Connection refused (111)'\\n',\n       '[syslog]<43>Jan  6 18:32:06 Kolon_L7_trust_02 err syslog-ng[12499]: POLLERR occurred while idle; fd='39'\\n',\n       '[syslog]<43>Jan  6 18:32:06 Kolon_L7_trust_02 err syslog-ng[12499]: Connection broken; time_reopen='60'\\n',\n       '[syslog]<43>Jan  6 18:31:10 Kolon_L7_trust_01 err syslog-ng[12592]: Connection broken; time_reopen='60'\\n',\n       '[syslog]<43>Jan  6 18:31:10 Kolon_L7_trust_01 err syslog-ng[12592]: I/O error occurred while writing; fd='39', error='Connection refused (111)'\\n',\n       '[syslog]<43>Jan  6 18:31:06 Kolon_L7_trust_02 err syslog-ng[12499]: Connection broken; time_reopen='60'\\n',\n       '[syslog]<43>Jan  6 18:31:06 Kolon_L7_trust_02 err syslog-ng[12499]: POLLERR occurred while idle; fd='39'\\n'],\n      dtype='object', length=9984))\n === \n"
     ]
    }
   ],
   "source": [
    "for i in df.columns:\n",
    "    print(i)\n",
    "    print(df[i].factorize())\n",
    "    print(' === ')"
   ]
  },
  {
   "cell_type": "code",
   "execution_count": 20,
   "metadata": {},
   "outputs": [
    {
     "output_type": "execute_result",
     "data": {
      "text/plain": [
       "(array([0, 0, 0, ..., 0, 0, 0]),\n",
       " Index(['[syslog]<43>Jan', '[user]<11>1', '[local0]<131>Jan'], dtype='object'))"
      ]
     },
     "metadata": {},
     "execution_count": 20
    }
   ],
   "source": [
    "df.내용.str.split(' ').str[0].factorize()"
   ]
  },
  {
   "cell_type": "code",
   "execution_count": null,
   "metadata": {},
   "outputs": [],
   "source": []
  }
 ]
}